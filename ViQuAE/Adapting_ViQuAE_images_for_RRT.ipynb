{
 "cells": [
  {
   "cell_type": "markdown",
   "metadata": {
    "id": "NbDUyuTbFBrG"
   },
   "source": [
    "# Adapting ViQuAE images for RRT\n",
    "## Imports"
   ]
  },
  {
   "cell_type": "code",
   "execution_count": 1,
   "metadata": {
    "id": "sF9ZuWbVB_4H"
   },
   "outputs": [],
   "source": [
    "import json\n",
    "import numpy as np\n",
    "from datasets import load_from_disk, set_caching_enabled\n",
    "set_caching_enabled(False)"
   ]
  },
  {
   "cell_type": "markdown",
   "metadata": {
    "id": "_viymwRpFEwQ"
   },
   "source": [
    "## Loading Data"
   ]
  },
  {
   "cell_type": "code",
   "execution_count": 2,
   "metadata": {
    "id": "y73YtxvkCDqc"
   },
   "outputs": [],
   "source": [
    "dataset = load_from_disk(\"data/viquae_dataset\")"
   ]
  },
  {
   "cell_type": "code",
   "execution_count": 3,
   "metadata": {
    "id": "yWOHH-hxCMSa"
   },
   "outputs": [],
   "source": [
    "kb = load_from_disk('data/viquae_passages/')"
   ]
  },
  {
   "cell_type": "code",
   "execution_count": 4,
   "metadata": {
    "id": "_kPxIOAYCOkN"
   },
   "outputs": [],
   "source": [
    "wiki = load_from_disk('data/viquae_wikipedia')"
   ]
  },
  {
   "cell_type": "code",
   "execution_count": 5,
   "metadata": {
    "id": "TeqINFEBFKjq"
   },
   "outputs": [],
   "source": [
    "train_set, dev_set, test_set = dataset['train'], dataset['validation'], dataset['test']"
   ]
  },
  {
   "cell_type": "code",
   "execution_count": 6,
   "metadata": {
    "id": "y8fgKct9CU0Z"
   },
   "outputs": [],
   "source": [
    "humans_with_faces, humans_without_faces, non_humans = wiki['humans_with_faces'], wiki['humans_without_faces'], wiki['non_humans']"
   ]
  },
  {
   "cell_type": "markdown",
   "metadata": {
    "id": "uAY5kcAmFgmW"
   },
   "source": [
    "## Passage to Article Mapping"
   ]
  },
  {
   "cell_type": "code",
   "execution_count": 7,
   "metadata": {
    "id": "k0JW--djCiQU"
   },
   "outputs": [],
   "source": [
    "f = open('data/viquae_wikipedia/non_humans/article2passage.json')\n",
    "n_h_article2passage = json.load(f)\n",
    "f.close()                                                              "
   ]
  },
  {
   "cell_type": "code",
   "execution_count": 8,
   "metadata": {
    "id": "3TVd0OCqDQAA"
   },
   "outputs": [
    {
     "data": {
      "text/plain": [
       "7175529"
      ]
     },
     "execution_count": 8,
     "metadata": {},
     "output_type": "execute_result"
    }
   ],
   "source": [
    "n_h_passage2article = {}\n",
    "for k, v in n_h_article2passage.items(): \n",
    "    for x in v: \n",
    "        n_h_passage2article[x] = k \n",
    "\n",
    "len_n_h = len(n_h_passage2article)\n",
    "len_n_h"
   ]
  },
  {
   "cell_type": "code",
   "execution_count": 9,
   "metadata": {
    "id": "9rglNXcoCzl6"
   },
   "outputs": [],
   "source": [
    "f = open('data/viquae_wikipedia/humans_without_faces/article2passage.json')\n",
    "h_wo_f_article2passage = json.load(f)                                  \n",
    "f.close()"
   ]
  },
  {
   "cell_type": "code",
   "execution_count": 10,
   "metadata": {
    "id": "uEKj6Q5iDch9"
   },
   "outputs": [
    {
     "data": {
      "text/plain": [
       "298698"
      ]
     },
     "execution_count": 10,
     "metadata": {},
     "output_type": "execute_result"
    }
   ],
   "source": [
    "h_wo_f_passage2article = {} \n",
    "for k, v in h_wo_f_article2passage.items(): \n",
    "    for x in v: \n",
    "        h_wo_f_passage2article[x] = k \n",
    "\n",
    "len_h_wo_f = len(h_wo_f_passage2article)\n",
    "len_h_wo_f"
   ]
  },
  {
   "cell_type": "code",
   "execution_count": 11,
   "metadata": {
    "id": "Gewr5BhdC6-L"
   },
   "outputs": [],
   "source": [
    "f = open('data/viquae_wikipedia/humans_with_faces/article2passage.json')                                                                      \n",
    "h_w_f_article2passage = json.load(f)                                   \n",
    "f.close()                  "
   ]
  },
  {
   "cell_type": "code",
   "execution_count": 12,
   "metadata": {
    "id": "m3at6nL6DcEY"
   },
   "outputs": [
    {
     "data": {
      "text/plain": [
       "4411741"
      ]
     },
     "execution_count": 12,
     "metadata": {},
     "output_type": "execute_result"
    }
   ],
   "source": [
    "h_w_f_passage2article = {} \n",
    "for k, v in h_w_f_article2passage.items(): \n",
    "    for x in v: \n",
    "        h_w_f_passage2article[x] = k\n",
    "\n",
    "len_h_w_f = len(h_w_f_passage2article)\n",
    "len_h_w_f"
   ]
  },
  {
   "cell_type": "code",
   "execution_count": null,
   "metadata": {},
   "outputs": [],
   "source": []
  },
  {
   "cell_type": "code",
   "execution_count": 13,
   "metadata": {
    "id": "qVMS7i12ELcO"
   },
   "outputs": [
    {
     "data": {
      "text/plain": [
       "True"
      ]
     },
     "execution_count": 13,
     "metadata": {},
     "output_type": "execute_result"
    }
   ],
   "source": [
    "len_n_h + len_h_w_f + len_h_wo_f == 11885968"
   ]
  },
  {
   "cell_type": "code",
   "execution_count": 14,
   "metadata": {},
   "outputs": [
    {
     "data": {
      "text/plain": [
       "11885968"
      ]
     },
     "execution_count": 14,
     "metadata": {},
     "output_type": "execute_result"
    }
   ],
   "source": [
    "passage2article = {**h_w_f_passage2article, **h_wo_f_passage2article, **n_h_passage2article}\n",
    "len(passage2article)"
   ]
  },
  {
   "cell_type": "code",
   "execution_count": 15,
   "metadata": {},
   "outputs": [],
   "source": [
    "#with open(\"data/viquae_wikipedia/passage2article.json\", \"w\") as outfile:\n",
    "#    json.dump(passage2article, outfile)"
   ]
  },
  {
   "cell_type": "markdown",
   "metadata": {
    "id": "AYDSCsSUoa0W"
   },
   "source": [
    "## Some Exploration"
   ]
  },
  {
   "cell_type": "code",
   "execution_count": 15,
   "metadata": {
    "scrolled": false
   },
   "outputs": [
    {
     "data": {
      "text/plain": [
       "DatasetDict({\n",
       "    train: Dataset({\n",
       "        features: ['BM25_indices', 'BM25_scores', 'arcface_indices', 'arcface_scores', 'clip-RN50', 'document_arcface_indices', 'document_arcface_scores', 'document_provenance_indices', 'document_resnet_indices', 'document_resnet_scores', 'document_search_indices', 'document_search_scores', 'face', 'face_box', 'face_embedding', 'face_landmarks', 'face_prob', 'id', 'image', 'image_embedding', 'image_hash', 'input', 'keep_clip-RN50', 'keep_face_embedding', 'keep_image_embedding', 'kilt_id', 'meta', 'original_answer_provenance_indices', 'original_question', 'output', 'provenance_indices', 'resnet_indices', 'resnet_scores', 'search_indices', 'search_irrelevant_indices', 'search_provenance_indices', 'search_scores', 'semi-oracle_irrelevant_indices', 'semi-oracle_provenance_indices', 'url', 'wikidata_id', 'search_alternative_indices', 'human'],\n",
       "        num_rows: 1190\n",
       "    })\n",
       "    validation: Dataset({\n",
       "        features: ['BM25_indices', 'BM25_scores', 'arcface_indices', 'arcface_scores', 'clip-RN50', 'clip-RN50_indices', 'clip-RN50_scores', 'document_arcface_indices', 'document_arcface_scores', 'document_provenance_indices', 'document_resnet_indices', 'document_resnet_scores', 'document_search_indices', 'document_search_scores', 'face', 'face_box', 'face_embedding', 'face_landmarks', 'face_prob', 'id', 'image', 'image_embedding', 'image_hash', 'input', 'keep_clip-RN50', 'keep_face_embedding', 'keep_image_embedding', 'kilt_id', 'meta', 'original_answer_provenance_indices', 'original_question', 'output', 'provenance_indices', 'resnet_indices', 'resnet_scores', 'search_indices', 'search_irrelevant_indices', 'search_provenance_indices', 'search_scores', 'semi-oracle_irrelevant_indices', 'semi-oracle_provenance_indices', 'url', 'wikidata_id', 'search_alternative_indices', 'human'],\n",
       "        num_rows: 1250\n",
       "    })\n",
       "    test: Dataset({\n",
       "        features: ['BM25_indices', 'BM25_scores', 'arcface_indices', 'arcface_scores', 'clip-RN50', 'clip-RN50_indices', 'clip-RN50_scores', 'document_BM25_indices', 'document_BM25_scores', 'document_arcface_indices', 'document_arcface_scores', 'document_provenance_indices', 'document_resnet_indices', 'document_resnet_scores', 'document_search_indices', 'document_search_scores', 'face', 'face_box', 'face_embedding', 'face_landmarks', 'face_prob', 'id', 'image', 'image_embedding', 'image_hash', 'input', 'keep_clip-RN50', 'keep_face_embedding', 'keep_image_embedding', 'kilt_id', 'meta', 'original_answer_provenance_indices', 'original_question', 'output', 'provenance_indices', 'resnet_indices', 'resnet_scores', 'search_indices', 'search_irrelevant_indices', 'search_provenance_indices', 'search_scores', 'semi-oracle_irrelevant_indices', 'semi-oracle_provenance_indices', 'url', 'wikidata_id', 'search_alternative_indices', 'human'],\n",
       "        num_rows: 1257\n",
       "    })\n",
       "})"
      ]
     },
     "execution_count": 15,
     "metadata": {},
     "output_type": "execute_result"
    }
   ],
   "source": [
    "dataset"
   ]
  },
  {
   "cell_type": "code",
   "execution_count": 16,
   "metadata": {
    "scrolled": false
   },
   "outputs": [
    {
     "data": {
      "text/plain": [
       "Dataset({\n",
       "    features: ['BM25_indices', 'BM25_scores', 'arcface_indices', 'arcface_scores', 'clip-RN50', 'document_arcface_indices', 'document_arcface_scores', 'document_provenance_indices', 'document_resnet_indices', 'document_resnet_scores', 'document_search_indices', 'document_search_scores', 'face', 'face_box', 'face_embedding', 'face_landmarks', 'face_prob', 'id', 'image', 'image_embedding', 'image_hash', 'input', 'keep_clip-RN50', 'keep_face_embedding', 'keep_image_embedding', 'kilt_id', 'meta', 'original_answer_provenance_indices', 'original_question', 'output', 'provenance_indices', 'resnet_indices', 'resnet_scores', 'search_indices', 'search_irrelevant_indices', 'search_provenance_indices', 'search_scores', 'semi-oracle_irrelevant_indices', 'semi-oracle_provenance_indices', 'url', 'wikidata_id', 'search_alternative_indices', 'human'],\n",
       "    num_rows: 1190\n",
       "})"
      ]
     },
     "execution_count": 16,
     "metadata": {},
     "output_type": "execute_result"
    }
   ],
   "source": [
    "train_set"
   ]
  },
  {
   "cell_type": "code",
   "execution_count": 17,
   "metadata": {
    "scrolled": true
   },
   "outputs": [
    {
     "data": {
      "text/plain": [
       "Dataset({\n",
       "    features: ['BM25_indices', 'BM25_scores', 'arcface_indices', 'arcface_scores', 'clip-RN50', 'clip-RN50_indices', 'clip-RN50_scores', 'document_arcface_indices', 'document_arcface_scores', 'document_provenance_indices', 'document_resnet_indices', 'document_resnet_scores', 'document_search_indices', 'document_search_scores', 'face', 'face_box', 'face_embedding', 'face_landmarks', 'face_prob', 'id', 'image', 'image_embedding', 'image_hash', 'input', 'keep_clip-RN50', 'keep_face_embedding', 'keep_image_embedding', 'kilt_id', 'meta', 'original_answer_provenance_indices', 'original_question', 'output', 'provenance_indices', 'resnet_indices', 'resnet_scores', 'search_indices', 'search_irrelevant_indices', 'search_provenance_indices', 'search_scores', 'semi-oracle_irrelevant_indices', 'semi-oracle_provenance_indices', 'url', 'wikidata_id', 'search_alternative_indices', 'human'],\n",
       "    num_rows: 1250\n",
       "})"
      ]
     },
     "execution_count": 17,
     "metadata": {},
     "output_type": "execute_result"
    }
   ],
   "source": [
    "dev_set"
   ]
  },
  {
   "cell_type": "code",
   "execution_count": 18,
   "metadata": {
    "scrolled": false
   },
   "outputs": [
    {
     "data": {
      "text/plain": [
       "Dataset({\n",
       "    features: ['BM25_indices', 'BM25_scores', 'arcface_indices', 'arcface_scores', 'clip-RN50', 'clip-RN50_indices', 'clip-RN50_scores', 'document_BM25_indices', 'document_BM25_scores', 'document_arcface_indices', 'document_arcface_scores', 'document_provenance_indices', 'document_resnet_indices', 'document_resnet_scores', 'document_search_indices', 'document_search_scores', 'face', 'face_box', 'face_embedding', 'face_landmarks', 'face_prob', 'id', 'image', 'image_embedding', 'image_hash', 'input', 'keep_clip-RN50', 'keep_face_embedding', 'keep_image_embedding', 'kilt_id', 'meta', 'original_answer_provenance_indices', 'original_question', 'output', 'provenance_indices', 'resnet_indices', 'resnet_scores', 'search_indices', 'search_irrelevant_indices', 'search_provenance_indices', 'search_scores', 'semi-oracle_irrelevant_indices', 'semi-oracle_provenance_indices', 'url', 'wikidata_id', 'search_alternative_indices', 'human'],\n",
       "    num_rows: 1257\n",
       "})"
      ]
     },
     "execution_count": 18,
     "metadata": {},
     "output_type": "execute_result"
    }
   ],
   "source": [
    "test_set"
   ]
  },
  {
   "cell_type": "code",
   "execution_count": 19,
   "metadata": {
    "scrolled": false
   },
   "outputs": [
    {
     "data": {
      "text/plain": [
       "DatasetDict({\n",
       "    non_humans: Dataset({\n",
       "        features: ['anchors', 'categories', 'clip-RN50', 'document', 'history', 'image', 'image_embedding', 'image_hash', 'kilt_id', 'passage_index', 'text', 'url', 'wikidata_info', 'wikipedia_id', 'wikipedia_title'],\n",
       "        num_rows: 953379\n",
       "    })\n",
       "    humans_with_faces: Dataset({\n",
       "        features: ['anchors', 'categories', 'clip-RN50', 'document', 'face_box', 'face_embedding', 'face_landmarks', 'face_prob', 'history', 'image', 'image_embedding', 'image_hash', 'keep_face_embedding', 'kilt_id', 'passage_index', 'text', 'url', 'wikidata_info', 'wikipedia_id', 'wikipedia_title'],\n",
       "        num_rows: 506237\n",
       "    })\n",
       "    humans_without_faces: Dataset({\n",
       "        features: ['anchors', 'categories', 'clip-RN50', 'document', 'face_embedding', 'history', 'image', 'image_embedding', 'image_hash', 'kilt_id', 'passage_index', 'text', 'url', 'wikidata_info', 'wikipedia_id', 'wikipedia_title'],\n",
       "        num_rows: 35736\n",
       "    })\n",
       "})"
      ]
     },
     "execution_count": 19,
     "metadata": {},
     "output_type": "execute_result"
    }
   ],
   "source": [
    "wiki"
   ]
  },
  {
   "cell_type": "code",
   "execution_count": 20,
   "metadata": {},
   "outputs": [
    {
     "data": {
      "text/plain": [
       "(100, 0, 100)"
      ]
     },
     "execution_count": 20,
     "metadata": {},
     "output_type": "execute_result"
    }
   ],
   "source": [
    "item = train_set[0]\n",
    "len(item['search_indices']), len(item['search_provenance_indices']), len(item['search_irrelevant_indices'])"
   ]
  },
  {
   "cell_type": "code",
   "execution_count": 21,
   "metadata": {},
   "outputs": [
    {
     "data": {
      "text/plain": [
       "(100, 57, 100)"
      ]
     },
     "execution_count": 21,
     "metadata": {},
     "output_type": "execute_result"
    }
   ],
   "source": [
    "item = train_set[47]\n",
    "len(item['search_indices']), len(item['search_provenance_indices']), len(item['search_irrelevant_indices'])"
   ]
  },
  {
   "cell_type": "code",
   "execution_count": null,
   "metadata": {},
   "outputs": [],
   "source": []
  },
  {
   "cell_type": "code",
   "execution_count": 22,
   "metadata": {
    "scrolled": false
   },
   "outputs": [
    {
     "data": {
      "text/plain": [
       "11885968"
      ]
     },
     "execution_count": 22,
     "metadata": {},
     "output_type": "execute_result"
    }
   ],
   "source": [
    "h_w_f_passage_split  = dict(zip(h_w_f_passage2article.keys(),  ['humans_with_faces'] * len_h_w_f))\n",
    "h_wo_f_passage_split = dict(zip(h_wo_f_passage2article.keys(), ['humans_without_faces'] * len_h_wo_f))\n",
    "n_h_passage_split    = dict(zip(n_h_passage2article.keys(),    ['non_humans'] * len_n_h))\n",
    "\n",
    "passage_wiki_split = {**h_w_f_passage_split, **h_wo_f_passage_split, **n_h_passage_split}\n",
    "len(passage_wiki_split)"
   ]
  },
  {
   "cell_type": "code",
   "execution_count": 23,
   "metadata": {},
   "outputs": [],
   "source": [
    "#with open(\"data/viquae_wikipedia/passage_wiki_split.json\", \"w\") as outfile:\n",
    "#    json.dump(passage_wiki_split, outfile)"
   ]
  },
  {
   "cell_type": "code",
   "execution_count": 24,
   "metadata": {},
   "outputs": [
    {
     "data": {
      "text/plain": [
       "(100, 0, 100, 2)"
      ]
     },
     "execution_count": 24,
     "metadata": {},
     "output_type": "execute_result"
    }
   ],
   "source": [
    "item = train_set[0]\n",
    "len(item['search_indices']), len(item['search_provenance_indices']), len(item['search_irrelevant_indices']), len(item['search_alternative_indices'])"
   ]
  },
  {
   "cell_type": "code",
   "execution_count": 25,
   "metadata": {},
   "outputs": [
    {
     "data": {
      "text/plain": [
       "(100, 0, 100, 2)"
      ]
     },
     "execution_count": 25,
     "metadata": {},
     "output_type": "execute_result"
    }
   ],
   "source": [
    "item = train_set[0]\n",
    "len(item['search_indices']), len(item['search_provenance_indices']), len(item['search_irrelevant_indices']), len(item['search_alternative_indices'])"
   ]
  },
  {
   "cell_type": "code",
   "execution_count": null,
   "metadata": {},
   "outputs": [],
   "source": []
  },
  {
   "cell_type": "code",
   "execution_count": null,
   "metadata": {},
   "outputs": [],
   "source": []
  },
  {
   "cell_type": "code",
   "execution_count": 26,
   "metadata": {},
   "outputs": [
    {
     "data": {
      "text/plain": [
       "\"\\ndef get_gallery_imgs_for_rrt(data_set,\\n                             wikipedia,\\n                             passage2article,\\n                             passage_wiki_split):\\n    \\n    question_imgs, positive_imgs, negative_imgs = [], [], []\\n    \\n    # for every question, get the list of the top 100 search results\\n    iterat = 0\\n    for item in data_set:\\n        # item_relevant_passages = list(set(item['search_indices']) - set(item['search_irrelevant_indices']))\\n\\n        \\n        if iterat >= 100:\\n            break\\n        \\n        # append the question image\\n        question_imgs.append(item['image'])\\n        \\n        def loop_over_passages(passages):\\n            \\n            img_list = []\\n            \\n            for passage in passages: \\n                # for every passage, get the list its corresponding wikipedia article id and split\\n                wiki_index = int(passage2article[passage])\\n                \\n                wiki_split = passage_wiki_split[passage]\\n                \\n                wiki_item = wikipedia[wiki_split][wiki_index]\\n\\n                img_list.append(wiki_item['image'])\\n                \\n            return img_list\\n        \\n        \\n        # append the images of passages containing the answer\\n        positive_imgs.extend(loop_over_passages(item['search_provenance_indices']))\\n        \\n        # append the images of irrelevant passages\\n        negative_imgs.extend(loop_over_passages(item['search_irrelevant_indices']))\\n        iterat += 1\\n        \\n    return question_imgs, positive_imgs, negative_imgs\\n\\n\""
      ]
     },
     "execution_count": 26,
     "metadata": {},
     "output_type": "execute_result"
    }
   ],
   "source": [
    "\"\"\"\n",
    "def get_gallery_imgs_for_rrt(data_set,\n",
    "                             wikipedia,\n",
    "                             passage2article,\n",
    "                             passage_wiki_split):\n",
    "    \n",
    "    question_imgs, positive_imgs, negative_imgs = [], [], []\n",
    "    \n",
    "    # for every question, get the list of the top 100 search results\n",
    "    iterat = 0\n",
    "    for item in data_set:\n",
    "        # item_relevant_passages = list(set(item['search_indices']) - set(item['search_irrelevant_indices']))\n",
    "\n",
    "        \n",
    "        if iterat >= 100:\n",
    "            break\n",
    "        \n",
    "        # append the question image\n",
    "        question_imgs.append(item['image'])\n",
    "        \n",
    "        def loop_over_passages(passages):\n",
    "            \n",
    "            img_list = []\n",
    "            \n",
    "            for passage in passages: \n",
    "                # for every passage, get the list its corresponding wikipedia article id and split\n",
    "                wiki_index = int(passage2article[passage])\n",
    "                \n",
    "                wiki_split = passage_wiki_split[passage]\n",
    "                \n",
    "                wiki_item = wikipedia[wiki_split][wiki_index]\n",
    "\n",
    "                img_list.append(wiki_item['image'])\n",
    "                \n",
    "            return img_list\n",
    "        \n",
    "        \n",
    "        # append the images of passages containing the answer\n",
    "        positive_imgs.extend(loop_over_passages(item['search_provenance_indices']))\n",
    "        \n",
    "        # append the images of irrelevant passages\n",
    "        negative_imgs.extend(loop_over_passages(item['search_irrelevant_indices']))\n",
    "        iterat += 1\n",
    "        \n",
    "    return question_imgs, positive_imgs, negative_imgs\n",
    "\n",
    "\"\"\""
   ]
  },
  {
   "cell_type": "code",
   "execution_count": 27,
   "metadata": {},
   "outputs": [],
   "source": [
    "##train_question_imgs, train_positive_imgs, train_negative_imgs = get_gallery_imgs_for_rrt(train_set, \n",
    "##                                                                       wiki, \n",
    "##                                                                       passage2article, \n",
    "##                                                                       passage_wiki_split)"
   ]
  },
  {
   "cell_type": "code",
   "execution_count": 28,
   "metadata": {},
   "outputs": [],
   "source": [
    "##dev_question_imgs, dev_positive_imgs, dev_negative_imgs = get_gallery_imgs_for_rrt(dev_set, \n",
    "##                                                                       wiki, \n",
    "##                                                                       passage2article, \n",
    "##                                                                       passage_wiki_split)"
   ]
  },
  {
   "cell_type": "code",
   "execution_count": 29,
   "metadata": {},
   "outputs": [],
   "source": [
    "##test_question_imgs, test_positive_imgs, test_negative_imgs = get_gallery_imgs_for_rrt(test_set, \n",
    "##                                                                       wiki, \n",
    "##                                                                       passage2article, \n",
    "##                                                                       passage_wiki_split)"
   ]
  },
  {
   "cell_type": "code",
   "execution_count": 30,
   "metadata": {},
   "outputs": [],
   "source": [
    "##question_imgs = train_question_imgs + dev_question_imgs + test_question_imgs\n",
    "##positive_imgs = train_positive_imgs + dev_positive_imgs + test_positive_imgs\n",
    "##negative_imgs = train_negative_imgs + dev_negative_imgs + test_negative_imgs\n",
    "##len(question_imgs), len(positive_imgs), len(negative_imgs), 369700, (len(positive_imgs) + len(negative_imgs))"
   ]
  },
  {
   "cell_type": "code",
   "execution_count": 31,
   "metadata": {},
   "outputs": [],
   "source": [
    "##len(list(set(train_question_imgs))), len(list(set(dev_question_imgs))), len(list(set(test_question_imgs)))"
   ]
  },
  {
   "cell_type": "code",
   "execution_count": 32,
   "metadata": {},
   "outputs": [],
   "source": [
    "##len(list(set(train_positive_imgs))), len(list(set(dev_positive_imgs))), len(list(set(test_positive_imgs)))"
   ]
  },
  {
   "cell_type": "code",
   "execution_count": 33,
   "metadata": {},
   "outputs": [],
   "source": [
    "##len(list(set(train_negative_imgs))), len(list(set(dev_negative_imgs))), len(list(set(test_negative_imgs)))"
   ]
  },
  {
   "cell_type": "code",
   "execution_count": 34,
   "metadata": {},
   "outputs": [],
   "source": [
    "##len(list(set(question_imgs))), len(list(set(positive_imgs))), len(list(set(negative_imgs)))"
   ]
  },
  {
   "cell_type": "markdown",
   "metadata": {},
   "source": [
    "## GroundTruth Generation"
   ]
  },
  {
   "cell_type": "code",
   "execution_count": 35,
   "metadata": {},
   "outputs": [],
   "source": [
    "import numpy as np\n",
    "import os.path as osp\n",
    "import pickle, json, random\n",
    "\n",
    "import torch"
   ]
  },
  {
   "cell_type": "code",
   "execution_count": 36,
   "metadata": {},
   "outputs": [],
   "source": [
    "def pickle_load(path):\n",
    "    with open(path, 'rb') as fid:\n",
    "        data_ = pickle.load(fid)\n",
    "    return data_"
   ]
  },
  {
   "cell_type": "code",
   "execution_count": 37,
   "metadata": {},
   "outputs": [],
   "source": [
    "def pickle_save(path, data):\n",
    "    with open(path, 'wb') as fid:\n",
    "        pickle.dump(data, fid)"
   ]
  },
  {
   "cell_type": "code",
   "execution_count": 38,
   "metadata": {},
   "outputs": [],
   "source": [
    "### Code Added from here"
   ]
  },
  {
   "cell_type": "code",
   "execution_count": 39,
   "metadata": {},
   "outputs": [],
   "source": [
    "#train_gnd_file = \"/mnt/beegfs/home/smessoud/RerankingTransformer/models/research/delf/delf/python/delg/data/viquae_for_rrt/gnd_train.pkl\"\n",
    "#train_gnd = pickle_load(train_gnd_file)"
   ]
  },
  {
   "cell_type": "code",
   "execution_count": 40,
   "metadata": {},
   "outputs": [],
   "source": [
    "#dev_gnd_file = \"/mnt/beegfs/home/smessoud/RerankingTransformer/models/research/delf/delf/python/delg/data/viquae_for_rrt/gnd_dev.pkl\"\n",
    "#dev_gnd =  pickle_load(dev_gnd_file)"
   ]
  },
  {
   "cell_type": "code",
   "execution_count": 41,
   "metadata": {},
   "outputs": [],
   "source": [
    "#test_gnd_file = \"/mnt/beegfs/home/smessoud/RerankingTransformer/models/research/delf/delf/python/delg/data/viquae_for_rrt/gnd_test.pkl\"\n",
    "#test_gnd = pickle_load(test_gnd_file)"
   ]
  },
  {
   "cell_type": "code",
   "execution_count": 42,
   "metadata": {},
   "outputs": [],
   "source": [
    "#tuto_gnd_file = \"/mnt/beegfs/home/smessoud/RerankingTransformer/models/research/delf/delf/python/delg/data/viquae_for_rrt/gnd_tuto.pkl\"\n",
    "#tuto_gnd = pickle_load(tuto_gnd_file)"
   ]
  },
  {
   "cell_type": "code",
   "execution_count": 43,
   "metadata": {},
   "outputs": [
    {
     "data": {
      "text/plain": [
       "\"\\ndef prepare_gnd_selection_images_for_rrt(data_set,\\n                                         wikipedia,\\n                                         passage2article,\\n                                         passage_wiki_split,\\n                                         tuto=False):\\n    \\n    selection_imgs  = []\\n    iterat = 0\\n    \\n    # for every question, get the list images corresponding to the top 100 search results\\n    for item in data_set:\\n        \\n        if iterat >= 100 and tuto:\\n            break\\n        \\n        img_list = []\\n        \\n        for passage in sorted(item['search_indices']): \\n            wiki_index = int(passage2article[passage])\\n            wiki_split = passage_wiki_split[passage]\\n            wiki_item = wikipedia[wiki_split][wiki_index]\\n\\n            img_list.append(wiki_item['image'])\\n                \\n        selection_imgs.append(img_list)\\n        iterat += 1\\n    \\n    return selection_imgs\\n\""
      ]
     },
     "execution_count": 43,
     "metadata": {},
     "output_type": "execute_result"
    }
   ],
   "source": [
    "\"\"\"\n",
    "def prepare_gnd_selection_images_for_rrt(data_set,\n",
    "                                         wikipedia,\n",
    "                                         passage2article,\n",
    "                                         passage_wiki_split,\n",
    "                                         tuto=False):\n",
    "    \n",
    "    selection_imgs  = []\n",
    "    iterat = 0\n",
    "    \n",
    "    # for every question, get the list images corresponding to the top 100 search results\n",
    "    for item in data_set:\n",
    "        \n",
    "        if iterat >= 100 and tuto:\n",
    "            break\n",
    "        \n",
    "        img_list = []\n",
    "        \n",
    "        for passage in sorted(item['search_indices']): \n",
    "            wiki_index = int(passage2article[passage])\n",
    "            wiki_split = passage_wiki_split[passage]\n",
    "            wiki_item = wikipedia[wiki_split][wiki_index]\n",
    "\n",
    "            img_list.append(wiki_item['image'])\n",
    "                \n",
    "        selection_imgs.append(img_list)\n",
    "        iterat += 1\n",
    "    \n",
    "    return selection_imgs\n",
    "\"\"\"     "
   ]
  },
  {
   "cell_type": "code",
   "execution_count": 44,
   "metadata": {},
   "outputs": [],
   "source": [
    "##train_gnd['simlist'] = prepare_gnd_selection_images_for_rrt(train_set, \n",
    "##                                                            wiki, \n",
    "##                                                            passage2article, \n",
    "##                                                            passage_wiki_split)"
   ]
  },
  {
   "cell_type": "code",
   "execution_count": 45,
   "metadata": {},
   "outputs": [],
   "source": [
    "##dev_gnd['simlist'] = prepare_gnd_selection_images_for_rrt(dev_set, \n",
    "##                                                          wiki, \n",
    "##                                                          passage2article, \n",
    "##                                                          passage_wiki_split)"
   ]
  },
  {
   "cell_type": "code",
   "execution_count": 46,
   "metadata": {},
   "outputs": [],
   "source": [
    "##test_gnd['simlist'] = prepare_gnd_selection_images_for_rrt(test_set, \n",
    "##                                                           wiki, \n",
    "##                                                           passage2article, \n",
    "##                                                           passage_wiki_split)"
   ]
  },
  {
   "cell_type": "code",
   "execution_count": 47,
   "metadata": {},
   "outputs": [],
   "source": [
    "##train_gnd_file = \"/mnt/beegfs/home/smessoud/RerankingTransformer/models/research/delf/delf/python/delg/data/viquae_for_rrt/gnd_train.pkl\"\n",
    "##pickle_save(train_gnd_file, train_gnd)"
   ]
  },
  {
   "cell_type": "code",
   "execution_count": 48,
   "metadata": {},
   "outputs": [],
   "source": [
    "##dev_gnd_file = \"/mnt/beegfs/home/smessoud/RerankingTransformer/models/research/delf/delf/python/delg/data/viquae_for_rrt/gnd_dev.pkl\"\n",
    "##pickle_save(dev_gnd_file, dev_gnd)"
   ]
  },
  {
   "cell_type": "code",
   "execution_count": 49,
   "metadata": {},
   "outputs": [],
   "source": [
    "##test_gnd_file = \"/mnt/beegfs/home/smessoud/RerankingTransformer/models/research/delf/delf/python/delg/data/viquae_for_rrt/gnd_test.pkl\"\n",
    "##pickle_save(test_gnd_file, test_gnd)"
   ]
  },
  {
   "cell_type": "code",
   "execution_count": 50,
   "metadata": {},
   "outputs": [],
   "source": [
    "### Code Added end here"
   ]
  },
  {
   "cell_type": "code",
   "execution_count": 51,
   "metadata": {},
   "outputs": [],
   "source": [
    "oxford_gnd_file = \"/mnt/beegfs/home/smessoud/RerankingTransformer/models/research/delf/delf/python/delg/data/oxford5k/gnd_roxford5k.pkl\""
   ]
  },
  {
   "cell_type": "code",
   "execution_count": 52,
   "metadata": {},
   "outputs": [],
   "source": [
    "oxford_gnd = pickle_load(oxford_gnd_file)"
   ]
  },
  {
   "cell_type": "code",
   "execution_count": 53,
   "metadata": {},
   "outputs": [
    {
     "data": {
      "text/plain": [
       "dict_keys(['gnd', 'imlist', 'qimlist'])"
      ]
     },
     "execution_count": 53,
     "metadata": {},
     "output_type": "execute_result"
    }
   ],
   "source": [
    "oxford_gnd.keys()"
   ]
  },
  {
   "cell_type": "code",
   "execution_count": 54,
   "metadata": {},
   "outputs": [
    {
     "data": {
      "text/plain": [
       "(dict_keys(['bbx', 'easy', 'hard', 'junk']), 3)"
      ]
     },
     "execution_count": 54,
     "metadata": {},
     "output_type": "execute_result"
    }
   ],
   "source": [
    "oxford_gnd['gnd'][0].keys(), len(oxford_gnd.keys())"
   ]
  },
  {
   "cell_type": "code",
   "execution_count": 55,
   "metadata": {},
   "outputs": [
    {
     "data": {
      "text/plain": [
       "103"
      ]
     },
     "execution_count": 55,
     "metadata": {},
     "output_type": "execute_result"
    }
   ],
   "source": [
    "(len(oxford_gnd['gnd'][0]['easy']), len(oxford_gnd['gnd'][0]['hard']), len(oxford_gnd['gnd'][0]['junk']))\n",
    "np.sum((len(oxford_gnd['gnd'][0]['easy']), len(oxford_gnd['gnd'][0]['hard'])))"
   ]
  },
  {
   "cell_type": "code",
   "execution_count": 56,
   "metadata": {},
   "outputs": [],
   "source": [
    "def get_gallery_imgs_for_rrt(data_set,\n",
    "                             wikipedia,\n",
    "                             passage2article,\n",
    "                             passage_wiki_split,\n",
    "                             tuto=False):\n",
    "    \n",
    "    question_imgs, positive_imgs, alternative_imgs, negative_imgs, selection_imgs = [], [], [], [], []\n",
    "    \n",
    "    # for every question, get the list of the top 100 search results\n",
    "    iterat = 0\n",
    "    for item in data_set:\n",
    "        \n",
    "        if iterat >= 120 and tuto:\n",
    "            break\n",
    "        \n",
    "        # append the question image\n",
    "        question_imgs.append(item['image'])\n",
    "        \n",
    "        def loop_over_passages(passages):\n",
    "            \n",
    "            img_list = []\n",
    "            \n",
    "            for passage in passages: \n",
    "                # for every passage, get the list its corresponding wikipedia article id and split\n",
    "                wiki_index = int(passage2article[passage])\n",
    "                \n",
    "                wiki_split = passage_wiki_split[passage]\n",
    "                \n",
    "                wiki_item = wikipedia[wiki_split][wiki_index]\n",
    "\n",
    "                img_list.append(wiki_item['image'])\n",
    "                \n",
    "            return img_list\n",
    "        \n",
    "        \n",
    "        # append the images of passages containing the original answer\n",
    "        original_answer_indices = item['search_provenance_indices']\n",
    "        positive_imgs.append(loop_over_passages(original_answer_indices))\n",
    "        \n",
    "        # append the images of passages containing an alternative answer\n",
    "        alternative_answer_indices = item['search_alternative_indices']\n",
    "        alternative_imgs.append(loop_over_passages(alternative_answer_indices))\n",
    "        \n",
    "        # append the images of irrelevant passages\n",
    "        irrelevant_indices = item['search_irrelevant_indices']\n",
    "        negative_imgs.append(loop_over_passages(irrelevant_indices))\n",
    "        \n",
    "        # append the images of passages provided by IR search\n",
    "        selection_imgs.append(loop_over_passages(item['search_indices']))\n",
    "        \n",
    "        iterat += 1\n",
    "        \n",
    "    return question_imgs, positive_imgs, alternative_imgs, negative_imgs, selection_imgs\n",
    "     "
   ]
  },
  {
   "cell_type": "code",
   "execution_count": 58,
   "metadata": {},
   "outputs": [],
   "source": [
    "train_questions, train_positives, train_alternatives, train_negatives, train_selections = get_gallery_imgs_for_rrt(\n",
    "    train_set, wiki, passage2article, passage_wiki_split)"
   ]
  },
  {
   "cell_type": "code",
   "execution_count": 59,
   "metadata": {},
   "outputs": [],
   "source": [
    "dev_questions, dev_positives, dev_alternatives, dev_negatives, dev_selections = get_gallery_imgs_for_rrt(\n",
    "    dev_set, wiki, passage2article, passage_wiki_split)"
   ]
  },
  {
   "cell_type": "code",
   "execution_count": 60,
   "metadata": {},
   "outputs": [],
   "source": [
    "test_questions, test_positives, test_alternatives, test_negatives, test_selections = get_gallery_imgs_for_rrt(\n",
    "    test_set, wiki, passage2article, passage_wiki_split)"
   ]
  },
  {
   "cell_type": "code",
   "execution_count": 58,
   "metadata": {},
   "outputs": [],
   "source": [
    "tuto_questions, tuto_positives, tuto_alternatives, tuto_negatives, tuto_selections = get_gallery_imgs_for_rrt(\n",
    "    train_set, wiki, passage2article, passage_wiki_split, tuto=True)"
   ]
  },
  {
   "cell_type": "code",
   "execution_count": null,
   "metadata": {},
   "outputs": [],
   "source": []
  },
  {
   "cell_type": "code",
   "execution_count": 59,
   "metadata": {},
   "outputs": [],
   "source": [
    "def extend(a):\n",
    "    out = []\n",
    "    for sublist in a:\n",
    "        out.extend(sublist)\n",
    "    return out"
   ]
  },
  {
   "cell_type": "code",
   "execution_count": 60,
   "metadata": {},
   "outputs": [],
   "source": [
    "def preserve_order(array):\n",
    "    new_array = []\n",
    "    for e in array:\n",
    "        if e in new_array:\n",
    "            continue\n",
    "        else:\n",
    "            new_array.append(e)\n",
    "    return new_array"
   ]
  },
  {
   "cell_type": "code",
   "execution_count": 61,
   "metadata": {},
   "outputs": [],
   "source": [
    "def format_selection(selection):\n",
    "    return [preserve_order(sub) for sub in selection]\n",
    "    "
   ]
  },
  {
   "cell_type": "code",
   "execution_count": null,
   "metadata": {},
   "outputs": [],
   "source": []
  },
  {
   "cell_type": "code",
   "execution_count": null,
   "metadata": {},
   "outputs": [],
   "source": []
  },
  {
   "cell_type": "code",
   "execution_count": 62,
   "metadata": {},
   "outputs": [],
   "source": [
    "def format_gnd_for_rrt(question_imgs, positive_imgs, alternative_imgs, negative_imgs, selection_imgs):\n",
    "    \n",
    "    new_gnd = {}\n",
    "    new_gnd['qimlist'] = question_imgs\n",
    "    new_gnd['imlist']  = list(set(question_imgs + extend(positive_imgs) + extend(alternative_imgs) + extend(negative_imgs)))\n",
    "    new_gnd['simlist'] = format_selection(selection_imgs)\n",
    "    \n",
    "    new_gnd_gnd =  []\n",
    "    \n",
    "    for i in range(len(question_imgs)):\n",
    "        question_gnd = {}\n",
    "        question_gnd['easy'] = list(set(positive_imgs[i]))\n",
    "        question_gnd['hard'] = list(set(alternative_imgs[i]))\n",
    "        question_gnd['junk'] = list(set(negative_imgs[i]) - set(positive_imgs[i]))\n",
    "        question_gnd['neg']  = list(set(negative_imgs[i]) - set(positive_imgs[i])  - set(alternative_imgs[i]))\n",
    "        question_gnd['provenance_entity']  = len(negative_imgs[i]) == 100\n",
    "        question_gnd['ir_order']  = new_gnd['simlist'][i]\n",
    "        new_gnd_gnd.append(question_gnd)\n",
    "    \n",
    "    new_gnd['gnd'] = new_gnd_gnd\n",
    "    \n",
    "    return new_gnd\n",
    "     "
   ]
  },
  {
   "cell_type": "code",
   "execution_count": 157,
   "metadata": {},
   "outputs": [],
   "source": [
    "train_gnd = format_gnd_for_rrt(\n",
    "    train_questions, train_positives, train_alternatives, train_negatives, train_selections)"
   ]
  },
  {
   "cell_type": "code",
   "execution_count": 158,
   "metadata": {},
   "outputs": [],
   "source": [
    "dev_gnd = format_gnd_for_rrt(\n",
    "    dev_questions, dev_positives, dev_alternatives, dev_negatives, dev_selections)"
   ]
  },
  {
   "cell_type": "code",
   "execution_count": 159,
   "metadata": {},
   "outputs": [],
   "source": [
    "test_gnd = format_gnd_for_rrt(\n",
    "    test_questions, test_positives, test_alternatives, test_negatives, test_selections)"
   ]
  },
  {
   "cell_type": "code",
   "execution_count": 63,
   "metadata": {},
   "outputs": [],
   "source": [
    "tuto_gnd = format_gnd_for_rrt(\n",
    "    tuto_questions, tuto_positives, tuto_alternatives, tuto_negatives, tuto_selections)"
   ]
  },
  {
   "cell_type": "code",
   "execution_count": 64,
   "metadata": {},
   "outputs": [],
   "source": [
    "def selection_imgs_ranks_for_rrt(new_gnd):\n",
    "    query_names     = new_gnd['qimlist']\n",
    "    selection_names = new_gnd['simlist']\n",
    "    \n",
    "    for i in range(len(query_names)):\n",
    "        query_all_names =  preserve_order(selection_names[i] + new_gnd['gnd'][i]['easy'] + new_gnd['gnd'][i]['hard'])\n",
    "        img_rank_dict = {query_all_names[k]: k for k in range(len(query_all_names))}\n",
    "        rank_img_dict = {k: query_all_names[k] for k in range(len(query_all_names))}\n",
    "        \n",
    "        new_gnd['gnd'][i]['img_rank_dict'] = img_rank_dict\n",
    "        new_gnd['gnd'][i]['rank_img_dict'] = rank_img_dict\n",
    "        \n",
    "        def loop_over_imgs(images):\n",
    "            \n",
    "            img_ranks = []\n",
    "            \n",
    "            for img in images:\n",
    "                img_ranks.append(img_rank_dict[img])\n",
    "                \n",
    "            return img_ranks\n",
    "        \n",
    "        new_gnd['gnd'][i]['r_easy'] = loop_over_imgs(new_gnd['gnd'][i]['easy'])\n",
    "        new_gnd['gnd'][i]['r_hard'] = loop_over_imgs(new_gnd['gnd'][i]['hard'])\n",
    "        new_gnd['gnd'][i]['r_junk'] = loop_over_imgs(new_gnd['gnd'][i]['junk'])\n",
    "        new_gnd['gnd'][i]['r_neg']  = loop_over_imgs(new_gnd['gnd'][i]['neg'])\n",
    "        new_gnd['gnd'][i]['r_ir_order']  = loop_over_imgs(new_gnd['gnd'][i]['ir_order'])\n",
    "        \n",
    "    return new_gnd"
   ]
  },
  {
   "cell_type": "code",
   "execution_count": 65,
   "metadata": {},
   "outputs": [],
   "source": [
    "###########################################################################\n",
    "## Training on ViQuAE\n",
    "###########################################################################\n",
    "def prepare_gnd_for_rrt_training(new_gnd, out_gnd_file=None, save=False):\n",
    "    query_names       = new_gnd['qimlist']\n",
    "    gallery_names     = new_gnd['imlist']\n",
    "    selection_gallery = new_gnd['simlist']\n",
    "    \n",
    "    categories = []\n",
    "    \n",
    "    for i in range(len(query_names)):\n",
    "        \n",
    "        query_img  = query_names[i]\n",
    "        anchor_idx = gallery_names.index(query_img)\n",
    "        new_gnd['gnd'][i]['anchor_idx'] = anchor_idx\n",
    "                \n",
    "        new_gnd['gnd'][i]['g_easy'] = [gallery_names.index(g_img) for g_img in new_gnd['gnd'][i]['easy']]\n",
    "        new_gnd['gnd'][i]['g_hard'] = [gallery_names.index(g_img) for g_img in new_gnd['gnd'][i]['hard']]\n",
    "        new_gnd['gnd'][i]['g_junk'] = [gallery_names.index(g_img) for g_img in new_gnd['gnd'][i]['junk']]\n",
    "        new_gnd['gnd'][i]['g_neg']  = [gallery_names.index(g_img) for g_img in new_gnd['gnd'][i]['neg']]\n",
    "    \n",
    "    if save:\n",
    "        pickle_save(out_gnd_file, new_gnd)\n",
    "    \n",
    "    return new_gnd"
   ]
  },
  {
   "cell_type": "code",
   "execution_count": null,
   "metadata": {},
   "outputs": [],
   "source": []
  },
  {
   "cell_type": "code",
   "execution_count": 171,
   "metadata": {},
   "outputs": [],
   "source": [
    "train_gnd = selection_imgs_ranks_for_rrt(train_gnd)\n",
    "train_gnd = prepare_gnd_for_rrt_training(train_gnd)"
   ]
  },
  {
   "cell_type": "code",
   "execution_count": 172,
   "metadata": {},
   "outputs": [],
   "source": [
    "dev_gnd = selection_imgs_ranks_for_rrt(dev_gnd)\n",
    "dev_gnd = prepare_gnd_for_rrt_training(dev_gnd)"
   ]
  },
  {
   "cell_type": "code",
   "execution_count": 173,
   "metadata": {},
   "outputs": [],
   "source": [
    "test_gnd = selection_imgs_ranks_for_rrt(test_gnd)\n",
    "test_gnd = prepare_gnd_for_rrt_training(test_gnd)"
   ]
  },
  {
   "cell_type": "code",
   "execution_count": 66,
   "metadata": {},
   "outputs": [],
   "source": [
    "tuto_gnd = selection_imgs_ranks_for_rrt(tuto_gnd)\n",
    "tuto_gnd = prepare_gnd_for_rrt_training(tuto_gnd)"
   ]
  },
  {
   "cell_type": "code",
   "execution_count": 67,
   "metadata": {
    "scrolled": true
   },
   "outputs": [
    {
     "data": {
      "text/plain": [
       "(120,\n",
       " dict_keys(['easy', 'hard', 'junk', 'neg', 'provenance_entity', 'ir_order', 'img_rank_dict', 'rank_img_dict', 'r_easy', 'r_hard', 'r_junk', 'r_neg', 'r_ir_order', 'anchor_idx', 'g_easy', 'g_hard', 'g_junk', 'g_neg']))"
      ]
     },
     "execution_count": 67,
     "metadata": {},
     "output_type": "execute_result"
    }
   ],
   "source": [
    "len(tuto_gnd['gnd']), tuto_gnd['gnd'][1].keys()"
   ]
  },
  {
   "cell_type": "code",
   "execution_count": 68,
   "metadata": {},
   "outputs": [
    {
     "data": {
      "text/plain": [
       "[0,\n",
       " 1,\n",
       " 2,\n",
       " 3,\n",
       " 4,\n",
       " 5,\n",
       " 6,\n",
       " 7,\n",
       " 8,\n",
       " 9,\n",
       " 10,\n",
       " 11,\n",
       " 12,\n",
       " 13,\n",
       " 14,\n",
       " 15,\n",
       " 16,\n",
       " 17,\n",
       " 18,\n",
       " 19,\n",
       " 20,\n",
       " 21,\n",
       " 22,\n",
       " 23,\n",
       " 24,\n",
       " 25,\n",
       " 26,\n",
       " 27,\n",
       " 28,\n",
       " 29,\n",
       " 30,\n",
       " 31,\n",
       " 32,\n",
       " 33,\n",
       " 34,\n",
       " 35,\n",
       " 36,\n",
       " 37,\n",
       " 38,\n",
       " 39,\n",
       " 40,\n",
       " 41,\n",
       " 42]"
      ]
     },
     "execution_count": 68,
     "metadata": {},
     "output_type": "execute_result"
    }
   ],
   "source": [
    "tuto_gnd['gnd'][0]['r_ir_order']"
   ]
  },
  {
   "cell_type": "code",
   "execution_count": 177,
   "metadata": {},
   "outputs": [],
   "source": [
    "##def prepare_gnd_selection_images_for_rrt(data_set,\n",
    "##                                         wikipedia,\n",
    "##                                         passage2article,\n",
    "##                                         passage_wiki_split,\n",
    "##                                         tuto=False):\n",
    "##    \n",
    "##    selection_imgs  = []\n",
    "##    iterat = 0\n",
    "##    \n",
    "##    ## for every question, get the list images corresponding to the top 100 search results\n",
    "##    for item in data_set:\n",
    "##        \n",
    "##        if iterat >= 100 and tuto:\n",
    "##            break\n",
    "##        \n",
    "##        img_list = []\n",
    "##        \n",
    "##        for passage in sorted(item['search_indices']): \n",
    "##            wiki_index = int(passage2article[passage])\n",
    "##            wiki_split = passage_wiki_split[passage]\n",
    "##            wiki_item = wikipedia[wiki_split][wiki_index]\n",
    "##\n",
    "##            img_list.append(wiki_item['image'])\n",
    "##        \n",
    "##        selection_imgs.append(img_list)\n",
    "##        iterat += 1\n",
    "##    \n",
    "##    return selection_imgs\n",
    "##     "
   ]
  },
  {
   "cell_type": "code",
   "execution_count": 178,
   "metadata": {},
   "outputs": [],
   "source": [
    "##train_selection_imgs = prepare_gnd_selection_images_for_rrt(train_set, \n",
    "##                                                            wiki, \n",
    "##                                                            passage2article, \n",
    "##                                                            passage_wiki_split)"
   ]
  },
  {
   "cell_type": "code",
   "execution_count": 179,
   "metadata": {
    "scrolled": true
   },
   "outputs": [],
   "source": [
    "##np.array(train_selection_imgs).shape"
   ]
  },
  {
   "cell_type": "code",
   "execution_count": 180,
   "metadata": {},
   "outputs": [],
   "source": [
    "##len(list(set(question_imgs))), len(list(set(positive_imgs))), len(list(set(negative_imgs)))"
   ]
  },
  {
   "cell_type": "code",
   "execution_count": 181,
   "metadata": {},
   "outputs": [],
   "source": [
    "##train_gnd = {}\n",
    "##train_gnd['qimlist'] = train_question_imgs\n",
    "##train_gnd['imlist']  = train_question_imgs + train_positive_imgs + train_negative_imgs\n",
    "##train_gnd['simlist'] = train_selection_imgs"
   ]
  },
  {
   "cell_type": "code",
   "execution_count": 182,
   "metadata": {},
   "outputs": [],
   "source": [
    "##train_gnd['imlist']  = list(set(train_gnd['imlist']))\n",
    "##train_gnd['qimlist'] = list(set(train_gnd['qimlist']))"
   ]
  },
  {
   "cell_type": "code",
   "execution_count": 183,
   "metadata": {},
   "outputs": [],
   "source": [
    "##dev_gnd = {}\n",
    "##dev_gnd['qimlist'] = dev_question_imgs\n",
    "##dev_gnd['imlist']  = dev_question_imgs + dev_positive_imgs + dev_negative_imgs\n",
    "##dev_gnd['simlist'] = prepare_gnd_selection_images_for_rrt(dev_set, \n",
    "##                                                          wiki, \n",
    "##                                                          passage2article, \n",
    "##                                                          passage_wiki_split)"
   ]
  },
  {
   "cell_type": "code",
   "execution_count": 184,
   "metadata": {},
   "outputs": [],
   "source": [
    "##dev_gnd['imlist']  = list(set(dev_gnd['imlist']))\n",
    "##dev_gnd['qimlist'] = list(set(dev_gnd['qimlist']))"
   ]
  },
  {
   "cell_type": "code",
   "execution_count": 185,
   "metadata": {},
   "outputs": [],
   "source": [
    "##test_gnd = {}\n",
    "##test_gnd['qimlist'] = test_question_imgs\n",
    "##test_gnd['imlist']  = test_question_imgs + test_positive_imgs + test_negative_imgs\n",
    "##test_gnd['simlist'] = prepare_gnd_selection_images_for_rrt(test_set, \n",
    "##                                                           wiki, \n",
    "##                                                           passage2article, \n",
    "##                                                           passage_wiki_split)"
   ]
  },
  {
   "cell_type": "code",
   "execution_count": 186,
   "metadata": {},
   "outputs": [],
   "source": [
    "##test_gnd['imlist']  = list(set(test_gnd['imlist']))\n",
    "##test_gnd['qimlist'] = list(set(test_gnd['qimlist']))"
   ]
  },
  {
   "cell_type": "code",
   "execution_count": 187,
   "metadata": {},
   "outputs": [],
   "source": [
    "##len(train_gnd['simlist']), len(train_gnd['qimlist']), len(train_gnd['imlist']),"
   ]
  },
  {
   "cell_type": "code",
   "execution_count": 188,
   "metadata": {},
   "outputs": [],
   "source": [
    "##viquae_gnd_file = \"/mnt/beegfs/home/smessoud/RerankingTransformer/models/research/delf/delf/python/delg/data/viquae_images/gnd_dev_viquae.pkl\""
   ]
  },
  {
   "cell_type": "code",
   "execution_count": 189,
   "metadata": {},
   "outputs": [],
   "source": [
    "##viquae_gnd = pickle_load(viquae_gnd_file)"
   ]
  },
  {
   "cell_type": "code",
   "execution_count": 190,
   "metadata": {},
   "outputs": [],
   "source": [
    "##viquae_gnd['gnd'][0].keys()"
   ]
  },
  {
   "cell_type": "code",
   "execution_count": 191,
   "metadata": {},
   "outputs": [],
   "source": [
    "##item = train_set[7]\n",
    "\n",
    "##print(item['search_indices'] + item['search_provenance_indices'])"
   ]
  },
  {
   "cell_type": "code",
   "execution_count": 192,
   "metadata": {},
   "outputs": [],
   "source": [
    "##print(item['search_provenance_indices'])"
   ]
  },
  {
   "cell_type": "code",
   "execution_count": 193,
   "metadata": {},
   "outputs": [],
   "source": [
    "##def prepare_gnd_for_rrt(data_set,\n",
    "##                        wikipedia,\n",
    "##                        passage2article,\n",
    "##                        passage_wiki_split):\n",
    "##    \n",
    "##    ## ranks = []\n",
    "##    data_gnd = []\n",
    "##    iterat = 0\n",
    "##    \n",
    "##    ## for every question, get the list of the top 100 search results\n",
    "##    for item in data_set:\n",
    "##        \n",
    "##        if iterat >= 100:\n",
    "##            break\n",
    "##        \n",
    "##        if set(item['search_provenance_indices']) <= set(item['search_indices']):\n",
    "##            all_indices = sorted(item['search_indices'])\n",
    "##        else: all_indices = sorted(item['search_indices']) + item['search_provenance_indices']\n",
    "##        \n",
    "##        rank_dict = {all_indices [k]: k for k in range(len(all_indices))}\n",
    "##        ##print(rank_dict)\n",
    "##        \n",
    "##        def loop_over_passages(passages):\n",
    "##            \n",
    "##            img_ranks = []\n",
    "##            \n",
    "##            for passage in passages:\n",
    "##                img_ranks.append(rank_dict[passage])\n",
    "##                \n",
    "##            return img_ranks\n",
    "##        \n",
    "##        question_gnd = {}\n",
    "##        question_gnd['easy'] = []\n",
    "##        question_gnd['hard'] = loop_over_passages(item['search_provenance_indices'])\n",
    "##        question_gnd['junk'] = loop_over_passages(item['search_irrelevant_indices'])\n",
    "##        \n",
    "##        data_gnd.append(question_gnd)\n",
    "##        iterat += 1\n",
    "##        \n",
    "##    return data_gnd\n",
    "##         "
   ]
  },
  {
   "cell_type": "code",
   "execution_count": 194,
   "metadata": {
    "scrolled": false
   },
   "outputs": [],
   "source": [
    "##train_gnd['gnd'] = prepare_gnd_for_rrt(train_set,\n",
    "##                                       wiki,\n",
    "##                                       passage2article,\n",
    "##                                       passage_wiki_split)"
   ]
  },
  {
   "cell_type": "code",
   "execution_count": 195,
   "metadata": {},
   "outputs": [],
   "source": [
    "##dev_gnd['gnd'] = prepare_gnd_for_rrt(dev_set,\n",
    "##                                     wiki,\n",
    "##                                     passage2article,\n",
    "##                                     passage_wiki_split)"
   ]
  },
  {
   "cell_type": "code",
   "execution_count": 196,
   "metadata": {},
   "outputs": [],
   "source": [
    "##test_gnd['gnd'] = prepare_gnd_for_rrt(test_set,\n",
    "##                                      wiki,\n",
    "##                                      passage2article,\n",
    "##                                      passage_wiki_split)"
   ]
  },
  {
   "cell_type": "code",
   "execution_count": 197,
   "metadata": {},
   "outputs": [],
   "source": [
    "train_gnd_file = \"/mnt/beegfs/home/smessoud/RerankingTransformer/models/research/delf/delf/python/delg/data/viquae_for_rrt/gnd_train.pkl\"\n",
    "pickle_save(train_gnd_file, train_gnd)"
   ]
  },
  {
   "cell_type": "code",
   "execution_count": 198,
   "metadata": {},
   "outputs": [],
   "source": [
    "dev_gnd_file = \"/mnt/beegfs/home/smessoud/RerankingTransformer/models/research/delf/delf/python/delg/data/viquae_for_rrt/gnd_dev.pkl\"\n",
    "pickle_save(dev_gnd_file, dev_gnd)"
   ]
  },
  {
   "cell_type": "code",
   "execution_count": 199,
   "metadata": {},
   "outputs": [],
   "source": [
    "test_gnd_file = \"/mnt/beegfs/home/smessoud/RerankingTransformer/models/research/delf/delf/python/delg/data/viquae_for_rrt/gnd_test.pkl\"\n",
    "pickle_save(test_gnd_file, test_gnd)"
   ]
  },
  {
   "cell_type": "code",
   "execution_count": 69,
   "metadata": {},
   "outputs": [],
   "source": [
    "tuto_gnd_file = \"/mnt/beegfs/home/smessoud/RerankingTransformer/models/research/delf/delf/python/delg/data/viquae_for_rrt/gnd_tuto.pkl\"\n",
    "pickle_save(tuto_gnd_file, tuto_gnd)"
   ]
  },
  {
   "cell_type": "code",
   "execution_count": null,
   "metadata": {},
   "outputs": [],
   "source": []
  },
  {
   "cell_type": "code",
   "execution_count": null,
   "metadata": {},
   "outputs": [],
   "source": []
  },
  {
   "cell_type": "code",
   "execution_count": 201,
   "metadata": {},
   "outputs": [
    {
     "data": {
      "text/plain": [
       "99954"
      ]
     },
     "execution_count": 201,
     "metadata": {},
     "output_type": "execute_result"
    }
   ],
   "source": [
    "entire_dataset_imgs = list(set(train_gnd['imlist'] + dev_gnd['imlist'] + test_gnd['imlist']))\n",
    "len(entire_dataset_imgs)"
   ]
  },
  {
   "cell_type": "code",
   "execution_count": 202,
   "metadata": {},
   "outputs": [],
   "source": [
    "np.savetxt('data/entire_dataset_imgs.txt', entire_dataset_imgs, fmt=\"%s\")"
   ]
  },
  {
   "cell_type": "code",
   "execution_count": null,
   "metadata": {},
   "outputs": [],
   "source": []
  },
  {
   "cell_type": "code",
   "execution_count": null,
   "metadata": {},
   "outputs": [],
   "source": []
  },
  {
   "cell_type": "code",
   "execution_count": 103,
   "metadata": {},
   "outputs": [
    {
     "data": {
      "text/plain": [
       "'00123'"
      ]
     },
     "execution_count": 103,
     "metadata": {},
     "output_type": "execute_result"
    }
   ],
   "source": [
    "number_str = str(123)\n",
    "zero_filled_number = number_str.zfill(5)\n",
    "zero_filled_number"
   ]
  },
  {
   "cell_type": "code",
   "execution_count": null,
   "metadata": {},
   "outputs": [],
   "source": []
  },
  {
   "cell_type": "code",
   "execution_count": null,
   "metadata": {},
   "outputs": [],
   "source": []
  }
 ],
 "metadata": {
  "colab": {
   "name": "RRT_ViQuAE_data_preparation.ipynb",
   "provenance": []
  },
  "kernelspec": {
   "display_name": "Python 3",
   "language": "python",
   "name": "python3"
  },
  "language_info": {
   "codemirror_mode": {
    "name": "ipython",
    "version": 3
   },
   "file_extension": ".py",
   "mimetype": "text/x-python",
   "name": "python",
   "nbconvert_exporter": "python",
   "pygments_lexer": "ipython3",
   "version": "3.7.6"
  }
 },
 "nbformat": 4,
 "nbformat_minor": 1
}
