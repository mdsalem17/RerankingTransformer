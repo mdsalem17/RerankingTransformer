{
 "cells": [
  {
   "cell_type": "markdown",
   "metadata": {
    "id": "NbDUyuTbFBrG"
   },
   "source": [
    "# Adapting ViQuAE images for RRT\n",
    "## Imports"
   ]
  },
  {
   "cell_type": "code",
   "execution_count": 1,
   "metadata": {
    "id": "sF9ZuWbVB_4H"
   },
   "outputs": [],
   "source": [
    "import json\n",
    "import numpy as np\n",
    "from datasets import load_from_disk, set_caching_enabled\n",
    "set_caching_enabled(False)"
   ]
  },
  {
   "cell_type": "markdown",
   "metadata": {
    "id": "_viymwRpFEwQ"
   },
   "source": [
    "## Loading Data"
   ]
  },
  {
   "cell_type": "code",
   "execution_count": 2,
   "metadata": {
    "id": "y73YtxvkCDqc"
   },
   "outputs": [],
   "source": [
    "dataset = load_from_disk(\"data/viquae_dataset\")"
   ]
  },
  {
   "cell_type": "code",
   "execution_count": 3,
   "metadata": {
    "id": "yWOHH-hxCMSa"
   },
   "outputs": [],
   "source": [
    "kb = load_from_disk('data/viquae_passages/')"
   ]
  },
  {
   "cell_type": "code",
   "execution_count": 4,
   "metadata": {
    "id": "_kPxIOAYCOkN"
   },
   "outputs": [],
   "source": [
    "wiki = load_from_disk('data/viquae_wikipedia')"
   ]
  },
  {
   "cell_type": "code",
   "execution_count": 5,
   "metadata": {
    "id": "TeqINFEBFKjq"
   },
   "outputs": [],
   "source": [
    "train_set, dev_set, test_set = dataset['train'], dataset['validation'], dataset['test']"
   ]
  },
  {
   "cell_type": "code",
   "execution_count": 6,
   "metadata": {
    "id": "y8fgKct9CU0Z"
   },
   "outputs": [],
   "source": [
    "humans_with_faces, humans_without_faces, non_humans = wiki['humans_with_faces'], wiki['humans_without_faces'], wiki['non_humans']"
   ]
  },
  {
   "cell_type": "markdown",
   "metadata": {
    "id": "AYDSCsSUoa0W"
   },
   "source": [
    "## Some Exploration"
   ]
  },
  {
   "cell_type": "code",
   "execution_count": 7,
   "metadata": {
    "scrolled": false
   },
   "outputs": [
    {
     "data": {
      "text/plain": [
       "DatasetDict({\n",
       "    train: Dataset({\n",
       "        features: ['BM25_indices', 'BM25_scores', 'arcface_indices', 'arcface_scores', 'clip-RN50', 'document_arcface_indices', 'document_arcface_scores', 'document_provenance_indices', 'document_resnet_indices', 'document_resnet_scores', 'document_search_indices', 'document_search_scores', 'face', 'face_box', 'face_embedding', 'face_landmarks', 'face_prob', 'id', 'image', 'image_embedding', 'image_hash', 'input', 'keep_clip-RN50', 'keep_face_embedding', 'keep_image_embedding', 'kilt_id', 'meta', 'original_answer_provenance_indices', 'original_question', 'output', 'provenance_indices', 'resnet_indices', 'resnet_scores', 'search_indices', 'search_irrelevant_indices', 'search_provenance_indices', 'search_scores', 'semi-oracle_irrelevant_indices', 'semi-oracle_provenance_indices', 'url', 'wikidata_id', 'search_alternative_indices', 'human'],\n",
       "        num_rows: 1190\n",
       "    })\n",
       "    validation: Dataset({\n",
       "        features: ['BM25_indices', 'BM25_scores', 'arcface_indices', 'arcface_scores', 'clip-RN50', 'clip-RN50_indices', 'clip-RN50_scores', 'document_arcface_indices', 'document_arcface_scores', 'document_provenance_indices', 'document_resnet_indices', 'document_resnet_scores', 'document_search_indices', 'document_search_scores', 'face', 'face_box', 'face_embedding', 'face_landmarks', 'face_prob', 'id', 'image', 'image_embedding', 'image_hash', 'input', 'keep_clip-RN50', 'keep_face_embedding', 'keep_image_embedding', 'kilt_id', 'meta', 'original_answer_provenance_indices', 'original_question', 'output', 'provenance_indices', 'resnet_indices', 'resnet_scores', 'search_indices', 'search_irrelevant_indices', 'search_provenance_indices', 'search_scores', 'semi-oracle_irrelevant_indices', 'semi-oracle_provenance_indices', 'url', 'wikidata_id', 'search_alternative_indices', 'human'],\n",
       "        num_rows: 1250\n",
       "    })\n",
       "    test: Dataset({\n",
       "        features: ['BM25_indices', 'BM25_scores', 'arcface_indices', 'arcface_scores', 'clip-RN50', 'clip-RN50_indices', 'clip-RN50_scores', 'document_BM25_indices', 'document_BM25_scores', 'document_arcface_indices', 'document_arcface_scores', 'document_provenance_indices', 'document_resnet_indices', 'document_resnet_scores', 'document_search_indices', 'document_search_scores', 'face', 'face_box', 'face_embedding', 'face_landmarks', 'face_prob', 'id', 'image', 'image_embedding', 'image_hash', 'input', 'keep_clip-RN50', 'keep_face_embedding', 'keep_image_embedding', 'kilt_id', 'meta', 'original_answer_provenance_indices', 'original_question', 'output', 'provenance_indices', 'resnet_indices', 'resnet_scores', 'search_indices', 'search_irrelevant_indices', 'search_provenance_indices', 'search_scores', 'semi-oracle_irrelevant_indices', 'semi-oracle_provenance_indices', 'url', 'wikidata_id', 'search_alternative_indices', 'human'],\n",
       "        num_rows: 1257\n",
       "    })\n",
       "})"
      ]
     },
     "execution_count": 7,
     "metadata": {},
     "output_type": "execute_result"
    }
   ],
   "source": [
    "dataset"
   ]
  },
  {
   "cell_type": "code",
   "execution_count": 8,
   "metadata": {
    "scrolled": false
   },
   "outputs": [
    {
     "data": {
      "text/plain": [
       "Dataset({\n",
       "    features: ['BM25_indices', 'BM25_scores', 'arcface_indices', 'arcface_scores', 'clip-RN50', 'document_arcface_indices', 'document_arcface_scores', 'document_provenance_indices', 'document_resnet_indices', 'document_resnet_scores', 'document_search_indices', 'document_search_scores', 'face', 'face_box', 'face_embedding', 'face_landmarks', 'face_prob', 'id', 'image', 'image_embedding', 'image_hash', 'input', 'keep_clip-RN50', 'keep_face_embedding', 'keep_image_embedding', 'kilt_id', 'meta', 'original_answer_provenance_indices', 'original_question', 'output', 'provenance_indices', 'resnet_indices', 'resnet_scores', 'search_indices', 'search_irrelevant_indices', 'search_provenance_indices', 'search_scores', 'semi-oracle_irrelevant_indices', 'semi-oracle_provenance_indices', 'url', 'wikidata_id', 'search_alternative_indices', 'human'],\n",
       "    num_rows: 1190\n",
       "})"
      ]
     },
     "execution_count": 8,
     "metadata": {},
     "output_type": "execute_result"
    }
   ],
   "source": [
    "train_set"
   ]
  },
  {
   "cell_type": "code",
   "execution_count": 9,
   "metadata": {
    "scrolled": true
   },
   "outputs": [
    {
     "data": {
      "text/plain": [
       "Dataset({\n",
       "    features: ['BM25_indices', 'BM25_scores', 'arcface_indices', 'arcface_scores', 'clip-RN50', 'clip-RN50_indices', 'clip-RN50_scores', 'document_arcface_indices', 'document_arcface_scores', 'document_provenance_indices', 'document_resnet_indices', 'document_resnet_scores', 'document_search_indices', 'document_search_scores', 'face', 'face_box', 'face_embedding', 'face_landmarks', 'face_prob', 'id', 'image', 'image_embedding', 'image_hash', 'input', 'keep_clip-RN50', 'keep_face_embedding', 'keep_image_embedding', 'kilt_id', 'meta', 'original_answer_provenance_indices', 'original_question', 'output', 'provenance_indices', 'resnet_indices', 'resnet_scores', 'search_indices', 'search_irrelevant_indices', 'search_provenance_indices', 'search_scores', 'semi-oracle_irrelevant_indices', 'semi-oracle_provenance_indices', 'url', 'wikidata_id', 'search_alternative_indices', 'human'],\n",
       "    num_rows: 1250\n",
       "})"
      ]
     },
     "execution_count": 9,
     "metadata": {},
     "output_type": "execute_result"
    }
   ],
   "source": [
    "dev_set"
   ]
  },
  {
   "cell_type": "code",
   "execution_count": 10,
   "metadata": {
    "scrolled": false
   },
   "outputs": [
    {
     "data": {
      "text/plain": [
       "Dataset({\n",
       "    features: ['BM25_indices', 'BM25_scores', 'arcface_indices', 'arcface_scores', 'clip-RN50', 'clip-RN50_indices', 'clip-RN50_scores', 'document_BM25_indices', 'document_BM25_scores', 'document_arcface_indices', 'document_arcface_scores', 'document_provenance_indices', 'document_resnet_indices', 'document_resnet_scores', 'document_search_indices', 'document_search_scores', 'face', 'face_box', 'face_embedding', 'face_landmarks', 'face_prob', 'id', 'image', 'image_embedding', 'image_hash', 'input', 'keep_clip-RN50', 'keep_face_embedding', 'keep_image_embedding', 'kilt_id', 'meta', 'original_answer_provenance_indices', 'original_question', 'output', 'provenance_indices', 'resnet_indices', 'resnet_scores', 'search_indices', 'search_irrelevant_indices', 'search_provenance_indices', 'search_scores', 'semi-oracle_irrelevant_indices', 'semi-oracle_provenance_indices', 'url', 'wikidata_id', 'search_alternative_indices', 'human'],\n",
       "    num_rows: 1257\n",
       "})"
      ]
     },
     "execution_count": 10,
     "metadata": {},
     "output_type": "execute_result"
    }
   ],
   "source": [
    "test_set"
   ]
  },
  {
   "cell_type": "code",
   "execution_count": 11,
   "metadata": {
    "scrolled": false
   },
   "outputs": [
    {
     "data": {
      "text/plain": [
       "DatasetDict({\n",
       "    non_humans: Dataset({\n",
       "        features: ['anchors', 'categories', 'clip-RN50', 'document', 'history', 'image', 'image_embedding', 'image_hash', 'kilt_id', 'passage_index', 'text', 'url', 'wikidata_info', 'wikipedia_id', 'wikipedia_title'],\n",
       "        num_rows: 953379\n",
       "    })\n",
       "    humans_with_faces: Dataset({\n",
       "        features: ['anchors', 'categories', 'clip-RN50', 'document', 'face_box', 'face_embedding', 'face_landmarks', 'face_prob', 'history', 'image', 'image_embedding', 'image_hash', 'keep_face_embedding', 'kilt_id', 'passage_index', 'text', 'url', 'wikidata_info', 'wikipedia_id', 'wikipedia_title'],\n",
       "        num_rows: 506237\n",
       "    })\n",
       "    humans_without_faces: Dataset({\n",
       "        features: ['anchors', 'categories', 'clip-RN50', 'document', 'face_embedding', 'history', 'image', 'image_embedding', 'image_hash', 'kilt_id', 'passage_index', 'text', 'url', 'wikidata_info', 'wikipedia_id', 'wikipedia_title'],\n",
       "        num_rows: 35736\n",
       "    })\n",
       "})"
      ]
     },
     "execution_count": 11,
     "metadata": {},
     "output_type": "execute_result"
    }
   ],
   "source": [
    "wiki"
   ]
  },
  {
   "cell_type": "markdown",
   "metadata": {},
   "source": [
    "## GroundTruth Generation"
   ]
  },
  {
   "cell_type": "code",
   "execution_count": 1,
   "metadata": {},
   "outputs": [],
   "source": [
    "import numpy as np\n",
    "import os.path as osp\n",
    "import pickle, json, random\n",
    "\n",
    "import torch"
   ]
  },
  {
   "cell_type": "code",
   "execution_count": 2,
   "metadata": {},
   "outputs": [],
   "source": [
    "def pickle_load(path):\n",
    "    with open(path, 'rb') as fid:\n",
    "        data_ = pickle.load(fid)\n",
    "    return data_"
   ]
  },
  {
   "cell_type": "code",
   "execution_count": 3,
   "metadata": {},
   "outputs": [],
   "source": [
    "def pickle_save(path, data):\n",
    "    with open(path, 'wb') as fid:\n",
    "        pickle.dump(data, fid)"
   ]
  },
  {
   "cell_type": "code",
   "execution_count": 22,
   "metadata": {},
   "outputs": [],
   "source": [
    "set_name = 'train'\n",
    "gnd_name = 'gnd_' + set_name + '.pkl'"
   ]
  },
  {
   "cell_type": "code",
   "execution_count": 23,
   "metadata": {},
   "outputs": [],
   "source": [
    "dataset_name = 'viquae_for_rrt'\n",
    "data_dir = osp.join('/mnt/beegfs/home/smessoud/RerankingTransformer/models/research/delf/delf/python/delg/data', dataset_name)"
   ]
  },
  {
   "cell_type": "code",
   "execution_count": 24,
   "metadata": {},
   "outputs": [],
   "source": [
    "gnd = pickle_load(osp.join(data_dir, gnd_name))\n",
    "non_human_gnd = pickle_load(osp.join(data_dir, 'humans_'+gnd_name))\n",
    "human_gnd = pickle_load(osp.join(data_dir, 'non_humans_'+gnd_name))"
   ]
  },
  {
   "cell_type": "code",
   "execution_count": 25,
   "metadata": {},
   "outputs": [
    {
     "data": {
      "text/plain": [
       "(1190, 656, 534)"
      ]
     },
     "execution_count": 25,
     "metadata": {},
     "output_type": "execute_result"
    }
   ],
   "source": [
    "len(gnd['gnd']), len(human_gnd['gnd']), len(non_human_gnd['gnd'])#, len(train_set)"
   ]
  },
  {
   "cell_type": "code",
   "execution_count": 21,
   "metadata": {},
   "outputs": [
    {
     "data": {
      "text/plain": [
       "dict_keys(['easy', 'hard', 'junk', 'neg', 'provenance_entity', 'ir_order', 'img_rank_dict', 'rank_img_dict', 'r_easy', 'r_hard', 'r_junk', 'r_neg', 'r_ir_order', 'anchor_idx', 'g_easy', 'g_hard', 'g_junk', 'g_neg'])"
      ]
     },
     "execution_count": 21,
     "metadata": {},
     "output_type": "execute_result"
    }
   ],
   "source": [
    "gnd['gnd'][0].keys()"
   ]
  },
  {
   "cell_type": "code",
   "execution_count": 10,
   "metadata": {},
   "outputs": [
    {
     "data": {
      "text/plain": [
       "43"
      ]
     },
     "execution_count": 10,
     "metadata": {},
     "output_type": "execute_result"
    }
   ],
   "source": [
    "len(gnd['simlist'][0])"
   ]
  },
  {
   "cell_type": "code",
   "execution_count": 21,
   "metadata": {},
   "outputs": [],
   "source": [
    "for i in range(len(train_set)):\n",
    "    gnd['gnd'][i]['is_human'] = train_set[i]['human']"
   ]
  },
  {
   "cell_type": "code",
   "execution_count": 22,
   "metadata": {},
   "outputs": [],
   "source": [
    "train_gnd = pickle_load(osp.join(data_dir, 'gnd_train.pkl'))\n",
    "for i in range(len(train_gnd['gnd'])):\n",
    "    train_gnd['gnd'][i]['is_human'] = train_set[i]['human']"
   ]
  },
  {
   "cell_type": "code",
   "execution_count": 23,
   "metadata": {},
   "outputs": [],
   "source": [
    "dev_gnd = pickle_load(osp.join(data_dir, 'gnd_dev.pkl'))\n",
    "for i in range(len(dev_gnd['gnd'])):\n",
    "    dev_gnd['gnd'][i]['is_human'] = dev_set[i]['human']"
   ]
  },
  {
   "cell_type": "code",
   "execution_count": 24,
   "metadata": {},
   "outputs": [],
   "source": [
    "test_gnd = pickle_load(osp.join(data_dir, 'gnd_test.pkl'))\n",
    "for i in range(len(test_gnd['gnd'])):\n",
    "    test_gnd['gnd'][i]['is_human'] = test_set[i]['human']"
   ]
  },
  {
   "cell_type": "code",
   "execution_count": 25,
   "metadata": {},
   "outputs": [],
   "source": [
    "tuto_gnd = pickle_load(osp.join(data_dir, 'gnd_tuto.pkl'))\n",
    "for i in range(len(tuto_gnd['gnd'])):\n",
    "    tuto_gnd['gnd'][i]['is_human'] = train_set[i]['human']"
   ]
  },
  {
   "cell_type": "code",
   "execution_count": 26,
   "metadata": {
    "scrolled": true
   },
   "outputs": [
    {
     "data": {
      "text/plain": [
       "(120,\n",
       " dict_keys(['easy', 'hard', 'junk', 'neg', 'provenance_entity', 'ir_order', 'img_rank_dict', 'rank_img_dict', 'r_easy', 'r_hard', 'r_junk', 'r_neg', 'r_ir_order', 'anchor_idx', 'g_easy', 'g_hard', 'g_junk', 'g_neg', 'is_human']))"
      ]
     },
     "execution_count": 26,
     "metadata": {},
     "output_type": "execute_result"
    }
   ],
   "source": [
    "len(tuto_gnd['gnd']), tuto_gnd['gnd'][1].keys()"
   ]
  },
  {
   "cell_type": "code",
   "execution_count": 27,
   "metadata": {
    "scrolled": true
   },
   "outputs": [
    {
     "data": {
      "text/plain": [
       "((63, 63), (534, 534), (573, 573), (577, 577))"
      ]
     },
     "execution_count": 27,
     "metadata": {},
     "output_type": "execute_result"
    }
   ],
   "source": [
    "(np.sum(train_set['human'][:120]), np.sum([tuto_gnd['gnd'][i]['is_human'] for i in range(len(tuto_gnd['gnd']))])), (np.sum(train_set['human']), np.sum([train_gnd['gnd'][i]['is_human'] for i in range(len(train_gnd['gnd']))])), (np.sum(dev_set['human']), np.sum([dev_gnd['gnd'][i]['is_human'] for i in range(len(dev_gnd['gnd']))])), (np.sum(test_set['human']), np.sum([test_gnd['gnd'][i]['is_human'] for i in range(len(test_gnd['gnd']))]))"
   ]
  },
  {
   "cell_type": "code",
   "execution_count": 28,
   "metadata": {},
   "outputs": [
    {
     "data": {
      "text/plain": [
       "False"
      ]
     },
     "execution_count": 28,
     "metadata": {},
     "output_type": "execute_result"
    }
   ],
   "source": [
    "tuto_gnd['gnd'][10]['is_human']"
   ]
  },
  {
   "cell_type": "code",
   "execution_count": 40,
   "metadata": {},
   "outputs": [],
   "source": [
    "num_candidates = 100\n",
    "\n",
    "labels = [train_gnd['gnd'][i]['anchor_idx'] for i in range(len(train_gnd['gnd']))]\n",
    "\n",
    "#############################################################################\n",
    "## Collect valid tuples\n",
    "valids = np.zeros_like(labels)\n",
    "counts = 0\n",
    "len_positives = 0\n",
    "len_negatives = 0\n",
    "for i in range(len(train_gnd['qimlist'])):\n",
    "    positives = train_gnd['gnd'][i]['r_easy']\n",
    "    negatives = train_gnd['gnd'][i]['r_junk']\n",
    "    if len(positives) < 1 or len(negatives) < 1:\n",
    "        continue\n",
    "    valids[i] = 1\n",
    "    counts += len(positives) + len(negatives)\n",
    "    len_positives += len(positives)\n",
    "    len_negatives += len(negatives)\n",
    "valids = np.where(valids > 0)[0]\n",
    "num_samples = len(valids)"
   ]
  },
  {
   "cell_type": "code",
   "execution_count": 41,
   "metadata": {},
   "outputs": [
    {
     "data": {
      "text/plain": [
       "(1131, 56080, [7, 6], 7821, 48259)"
      ]
     },
     "execution_count": 41,
     "metadata": {},
     "output_type": "execute_result"
    }
   ],
   "source": [
    "num_samples, counts, train_gnd['gnd'][i]['r_easy'], len_positives, len_negatives"
   ]
  },
  {
   "cell_type": "code",
   "execution_count": null,
   "metadata": {},
   "outputs": [],
   "source": []
  },
  {
   "cell_type": "code",
   "execution_count": null,
   "metadata": {},
   "outputs": [],
   "source": []
  },
  {
   "cell_type": "code",
   "execution_count": null,
   "metadata": {},
   "outputs": [],
   "source": []
  },
  {
   "cell_type": "code",
   "execution_count": 34,
   "metadata": {},
   "outputs": [],
   "source": [
    "train_gnd_file = \"/mnt/beegfs/home/smessoud/RerankingTransformer/models/research/delf/delf/python/delg/data/viquae_for_rrt/gnd_train.pkl\"\n",
    "pickle_save(train_gnd_file, train_gnd)"
   ]
  },
  {
   "cell_type": "code",
   "execution_count": 35,
   "metadata": {},
   "outputs": [],
   "source": [
    "dev_gnd_file = \"/mnt/beegfs/home/smessoud/RerankingTransformer/models/research/delf/delf/python/delg/data/viquae_for_rrt/gnd_dev.pkl\"\n",
    "pickle_save(dev_gnd_file, dev_gnd)"
   ]
  },
  {
   "cell_type": "code",
   "execution_count": 36,
   "metadata": {},
   "outputs": [],
   "source": [
    "test_gnd_file = \"/mnt/beegfs/home/smessoud/RerankingTransformer/models/research/delf/delf/python/delg/data/viquae_for_rrt/gnd_test.pkl\"\n",
    "pickle_save(test_gnd_file, test_gnd)"
   ]
  },
  {
   "cell_type": "code",
   "execution_count": 37,
   "metadata": {},
   "outputs": [],
   "source": [
    "tuto_gnd_file = \"/mnt/beegfs/home/smessoud/RerankingTransformer/models/research/delf/delf/python/delg/data/viquae_for_rrt/gnd_tuto.pkl\"\n",
    "pickle_save(tuto_gnd_file, tuto_gnd)"
   ]
  },
  {
   "cell_type": "code",
   "execution_count": null,
   "metadata": {},
   "outputs": [],
   "source": []
  },
  {
   "cell_type": "code",
   "execution_count": 32,
   "metadata": {},
   "outputs": [],
   "source": [
    "def extend(a):\n",
    "    out = []\n",
    "    for sublist in a:\n",
    "        out.extend(sublist)\n",
    "    return out"
   ]
  },
  {
   "cell_type": "code",
   "execution_count": 33,
   "metadata": {},
   "outputs": [],
   "source": [
    "def preserve_order(array):\n",
    "    new_array = []\n",
    "    for e in array:\n",
    "        if e in new_array:\n",
    "            continue\n",
    "        else:\n",
    "            new_array.append(e)\n",
    "    return new_array"
   ]
  },
  {
   "cell_type": "code",
   "execution_count": 34,
   "metadata": {},
   "outputs": [],
   "source": [
    "def format_selection(selection):\n",
    "    return [preserve_order(sub) for sub in selection]\n",
    "    "
   ]
  },
  {
   "cell_type": "code",
   "execution_count": 35,
   "metadata": {},
   "outputs": [
    {
     "data": {
      "text/plain": [
       "19"
      ]
     },
     "execution_count": 35,
     "metadata": {},
     "output_type": "execute_result"
    }
   ],
   "source": [
    "len(gnd['gnd'][1].keys())"
   ]
  },
  {
   "cell_type": "code",
   "execution_count": 38,
   "metadata": {},
   "outputs": [],
   "source": [
    "def format_gnd_for_entity_type(gnd, entity_type):\n",
    "    new_gnd = {}\n",
    "    new_gnd['imlist']  = gnd['imlist']\n",
    "    \n",
    "    if entity_type == 'humans':\n",
    "        new_gnd['qimlist'] = [gnd['qimlist'][i] for i in range(len(gnd['qimlist'])) if gnd['gnd'][i]['is_human']]\n",
    "        new_gnd['simlist'] = [gnd['simlist'][i] for i in range(len(gnd['simlist'])) if gnd['gnd'][i]['is_human']]\n",
    "    else:\n",
    "        new_gnd['qimlist'] = [gnd['qimlist'][i] for i in range(len(gnd['qimlist'])) if not gnd['gnd'][i]['is_human']]\n",
    "        new_gnd['simlist'] = [gnd['simlist'][i] for i in range(len(gnd['simlist'])) if not gnd['gnd'][i]['is_human']]\n",
    "    \n",
    "    new_gnd_gnd =  []\n",
    "    if entity_type == 'humans':\n",
    "        for i in range(len(gnd['qimlist'])):\n",
    "            if gnd['gnd'][i]['is_human']:\n",
    "                question_gnd = {}\n",
    "                question_gnd['easy'] = gnd['gnd'][i]['easy']\n",
    "                question_gnd['hard'] = gnd['gnd'][i]['hard']\n",
    "                question_gnd['junk'] = gnd['gnd'][i]['junk']\n",
    "                question_gnd['neg']  = gnd['gnd'][i]['neg']\n",
    "                \n",
    "                question_gnd['r_easy'] = gnd['gnd'][i]['r_easy']\n",
    "                question_gnd['r_hard'] = gnd['gnd'][i]['r_hard']\n",
    "                question_gnd['r_junk'] = gnd['gnd'][i]['r_junk']\n",
    "                question_gnd['r_neg']  = gnd['gnd'][i]['r_neg']\n",
    "                \n",
    "                question_gnd['g_easy'] = gnd['gnd'][i]['g_easy']\n",
    "                question_gnd['g_hard'] = gnd['gnd'][i]['g_hard']\n",
    "                question_gnd['g_junk'] = gnd['gnd'][i]['g_junk']\n",
    "                question_gnd['g_neg']  = gnd['gnd'][i]['g_neg']\n",
    "                \n",
    "                question_gnd['provenance_entity']  = gnd['gnd'][i]['provenance_entity']\n",
    "                \n",
    "                question_gnd['ir_order']    = gnd['gnd'][i]['ir_order']\n",
    "                question_gnd['r_ir_order']  = gnd['gnd'][i]['r_ir_order']\n",
    "                \n",
    "                question_gnd['rank_img_dict']  = gnd['gnd'][i]['rank_img_dict']\n",
    "                question_gnd['img_rank_dict']  = gnd['gnd'][i]['img_rank_dict']\n",
    "                             \n",
    "                question_gnd['anchor_idx']  = gnd['gnd'][i]['anchor_idx']\n",
    "                question_gnd['is_human']    = gnd['gnd'][i]['is_human']\n",
    "                \n",
    "                new_gnd_gnd.append(question_gnd)\n",
    "                \n",
    "    if entity_type != 'humans':\n",
    "        for i in range(len(gnd['qimlist'])):\n",
    "            if not gnd['gnd'][i]['is_human']:\n",
    "                question_gnd = {}\n",
    "                question_gnd['easy'] = gnd['gnd'][i]['easy']\n",
    "                question_gnd['hard'] = gnd['gnd'][i]['hard']\n",
    "                question_gnd['junk'] = gnd['gnd'][i]['junk']\n",
    "                question_gnd['neg']  = gnd['gnd'][i]['neg']\n",
    "                \n",
    "                question_gnd['r_easy'] = gnd['gnd'][i]['r_easy']\n",
    "                question_gnd['r_hard'] = gnd['gnd'][i]['r_hard']\n",
    "                question_gnd['r_junk'] = gnd['gnd'][i]['r_junk']\n",
    "                question_gnd['r_neg']  = gnd['gnd'][i]['r_neg']\n",
    "                \n",
    "                question_gnd['g_easy'] = gnd['gnd'][i]['g_easy']\n",
    "                question_gnd['g_hard'] = gnd['gnd'][i]['g_hard']\n",
    "                question_gnd['g_junk'] = gnd['gnd'][i]['g_junk']\n",
    "                question_gnd['g_neg']  = gnd['gnd'][i]['g_neg']\n",
    "                \n",
    "                question_gnd['provenance_entity']  = gnd['gnd'][i]['provenance_entity']\n",
    "                \n",
    "                question_gnd['ir_order']    = gnd['gnd'][i]['ir_order']\n",
    "                question_gnd['r_ir_order']  = gnd['gnd'][i]['r_ir_order']\n",
    "                \n",
    "                question_gnd['rank_img_dict']  = gnd['gnd'][i]['rank_img_dict']\n",
    "                question_gnd['img_rank_dict']  = gnd['gnd'][i]['img_rank_dict']\n",
    "                             \n",
    "                question_gnd['anchor_idx']  = gnd['gnd'][i]['anchor_idx']\n",
    "                question_gnd['is_human']    = gnd['gnd'][i]['is_human']\n",
    "                \n",
    "                new_gnd_gnd.append(question_gnd)\n",
    "    \n",
    "    new_gnd['gnd'] = new_gnd_gnd\n",
    "    \n",
    "    return new_gnd"
   ]
  },
  {
   "cell_type": "code",
   "execution_count": 41,
   "metadata": {},
   "outputs": [
    {
     "data": {
      "text/plain": [
       "(63, 57, 120, 120)"
      ]
     },
     "execution_count": 41,
     "metadata": {},
     "output_type": "execute_result"
    }
   ],
   "source": [
    "humans_tuto_gnd     = format_gnd_for_entity_type(tuto_gnd, entity_type='humans')\n",
    "non_humans_tuto_gnd = format_gnd_for_entity_type(tuto_gnd, entity_type='non_humans')\n",
    "pickle_save(osp.join(data_dir, \"humans_gnd_tuto.pkl\"), humans_tuto_gnd)\n",
    "pickle_save(osp.join(data_dir, \"non_humans_gnd_tuto.pkl\"), non_humans_tuto_gnd)\n",
    "len(humans_tuto_gnd['gnd']), len(non_humans_tuto_gnd['gnd']), len(tuto_gnd['gnd']), 63+57"
   ]
  },
  {
   "cell_type": "code",
   "execution_count": 42,
   "metadata": {},
   "outputs": [
    {
     "data": {
      "text/plain": [
       "False"
      ]
     },
     "execution_count": 42,
     "metadata": {},
     "output_type": "execute_result"
    }
   ],
   "source": [
    "prefixed = None\n",
    "prefixed is not None"
   ]
  },
  {
   "cell_type": "code",
   "execution_count": 43,
   "metadata": {},
   "outputs": [
    {
     "data": {
      "text/plain": [
       "(534, 656, 1190, 1190)"
      ]
     },
     "execution_count": 43,
     "metadata": {},
     "output_type": "execute_result"
    }
   ],
   "source": [
    "humans_train_gnd     = format_gnd_for_entity_type(train_gnd, entity_type='humans')\n",
    "non_humans_train_gnd = format_gnd_for_entity_type(train_gnd, entity_type='non_humans')\n",
    "pickle_save(osp.join(data_dir, \"humans_gnd_train.pkl\"), humans_train_gnd)\n",
    "pickle_save(osp.join(data_dir, \"non_humans_gnd_train.pkl\"), non_humans_train_gnd)\n",
    "len(humans_train_gnd['qimlist']), len(non_humans_train_gnd['qimlist']), len(train_gnd['qimlist']), 534+656"
   ]
  },
  {
   "cell_type": "code",
   "execution_count": 44,
   "metadata": {},
   "outputs": [
    {
     "data": {
      "text/plain": [
       "(573, 677, 573, 1250)"
      ]
     },
     "execution_count": 44,
     "metadata": {},
     "output_type": "execute_result"
    }
   ],
   "source": [
    "humans_dev_gnd     = format_gnd_for_entity_type(dev_gnd, entity_type='humans')\n",
    "non_humans_dev_gnd = format_gnd_for_entity_type(dev_gnd, entity_type='non_humans')\n",
    "pickle_save(osp.join(data_dir, \"humans_gnd_dev.pkl\"), humans_dev_gnd)\n",
    "pickle_save(osp.join(data_dir, \"non_humans_gnd_dev.pkl\"), non_humans_dev_gnd)\n",
    "len(humans_dev_gnd['qimlist']), len(non_humans_dev_gnd['qimlist']), len(humans_dev_gnd['qimlist']), 573+677"
   ]
  },
  {
   "cell_type": "code",
   "execution_count": 45,
   "metadata": {},
   "outputs": [
    {
     "data": {
      "text/plain": [
       "(577, 680, 1257, 1257)"
      ]
     },
     "execution_count": 45,
     "metadata": {},
     "output_type": "execute_result"
    }
   ],
   "source": [
    "humans_test_gnd     = format_gnd_for_entity_type(test_gnd, entity_type='humans')\n",
    "non_humans_test_gnd = format_gnd_for_entity_type(test_gnd, entity_type='non_humans')\n",
    "pickle_save(osp.join(data_dir, \"humans_gnd_test.pkl\"), humans_test_gnd)\n",
    "pickle_save(osp.join(data_dir, \"non_humans_gnd_test.pkl\"), non_humans_test_gnd)\n",
    "len(humans_test_gnd['qimlist']), len(non_humans_test_gnd['qimlist']), len(test_gnd['qimlist']), 577+680"
   ]
  },
  {
   "cell_type": "code",
   "execution_count": 46,
   "metadata": {},
   "outputs": [
    {
     "data": {
      "text/plain": [
       "(63, 57, 120, 120)"
      ]
     },
     "execution_count": 46,
     "metadata": {},
     "output_type": "execute_result"
    }
   ],
   "source": [
    "len(humans_tuto_gnd['qimlist']), len(non_humans_tuto_gnd['qimlist']), len(tuto_gnd['qimlist']), 63+57"
   ]
  },
  {
   "cell_type": "code",
   "execution_count": null,
   "metadata": {},
   "outputs": [],
   "source": []
  },
  {
   "cell_type": "code",
   "execution_count": null,
   "metadata": {},
   "outputs": [],
   "source": []
  },
  {
   "cell_type": "code",
   "execution_count": null,
   "metadata": {},
   "outputs": [],
   "source": []
  },
  {
   "cell_type": "code",
   "execution_count": null,
   "metadata": {},
   "outputs": [],
   "source": [
    "entire_dataset_imgs = list(set(train_gnd['imlist'] + dev_gnd['imlist'] + test_gnd['imlist']))\n",
    "len(entire_dataset_imgs)"
   ]
  },
  {
   "cell_type": "code",
   "execution_count": null,
   "metadata": {},
   "outputs": [],
   "source": [
    "np.savetxt('data/entire_dataset_imgs.txt', entire_dataset_imgs, fmt=\"%s\")"
   ]
  },
  {
   "cell_type": "code",
   "execution_count": null,
   "metadata": {},
   "outputs": [],
   "source": []
  },
  {
   "cell_type": "code",
   "execution_count": null,
   "metadata": {},
   "outputs": [],
   "source": []
  },
  {
   "cell_type": "code",
   "execution_count": null,
   "metadata": {},
   "outputs": [],
   "source": [
    "number_str = str(123)\n",
    "zero_filled_number = number_str.zfill(5)\n",
    "zero_filled_number"
   ]
  },
  {
   "cell_type": "code",
   "execution_count": null,
   "metadata": {},
   "outputs": [],
   "source": []
  },
  {
   "cell_type": "code",
   "execution_count": null,
   "metadata": {},
   "outputs": [],
   "source": []
  }
 ],
 "metadata": {
  "colab": {
   "name": "RRT_ViQuAE_data_preparation.ipynb",
   "provenance": []
  },
  "kernelspec": {
   "display_name": "Python 3",
   "language": "python",
   "name": "python3"
  },
  "language_info": {
   "codemirror_mode": {
    "name": "ipython",
    "version": 3
   },
   "file_extension": ".py",
   "mimetype": "text/x-python",
   "name": "python",
   "nbconvert_exporter": "python",
   "pygments_lexer": "ipython3",
   "version": "3.7.6"
  }
 },
 "nbformat": 4,
 "nbformat_minor": 1
}
