{
 "cells": [
  {
   "cell_type": "markdown",
   "metadata": {
    "id": "NbDUyuTbFBrG"
   },
   "source": [
    "## Imports"
   ]
  },
  {
   "cell_type": "code",
   "execution_count": 1,
   "metadata": {
    "id": "sF9ZuWbVB_4H"
   },
   "outputs": [],
   "source": [
    "import json\n",
    "import numpy as np\n",
    "from datasets import load_from_disk, set_caching_enabled\n",
    "set_caching_enabled(False)"
   ]
  },
  {
   "cell_type": "markdown",
   "metadata": {
    "id": "_viymwRpFEwQ"
   },
   "source": [
    "# os.getcwd() = ~/ViQuAE\n",
    "## Loading Data"
   ]
  },
  {
   "cell_type": "code",
   "execution_count": 2,
   "metadata": {
    "id": "y73YtxvkCDqc"
   },
   "outputs": [],
   "source": [
    "dataset = load_from_disk(\"data/viquae_dataset\")"
   ]
  },
  {
   "cell_type": "code",
   "execution_count": 3,
   "metadata": {
    "id": "yWOHH-hxCMSa"
   },
   "outputs": [],
   "source": [
    "kb = load_from_disk('data/viquae_passages/')"
   ]
  },
  {
   "cell_type": "code",
   "execution_count": 4,
   "metadata": {
    "id": "_kPxIOAYCOkN"
   },
   "outputs": [],
   "source": [
    "wiki = load_from_disk('data/viquae_wikipedia')"
   ]
  },
  {
   "cell_type": "code",
   "execution_count": 5,
   "metadata": {
    "id": "TeqINFEBFKjq"
   },
   "outputs": [],
   "source": [
    "train_set, dev_set, test_set = dataset['train'], dataset['validation'], dataset['test']"
   ]
  },
  {
   "cell_type": "code",
   "execution_count": 6,
   "metadata": {
    "id": "y8fgKct9CU0Z"
   },
   "outputs": [],
   "source": [
    "humans_with_faces, humans_without_faces, non_humans = wiki['humans_with_faces'], wiki['humans_without_faces'], wiki['non_humans']"
   ]
  },
  {
   "cell_type": "markdown",
   "metadata": {
    "id": "uAY5kcAmFgmW"
   },
   "source": [
    "## Article to Passage Mapping"
   ]
  },
  {
   "cell_type": "code",
   "execution_count": 7,
   "metadata": {
    "id": "ToK1IExiCYs6"
   },
   "outputs": [],
   "source": [
    "n_h_article2passage = None\n",
    "h_w_f_article2passage = None\n",
    "h_wo_f_article2passage = None"
   ]
  },
  {
   "cell_type": "code",
   "execution_count": 8,
   "metadata": {
    "id": "k0JW--djCiQU"
   },
   "outputs": [],
   "source": [
    "f = open('data/viquae_wikipedia/non_humans/article2passage.json')\n",
    "n_h_article2passage = json.load(f)\n",
    "f.close()                                                              "
   ]
  },
  {
   "cell_type": "code",
   "execution_count": 9,
   "metadata": {
    "id": "3TVd0OCqDQAA"
   },
   "outputs": [
    {
     "data": {
      "text/plain": [
       "7175529"
      ]
     },
     "execution_count": 9,
     "metadata": {},
     "output_type": "execute_result"
    }
   ],
   "source": [
    "inv_n_h_article2passage = {} \n",
    "for k,v in n_h_article2passage.items(): \n",
    "    for x in v: \n",
    "        inv_n_h_article2passage.setdefault(x,[]).append(k) \n",
    "\n",
    "len_n_h = len(inv_n_h_article2passage.keys())\n",
    "len_n_h"
   ]
  },
  {
   "cell_type": "code",
   "execution_count": 10,
   "metadata": {
    "id": "9rglNXcoCzl6"
   },
   "outputs": [],
   "source": [
    "f = open('data/viquae_wikipedia/humans_without_faces/article2passage.json')\n",
    "h_wo_f_article2passage = json.load(f)                                  \n",
    "f.close()"
   ]
  },
  {
   "cell_type": "code",
   "execution_count": 11,
   "metadata": {
    "id": "uEKj6Q5iDch9"
   },
   "outputs": [
    {
     "data": {
      "text/plain": [
       "298698"
      ]
     },
     "execution_count": 11,
     "metadata": {},
     "output_type": "execute_result"
    }
   ],
   "source": [
    "inv_h_wo_f_article2passage = {} \n",
    "for k,v in h_wo_f_article2passage.items(): \n",
    "    for x in v: \n",
    "        inv_h_wo_f_article2passage.setdefault(x,[]).append(k) \n",
    "\n",
    "len_h_wo_f = len(inv_h_wo_f_article2passage.keys())\n",
    "len_h_wo_f"
   ]
  },
  {
   "cell_type": "code",
   "execution_count": 12,
   "metadata": {
    "id": "Gewr5BhdC6-L"
   },
   "outputs": [],
   "source": [
    "f = open('data/viquae_wikipedia/humans_with_faces/article2passage.json')                                                                      \n",
    "h_w_f_article2passage = json.load(f)                                   \n",
    "f.close()                  "
   ]
  },
  {
   "cell_type": "code",
   "execution_count": 13,
   "metadata": {
    "id": "m3at6nL6DcEY"
   },
   "outputs": [
    {
     "data": {
      "text/plain": [
       "4411741"
      ]
     },
     "execution_count": 13,
     "metadata": {},
     "output_type": "execute_result"
    }
   ],
   "source": [
    "inv_h_w_f_article2passage = {} \n",
    "for k,v in h_w_f_article2passage.items(): \n",
    "    for x in v: \n",
    "        inv_h_w_f_article2passage.setdefault(x,[]).append(k)\n",
    "\n",
    "len_h_w_f = len(inv_h_w_f_article2passage.keys())\n",
    "len_h_w_f"
   ]
  },
  {
   "cell_type": "code",
   "execution_count": 14,
   "metadata": {
    "id": "qVMS7i12ELcO"
   },
   "outputs": [
    {
     "data": {
      "text/plain": [
       "11885968"
      ]
     },
     "execution_count": 14,
     "metadata": {},
     "output_type": "execute_result"
    }
   ],
   "source": [
    "len_n_h + len_h_w_f + len_h_wo_f"
   ]
  },
  {
   "cell_type": "markdown",
   "metadata": {
    "id": "AYDSCsSUoa0W"
   },
   "source": [
    "## Some exploration"
   ]
  },
  {
   "cell_type": "code",
   "execution_count": 15,
   "metadata": {},
   "outputs": [],
   "source": [
    "item = train_set[0]"
   ]
  },
  {
   "cell_type": "code",
   "execution_count": 16,
   "metadata": {},
   "outputs": [
    {
     "data": {
      "text/plain": [
       "'a79b04bb9ea4c1e17edf31d544fd17bd'"
      ]
     },
     "execution_count": 16,
     "metadata": {},
     "output_type": "execute_result"
    }
   ],
   "source": [
    "item['id']"
   ]
  },
  {
   "cell_type": "code",
   "execution_count": 17,
   "metadata": {},
   "outputs": [
    {
     "data": {
      "text/plain": [
       "'512px-John_R._Neill_-_Les_Misérables_-_Cosette_in_front_of_the_doll_shop.jpg'"
      ]
     },
     "execution_count": 17,
     "metadata": {},
     "output_type": "execute_result"
    }
   ],
   "source": [
    "item['image']"
   ]
  },
  {
   "cell_type": "code",
   "execution_count": 18,
   "metadata": {
    "scrolled": true
   },
   "outputs": [
    {
     "data": {
      "text/plain": [
       "(100, 100)"
      ]
     },
     "execution_count": 18,
     "metadata": {},
     "output_type": "execute_result"
    }
   ],
   "source": [
    "len(item['search_indices']), len(item['search_irrelevant_indices'])"
   ]
  },
  {
   "cell_type": "code",
   "execution_count": 19,
   "metadata": {},
   "outputs": [],
   "source": [
    "item_relevant_indices = list(set(item['search_indices']) - set(item['search_irrelevant_indices']))\n",
    "item_relevant_indices = list(set(item['search_indices']) - set(item['search_irrelevant_indices']))\n",
    "item_irrelevant_indices = item['search_irrelevant_indices']"
   ]
  },
  {
   "cell_type": "code",
   "execution_count": 20,
   "metadata": {
    "scrolled": true
   },
   "outputs": [
    {
     "data": {
      "text/plain": [
       "11121680"
      ]
     },
     "execution_count": 20,
     "metadata": {},
     "output_type": "execute_result"
    }
   ],
   "source": [
    "item_irrelevant_indices[0]"
   ]
  },
  {
   "cell_type": "code",
   "execution_count": 21,
   "metadata": {},
   "outputs": [
    {
     "data": {
      "text/plain": [
       "(4411741, 298698, 7175529, 11885968)"
      ]
     },
     "execution_count": 21,
     "metadata": {},
     "output_type": "execute_result"
    }
   ],
   "source": [
    "len_h_w_f, len_h_wo_f, len_n_h, (len_h_w_f + len_h_wo_f + len_n_h)"
   ]
  },
  {
   "cell_type": "code",
   "execution_count": 22,
   "metadata": {
    "scrolled": false
   },
   "outputs": [
    {
     "data": {
      "text/plain": [
       "11885968"
      ]
     },
     "execution_count": 22,
     "metadata": {},
     "output_type": "execute_result"
    }
   ],
   "source": [
    "h_w_f_passage_split = dict(zip(inv_h_w_f_article2passage.keys(), ['humans_with_faces'] * len_h_w_f))\n",
    "h_wo_f_passage_split = dict(zip(inv_h_wo_f_article2passage.keys(), ['humans_without_faces'] * len_h_wo_f))\n",
    "n_h_passage_split = dict(zip(inv_n_h_article2passage.keys(), ['non_humans'] * len_n_h))\n",
    "\n",
    "passage_wiki_split = {**h_w_f_passage_split, **h_wo_f_passage_split, **n_h_passage_split}\n",
    "len(passage_wiki_split)"
   ]
  },
  {
   "cell_type": "code",
   "execution_count": 23,
   "metadata": {},
   "outputs": [
    {
     "data": {
      "text/plain": [
       "11885968"
      ]
     },
     "execution_count": 23,
     "metadata": {},
     "output_type": "execute_result"
    }
   ],
   "source": [
    "inv_article2passage = {**inv_h_w_f_article2passage, **inv_h_wo_f_article2passage, **inv_n_h_article2passage}\n",
    "\n",
    "len(inv_article2passage)"
   ]
  },
  {
   "cell_type": "code",
   "execution_count": 24,
   "metadata": {},
   "outputs": [
    {
     "data": {
      "text/plain": [
       "883133"
      ]
     },
     "execution_count": 24,
     "metadata": {},
     "output_type": "execute_result"
    }
   ],
   "source": [
    "int(inv_article2passage[item_irrelevant_indices[0]][0])"
   ]
  },
  {
   "cell_type": "code",
   "execution_count": 25,
   "metadata": {},
   "outputs": [],
   "source": [
    "#n_h_ids, h_w_f_ids, h_wo_f_ids = non_humans['passage_index'], humans_with_faces['passage_index'], humans_without_faces['passage_index']"
   ]
  },
  {
   "cell_type": "code",
   "execution_count": 26,
   "metadata": {},
   "outputs": [
    {
     "data": {
      "text/plain": [
       "['0']"
      ]
     },
     "execution_count": 26,
     "metadata": {},
     "output_type": "execute_result"
    }
   ],
   "source": [
    "inv_article2passage[433]"
   ]
  },
  {
   "cell_type": "code",
   "execution_count": 27,
   "metadata": {},
   "outputs": [],
   "source": [
    "# h_wo_f_ids.index('157646')"
   ]
  },
  {
   "cell_type": "code",
   "execution_count": 28,
   "metadata": {},
   "outputs": [
    {
     "data": {
      "text/plain": [
       "DatasetDict({\n",
       "    train: Dataset({\n",
       "        features: ['BM25_indices', 'BM25_scores', 'arcface_indices', 'arcface_scores', 'clip-RN50', 'document_arcface_indices', 'document_arcface_scores', 'document_provenance_indices', 'document_resnet_indices', 'document_resnet_scores', 'document_search_indices', 'document_search_scores', 'face', 'face_box', 'face_embedding', 'face_landmarks', 'face_prob', 'id', 'image', 'image_embedding', 'image_hash', 'input', 'keep_clip-RN50', 'keep_face_embedding', 'keep_image_embedding', 'kilt_id', 'meta', 'original_answer_provenance_indices', 'original_question', 'output', 'provenance_indices', 'resnet_indices', 'resnet_scores', 'search_indices', 'search_irrelevant_indices', 'search_provenance_indices', 'search_scores', 'semi-oracle_irrelevant_indices', 'semi-oracle_provenance_indices', 'url', 'wikidata_id'],\n",
       "        num_rows: 1190\n",
       "    })\n",
       "    validation: Dataset({\n",
       "        features: ['BM25_indices', 'BM25_scores', 'arcface_indices', 'arcface_scores', 'clip-RN50', 'clip-RN50_indices', 'clip-RN50_scores', 'document_arcface_indices', 'document_arcface_scores', 'document_provenance_indices', 'document_resnet_indices', 'document_resnet_scores', 'document_search_indices', 'document_search_scores', 'face', 'face_box', 'face_embedding', 'face_landmarks', 'face_prob', 'id', 'image', 'image_embedding', 'image_hash', 'input', 'keep_clip-RN50', 'keep_face_embedding', 'keep_image_embedding', 'kilt_id', 'meta', 'original_answer_provenance_indices', 'original_question', 'output', 'provenance_indices', 'resnet_indices', 'resnet_scores', 'search_indices', 'search_irrelevant_indices', 'search_provenance_indices', 'search_scores', 'semi-oracle_irrelevant_indices', 'semi-oracle_provenance_indices', 'url', 'wikidata_id'],\n",
       "        num_rows: 1250\n",
       "    })\n",
       "    test: Dataset({\n",
       "        features: ['BM25_indices', 'BM25_scores', 'arcface_indices', 'arcface_scores', 'clip-RN50', 'clip-RN50_indices', 'clip-RN50_scores', 'document_BM25_indices', 'document_BM25_scores', 'document_arcface_indices', 'document_arcface_scores', 'document_provenance_indices', 'document_resnet_indices', 'document_resnet_scores', 'document_search_indices', 'document_search_scores', 'face', 'face_box', 'face_embedding', 'face_landmarks', 'face_prob', 'id', 'image', 'image_embedding', 'image_hash', 'input', 'keep_clip-RN50', 'keep_face_embedding', 'keep_image_embedding', 'kilt_id', 'meta', 'original_answer_provenance_indices', 'original_question', 'output', 'provenance_indices', 'resnet_indices', 'resnet_scores', 'search_indices', 'search_irrelevant_indices', 'search_provenance_indices', 'search_scores', 'semi-oracle_irrelevant_indices', 'semi-oracle_provenance_indices', 'url', 'wikidata_id'],\n",
       "        num_rows: 1257\n",
       "    })\n",
       "})"
      ]
     },
     "execution_count": 28,
     "metadata": {},
     "output_type": "execute_result"
    }
   ],
   "source": [
    "dataset"
   ]
  },
  {
   "cell_type": "code",
   "execution_count": 29,
   "metadata": {
    "scrolled": true
   },
   "outputs": [
    {
     "data": {
      "text/plain": [
       "Dataset({\n",
       "    features: ['BM25_indices', 'BM25_scores', 'arcface_indices', 'arcface_scores', 'clip-RN50', 'document_arcface_indices', 'document_arcface_scores', 'document_provenance_indices', 'document_resnet_indices', 'document_resnet_scores', 'document_search_indices', 'document_search_scores', 'face', 'face_box', 'face_embedding', 'face_landmarks', 'face_prob', 'id', 'image', 'image_embedding', 'image_hash', 'input', 'keep_clip-RN50', 'keep_face_embedding', 'keep_image_embedding', 'kilt_id', 'meta', 'original_answer_provenance_indices', 'original_question', 'output', 'provenance_indices', 'resnet_indices', 'resnet_scores', 'search_indices', 'search_irrelevant_indices', 'search_provenance_indices', 'search_scores', 'semi-oracle_irrelevant_indices', 'semi-oracle_provenance_indices', 'url', 'wikidata_id'],\n",
       "    num_rows: 1190\n",
       "})"
      ]
     },
     "execution_count": 29,
     "metadata": {},
     "output_type": "execute_result"
    }
   ],
   "source": [
    "train_set"
   ]
  },
  {
   "cell_type": "code",
   "execution_count": 30,
   "metadata": {},
   "outputs": [
    {
     "data": {
      "text/plain": [
       "Dataset({\n",
       "    features: ['BM25_indices', 'BM25_scores', 'arcface_indices', 'arcface_scores', 'clip-RN50', 'clip-RN50_indices', 'clip-RN50_scores', 'document_arcface_indices', 'document_arcface_scores', 'document_provenance_indices', 'document_resnet_indices', 'document_resnet_scores', 'document_search_indices', 'document_search_scores', 'face', 'face_box', 'face_embedding', 'face_landmarks', 'face_prob', 'id', 'image', 'image_embedding', 'image_hash', 'input', 'keep_clip-RN50', 'keep_face_embedding', 'keep_image_embedding', 'kilt_id', 'meta', 'original_answer_provenance_indices', 'original_question', 'output', 'provenance_indices', 'resnet_indices', 'resnet_scores', 'search_indices', 'search_irrelevant_indices', 'search_provenance_indices', 'search_scores', 'semi-oracle_irrelevant_indices', 'semi-oracle_provenance_indices', 'url', 'wikidata_id'],\n",
       "    num_rows: 1250\n",
       "})"
      ]
     },
     "execution_count": 30,
     "metadata": {},
     "output_type": "execute_result"
    }
   ],
   "source": [
    "dev_set"
   ]
  },
  {
   "cell_type": "code",
   "execution_count": 31,
   "metadata": {},
   "outputs": [
    {
     "data": {
      "text/plain": [
       "(100, 100)"
      ]
     },
     "execution_count": 31,
     "metadata": {},
     "output_type": "execute_result"
    }
   ],
   "source": [
    "len(dev_set['search_indices'][10]), len(dev_set['search_irrelevant_indices'][10]),"
   ]
  },
  {
   "cell_type": "code",
   "execution_count": 32,
   "metadata": {},
   "outputs": [
    {
     "data": {
      "text/plain": [
       "Dataset({\n",
       "    features: ['BM25_indices', 'BM25_scores', 'arcface_indices', 'arcface_scores', 'clip-RN50', 'clip-RN50_indices', 'clip-RN50_scores', 'document_BM25_indices', 'document_BM25_scores', 'document_arcface_indices', 'document_arcface_scores', 'document_provenance_indices', 'document_resnet_indices', 'document_resnet_scores', 'document_search_indices', 'document_search_scores', 'face', 'face_box', 'face_embedding', 'face_landmarks', 'face_prob', 'id', 'image', 'image_embedding', 'image_hash', 'input', 'keep_clip-RN50', 'keep_face_embedding', 'keep_image_embedding', 'kilt_id', 'meta', 'original_answer_provenance_indices', 'original_question', 'output', 'provenance_indices', 'resnet_indices', 'resnet_scores', 'search_indices', 'search_irrelevant_indices', 'search_provenance_indices', 'search_scores', 'semi-oracle_irrelevant_indices', 'semi-oracle_provenance_indices', 'url', 'wikidata_id'],\n",
       "    num_rows: 1257\n",
       "})"
      ]
     },
     "execution_count": 32,
     "metadata": {},
     "output_type": "execute_result"
    }
   ],
   "source": [
    "test_set"
   ]
  },
  {
   "cell_type": "code",
   "execution_count": 33,
   "metadata": {},
   "outputs": [
    {
     "data": {
      "text/plain": [
       "DatasetDict({\n",
       "    non_humans: Dataset({\n",
       "        features: ['anchors', 'categories', 'clip-RN50', 'document', 'history', 'image', 'image_embedding', 'image_hash', 'kilt_id', 'passage_index', 'text', 'url', 'wikidata_info', 'wikipedia_id', 'wikipedia_title'],\n",
       "        num_rows: 953379\n",
       "    })\n",
       "    humans_with_faces: Dataset({\n",
       "        features: ['anchors', 'categories', 'clip-RN50', 'document', 'face_box', 'face_embedding', 'face_landmarks', 'face_prob', 'history', 'image', 'image_embedding', 'image_hash', 'keep_face_embedding', 'kilt_id', 'passage_index', 'text', 'url', 'wikidata_info', 'wikipedia_id', 'wikipedia_title'],\n",
       "        num_rows: 506237\n",
       "    })\n",
       "    humans_without_faces: Dataset({\n",
       "        features: ['anchors', 'categories', 'clip-RN50', 'document', 'face_embedding', 'history', 'image', 'image_embedding', 'image_hash', 'kilt_id', 'passage_index', 'text', 'url', 'wikidata_info', 'wikipedia_id', 'wikipedia_title'],\n",
       "        num_rows: 35736\n",
       "    })\n",
       "})"
      ]
     },
     "execution_count": 33,
     "metadata": {},
     "output_type": "execute_result"
    }
   ],
   "source": [
    "wiki"
   ]
  },
  {
   "cell_type": "code",
   "execution_count": 34,
   "metadata": {},
   "outputs": [],
   "source": [
    "# for every question, get the list of the top 100 search results\n",
    "# create a mapping betweeen image_file_name, and image_id \n",
    "img_list = []\n",
    "for item in train_set:\n",
    "    item_relevant_passages = list(set(item['search_indices']) - set(item['search_irrelevant_indices']))\n",
    "    \n",
    "    for passage in item['search_indices']: # get the list of passages\n",
    "        # for every passage, get the list its corresponding wikipedia article id and split\n",
    "        wiki_id = int(inv_article2passage[passage][0])\n",
    "        wiki_split = passage_wiki_split[passage]\n",
    "        if wiki_split == 'humans_with_faces':\n",
    "            # row_index = h_w_f_ids.index(wiki_id)\n",
    "            # wiki_item = humans_with_faces[row_index]\n",
    "            wiki_item = humans_with_faces[wiki_id]\n",
    "        elif wiki_split == 'humans_without_faces':\n",
    "            # row_index = h_wo_f_ids.index(wiki_id) \n",
    "            # wiki_item == humans_without_faces[row_index]\n",
    "            wiki_item = humans_without_faces[wiki_id]\n",
    "        else:\n",
    "            # row_index = n_h_ids.index(wiki_id)\n",
    "            # wiki_item == non_humans[row_index]\n",
    "            wiki_item = non_humans[wiki_id]\n",
    "        \n",
    "        img_list.append(wiki_item['image'])"
   ]
  },
  {
   "cell_type": "code",
   "execution_count": 35,
   "metadata": {},
   "outputs": [],
   "source": [
    "# for every question, get the list of the top 100 search results\n",
    "for item in dev_set:\n",
    "    item_relevant_passages = list(set(item['search_indices']) - set(item['search_irrelevant_indices']))\n",
    "    \n",
    "    for passage in item['search_indices']: # get the list of passages\n",
    "        # for every passage, get the list its corresponding wikipedia article id and split\n",
    "        wiki_id = int(inv_article2passage[passage][0])\n",
    "        wiki_split = passage_wiki_split[passage]\n",
    "        if wiki_split == 'humans_with_faces':\n",
    "            # row_index = h_w_f_ids.index(wiki_id)\n",
    "            # wiki_item = humans_with_faces[row_index]\n",
    "            wiki_item = humans_with_faces[wiki_id]\n",
    "        elif wiki_split == 'humans_without_faces':\n",
    "            # row_index = h_wo_f_ids.index(wiki_id) \n",
    "            # wiki_item == humans_without_faces[row_index]\n",
    "            wiki_item = humans_without_faces[wiki_id]\n",
    "        else:\n",
    "            # row_index = n_h_ids.index(wiki_id)\n",
    "            # wiki_item == non_humans[row_index]\n",
    "            wiki_item = non_humans[wiki_id]\n",
    "            \n",
    "        img_list.append(wiki_item['image'])"
   ]
  },
  {
   "cell_type": "code",
   "execution_count": 36,
   "metadata": {},
   "outputs": [],
   "source": [
    "# for every question, get the list of the top 100 search results\n",
    "for item in test_set:\n",
    "    item_relevant_passages = list(set(item['search_indices']) - set(item['search_irrelevant_indices']))\n",
    "    \n",
    "    for passage in item['search_indices']: # get the list of passages\n",
    "        # for every passage, get the list its corresponding wikipedia article id and split\n",
    "        wiki_id = int(inv_article2passage[passage][0])\n",
    "        wiki_split = passage_wiki_split[passage]\n",
    "        if wiki_split == 'humans_with_faces':\n",
    "            # row_index = h_w_f_ids.index(wiki_id)\n",
    "            # wiki_item = humans_with_faces[row_index]\n",
    "            wiki_item = humans_with_faces[wiki_id]\n",
    "        elif wiki_split == 'humans_without_faces':\n",
    "            # row_index = h_wo_f_ids.index(wiki_id) \n",
    "            # wiki_item == humans_without_faces[row_index]\n",
    "            wiki_item = humans_without_faces[wiki_id]\n",
    "        else:\n",
    "            # row_index = n_h_ids.index(wiki_id)\n",
    "            # wiki_item == non_humans[row_index]\n",
    "            wiki_item = non_humans[wiki_id]\n",
    "\n",
    "        img_list.append(wiki_item['image'])"
   ]
  },
  {
   "cell_type": "code",
   "execution_count": 37,
   "metadata": {},
   "outputs": [
    {
     "data": {
      "text/plain": [
       "(369700, 96560)"
      ]
     },
     "execution_count": 37,
     "metadata": {},
     "output_type": "execute_result"
    }
   ],
   "source": [
    "len(img_list), len(list(set(img_list)))"
   ]
  },
  {
   "cell_type": "code",
   "execution_count": null,
   "metadata": {},
   "outputs": [],
   "source": [
    "img_list[:5]"
   ]
  },
  {
   "cell_type": "code",
   "execution_count": null,
   "metadata": {},
   "outputs": [],
   "source": [
    "entire_dataset_img_list = img_list + train_set['image'] + dev_set['image'] + test_set['image']"
   ]
  },
  {
   "cell_type": "code",
   "execution_count": null,
   "metadata": {},
   "outputs": [],
   "source": [
    "len(entire_dataset_img_list), 1257+1250+1190+369700"
   ]
  },
  {
   "cell_type": "code",
   "execution_count": null,
   "metadata": {},
   "outputs": [],
   "source": [
    "import random\n",
    "random.seed(42)\n",
    "\n",
    "all_img_ids = random.sample(range(100000, 999999), len(list(set(entire_dataset_img_list))))\n",
    "\n",
    "len(entire_dataset_img_list), len(all_img_ids), len(list(set(all_img_ids)))"
   ]
  },
  {
   "cell_type": "code",
   "execution_count": null,
   "metadata": {},
   "outputs": [],
   "source": [
    "all_img_ids_dict = dict(zip(list(set(entire_dataset_img_list)), all_img_ids))"
   ]
  },
  {
   "cell_type": "code",
   "execution_count": null,
   "metadata": {},
   "outputs": [],
   "source": [
    "[all_img_ids_dict[i] for i in img_list[:5]]"
   ]
  },
  {
   "cell_type": "code",
   "execution_count": null,
   "metadata": {},
   "outputs": [],
   "source": [
    "# np.savetxt('data/Commons_image_list.txt', list(set(img_list)), fmt=\"%s\") "
   ]
  },
  {
   "cell_type": "code",
   "execution_count": null,
   "metadata": {},
   "outputs": [],
   "source": [
    "# np.savetxt('data/entire_dataset_image_list.txt', list(set(entire_dataset_img_list)), fmt=\"%s\")"
   ]
  },
  {
   "cell_type": "code",
   "execution_count": null,
   "metadata": {},
   "outputs": [],
   "source": [
    "test_query_img_ids = dict((k, all_img_ids_dict[k]) for k in test_set['image']) # if k in all_img_ids_dict)\n",
    "train_query_img_ids = dict((k, all_img_ids_dict[k]) for k in train_set['image']) # if k in all_img_ids_dict)\n",
    "dev_query_img_ids = dict((k, all_img_ids_dict[k]) for k in dev_set['image']) # if k in all_img_ids_dict)"
   ]
  },
  {
   "cell_type": "code",
   "execution_count": null,
   "metadata": {},
   "outputs": [],
   "source": [
    "#import shutil\n",
    "#src_dir = 'data/Commons'\n",
    "#dst_dir = 'data/local_Commons'\n",
    "\n",
    "#for img in list(set(img_list)):\n",
    "#    shutil.copyfile(src_dir + '/' + img, dst_dir + '/' + img)"
   ]
  },
  {
   "cell_type": "code",
   "execution_count": null,
   "metadata": {
    "scrolled": true
   },
   "outputs": [],
   "source": [
    "#!tar -czvf data/local_Commons.tar.gz data/local_Commons"
   ]
  },
  {
   "cell_type": "code",
   "execution_count": null,
   "metadata": {},
   "outputs": [],
   "source": [
    "def prepare_data_for_rrt(test_set, humans_with_faces,\n",
    "                         humans_without_faces,\n",
    "                         non_humans,\n",
    "                         inv_article2passage,\n",
    "                         passage_wiki_split, \n",
    "                         return_img_list=False):\n",
    "    img_list = []\n",
    "    # for every question, get the list of the top 100 search results\n",
    "    \n",
    "    for item in test_set:\n",
    "        item_relevant_passages = list(set(item['search_indices']) - set(item['search_irrelevant_indices']))\n",
    "\n",
    "        for passage in item['search_indices']: \n",
    "            \n",
    "            # for every passage, get the list its corresponding wikipedia article id and split\n",
    "            wiki_id = int(inv_article2passage[passage][0])\n",
    "            wiki_split = passage_wiki_split[passage]\n",
    "            if wiki_split == 'humans_with_faces':\n",
    "                wiki_item = humans_with_faces[wiki_id]\n",
    "                \n",
    "            elif wiki_split == 'humans_without_faces':\n",
    "                wiki_item = humans_without_faces[wiki_id]\n",
    "                \n",
    "            else:\n",
    "                wiki_item = non_humans[wiki_id]\n",
    "            \n",
    "            img_list.append(wiki_item['image'])"
   ]
  },
  {
   "cell_type": "code",
   "execution_count": null,
   "metadata": {},
   "outputs": [],
   "source": [
    "number_str = str(123)\n",
    "zero_filled_number = number_str.zfill(5)\n",
    "zero_filled_number"
   ]
  },
  {
   "cell_type": "markdown",
   "metadata": {},
   "source": [
    "## Save json files\n",
    "\n",
    "- n_h_article2passage -> data/viquae_wikipedia/non_humans/article2passage.json\n",
    "- inv_n_h_article2passage -> SKIP\n",
    "- h_wo_f_article2passage -> data/viquae_wikipedia/humans_without_faces/article2passage.json\n",
    "- inv_h_wo_f_article2passage -> SKIP\n",
    "- h_w_f_article2passage -> data/viquae_wikipedia/humans_with_faces/article2passage.json\n",
    "- inv_h_w_f_article2passage -> SKIP\n",
    "- inv_article2passage ( -> data/passage2article.json )\n",
    "- h_w_f_passage_split -> SKIP\n",
    "- h_wo_f_passage_split -> SKIP\n",
    "- n_h_passage_split -> SKIP\n",
    "- passage_wiki_split ( -> data/passage_wiki_split.json )\n",
    "- img_ids ( -> data/gallery_img_ids.json )\n",
    "- all_img_ids_dict ( -> data/all_img_ids.json\n",
    "- test_query_img_ids ( -> test_query_img_ids.json )\n",
    "- train_query_img_ids ( -> train_query_img_ids.json )\n",
    "- dev_query_img_ids ( -> dev_query_img_ids.json )"
   ]
  },
  {
   "cell_type": "code",
   "execution_count": null,
   "metadata": {},
   "outputs": [],
   "source": [
    "#with open(\"data/passage2article.json\", \"w\") as outfile:\n",
    "#    json.dump(inv_article2passage, outfile)"
   ]
  },
  {
   "cell_type": "code",
   "execution_count": null,
   "metadata": {},
   "outputs": [],
   "source": [
    "#with open(\"data/passage_wiki_split.json\", \"w\") as outfile:\n",
    "#    json.dump(passage_wiki_split, outfile)"
   ]
  },
  {
   "cell_type": "code",
   "execution_count": null,
   "metadata": {},
   "outputs": [],
   "source": [
    "#with open(\"data/gallery_img_ids.json\", \"w\") as outfile:\n",
    "#    json.dump(img_ids, outfile)"
   ]
  },
  {
   "cell_type": "code",
   "execution_count": null,
   "metadata": {},
   "outputs": [],
   "source": [
    "#with open(\"data/all_img_ids.json\", \"w\") as outfile:\n",
    "#    json.dump(all_img_ids_dict, outfile)"
   ]
  },
  {
   "cell_type": "code",
   "execution_count": null,
   "metadata": {},
   "outputs": [],
   "source": [
    "#with open(\"data/test_query_img_ids.json\", \"w\") as outfile:\n",
    "#    json.dump(test_query_img_ids, outfile)"
   ]
  },
  {
   "cell_type": "code",
   "execution_count": null,
   "metadata": {},
   "outputs": [],
   "source": [
    "#with open(\"data/train_query_img_ids.json\", \"w\") as outfile:\n",
    "#    json.dump(train_query_img_ids, outfile)"
   ]
  },
  {
   "cell_type": "code",
   "execution_count": null,
   "metadata": {},
   "outputs": [],
   "source": [
    "#with open(\"data/dev_query_img_ids.json\", \"w\") as outfile:\n",
    "#    json.dump(dev_query_img_ids, outfile)"
   ]
  }
 ],
 "metadata": {
  "colab": {
   "name": "RRT_ViQuAE_data_preparation.ipynb",
   "provenance": []
  },
  "kernelspec": {
   "display_name": "Python 3",
   "language": "python",
   "name": "python3"
  },
  "language_info": {
   "codemirror_mode": {
    "name": "ipython",
    "version": 3
   },
   "file_extension": ".py",
   "mimetype": "text/x-python",
   "name": "python",
   "nbconvert_exporter": "python",
   "pygments_lexer": "ipython3",
   "version": "3.7.6"
  }
 },
 "nbformat": 4,
 "nbformat_minor": 1
}
