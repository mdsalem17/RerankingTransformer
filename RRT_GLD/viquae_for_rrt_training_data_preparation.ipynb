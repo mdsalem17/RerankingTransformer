{
 "cells": [
  {
   "cell_type": "markdown",
   "metadata": {},
   "source": [
    "# Imports"
   ]
  },
  {
   "cell_type": "code",
   "execution_count": 99,
   "metadata": {},
   "outputs": [],
   "source": [
    "import numpy as np"
   ]
  },
  {
   "cell_type": "code",
   "execution_count": 100,
   "metadata": {},
   "outputs": [],
   "source": [
    "import os\n",
    "import os.path as osp\n",
    "from glob import glob"
   ]
  },
  {
   "cell_type": "code",
   "execution_count": 101,
   "metadata": {},
   "outputs": [],
   "source": [
    "from PIL import Image\n",
    "from copy import deepcopy\n",
    "from sacred import Experiment"
   ]
  },
  {
   "cell_type": "code",
   "execution_count": 102,
   "metadata": {},
   "outputs": [],
   "source": [
    "from utils import pickle_load, pickle_save, json_save, ReadSolution"
   ]
  },
  {
   "cell_type": "code",
   "execution_count": 103,
   "metadata": {},
   "outputs": [],
   "source": [
    "from copy import deepcopy\n",
    "from functools import partial\n",
    "from pprint import pprint\n",
    "import os.path as osp"
   ]
  },
  {
   "cell_type": "code",
   "execution_count": 104,
   "metadata": {},
   "outputs": [],
   "source": [
    "def extract_resolution(data_dir, records, gnd=None, split_char=','):\n",
    "    outs = []\n",
    "    for i in range(len(records)):\n",
    "        entry = records[i]\n",
    "        name, label = entry.split(split_char)\n",
    "        path = osp.join(data_dir, name)\n",
    "        if gnd is not None:\n",
    "            bbx = gnd['gnd'][i]['bbx']\n",
    "            width  = int(bbx[2] - bbx[0] + 1)\n",
    "            height = int(bbx[3] - bbx[1] + 1)\n",
    "        else:\n",
    "            try:\n",
    "                img = Image.open(path)\n",
    "            except Warning:\n",
    "                print('corrupted image:', i, name)\n",
    "            width, height = img.size\n",
    "        line = split_char.join([name, label, str(width), str(height)])\n",
    "        outs.append(line)\n",
    "        if i % 1000 == 0:\n",
    "            print(i)\n",
    "    return outs"
   ]
  },
  {
   "cell_type": "code",
   "execution_count": 105,
   "metadata": {},
   "outputs": [],
   "source": [
    "ex8 = Experiment('Prepare ViQuAE For Training RRT', interactive=True)"
   ]
  },
  {
   "cell_type": "code",
   "execution_count": 106,
   "metadata": {},
   "outputs": [],
   "source": [
    "def read_file(filename):\n",
    "    with open(filename) as f:\n",
    "        lines = f.read().splitlines()\n",
    "    return lines"
   ]
  },
  {
   "cell_type": "code",
   "execution_count": 107,
   "metadata": {},
   "outputs": [],
   "source": [
    "dataset_name = 'viquae_for_rrt'\n",
    "data_dir = osp.join('/mnt/beegfs/home/smessoud/RerankingTransformer/models/research/delf/delf/python/delg/data', dataset_name)"
   ]
  },
  {
   "cell_type": "code",
   "execution_count": 108,
   "metadata": {},
   "outputs": [],
   "source": [
    "feature_name = 'r50_gldv1'\n",
    "set_name = 'train'\n",
    "gnd_name = 'training_gnd_'+ set_name+'.pkl'\n",
    "origin_gnd_name = 'gnd_'+ set_name+'.pkl'"
   ]
  },
  {
   "cell_type": "code",
   "execution_count": 109,
   "metadata": {},
   "outputs": [],
   "source": [
    "gnd_data = pickle_load(osp.join(data_dir, gnd_name))"
   ]
  },
  {
   "cell_type": "code",
   "execution_count": 111,
   "metadata": {
    "scrolled": true
   },
   "outputs": [
    {
     "data": {
      "text/plain": [
       "(13899, 100)"
      ]
     },
     "execution_count": 111,
     "metadata": {},
     "output_type": "execute_result"
    }
   ],
   "source": [
    "np.array(gnd_data['simlist']).shape #, s_categories.reshape(np.array(gnd_data['simlist']).shape).shape"
   ]
  },
  {
   "cell_type": "code",
   "execution_count": 53,
   "metadata": {},
   "outputs": [],
   "source": [
    "def map_nnids_labels(data_dir, gnd_file, s_categories):\n",
    "    gnd = pickle_load(gnd_file)\n",
    "    selection_gallery = gnd['simlist']\n",
    "    s_categories = s_categories.reshape(np.array(selection_gallery).shape)\n",
    "    selection_ids_to_cat_dict = [{k: s_categories[i][k] for k in range(len(selection_gallery[i]))} for i in range(len(selection_gallery))]\n",
    "    \n",
    "    return selection_ids_to_cat_dict"
   ]
  },
  {
   "cell_type": "code",
   "execution_count": 69,
   "metadata": {},
   "outputs": [
    {
     "data": {
      "text/plain": [
       "1071"
      ]
     },
     "execution_count": 69,
     "metadata": {},
     "output_type": "execute_result"
    }
   ],
   "source": [
    "origin_gnd_data = pickle_load(osp.join(data_dir, origin_gnd_name))\n",
    "origin_gnd_gnd = origin_gnd_data['gnd']\n",
    "checksum = np.sum([1 if (len(origin_gnd_gnd[i]['junk']) == 100) else len(origin_gnd_gnd[i]['hard'])+1 for i in range(len(origin_gnd_gnd))])\n",
    "checksum"
   ]
  },
  {
   "cell_type": "code",
   "execution_count": 98,
   "metadata": {},
   "outputs": [
    {
     "data": {
      "text/plain": [
       "24"
      ]
     },
     "execution_count": 98,
     "metadata": {},
     "output_type": "execute_result"
    }
   ],
   "source": [
    "np.sum([1 if (len(origin_gnd_gnd[i]['junk']) == 100) or (len(origin_gnd_gnd[i]['hard']) == 0)  else 0 for i in range(len(origin_gnd_gnd))])"
   ]
  },
  {
   "cell_type": "code",
   "execution_count": 72,
   "metadata": {
    "scrolled": true
   },
   "outputs": [
    {
     "data": {
      "text/plain": [
       "(1071,)"
      ]
     },
     "execution_count": 72,
     "metadata": {},
     "output_type": "execute_result"
    }
   ],
   "source": [
    "selection_ids_to_cat_dict = map_nnids_labels(data_dir, osp.join(data_dir, gnd_name), s_categories)\n",
    "np.array(selection_ids_to_cat_dict).shape"
   ]
  },
  {
   "cell_type": "code",
   "execution_count": 94,
   "metadata": {
    "scrolled": false
   },
   "outputs": [
    {
     "data": {
      "text/plain": [
       "(1,)"
      ]
     },
     "execution_count": 94,
     "metadata": {},
     "output_type": "execute_result"
    }
   ],
   "source": [
    "gnd_data['gnd'][1]['hard'], \n",
    "selection_ids_to_cat_dict[1][16], "
   ]
  },
  {
   "cell_type": "code",
   "execution_count": 37,
   "metadata": {},
   "outputs": [],
   "source": [
    "import random\n",
    "random.seed(42)"
   ]
  },
  {
   "cell_type": "code",
   "execution_count": 38,
   "metadata": {},
   "outputs": [
    {
     "data": {
      "text/plain": [
       "'jpg/512px-Naples_Players_Performance_of_\"42nd_Street\"_in_Blackburn_Hall,_July_2011..jpg;;0'"
      ]
     },
     "execution_count": 38,
     "metadata": {},
     "output_type": "execute_result"
    }
   ],
   "source": [
    "';;'.join([osp.join('jpg', gnd_data['simlist'][0][0]), str(0)])"
   ]
  },
  {
   "cell_type": "code",
   "execution_count": 39,
   "metadata": {},
   "outputs": [
    {
     "data": {
      "text/plain": [
       "dict_keys(['imlist', 'qimlist', 'simlist', 'gnd'])"
      ]
     },
     "execution_count": 39,
     "metadata": {},
     "output_type": "execute_result"
    }
   ],
   "source": [
    "gnd_data.keys()"
   ]
  },
  {
   "cell_type": "code",
   "execution_count": 42,
   "metadata": {},
   "outputs": [
    {
     "data": {
      "text/plain": [
       "1071"
      ]
     },
     "execution_count": 42,
     "metadata": {},
     "output_type": "execute_result"
    }
   ],
   "source": [
    "len(gnd_data['qimlist'])"
   ]
  },
  {
   "cell_type": "code",
   "execution_count": 19,
   "metadata": {},
   "outputs": [],
   "source": [
    "def prepare_gnd_for_rrt_training(data_dir, gnd_file):\n",
    "    count = 0\n",
    "    \n",
    "    gnd = pickle_load(gnd_file)\n",
    "    query_names     = gnd['qimlist']\n",
    "    gallery_names   = gnd['imlist']\n",
    "    selection_gallery = gnd['simlist']\n",
    "    gnd_gnd = gnd['gnd']\n",
    "    \n",
    "    new_gnd = {}\n",
    "    new_gnd['imlist']  = gallery_names\n",
    "    new_gnd['qimlist'] = []\n",
    "    new_gnd['simlist'] = []\n",
    "    new_gnd['gnd'] = []\n",
    "    \n",
    "    categories = []\n",
    "    \n",
    "    for i in range(len(query_names)):\n",
    "        \n",
    "        new_gnd['qimlist'].append(query_names[i])\n",
    "        new_gnd['simlist'].append(selection_gallery[i])\n",
    "        new_gnd['gnd'].append(gnd_gnd[i])\n",
    "        categories.append(i)\n",
    "        count += 1\n",
    "        \n",
    "        if len(gnd_data['gnd'][i]['junk']) == 100:\n",
    "            continue\n",
    "                \n",
    "        for j in gnd_gnd[i]['hard']:\n",
    "            new_query = selection_gallery[i][j]\n",
    "            new_gnd['qimlist'].append(new_query)\n",
    "            categories.append(i)\n",
    "            \n",
    "            new_simlist = selection_gallery[i]\n",
    "            new_simlist[j] = new_query\n",
    "            new_gnd['simlist'].append(new_simlist)\n",
    "            \n",
    "            new_gnd['gnd'].append(gnd_gnd[i])\n",
    "            \n",
    "            count += 1\n",
    "    \n",
    "    return new_gnd, count, categories"
   ]
  },
  {
   "cell_type": "code",
   "execution_count": 20,
   "metadata": {
    "scrolled": true
   },
   "outputs": [],
   "source": [
    "new_gnd, count, categories = prepare_gnd_for_rrt_training(data_dir, osp.join(data_dir, gnd_name))"
   ]
  },
  {
   "cell_type": "code",
   "execution_count": 21,
   "metadata": {},
   "outputs": [
    {
     "data": {
      "text/plain": [
       "(1071, 1071)"
      ]
     },
     "execution_count": 21,
     "metadata": {},
     "output_type": "execute_result"
    }
   ],
   "source": [
    "len(new_gnd['qimlist']), count"
   ]
  },
  {
   "cell_type": "code",
   "execution_count": 22,
   "metadata": {},
   "outputs": [],
   "source": [
    "gnd_name = 'training_gnd_'+ set_name+'.pkl'"
   ]
  },
  {
   "cell_type": "code",
   "execution_count": 23,
   "metadata": {},
   "outputs": [],
   "source": [
    "#pickle_save(osp.join(data_dir, gnd_name), new_gnd)"
   ]
  },
  {
   "cell_type": "code",
   "execution_count": 113,
   "metadata": {},
   "outputs": [
    {
     "data": {
      "text/plain": [
       "1389900"
      ]
     },
     "execution_count": 113,
     "metadata": {},
     "output_type": "execute_result"
    }
   ],
   "source": [
    "len(gnd_data['qimlist'])*100"
   ]
  },
  {
   "cell_type": "code",
   "execution_count": 118,
   "metadata": {},
   "outputs": [
    {
     "data": {
      "text/plain": [
       "1389900"
      ]
     },
     "execution_count": 118,
     "metadata": {},
     "output_type": "execute_result"
    }
   ],
   "source": [
    "len(random.sample(range(len(gnd_data['qimlist']), 5000000), len(gnd_data['qimlist'])*100))"
   ]
  },
  {
   "cell_type": "code",
   "execution_count": 25,
   "metadata": {},
   "outputs": [],
   "source": [
    "def load_viquae_rrt_training(data_dir, gnd_file, categories):\n",
    "    prefix = 'jpg'\n",
    "    gnd = pickle_load(gnd_file)\n",
    "    query_names     = gnd['qimlist']\n",
    "    gallery_names   = gnd['imlist']\n",
    "    selection_gallery = gnd['simlist']\n",
    "    \n",
    "    random.seed(42)\n",
    "    s_cat_list = random.sample(range(len(gnd['qimlist']), 500000), len(gnd['qimlist'])*100)\n",
    "    \n",
    "    outs = []\n",
    "    q_categories = []\n",
    "    s_categories = []\n",
    "    for i in range(len(query_names)):\n",
    "        q_cat = categories[i]\n",
    "        q_categories.append(q_cat)\n",
    "        outs.append(';;'.join([osp.join(prefix, query_names[i]), str(q_cat)]))\n",
    "        for j in range(100):\n",
    "            if j in gnd['gnd'][i]['hard']:\n",
    "                s_categories.append(i)\n",
    "                outs.append(';;'.join([osp.join(prefix, selection_gallery[i][j]), str(q_cat)]))\n",
    "            else:\n",
    "                cat = s_cat_list.pop(0)\n",
    "                s_categories.append(cat)\n",
    "                outs.append(';;'.join([osp.join(prefix, selection_gallery[i][j]), str(cat)]))\n",
    "    \n",
    "    return outs, np.stack(q_categories, axis=0), np.stack(s_categories, axis=0)"
   ]
  },
  {
   "cell_type": "code",
   "execution_count": 27,
   "metadata": {},
   "outputs": [],
   "source": [
    "train, q_categories, s_categories = load_viquae_rrt_training(data_dir, osp.join(data_dir, gnd_name), categories)"
   ]
  },
  {
   "cell_type": "code",
   "execution_count": 28,
   "metadata": {},
   "outputs": [
    {
     "data": {
      "text/plain": [
       "((1071,), (107100,), 108171, 126957)"
      ]
     },
     "execution_count": 28,
     "metadata": {},
     "output_type": "execute_result"
    }
   ],
   "source": [
    "q_categories.shape, s_categories.shape, len(train), 125700+1257"
   ]
  },
  {
   "cell_type": "code",
   "execution_count": 77,
   "metadata": {},
   "outputs": [
    {
     "data": {
      "text/plain": [
       "dtype('int64')"
      ]
     },
     "execution_count": 77,
     "metadata": {},
     "output_type": "execute_result"
    }
   ],
   "source": [
    "s_categories.dtype"
   ]
  },
  {
   "cell_type": "code",
   "execution_count": 89,
   "metadata": {},
   "outputs": [],
   "source": [
    "np.savetxt(data_dir+'/tuto_s_categories.txt', s_categories, fmt='%i')"
   ]
  },
  {
   "cell_type": "code",
   "execution_count": 92,
   "metadata": {},
   "outputs": [
    {
     "data": {
      "text/plain": [
       "dtype('int64')"
      ]
     },
     "execution_count": 92,
     "metadata": {},
     "output_type": "execute_result"
    }
   ],
   "source": [
    "ss_categories = np.loadtxt(data_dir+'/tuto_s_categories.txt', dtype='int64')\n",
    "ss_categories.dtype"
   ]
  },
  {
   "cell_type": "code",
   "execution_count": null,
   "metadata": {},
   "outputs": [],
   "source": [
    "j = 44\n",
    "train[1:101][j], gnd_data['simlist'][0][j], s_categories[j]"
   ]
  },
  {
   "cell_type": "code",
   "execution_count": null,
   "metadata": {},
   "outputs": [],
   "source": [
    "@ex8.config\n",
    "def config():\n",
    "    data = '/mnt/beegfs/home/smessoud/RerankingTransformer/models/research/delf/delf/python/delg/data'\n",
    "    data_dir   = osp.join(data, 'viquae_for_rrt')\n",
    "    #data_dir   = osp.join('data', 'viquae_for_rrt')\n",
    "    train_file  = 'tuto.txt'\n",
    "    gnd_file   = 'gnd_tuto.pkl'\n",
    "    require_resolution = True\n",
    "\n",
    "@ex8.main\n",
    "def generate_train_viquae(data_dir, train_file, gnd_file, require_resolution):\n",
    "    train_file  = osp.join(data_dir, train_file)\n",
    "    gnd_file   = osp.join(data_dir, gnd_file)\n",
    "    train, _, _ = load_viquae_rrt_training(data_dir, gnd_file, categories)\n",
    "    gnd = pickle_load(gnd_file)\n",
    "\n",
    "    if require_resolution:\n",
    "        train  = extract_resolution(data_dir, train, split_char=';;')\n",
    "\n",
    "    with open(train_file, 'w') as f:\n",
    "        f.write('\\n'.join(train))"
   ]
  },
  {
   "cell_type": "code",
   "execution_count": null,
   "metadata": {
    "scrolled": true
   },
   "outputs": [],
   "source": [
    "ex8.run()"
   ]
  },
  {
   "cell_type": "code",
   "execution_count": null,
   "metadata": {},
   "outputs": [],
   "source": []
  },
  {
   "cell_type": "code",
   "execution_count": null,
   "metadata": {},
   "outputs": [],
   "source": []
  },
  {
   "cell_type": "code",
   "execution_count": null,
   "metadata": {},
   "outputs": [],
   "source": []
  },
  {
   "cell_type": "code",
   "execution_count": null,
   "metadata": {},
   "outputs": [],
   "source": []
  },
  {
   "cell_type": "code",
   "execution_count": null,
   "metadata": {},
   "outputs": [],
   "source": []
  },
  {
   "cell_type": "code",
   "execution_count": null,
   "metadata": {},
   "outputs": [],
   "source": []
  },
  {
   "cell_type": "code",
   "execution_count": null,
   "metadata": {},
   "outputs": [],
   "source": []
  },
  {
   "cell_type": "code",
   "execution_count": null,
   "metadata": {},
   "outputs": [],
   "source": [
    "import sacred\n",
    "import torch\n",
    "import torch.nn as nn\n",
    "from sacred import SETTINGS\n",
    "from sacred.utils import apply_backspaces_and_linefeeds\n",
    "from torch.backends import cudnn"
   ]
  },
  {
   "cell_type": "code",
   "execution_count": null,
   "metadata": {},
   "outputs": [],
   "source": [
    "from torch.utils.data import DataLoader, RandomSampler, BatchSampler\n",
    "from typing import NamedTuple, Optional"
   ]
  },
  {
   "cell_type": "code",
   "execution_count": null,
   "metadata": {},
   "outputs": [],
   "source": [
    "from models.matcher import MatchERT\n",
    "from sacred import Ingredient"
   ]
  },
  {
   "cell_type": "code",
   "execution_count": null,
   "metadata": {},
   "outputs": [],
   "source": [
    "from models.ingredient import model_ingredient, get_model\n",
    "from utils.data.dataset_ingredient import data_ingredient, get_loaders\n",
    "from utils.data.dataset import FeatureDataset\n",
    "# from utils.training import evaluate_time as evaluate\n",
    "from utils.training import evaluate\n",
    "ex = sacred.Experiment('RRT Evaluation', ingredients=[data_ingredient, model_ingredient], interactive=True)"
   ]
  },
  {
   "cell_type": "code",
   "execution_count": null,
   "metadata": {},
   "outputs": [],
   "source": [
    "use_aqe = False\n",
    "aqe_params = {'k': 2, 'alpha': 0.3}\n",
    "\n",
    "save_nn_inds = True"
   ]
  },
  {
   "cell_type": "code",
   "execution_count": null,
   "metadata": {},
   "outputs": [],
   "source": [
    "# Filter backspaces and linefeeds\n",
    "SETTINGS.CAPTURE_MODE = 'sys'\n",
    "ex.captured_out_filter = apply_backspaces_and_linefeeds"
   ]
  },
  {
   "cell_type": "code",
   "execution_count": null,
   "metadata": {},
   "outputs": [],
   "source": [
    "cpu = False  # Force training on CPU\n",
    "cudnn_flag = 'benchmark'\n",
    "temp_dir = osp.join('logs', 'temp')\n",
    "resume = None\n",
    "resume = '/mnt/beegfs/home/smessoud/RerankingTransformer/RRT_GLD/rrt_gld_ckpts/r50_gldv1.pt'\n",
    "seed = 0"
   ]
  },
  {
   "cell_type": "code",
   "execution_count": null,
   "metadata": {},
   "outputs": [],
   "source": [
    "device = torch.device('cuda:0' if torch.cuda.is_available() and not cpu else 'cpu')\n",
    "torch.manual_seed(seed)"
   ]
  },
  {
   "cell_type": "code",
   "execution_count": null,
   "metadata": {},
   "outputs": [],
   "source": [
    "gnd_data.keys(), np.stack(gnd_data['simlist'], axis=0)[0]"
   ]
  },
  {
   "cell_type": "code",
   "execution_count": null,
   "metadata": {},
   "outputs": [],
   "source": [
    "np.stack(gnd_data['simlist'], axis=0).shape"
   ]
  }
 ],
 "metadata": {
  "kernelspec": {
   "display_name": "Python 3",
   "language": "python",
   "name": "python3"
  },
  "language_info": {
   "codemirror_mode": {
    "name": "ipython",
    "version": 3
   },
   "file_extension": ".py",
   "mimetype": "text/x-python",
   "name": "python",
   "nbconvert_exporter": "python",
   "pygments_lexer": "ipython3",
   "version": "3.7.6"
  }
 },
 "nbformat": 4,
 "nbformat_minor": 4
}
