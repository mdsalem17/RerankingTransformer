{
 "cells": [
  {
   "cell_type": "markdown",
   "metadata": {},
   "source": [
    "# Imports"
   ]
  },
  {
   "cell_type": "code",
   "execution_count": 1,
   "metadata": {},
   "outputs": [],
   "source": [
    "import numpy as np"
   ]
  },
  {
   "cell_type": "code",
   "execution_count": 2,
   "metadata": {},
   "outputs": [],
   "source": [
    "import os\n",
    "import os.path as osp\n",
    "from glob import glob"
   ]
  },
  {
   "cell_type": "code",
   "execution_count": 3,
   "metadata": {},
   "outputs": [],
   "source": [
    "from PIL import Image\n",
    "from copy import deepcopy\n",
    "from sacred import Experiment"
   ]
  },
  {
   "cell_type": "code",
   "execution_count": 4,
   "metadata": {},
   "outputs": [],
   "source": [
    "from utils import pickle_load, pickle_save, json_save, ReadSolution"
   ]
  },
  {
   "cell_type": "code",
   "execution_count": 5,
   "metadata": {},
   "outputs": [],
   "source": [
    "from copy import deepcopy\n",
    "from functools import partial\n",
    "from pprint import pprint\n",
    "import os.path as osp"
   ]
  },
  {
   "cell_type": "code",
   "execution_count": 6,
   "metadata": {},
   "outputs": [],
   "source": [
    "def extract_resolution(data_dir, records, gnd=None, split_char=','):\n",
    "    outs = []\n",
    "    for i in range(len(records)):\n",
    "        entry = records[i]\n",
    "        name, label = entry.split(split_char)\n",
    "        path = osp.join(data_dir, name)\n",
    "        if gnd is not None:\n",
    "            bbx = gnd['gnd'][i]['bbx']\n",
    "            width  = int(bbx[2] - bbx[0] + 1)\n",
    "            height = int(bbx[3] - bbx[1] + 1)\n",
    "        else:\n",
    "            try:\n",
    "                img = Image.open(path)\n",
    "            except Warning:\n",
    "                print('corrupted image:', i, name)\n",
    "            width, height = img.size\n",
    "        line = split_char.join([name, label, str(width), str(height)])\n",
    "        outs.append(line)\n",
    "        if i % 1000 == 0:\n",
    "            print(i)\n",
    "    return outs"
   ]
  },
  {
   "cell_type": "code",
   "execution_count": 7,
   "metadata": {},
   "outputs": [],
   "source": [
    "ex8 = Experiment('Prepare ViQuAE For Training RRT', interactive=True)"
   ]
  },
  {
   "cell_type": "code",
   "execution_count": 8,
   "metadata": {},
   "outputs": [],
   "source": [
    "def read_file(filename):\n",
    "    with open(filename) as f:\n",
    "        lines = f.read().splitlines()\n",
    "    return lines"
   ]
  },
  {
   "cell_type": "code",
   "execution_count": 9,
   "metadata": {},
   "outputs": [],
   "source": [
    "dataset_name = 'viquae_for_rrt'\n",
    "data_dir = osp.join('/mnt/beegfs/home/smessoud/RerankingTransformer/models/research/delf/delf/python/delg/data', dataset_name)"
   ]
  },
  {
   "cell_type": "code",
   "execution_count": 10,
   "metadata": {},
   "outputs": [],
   "source": [
    "feature_name = 'r50_gldv1'\n",
    "set_name = 'tuto'\n",
    "gnd_name = 'gnd_'+ set_name+'.pkl'"
   ]
  },
  {
   "cell_type": "code",
   "execution_count": 11,
   "metadata": {},
   "outputs": [],
   "source": [
    "gnd_data = pickle_load(osp.join(data_dir, gnd_name))"
   ]
  },
  {
   "cell_type": "code",
   "execution_count": 12,
   "metadata": {},
   "outputs": [
    {
     "data": {
      "text/plain": [
       "[84, 42, 28, 24, 29, 83, 0]"
      ]
     },
     "execution_count": 12,
     "metadata": {},
     "output_type": "execute_result"
    }
   ],
   "source": [
    "gnd_data['gnd'][3]['hard']"
   ]
  },
  {
   "cell_type": "code",
   "execution_count": 13,
   "metadata": {},
   "outputs": [],
   "source": [
    "import random\n",
    "random.seed(42)"
   ]
  },
  {
   "cell_type": "code",
   "execution_count": 14,
   "metadata": {},
   "outputs": [
    {
     "data": {
      "text/plain": [
       "'jpg/512px-Naples_Players_Performance_of_\"42nd_Street\"_in_Blackburn_Hall,_July_2011..jpg;;0'"
      ]
     },
     "execution_count": 14,
     "metadata": {},
     "output_type": "execute_result"
    }
   ],
   "source": [
    "';;'.join([osp.join('jpg', gnd_data['simlist'][0][0]), str(0)])"
   ]
  },
  {
   "cell_type": "code",
   "execution_count": 15,
   "metadata": {},
   "outputs": [
    {
     "data": {
      "text/plain": [
       "dict_keys(['qimlist', 'imlist', 'simlist', 'gnd'])"
      ]
     },
     "execution_count": 15,
     "metadata": {},
     "output_type": "execute_result"
    }
   ],
   "source": [
    "gnd_data.keys()"
   ]
  },
  {
   "cell_type": "code",
   "execution_count": 16,
   "metadata": {},
   "outputs": [
    {
     "data": {
      "text/plain": [
       "100"
      ]
     },
     "execution_count": 16,
     "metadata": {},
     "output_type": "execute_result"
    }
   ],
   "source": [
    "len(gnd_data['gnd'][7]['junk'])"
   ]
  },
  {
   "cell_type": "code",
   "execution_count": 17,
   "metadata": {},
   "outputs": [],
   "source": [
    "def prepare_gnd_for_rrt_training(data_dir, gnd_file):\n",
    "    count = 0\n",
    "    \n",
    "    gnd = pickle_load(gnd_file)\n",
    "    query_names     = gnd['qimlist']\n",
    "    gallery_names   = gnd['imlist']\n",
    "    selection_gallery = gnd['simlist']\n",
    "    gnd_gnd = gnd['gnd']\n",
    "    \n",
    "    new_gnd = {}\n",
    "    new_gnd['imlist']  = gallery_names\n",
    "    new_gnd['qimlist'] = []\n",
    "    new_gnd['simlist'] = []\n",
    "    new_gnd['gnd'] = []\n",
    "    \n",
    "    categories = []\n",
    "    \n",
    "    for i in range(len(query_names)):\n",
    "        \n",
    "        new_gnd['qimlist'].append(query_names[i])\n",
    "        new_gnd['simlist'].append(selection_gallery[i])\n",
    "        new_gnd['gnd'].append(gnd_gnd[i])\n",
    "        categories.append(i)\n",
    "        count += 1\n",
    "        \n",
    "        if len(gnd_data['gnd'][i]['junk']) == 100:\n",
    "            continue\n",
    "                \n",
    "        for j in gnd_gnd[i]['hard']:\n",
    "            new_query = selection_gallery[i][j]\n",
    "            new_gnd['qimlist'].append(new_query)\n",
    "            categories.append(i)\n",
    "            \n",
    "            new_simlist = selection_gallery[i]\n",
    "            new_simlist[j] = new_query\n",
    "            new_gnd['simlist'].append(new_simlist)\n",
    "            \n",
    "            new_gnd['gnd'].append(gnd_gnd[i])\n",
    "            \n",
    "            count += 1\n",
    "    \n",
    "    return new_gnd, count, categories"
   ]
  },
  {
   "cell_type": "code",
   "execution_count": 18,
   "metadata": {
    "scrolled": true
   },
   "outputs": [],
   "source": [
    "new_gnd, count, categories = prepare_gnd_for_rrt_training(data_dir, osp.join(data_dir, gnd_name))"
   ]
  },
  {
   "cell_type": "code",
   "execution_count": 19,
   "metadata": {},
   "outputs": [],
   "source": [
    "gnd_name = 'training_gnd_'+ set_name+'.pkl'"
   ]
  },
  {
   "cell_type": "code",
   "execution_count": 20,
   "metadata": {},
   "outputs": [],
   "source": [
    "pickle_save(osp.join(data_dir, gnd_name), new_gnd)"
   ]
  },
  {
   "cell_type": "code",
   "execution_count": 21,
   "metadata": {},
   "outputs": [
    {
     "data": {
      "text/plain": [
       "10000"
      ]
     },
     "execution_count": 21,
     "metadata": {},
     "output_type": "execute_result"
    }
   ],
   "source": [
    "len(random.sample(range(len(gnd_data['qimlist']), 500000), len(gnd_data['qimlist'])*100))"
   ]
  },
  {
   "cell_type": "code",
   "execution_count": 22,
   "metadata": {},
   "outputs": [],
   "source": [
    "def load_viquae_rrt_training(data_dir, gnd_file, categories):\n",
    "    prefix = 'jpg'\n",
    "    gnd = pickle_load(gnd_file)\n",
    "    query_names     = gnd['qimlist']\n",
    "    gallery_names   = gnd['imlist']\n",
    "    selection_gallery = gnd['simlist']\n",
    "    \n",
    "    random.seed(42)\n",
    "    s_cat_list = random.sample(range(len(gnd['qimlist']), 500000), len(gnd['qimlist'])*100)\n",
    "    \n",
    "    outs = []\n",
    "    q_categories = []\n",
    "    s_categories = []\n",
    "    for i in range(len(query_names)):\n",
    "        q_cat = categories[i]\n",
    "        q_categories.append(q_cat)\n",
    "        outs.append(';;'.join([osp.join(prefix, query_names[i]), str(q_cat)]))\n",
    "        for j in range(100):\n",
    "            if j in gnd['gnd'][i]['hard']:\n",
    "                s_categories.append(i)\n",
    "                outs.append(';;'.join([osp.join(prefix, selection_gallery[i][j]), str(q_cat)]))\n",
    "            else:\n",
    "                cat = s_cat_list.pop(0)\n",
    "                s_categories.append(cat)\n",
    "                outs.append(';;'.join([osp.join(prefix, selection_gallery[i][j]), str(cat)]))\n",
    "    \n",
    "    return outs, np.stack(q_categories, axis=0), np.stack(s_categories, axis=0)"
   ]
  },
  {
   "cell_type": "code",
   "execution_count": 23,
   "metadata": {},
   "outputs": [],
   "source": [
    "train, q_categories, s_categories = load_viquae_rrt_training(data_dir, osp.join(data_dir, gnd_name), categories)"
   ]
  },
  {
   "cell_type": "code",
   "execution_count": 24,
   "metadata": {},
   "outputs": [
    {
     "data": {
      "text/plain": [
       "((1071,), (107100,), 108171, 126957)"
      ]
     },
     "execution_count": 24,
     "metadata": {},
     "output_type": "execute_result"
    }
   ],
   "source": [
    "q_categories.shape, s_categories.shape, len(train), 125700+1257"
   ]
  },
  {
   "cell_type": "code",
   "execution_count": 25,
   "metadata": {},
   "outputs": [
    {
     "data": {
      "text/plain": [
       "('jpg/512px-Becky_Gulsvig.jpg;;179460', '512px-Becky_Gulsvig.jpg', 179460)"
      ]
     },
     "execution_count": 25,
     "metadata": {},
     "output_type": "execute_result"
    }
   ],
   "source": [
    "j = 44\n",
    "train[1:101][j], gnd_data['simlist'][0][j], s_categories[j]"
   ]
  },
  {
   "cell_type": "code",
   "execution_count": 26,
   "metadata": {},
   "outputs": [],
   "source": [
    "@ex8.config\n",
    "def config():\n",
    "    data = '/mnt/beegfs/home/smessoud/RerankingTransformer/models/research/delf/delf/python/delg/data'\n",
    "    data_dir   = osp.join(data, 'viquae_for_rrt')\n",
    "    #data_dir   = osp.join('data', 'viquae_for_rrt')\n",
    "    train_file  = 'tuto.txt'\n",
    "    gnd_file   = 'gnd_tuto.pkl'\n",
    "    require_resolution = True\n",
    "\n",
    "@ex8.main\n",
    "def generate_train_viquae(data_dir, train_file, gnd_file, require_resolution):\n",
    "    train_file  = osp.join(data_dir, train_file)\n",
    "    gnd_file   = osp.join(data_dir, gnd_file)\n",
    "    train, _, _ = load_viquae_rrt_training(data_dir, gnd_file, categories)\n",
    "    gnd = pickle_load(gnd_file)\n",
    "\n",
    "    if require_resolution:\n",
    "        train  = extract_resolution(data_dir, train, split_char=';;')\n",
    "\n",
    "    with open(train_file, 'w') as f:\n",
    "        f.write('\\n'.join(train))"
   ]
  },
  {
   "cell_type": "code",
   "execution_count": 27,
   "metadata": {
    "scrolled": true
   },
   "outputs": [
    {
     "name": "stderr",
     "output_type": "stream",
     "text": [
      "WARNING - Prepare ViQuAE For Training RRT - No observers have been added to this run\n",
      "INFO - Prepare ViQuAE For Training RRT - Running command 'generate_train_viquae'\n",
      "INFO - Prepare ViQuAE For Training RRT - Started\n"
     ]
    },
    {
     "name": "stdout",
     "output_type": "stream",
     "text": [
      "0\n",
      "1000\n",
      "2000\n",
      "3000\n",
      "4000\n",
      "5000\n",
      "6000\n",
      "7000\n",
      "8000\n",
      "9000\n"
     ]
    },
    {
     "name": "stderr",
     "output_type": "stream",
     "text": [
      "INFO - Prepare ViQuAE For Training RRT - Completed after 0:00:07\n"
     ]
    },
    {
     "name": "stdout",
     "output_type": "stream",
     "text": [
      "10000\n"
     ]
    },
    {
     "data": {
      "text/plain": [
       "<sacred.run.Run at 0x7efc381d13d0>"
      ]
     },
     "execution_count": 27,
     "metadata": {},
     "output_type": "execute_result"
    }
   ],
   "source": [
    "ex8.run()"
   ]
  },
  {
   "cell_type": "code",
   "execution_count": null,
   "metadata": {},
   "outputs": [],
   "source": []
  },
  {
   "cell_type": "code",
   "execution_count": null,
   "metadata": {},
   "outputs": [],
   "source": []
  },
  {
   "cell_type": "code",
   "execution_count": null,
   "metadata": {},
   "outputs": [],
   "source": []
  },
  {
   "cell_type": "code",
   "execution_count": null,
   "metadata": {},
   "outputs": [],
   "source": []
  },
  {
   "cell_type": "code",
   "execution_count": null,
   "metadata": {},
   "outputs": [],
   "source": []
  },
  {
   "cell_type": "code",
   "execution_count": null,
   "metadata": {},
   "outputs": [],
   "source": []
  },
  {
   "cell_type": "code",
   "execution_count": null,
   "metadata": {},
   "outputs": [],
   "source": []
  },
  {
   "cell_type": "code",
   "execution_count": 28,
   "metadata": {},
   "outputs": [],
   "source": [
    "import sacred\n",
    "import torch\n",
    "import torch.nn as nn\n",
    "from sacred import SETTINGS\n",
    "from sacred.utils import apply_backspaces_and_linefeeds\n",
    "from torch.backends import cudnn"
   ]
  },
  {
   "cell_type": "code",
   "execution_count": 29,
   "metadata": {},
   "outputs": [],
   "source": [
    "from torch.utils.data import DataLoader, RandomSampler, BatchSampler\n",
    "from typing import NamedTuple, Optional"
   ]
  },
  {
   "cell_type": "code",
   "execution_count": 30,
   "metadata": {},
   "outputs": [],
   "source": [
    "from models.matcher import MatchERT\n",
    "from sacred import Ingredient"
   ]
  },
  {
   "cell_type": "code",
   "execution_count": 31,
   "metadata": {},
   "outputs": [
    {
     "name": "stderr",
     "output_type": "stream",
     "text": [
      "/mnt/beegfs/home/smessoud/anaconda3/envs/rrt/lib/python3.7/site-packages/ranx/qrels_run_common.py:7: UserWarning: Sorting disabled. Assumes that you provided sorted doc_ids!\n",
      "  warnings.warn(\"Sorting disabled. Assumes that you provided sorted doc_ids!\")\n"
     ]
    }
   ],
   "source": [
    "from models.ingredient import model_ingredient, get_model\n",
    "from utils.data.dataset_ingredient import data_ingredient, get_loaders\n",
    "from utils.data.dataset import FeatureDataset\n",
    "# from utils.training import evaluate_time as evaluate\n",
    "from utils.training import evaluate\n",
    "ex = sacred.Experiment('RRT Evaluation', ingredients=[data_ingredient, model_ingredient], interactive=True)"
   ]
  },
  {
   "cell_type": "code",
   "execution_count": 32,
   "metadata": {},
   "outputs": [],
   "source": [
    "use_aqe = False\n",
    "aqe_params = {'k': 2, 'alpha': 0.3}\n",
    "\n",
    "save_nn_inds = True"
   ]
  },
  {
   "cell_type": "code",
   "execution_count": 33,
   "metadata": {},
   "outputs": [],
   "source": [
    "# Filter backspaces and linefeeds\n",
    "SETTINGS.CAPTURE_MODE = 'sys'\n",
    "ex.captured_out_filter = apply_backspaces_and_linefeeds"
   ]
  },
  {
   "cell_type": "code",
   "execution_count": 34,
   "metadata": {},
   "outputs": [],
   "source": [
    "cpu = False  # Force training on CPU\n",
    "cudnn_flag = 'benchmark'\n",
    "temp_dir = osp.join('logs', 'temp')\n",
    "resume = None\n",
    "resume = '/mnt/beegfs/home/smessoud/RerankingTransformer/RRT_GLD/rrt_gld_ckpts/r50_gldv1.pt'\n",
    "seed = 0"
   ]
  },
  {
   "cell_type": "code",
   "execution_count": 35,
   "metadata": {},
   "outputs": [
    {
     "data": {
      "text/plain": [
       "<torch._C.Generator at 0x7efbaf645550>"
      ]
     },
     "execution_count": 35,
     "metadata": {},
     "output_type": "execute_result"
    }
   ],
   "source": [
    "device = torch.device('cuda:0' if torch.cuda.is_available() and not cpu else 'cpu')\n",
    "torch.manual_seed(seed)"
   ]
  },
  {
   "cell_type": "code",
   "execution_count": 36,
   "metadata": {},
   "outputs": [
    {
     "data": {
      "text/plain": [
       "(dict_keys(['qimlist', 'imlist', 'simlist', 'gnd']),\n",
       " array(['512px-Naples_Players_Performance_of_\"42nd_Street\"_in_Blackburn_Hall,_July_2011..jpg',\n",
       "        '512px-MatildaNightShubertsign.JPG',\n",
       "        '512px-MatildaNightShubertsign.JPG', '512px-Chicago3_(MdB).jpg',\n",
       "        '512px-Chicago3_(MdB).jpg', '512px-Helen_Westley.jpg',\n",
       "        '512px-Laurie_Beechman_1984.jpg', '512px-Laurie_Beechman_1984.jpg',\n",
       "        '512px-Ernani_Libretto_1859.jpg', '512px-JLT2017.jpg',\n",
       "        '512px-Andrea_McArdle_Reid_Shelton_Annie_1977.JPG',\n",
       "        '512px-Hairspray_the_Musical_2012_Aberystwyth_Arts_Centre_Summer_Season_production_poster.png',\n",
       "        '512px-Hairspray_the_Musical_2012_Aberystwyth_Arts_Centre_Summer_Season_production_poster.png',\n",
       "        '512px-Hairspray_the_Musical_2012_Aberystwyth_Arts_Centre_Summer_Season_production_poster.png',\n",
       "        '512px-Hairspray_the_Musical_2012_Aberystwyth_Arts_Centre_Summer_Season_production_poster.png',\n",
       "        '512px-Hairspray_the_Musical_2012_Aberystwyth_Arts_Centre_Summer_Season_production_poster.png',\n",
       "        '512px-Hairspray_the_Musical_2012_Aberystwyth_Arts_Centre_Summer_Season_production_poster.png',\n",
       "        '512px-Hairspray_the_Musical_2012_Aberystwyth_Arts_Centre_Summer_Season_production_poster.png',\n",
       "        '512px-Hairspray_the_Musical_2012_Aberystwyth_Arts_Centre_Summer_Season_production_poster.png',\n",
       "        '512px-Hairspray_the_Musical_2012_Aberystwyth_Arts_Centre_Summer_Season_production_poster.png',\n",
       "        '512px-Hairspray_the_Musical_2012_Aberystwyth_Arts_Centre_Summer_Season_production_poster.png',\n",
       "        '512px-Hairspray_the_Musical_2012_Aberystwyth_Arts_Centre_Summer_Season_production_poster.png',\n",
       "        '512px-Hairspray_the_Musical_2012_Aberystwyth_Arts_Centre_Summer_Season_production_poster.png',\n",
       "        '512px-Hairspray_the_Musical_2012_Aberystwyth_Arts_Centre_Summer_Season_production_poster.png',\n",
       "        '512px-Shinyoungsook.jpg', '512px-Jane_Porter.jpg',\n",
       "        '512px-Jane_Porter.jpg', '512px-South_Pacific_scene.jpg',\n",
       "        '512px-Alice_Ghostley_Cousin_Alice_Mayberry_RFD_1970.JPG',\n",
       "        '512px-Delrae_Knutson_as_Eliza_Doolittle_c1986.jpg',\n",
       "        '512px-Dorothy_Loudon.jpg', '512px-Jellia_Jamb.jpg',\n",
       "        '512px-Colette_Renard_(1961).jpg', '512px-Use_of_Wondering.jpg',\n",
       "        '512px-Use_of_Wondering.jpg', '512px-Use_of_Wondering.jpg',\n",
       "        '512px-Use_of_Wondering.jpg', '512px-Use_of_Wondering.jpg',\n",
       "        '512px-Use_of_Wondering.jpg', '512px-Use_of_Wondering.jpg',\n",
       "        '512px-Use_of_Wondering.jpg',\n",
       "        '512px-Recent_headshot_of_Marsiya_Vlad_-_2013-07-09_07-48.jpg',\n",
       "        '512px-Stephen_Oremus_and_Stephanie_J_Block.jpg',\n",
       "        '512px-Alexander_Mann_-_Soubrette.jpg', '512px-Becky_Gulsvig.jpg',\n",
       "        '512px-Clara_Blandick.jpg', '512px-Geritol_tonic.jpg',\n",
       "        '512px-The_Sound_of_Music_Christopher_Plummer_and_Julie_Andrews.jpg',\n",
       "        '512px-Apollo_Victoria_Theatre.jpg',\n",
       "        '512px-Apollo_Victoria_Theatre.jpg',\n",
       "        '512px-Apollo_Victoria_Theatre.jpg',\n",
       "        '512px-Apollo_Victoria_Theatre.jpg',\n",
       "        '512px-Apollo_Victoria_Theatre.jpg',\n",
       "        '512px-Apollo_Victoria_Theatre.jpg',\n",
       "        '512px-Apollo_Victoria_Theatre.jpg',\n",
       "        '512px-Apollo_Victoria_Theatre.jpg',\n",
       "        '512px-Apollo_Victoria_Theatre.jpg',\n",
       "        '512px-Apollo_Victoria_Theatre.jpg',\n",
       "        '512px-Apollo_Victoria_Theatre.jpg',\n",
       "        '512px-Apollo_Victoria_Theatre.jpg',\n",
       "        '512px-Apollo_Victoria_Theatre.jpg',\n",
       "        '512px-Apollo_Victoria_Theatre.jpg',\n",
       "        '512px-Apollo_Victoria_Theatre.jpg',\n",
       "        '512px-Apollo_Victoria_Theatre.jpg',\n",
       "        '512px-Apollo_Victoria_Theatre.jpg',\n",
       "        '512px-Guys_and_Dolls_(1978).jpg',\n",
       "        '512px-Stephanie_Kurtzuba_at_the_premiere_of_Bad_Education_(48810498807).jpg',\n",
       "        \"512px-Hurlbert_at_Joe's_Pub_in_2010..jpg\",\n",
       "        '512px-Stuart_Damon_Lesley_Ann_Warren_Cinderella.jpg',\n",
       "        '512px-Glinda.png', '512px-Glinda.png',\n",
       "        '512px-Silvi_Vrait_1989.jpg', '512px-Patty_Duke_1975.JPG',\n",
       "        '512px-Hereford_High_School_(Parkton,_Maryland).jpg',\n",
       "        '512px-LauraBellBundyApr10.jpg', '512px-Eartha_Kitt_2007.jpg',\n",
       "        '512px-Margaret_Hamilton_1966.jpg', '512px-EstherSummerson.jpg',\n",
       "        '512px-EstherSummerson.jpg', '512px-EstherSummerson.jpg',\n",
       "        '512px-EstherSummerson.jpg', '512px-EstherSummerson.jpg',\n",
       "        '512px-EstherSummerson.jpg', '512px-EstherSummerson.jpg',\n",
       "        '512px-EstherSummerson.jpg', '512px-Beauty_and_Beast.jpg',\n",
       "        '512px-Beauty_and_Beast.jpg', '512px-Beauty_and_Beast.jpg',\n",
       "        '512px-Beauty_and_Beast.jpg', '512px-Beauty_and_Beast.jpg',\n",
       "        '512px-Beauty_and_Beast.jpg', '512px-Beauty_and_Beast.jpg',\n",
       "        '512px-Beauty_and_Beast.jpg', '512px-Beauty_and_Beast.jpg',\n",
       "        '512px-Beauty_and_Beast.jpg', '512px-Beauty_and_Beast.jpg',\n",
       "        '512px-Savannah_Wise_2008_off-Broadway_Rock_of_Ages.jpg',\n",
       "        '512px-Mary_Poppins_Returns_Logo_Black.svg.png',\n",
       "        '512px-Miss_Alice_May_H6724_(cropped).jpg',\n",
       "        '512px-Grupo_Rouge_no_Lady_Night_com_Tatá_Werneck_03.jpg'],\n",
       "       dtype='<U196'))"
      ]
     },
     "execution_count": 36,
     "metadata": {},
     "output_type": "execute_result"
    }
   ],
   "source": [
    "gnd_data.keys(), np.stack(gnd_data['simlist'], axis=0)[0]"
   ]
  },
  {
   "cell_type": "code",
   "execution_count": 37,
   "metadata": {},
   "outputs": [
    {
     "data": {
      "text/plain": [
       "(100, 100)"
      ]
     },
     "execution_count": 37,
     "metadata": {},
     "output_type": "execute_result"
    }
   ],
   "source": [
    "np.stack(gnd_data['simlist'], axis=0).shape"
   ]
  }
 ],
 "metadata": {
  "kernelspec": {
   "display_name": "Python 3",
   "language": "python",
   "name": "python3"
  },
  "language_info": {
   "codemirror_mode": {
    "name": "ipython",
    "version": 3
   },
   "file_extension": ".py",
   "mimetype": "text/x-python",
   "name": "python",
   "nbconvert_exporter": "python",
   "pygments_lexer": "ipython3",
   "version": "3.7.6"
  }
 },
 "nbformat": 4,
 "nbformat_minor": 4
}
