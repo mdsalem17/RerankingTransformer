{
 "cells": [
  {
   "cell_type": "code",
   "execution_count": 1,
   "metadata": {},
   "outputs": [],
   "source": [
    "import numpy as np\n",
    "import os.path as osp\n",
    "import pickle, json, random"
   ]
  },
  {
   "cell_type": "code",
   "execution_count": 2,
   "metadata": {},
   "outputs": [],
   "source": [
    "import os, math\n",
    "import os.path as osp\n",
    "from copy import deepcopy\n",
    "from functools import partial\n",
    "from pprint import pprint"
   ]
  },
  {
   "cell_type": "code",
   "execution_count": 3,
   "metadata": {},
   "outputs": [],
   "source": [
    "import sacred\n",
    "import torch\n",
    "import torch.nn as nn\n",
    "import torch.nn.functional as F\n",
    "from sacred import SETTINGS\n",
    "from sacred.utils import apply_backspaces_and_linefeeds\n",
    "from torch.backends import cudnn\n",
    "from torch.optim import SGD, Adam, AdamW, lr_scheduler\n",
    "from tqdm import tqdm\n",
    "\n",
    "from torch.backends import cudnn\n",
    "# from visdom_logger import VisdomLogger"
   ]
  },
  {
   "cell_type": "code",
   "execution_count": 4,
   "metadata": {},
   "outputs": [],
   "source": [
    "from torch.utils.data import DataLoader, RandomSampler, BatchSampler\n",
    "from typing import NamedTuple, Optional, List"
   ]
  },
  {
   "cell_type": "code",
   "execution_count": 5,
   "metadata": {},
   "outputs": [],
   "source": [
    "from models.matcher import MatchERT, PosMatchERT\n",
    "from models.ingredient import model_ingredient, get_model"
   ]
  },
  {
   "cell_type": "code",
   "execution_count": 6,
   "metadata": {},
   "outputs": [],
   "source": [
    "from models.ingredient import model_ingredient, get_model\n",
    "from utils import state_dict_to_cpu, num_of_trainable_params\n",
    "from utils import pickle_load, pickle_save\n",
    "#from utils.data.utils import TripletSampler\n",
    "from utils import BinaryCrossEntropyWithLogits\n",
    "from utils.data.dataset_ingredient import data_ingredient, get_loaders\n",
    "from utils.training import train_one_epoch, evaluate_viquae"
   ]
  },
  {
   "cell_type": "code",
   "execution_count": 7,
   "metadata": {},
   "outputs": [],
   "source": [
    "from utils import pickle_load\n",
    "from sacred import Experiment\n",
    "from utils.data.dataset_ingredient import data_ingredient, get_loaders\n",
    "from utils.data.dataset import FeatureDataset"
   ]
  },
  {
   "cell_type": "code",
   "execution_count": 8,
   "metadata": {},
   "outputs": [],
   "source": [
    "ex = sacred.Experiment('RRT Training', ingredients=[data_ingredient, model_ingredient], interactive=True)\n",
    "# Filter backspaces and linefeeds\n",
    "SETTINGS.CAPTURE_MODE = 'sys'\n",
    "ex.captured_out_filter = apply_backspaces_and_linefeeds"
   ]
  },
  {
   "cell_type": "code",
   "execution_count": 9,
   "metadata": {},
   "outputs": [],
   "source": [
    "epochs = 1\n",
    "lr = 0.0001\n",
    "momentum = 0.\n",
    "nesterov = False\n",
    "weight_decay = 5e-4\n",
    "optim = 'adamw'\n",
    "scheduler = 'multistep'\n",
    "max_norm = 0.0\n",
    "seed = 0\n",
    "\n",
    "visdom_port = None\n",
    "visdom_freq = 100\n",
    "cpu = False  # Force training on CPU\n",
    "cudnn_flag = 'benchmark'\n",
    "temp_dir = osp.join('outputs', 'temp')\n",
    "\n",
    "no_bias_decay = False\n",
    "loss = 'bce'\n",
    "scheduler_tau = [16, 18]\n",
    "scheduler_gamma = 0.1\n",
    "\n",
    "resume = '/mnt/beegfs/home/smessoud/RerankingTransformer/RRT_GLD/rrt_gld_ckpts/r50_gldv1.pt'\n",
    "freeze = True\n",
    "#resume = None"
   ]
  },
  {
   "cell_type": "code",
   "execution_count": 10,
   "metadata": {},
   "outputs": [
    {
     "data": {
      "text/plain": [
       "(1,\n",
       " False,\n",
       " 'benchmark',\n",
       " None,\n",
       " 100,\n",
       " 'outputs/temp',\n",
       " 0,\n",
       " False,\n",
       " 0.0,\n",
       " '/mnt/beegfs/home/smessoud/RerankingTransformer/RRT_GLD/rrt_gld_ckpts/r50_gldv1.pt')"
      ]
     },
     "execution_count": 10,
     "metadata": {},
     "output_type": "execute_result"
    }
   ],
   "source": [
    "epochs, cpu, cudnn_flag, visdom_port, visdom_freq, temp_dir, seed, no_bias_decay, max_norm, resume"
   ]
  },
  {
   "cell_type": "code",
   "execution_count": 11,
   "metadata": {},
   "outputs": [],
   "source": [
    "def get_optimizer_scheduler(parameters, optim, loader_length, epochs, lr, momentum, nesterov, weight_decay, scheduler, scheduler_tau, scheduler_gamma, lr_step=None):\n",
    "    if optim == 'sgd':\n",
    "        optimizer = SGD(parameters, lr=lr, momentum=momentum, weight_decay=weight_decay, nesterov=True if nesterov and momentum else False)\n",
    "    elif optim == 'adam':\n",
    "        optimizer = Adam(parameters, lr=lr, weight_decay=weight_decay) \n",
    "    else:\n",
    "        optimizer = AdamW(parameters, lr=lr, weight_decay=weight_decay)\n",
    "    \n",
    "    if epochs == 0:\n",
    "        scheduler = None\n",
    "        update_per_iteration = None\n",
    "    elif scheduler == 'cos':\n",
    "        # scheduler = lr_scheduler.CosineAnnealingLR(optimizer, T_max=epochs * loader_length, eta_min=0.000005)\n",
    "        scheduler = lr_scheduler.CosineAnnealingLR(optimizer, T_max=epochs, eta_min=0.000001)\n",
    "        update_per_iteration = False\n",
    "    elif scheduler == 'warmcos':\n",
    "        # warm_cosine = lambda i: min((i + 1) / 3, (1 + math.cos(math.pi * i / (epochs * loader_length))) / 2)\n",
    "        warm_cosine = lambda i: min((i + 1) / 3, (1 + math.cos(math.pi * i / epochs)) / 2)\n",
    "        scheduler = lr_scheduler.LambdaLR(optimizer, lr_lambda=warm_cosine)\n",
    "        update_per_iteration = False\n",
    "    elif scheduler == 'multistep':\n",
    "        scheduler = lr_scheduler.MultiStepLR(optimizer, milestones=scheduler_tau, gamma=scheduler_gamma)\n",
    "        update_per_iteration = False\n",
    "    elif scheduler == 'warmstep':\n",
    "        warm_step = lambda i: min((i + 1) / 100, 1) * 0.1 ** (i // (lr_step * loader_length))\n",
    "        scheduler = lr_scheduler.LambdaLR(optimizer, lr_lambda=warm_step)\n",
    "        update_per_iteration = True\n",
    "    else:\n",
    "        scheduler = lr_scheduler.StepLR(optimizer, epochs * loader_length)\n",
    "        update_per_iteration = True\n",
    "\n",
    "    return optimizer, (scheduler, update_per_iteration)\n",
    "\n"
   ]
  },
  {
   "cell_type": "code",
   "execution_count": 12,
   "metadata": {},
   "outputs": [],
   "source": [
    "def get_loss(loss):\n",
    "    if loss == 'bce':\n",
    "        return BinaryCrossEntropyWithLogits()\n",
    "    else:\n",
    "        raise Exception('Unsupported loss {}'.format(loss))"
   ]
  },
  {
   "cell_type": "code",
   "execution_count": 13,
   "metadata": {},
   "outputs": [],
   "source": [
    "device = torch.device('cuda:0' if torch.cuda.is_available() and not cpu else 'cpu')\n",
    "# callback = VisdomLogger(port=visdom_port) if visdom_port else None\n",
    "if cudnn_flag == 'deterministic':\n",
    "    setattr(cudnn, cudnn_flag, True)"
   ]
  },
  {
   "cell_type": "code",
   "execution_count": 14,
   "metadata": {},
   "outputs": [],
   "source": [
    "def read_file(filename):\n",
    "    with open(filename) as f:\n",
    "        lines = f.read().splitlines()\n",
    "    return lines"
   ]
  },
  {
   "cell_type": "code",
   "execution_count": 15,
   "metadata": {},
   "outputs": [],
   "source": [
    "name = 'tuto_viquae_tuto_r50_gldv2'\n",
    "set_name = 'tuto'\n",
    "train_txt = ('tuto_query.txt', 'tuto_gallery.txt')\n",
    "test_txt = ('tuto_query.txt', 'tuto_selection.txt')\n",
    "train_data_dir = 'data/viquae_for_rrt'\n",
    "test_data_dir  = 'data/viquae_for_rrt'\n",
    "test_gnd_file = 'gnd_tuto.pkl'\n",
    "train_gnd_file = 'gnd_'+set_name+'.pkl'\n",
    "#train_gnd_file = 'gnd_'+set_name+'.pkl'\n",
    "desc_name = 'r50_gldv2'\n",
    "sampler = 'triplet'\n",
    "split_char  = ';;'"
   ]
  },
  {
   "cell_type": "code",
   "execution_count": 16,
   "metadata": {},
   "outputs": [
    {
     "data": {
      "text/plain": [
       "\"name = 'train_viquae_dev_r50_gldv2'\\nset_name = 'train'\\ntrain_txt = (set_name+'_query.txt', set_name+'_gallery.txt')\\ntest_txt = ('dev_query.txt', 'dev_selection.txt')\\ntrain_data_dir = 'data/viquae_for_rrt'\\ntest_data_dir  = 'data/viquae_for_rrt'\\ntrain_gnd_file = 'gnd_train.pkl'\\ntest_gnd_file = 'gnd_dev.pkl'\\ndesc_name = 'r50_gldv2'\\nsampler = 'triplet'\\nsplit_char  = ';;'\""
      ]
     },
     "execution_count": 16,
     "metadata": {},
     "output_type": "execute_result"
    }
   ],
   "source": [
    "\"\"\"name = 'train_viquae_dev_r50_gldv2'\n",
    "set_name = 'train'\n",
    "train_txt = (set_name+'_query.txt', set_name+'_gallery.txt')\n",
    "test_txt = ('dev_query.txt', 'dev_selection.txt')\n",
    "train_data_dir = 'data/viquae_for_rrt'\n",
    "test_data_dir  = 'data/viquae_for_rrt'\n",
    "train_gnd_file = 'gnd_train.pkl'\n",
    "test_gnd_file = 'gnd_dev.pkl'\n",
    "desc_name = 'r50_gldv2'\n",
    "sampler = 'triplet'\n",
    "split_char  = ';;'\"\"\""
   ]
  },
  {
   "cell_type": "code",
   "execution_count": 17,
   "metadata": {},
   "outputs": [
    {
     "data": {
      "text/plain": [
       "2"
      ]
     },
     "execution_count": 17,
     "metadata": {},
     "output_type": "execute_result"
    }
   ],
   "source": [
    "len(train_txt)"
   ]
  },
  {
   "cell_type": "code",
   "execution_count": 18,
   "metadata": {},
   "outputs": [],
   "source": [
    "def get_sets(desc_name, \n",
    "        train_data_dir, test_data_dir, \n",
    "        train_txt, test_txt, train_gnd_file,\n",
    "        test_gnd_file, max_sequence_len,\n",
    "        split_char):\n",
    "    ####################################################################################################################################\n",
    "    train_gnd_data  = None if train_gnd_file is None else pickle_load(osp.join(train_data_dir, train_gnd_file))\n",
    "    train_lines     = read_file(osp.join(train_data_dir, train_txt[1]))\n",
    "    train_q_lines   = read_file(osp.join(train_data_dir, train_txt[0]))\n",
    "    train_samples   = [(line.split(split_char)[0], int(line.split(split_char)[1]), int(line.split(split_char)[2]), int(line.split(split_char)[3])) for line in train_lines]\n",
    "    train_q_samples = [(line.split(split_char)[0], int(line.split(split_char)[1]), int(line.split(split_char)[2]), int(line.split(split_char)[3])) for line in train_q_lines]\n",
    "    train_set       = FeatureDataset(train_data_dir, train_samples,   desc_name, max_sequence_len, gnd_data=train_gnd_data)\n",
    "    query_train_set = FeatureDataset(train_data_dir, train_q_samples, desc_name, max_sequence_len, gnd_data=train_gnd_data)\n",
    "    ####################################################################################################################################\n",
    "    test_gnd_data = None if test_gnd_file is None else pickle_load(osp.join(test_data_dir, test_gnd_file))\n",
    "    query_lines   = read_file(osp.join(test_data_dir, test_txt[0]))\n",
    "    gallery_lines = read_file(osp.join(test_data_dir, test_txt[1]))\n",
    "    query_samples   = [(line.split(split_char)[0], int(line.split(split_char)[1]), int(line.split(split_char)[2]), int(line.split(split_char)[3])) for line in query_lines]\n",
    "    gallery_samples = [(line.split(split_char)[0], int(line.split(split_char)[1]), int(line.split(split_char)[2]), int(line.split(split_char)[3])) for line in gallery_lines]\n",
    "    gallery_set = FeatureDataset(test_data_dir, gallery_samples, desc_name, max_sequence_len)\n",
    "    query_set   = FeatureDataset(test_data_dir, query_samples,   desc_name, max_sequence_len, gnd_data=test_gnd_data)\n",
    "        \n",
    "    return (train_set, query_train_set), (query_set, gallery_set)\n"
   ]
  },
  {
   "cell_type": "code",
   "execution_count": 19,
   "metadata": {},
   "outputs": [],
   "source": [
    "def get_loaders(desc_name, train_data_dir, \n",
    "    batch_size, test_batch_size, \n",
    "    num_workers, pin_memory, \n",
    "    sampler, recalls, set_name,\n",
    "    num_candidates=300,):\n",
    "\n",
    "    (train_set, query_train_set), (query_set, gallery_set) = get_sets(\n",
    "        desc_name=desc_name, train_data_dir=train_data_dir, \n",
    "        test_data_dir=train_data_dir, train_txt=train_txt, \n",
    "        test_txt=test_txt, train_gnd_file=train_gnd_file, \n",
    "        test_gnd_file=test_gnd_file, \n",
    "        max_sequence_len=max_sequence_len, \n",
    "        split_char=split_char)\n",
    "\n",
    "    if sampler == 'random':\n",
    "        train_sampler = BatchSampler(RandomSampler(train_set), batch_size=batch_size, drop_last=False)\n",
    "    elif sampler == 'triplet':\n",
    "        #s_name = set_name\n",
    "        #if s_name != '':\n",
    "        #    s_name = set_name + '_'\n",
    "        #def map_nnids_labels(train_data_dir, train_gnd_file, s_categories):\n",
    "        #    gnd =  pickle_load(osp.join(train_data_dir, train_gnd_file))\n",
    "        #    selection_gallery = gnd['simlist']\n",
    "        #    s_categories = s_categories.reshape(np.array(selection_gallery).shape)\n",
    "        #    selection_ids_to_cat_dict = [{k: s_categories[i][k] for k in range(len(selection_gallery[i]))} for i in range(len(selection_gallery))]\n",
    "        #    return selection_ids_to_cat_dict\n",
    "        #s_path = train_data_dir+'/'+set_name+'_s_categories.txt'\n",
    "        #print('s_path: ', s_path)\n",
    "        #s_categories = np.loadtxt(s_path, dtype='int64')\n",
    "        #print('s_categories: ', s_categories.shape)\n",
    "        #map_nnids_labels = map_nnids_labels(train_data_dir, train_gnd_file, s_categories)\n",
    "        train_nn_inds = osp.join(train_data_dir, set_name + '_nn_inds_%s.pkl'%desc_name)\n",
    "        gnd_data = train_set.gnd_data['gnd']\n",
    "        train_sampler = TripletSampler(query_train_set.targets, batch_size, train_nn_inds, num_candidates, gnd_data)\n",
    "    else:\n",
    "        raise ValueError('Invalid choice of sampler ({}).'.format(sampler))\n",
    "    train_loader = DataLoader(train_set, batch_sampler=train_sampler, num_workers=num_workers, pin_memory=pin_memory)\n",
    "    query_train_loader = DataLoader(query_train_set, batch_size=test_batch_size, num_workers=num_workers, pin_memory=pin_memory)\n",
    "        \n",
    "    query_loader   = DataLoader(query_set, batch_size=test_batch_size, num_workers=num_workers, pin_memory=pin_memory)\n",
    "    gallery_loader = DataLoader(gallery_set, batch_size=test_batch_size, num_workers=num_workers, pin_memory=pin_memory)\n",
    "\n",
    "    return MetricLoaders(train=train_loader, query_train=query_train_loader, query=query_loader, gallery=gallery_loader, num_classes=len(train_set.categories),set_name=set_name), recalls\n"
   ]
  },
  {
   "cell_type": "code",
   "execution_count": 20,
   "metadata": {},
   "outputs": [],
   "source": [
    "train_data_dir = '/mnt/beegfs/home/smessoud/RerankingTransformer/models/research/delf/delf/python/delg/data/viquae_for_rrt'"
   ]
  },
  {
   "cell_type": "code",
   "execution_count": 21,
   "metadata": {},
   "outputs": [],
   "source": [
    "class MetricLoaders(NamedTuple):\n",
    "    train: DataLoader\n",
    "    num_classes: int\n",
    "    query: DataLoader\n",
    "    query_train: DataLoader\n",
    "    set_name: str = ''\n",
    "    gallery: Optional[DataLoader] = None"
   ]
  },
  {
   "cell_type": "code",
   "execution_count": 22,
   "metadata": {},
   "outputs": [],
   "source": [
    "batch_size      = 36\n",
    "test_batch_size = 36\n",
    "max_sequence_len = 500\n",
    "num_workers = 8  # number of workers used ot load the data\n",
    "pin_memory  = True  # use the pin_memory option of DataLoader \n",
    "num_candidates = 100\n",
    "recalls = [1, 5, 10]"
   ]
  },
  {
   "cell_type": "code",
   "execution_count": 23,
   "metadata": {},
   "outputs": [],
   "source": [
    "class TripletSampler():\n",
    "    def __init__(self, labels, batch_size, nn_inds_path, num_candidates, gnd_data, min_pos=1):\n",
    "        self.batch_size     = batch_size\n",
    "        self.num_candidates = num_candidates\n",
    "        self.cache_nn_inds  = pickle_load(nn_inds_path)\n",
    "        self.labels = labels\n",
    "        self.gnd_data = gnd_data\n",
    "        print('nn_inds_path: ', nn_inds_path)\n",
    "        print('labels len: ', len(labels))\n",
    "        assert (len(self.cache_nn_inds) == len(labels))\n",
    "        #############################################################################\n",
    "        ## Collect valid tuples\n",
    "        valids = np.zeros_like(labels)\n",
    "        for i in range(len(self.cache_nn_inds)):\n",
    "            positives = self.gnd_data[i]['r_easy']\n",
    "            negatives = self.gnd_data[i]['r_junk']\n",
    "            if len(positives) < min_pos or len(negatives) < min_pos:\n",
    "                continue\n",
    "            valids[i] = 1\n",
    "        self.valids = np.where(valids > 0)[0]\n",
    "        self.num_samples = len(self.valids)\n",
    "\n",
    "    def __iter__(self):\n",
    "        batch = []\n",
    "        cands = torch.randperm(self.num_samples).tolist()\n",
    "        for i in range(len(cands)):\n",
    "            query_idx = self.valids[cands[i]]\n",
    "            anchor_idx = self.gnd_data[query_idx]['anchor_idx']\n",
    "            \n",
    "            positive_inds = self.gnd_data[query_idx]['g_easy']\n",
    "            negative_inds = self.gnd_data[query_idx]['g_junk']\n",
    "            assert(len(positive_inds) > 0)\n",
    "            assert(len(negative_inds) > 0)\n",
    "\n",
    "            random.shuffle(positive_inds)\n",
    "            random.shuffle(negative_inds)\n",
    "\n",
    "            batch.append(anchor_idx)\n",
    "            batch.append(positive_inds[0]) \n",
    "            batch.append(negative_inds[0])\n",
    "\n",
    "            if len(batch) >= self.batch_size:\n",
    "                yield batch\n",
    "                batch = []\n",
    "                \n",
    "        if len(batch) > 0:\n",
    "            yield batch\n",
    "\n",
    "    def __len__(self):\n",
    "        return (self.num_samples * 3 + self.batch_size - 1) // self.batch_size\n"
   ]
  },
  {
   "cell_type": "code",
   "execution_count": 24,
   "metadata": {},
   "outputs": [
    {
     "data": {
      "text/plain": [
       "(120, 100)"
      ]
     },
     "execution_count": 24,
     "metadata": {},
     "output_type": "execute_result"
    }
   ],
   "source": [
    "nn_inds_path = '/mnt/beegfs/home/smessoud/RerankingTransformer/models/research/delf/delf/python/delg/data/viquae_for_rrt/'+set_name+'_nn_inds_r50_gldv1.pkl'\n",
    "cache_nn_inds  = pickle_load(nn_inds_path)\n",
    "cache_nn_inds.shape"
   ]
  },
  {
   "cell_type": "code",
   "execution_count": 25,
   "metadata": {},
   "outputs": [
    {
     "name": "stdout",
     "output_type": "stream",
     "text": [
      "nn_inds_path:  /mnt/beegfs/home/smessoud/RerankingTransformer/models/research/delf/delf/python/delg/data/viquae_for_rrt/tuto_nn_inds_r50_gldv2.pkl\n",
      "labels len:  120\n"
     ]
    }
   ],
   "source": [
    "torch.manual_seed(seed)\n",
    "loaders, recall_ks = get_loaders('r50_gldv2', train_data_dir, \n",
    "    batch_size, test_batch_size, \n",
    "    num_workers, pin_memory, \n",
    "    sampler, recalls, set_name,\n",
    "    num_candidates=100)"
   ]
  },
  {
   "cell_type": "code",
   "execution_count": 26,
   "metadata": {},
   "outputs": [],
   "source": [
    "def get_model(num_global_features, num_local_features, seq_len, dim_K, dim_feedforward, nhead, num_encoder_layers, dropout, activation, normalize_before, use_pos):\n",
    "    \n",
    "    if use_pos:\n",
    "        return PosMatchERT(d_global=num_global_features, d_model=num_local_features, seq_len=seq_len, d_K=dim_K, nhead=nhead, num_encoder_layers=num_encoder_layers, \n",
    "            dim_feedforward=dim_feedforward, dropout=dropout, activation=activation, normalize_before=normalize_before)\n",
    "    \n",
    "    else:\n",
    "        return MatchERT(d_global=num_global_features, d_model=num_local_features, seq_len=seq_len, d_K=dim_K, nhead=nhead, num_encoder_layers=num_encoder_layers, \n",
    "            dim_feedforward=dim_feedforward, dropout=dropout, activation=activation, normalize_before=normalize_before)"
   ]
  },
  {
   "cell_type": "code",
   "execution_count": 27,
   "metadata": {},
   "outputs": [],
   "source": [
    "name = 'rrt'\n",
    "num_global_features = 2048  \n",
    "num_local_features = 128  \n",
    "seq_len = 1004\n",
    "dim_K = 256\n",
    "dim_feedforward = 1024\n",
    "nhead = 4\n",
    "num_encoder_layers = 6\n",
    "dropout = 0.2 \n",
    "activation = \"relu\"\n",
    "normalize_before = False\n",
    "use_pos = False"
   ]
  },
  {
   "cell_type": "code",
   "execution_count": 28,
   "metadata": {},
   "outputs": [
    {
     "data": {
      "text/plain": [
       "'\\nname = \\'vrrt\\'\\nseq_len = 1004\\ndim_K = 256\\ndim_feedforward = 1024\\nnhead = 8\\nnum_encoder_layers = 8\\ndropout = 0.4 \\nactivation = \"relu\"\\nnormalize_before = False\\nuse_pos = True\\n'"
      ]
     },
     "execution_count": 28,
     "metadata": {},
     "output_type": "execute_result"
    }
   ],
   "source": [
    "\"\"\"\n",
    "name = 'vrrt'\n",
    "seq_len = 1004\n",
    "dim_K = 256\n",
    "dim_feedforward = 1024\n",
    "nhead = 8\n",
    "num_encoder_layers = 8\n",
    "dropout = 0.4 \n",
    "activation = \"relu\"\n",
    "normalize_before = False\n",
    "use_pos = True\n",
    "\"\"\""
   ]
  },
  {
   "cell_type": "code",
   "execution_count": 29,
   "metadata": {},
   "outputs": [],
   "source": [
    "torch.manual_seed(seed+1)\n",
    "model = get_model(num_global_features,num_local_features,seq_len,dim_K,dim_feedforward,nhead,num_encoder_layers,dropout,activation,normalize_before,use_pos)"
   ]
  },
  {
   "cell_type": "code",
   "execution_count": 30,
   "metadata": {
    "scrolled": false
   },
   "outputs": [
    {
     "data": {
      "text/plain": [
       "MatchERT(\n",
       "  (encoder): TransformerEncoder(\n",
       "    (layers): ModuleList(\n",
       "      (0): TransformerEncoderLayer(\n",
       "        (self_attn): MultiheadAttention(\n",
       "          (out_proj): _LinearWithBias(in_features=128, out_features=128, bias=True)\n",
       "        )\n",
       "        (linear1): Linear(in_features=128, out_features=1024, bias=True)\n",
       "        (dropout): Dropout(p=0.2, inplace=False)\n",
       "        (linear2): Linear(in_features=1024, out_features=128, bias=True)\n",
       "        (norm1): LayerNorm((128,), eps=1e-05, elementwise_affine=True)\n",
       "        (norm2): LayerNorm((128,), eps=1e-05, elementwise_affine=True)\n",
       "        (dropout1): Dropout(p=0.2, inplace=False)\n",
       "        (dropout2): Dropout(p=0.2, inplace=False)\n",
       "      )\n",
       "      (1): TransformerEncoderLayer(\n",
       "        (self_attn): MultiheadAttention(\n",
       "          (out_proj): _LinearWithBias(in_features=128, out_features=128, bias=True)\n",
       "        )\n",
       "        (linear1): Linear(in_features=128, out_features=1024, bias=True)\n",
       "        (dropout): Dropout(p=0.2, inplace=False)\n",
       "        (linear2): Linear(in_features=1024, out_features=128, bias=True)\n",
       "        (norm1): LayerNorm((128,), eps=1e-05, elementwise_affine=True)\n",
       "        (norm2): LayerNorm((128,), eps=1e-05, elementwise_affine=True)\n",
       "        (dropout1): Dropout(p=0.2, inplace=False)\n",
       "        (dropout2): Dropout(p=0.2, inplace=False)\n",
       "      )\n",
       "      (2): TransformerEncoderLayer(\n",
       "        (self_attn): MultiheadAttention(\n",
       "          (out_proj): _LinearWithBias(in_features=128, out_features=128, bias=True)\n",
       "        )\n",
       "        (linear1): Linear(in_features=128, out_features=1024, bias=True)\n",
       "        (dropout): Dropout(p=0.2, inplace=False)\n",
       "        (linear2): Linear(in_features=1024, out_features=128, bias=True)\n",
       "        (norm1): LayerNorm((128,), eps=1e-05, elementwise_affine=True)\n",
       "        (norm2): LayerNorm((128,), eps=1e-05, elementwise_affine=True)\n",
       "        (dropout1): Dropout(p=0.2, inplace=False)\n",
       "        (dropout2): Dropout(p=0.2, inplace=False)\n",
       "      )\n",
       "      (3): TransformerEncoderLayer(\n",
       "        (self_attn): MultiheadAttention(\n",
       "          (out_proj): _LinearWithBias(in_features=128, out_features=128, bias=True)\n",
       "        )\n",
       "        (linear1): Linear(in_features=128, out_features=1024, bias=True)\n",
       "        (dropout): Dropout(p=0.2, inplace=False)\n",
       "        (linear2): Linear(in_features=1024, out_features=128, bias=True)\n",
       "        (norm1): LayerNorm((128,), eps=1e-05, elementwise_affine=True)\n",
       "        (norm2): LayerNorm((128,), eps=1e-05, elementwise_affine=True)\n",
       "        (dropout1): Dropout(p=0.2, inplace=False)\n",
       "        (dropout2): Dropout(p=0.2, inplace=False)\n",
       "      )\n",
       "      (4): TransformerEncoderLayer(\n",
       "        (self_attn): MultiheadAttention(\n",
       "          (out_proj): _LinearWithBias(in_features=128, out_features=128, bias=True)\n",
       "        )\n",
       "        (linear1): Linear(in_features=128, out_features=1024, bias=True)\n",
       "        (dropout): Dropout(p=0.2, inplace=False)\n",
       "        (linear2): Linear(in_features=1024, out_features=128, bias=True)\n",
       "        (norm1): LayerNorm((128,), eps=1e-05, elementwise_affine=True)\n",
       "        (norm2): LayerNorm((128,), eps=1e-05, elementwise_affine=True)\n",
       "        (dropout1): Dropout(p=0.2, inplace=False)\n",
       "        (dropout2): Dropout(p=0.2, inplace=False)\n",
       "      )\n",
       "      (5): TransformerEncoderLayer(\n",
       "        (self_attn): MultiheadAttention(\n",
       "          (out_proj): _LinearWithBias(in_features=128, out_features=128, bias=True)\n",
       "        )\n",
       "        (linear1): Linear(in_features=128, out_features=1024, bias=True)\n",
       "        (dropout): Dropout(p=0.2, inplace=False)\n",
       "        (linear2): Linear(in_features=1024, out_features=128, bias=True)\n",
       "        (norm1): LayerNorm((128,), eps=1e-05, elementwise_affine=True)\n",
       "        (norm2): LayerNorm((128,), eps=1e-05, elementwise_affine=True)\n",
       "        (dropout1): Dropout(p=0.2, inplace=False)\n",
       "        (dropout2): Dropout(p=0.2, inplace=False)\n",
       "      )\n",
       "    )\n",
       "  )\n",
       "  (remap): Linear(in_features=2048, out_features=128, bias=True)\n",
       "  (scale_encoder): Embedding(7, 128)\n",
       "  (seg_encoder): Embedding(6, 128)\n",
       "  (classifier): Linear(in_features=128, out_features=1, bias=True)\n",
       ")"
      ]
     },
     "execution_count": 30,
     "metadata": {},
     "output_type": "execute_result"
    }
   ],
   "source": [
    "model.eval()"
   ]
  },
  {
   "cell_type": "code",
   "execution_count": 31,
   "metadata": {
    "scrolled": true
   },
   "outputs": [
    {
     "name": "stdout",
     "output_type": "stream",
     "text": [
      "# of trainable parameters:  2243201\n"
     ]
    }
   ],
   "source": [
    "if resume is not None:\n",
    "    checkpoint = torch.load(resume, map_location=torch.device('cpu'))\n",
    "    model.load_state_dict(checkpoint['state'], strict=True)\n",
    "print('# of trainable parameters: ', num_of_trainable_params(model))\n",
    "class_loss = get_loss(loss)\n",
    "nn_inds_path = osp.join(loaders.query.dataset.data_dir, loaders.set_name + '_nn_inds_%s.pkl'%loaders.query.dataset.desc_name)\n",
    "cache_nn_inds = torch.from_numpy(pickle_load(nn_inds_path)).long()"
   ]
  },
  {
   "cell_type": "code",
   "execution_count": 39,
   "metadata": {},
   "outputs": [
    {
     "data": {
      "text/plain": [
       "Sequential(\n",
       "  (linear1): Linear(in_features=128, out_features=32, bias=True)\n",
       "  (linear2): Linear(in_features=32, out_features=16, bias=True)\n",
       "  (linear3): Linear(in_features=16, out_features=1, bias=True)\n",
       ")"
      ]
     },
     "execution_count": 39,
     "metadata": {},
     "output_type": "execute_result"
    }
   ],
   "source": [
    "import torch.nn as nn\n",
    "from collections import OrderedDict\n",
    "\n",
    "cclassifier = nn.Sequential(OrderedDict([\n",
    "    ('linear1', nn.Linear(in_features=128, out_features=32, bias=True)),\n",
    "    ('linear2', nn.Linear(in_features=32, out_features=16, bias=True)),\n",
    "    ('linear3', nn.Linear(in_features=16, out_features=1, bias=True)),\n",
    "]))\n",
    "cclassifier.eval()"
   ]
  },
  {
   "cell_type": "code",
   "execution_count": 41,
   "metadata": {},
   "outputs": [
    {
     "data": {
      "text/plain": [
       "MatchERT(\n",
       "  (encoder): TransformerEncoder(\n",
       "    (layers): ModuleList(\n",
       "      (0): TransformerEncoderLayer(\n",
       "        (self_attn): MultiheadAttention(\n",
       "          (out_proj): _LinearWithBias(in_features=128, out_features=128, bias=True)\n",
       "        )\n",
       "        (linear1): Linear(in_features=128, out_features=1024, bias=True)\n",
       "        (dropout): Dropout(p=0.2, inplace=False)\n",
       "        (linear2): Linear(in_features=1024, out_features=128, bias=True)\n",
       "        (norm1): LayerNorm((128,), eps=1e-05, elementwise_affine=True)\n",
       "        (norm2): LayerNorm((128,), eps=1e-05, elementwise_affine=True)\n",
       "        (dropout1): Dropout(p=0.2, inplace=False)\n",
       "        (dropout2): Dropout(p=0.2, inplace=False)\n",
       "      )\n",
       "      (1): TransformerEncoderLayer(\n",
       "        (self_attn): MultiheadAttention(\n",
       "          (out_proj): _LinearWithBias(in_features=128, out_features=128, bias=True)\n",
       "        )\n",
       "        (linear1): Linear(in_features=128, out_features=1024, bias=True)\n",
       "        (dropout): Dropout(p=0.2, inplace=False)\n",
       "        (linear2): Linear(in_features=1024, out_features=128, bias=True)\n",
       "        (norm1): LayerNorm((128,), eps=1e-05, elementwise_affine=True)\n",
       "        (norm2): LayerNorm((128,), eps=1e-05, elementwise_affine=True)\n",
       "        (dropout1): Dropout(p=0.2, inplace=False)\n",
       "        (dropout2): Dropout(p=0.2, inplace=False)\n",
       "      )\n",
       "      (2): TransformerEncoderLayer(\n",
       "        (self_attn): MultiheadAttention(\n",
       "          (out_proj): _LinearWithBias(in_features=128, out_features=128, bias=True)\n",
       "        )\n",
       "        (linear1): Linear(in_features=128, out_features=1024, bias=True)\n",
       "        (dropout): Dropout(p=0.2, inplace=False)\n",
       "        (linear2): Linear(in_features=1024, out_features=128, bias=True)\n",
       "        (norm1): LayerNorm((128,), eps=1e-05, elementwise_affine=True)\n",
       "        (norm2): LayerNorm((128,), eps=1e-05, elementwise_affine=True)\n",
       "        (dropout1): Dropout(p=0.2, inplace=False)\n",
       "        (dropout2): Dropout(p=0.2, inplace=False)\n",
       "      )\n",
       "      (3): TransformerEncoderLayer(\n",
       "        (self_attn): MultiheadAttention(\n",
       "          (out_proj): _LinearWithBias(in_features=128, out_features=128, bias=True)\n",
       "        )\n",
       "        (linear1): Linear(in_features=128, out_features=1024, bias=True)\n",
       "        (dropout): Dropout(p=0.2, inplace=False)\n",
       "        (linear2): Linear(in_features=1024, out_features=128, bias=True)\n",
       "        (norm1): LayerNorm((128,), eps=1e-05, elementwise_affine=True)\n",
       "        (norm2): LayerNorm((128,), eps=1e-05, elementwise_affine=True)\n",
       "        (dropout1): Dropout(p=0.2, inplace=False)\n",
       "        (dropout2): Dropout(p=0.2, inplace=False)\n",
       "      )\n",
       "      (4): TransformerEncoderLayer(\n",
       "        (self_attn): MultiheadAttention(\n",
       "          (out_proj): _LinearWithBias(in_features=128, out_features=128, bias=True)\n",
       "        )\n",
       "        (linear1): Linear(in_features=128, out_features=1024, bias=True)\n",
       "        (dropout): Dropout(p=0.2, inplace=False)\n",
       "        (linear2): Linear(in_features=1024, out_features=128, bias=True)\n",
       "        (norm1): LayerNorm((128,), eps=1e-05, elementwise_affine=True)\n",
       "        (norm2): LayerNorm((128,), eps=1e-05, elementwise_affine=True)\n",
       "        (dropout1): Dropout(p=0.2, inplace=False)\n",
       "        (dropout2): Dropout(p=0.2, inplace=False)\n",
       "      )\n",
       "      (5): TransformerEncoderLayer(\n",
       "        (self_attn): MultiheadAttention(\n",
       "          (out_proj): _LinearWithBias(in_features=128, out_features=128, bias=True)\n",
       "        )\n",
       "        (linear1): Linear(in_features=128, out_features=1024, bias=True)\n",
       "        (dropout): Dropout(p=0.2, inplace=False)\n",
       "        (linear2): Linear(in_features=1024, out_features=128, bias=True)\n",
       "        (norm1): LayerNorm((128,), eps=1e-05, elementwise_affine=True)\n",
       "        (norm2): LayerNorm((128,), eps=1e-05, elementwise_affine=True)\n",
       "        (dropout1): Dropout(p=0.2, inplace=False)\n",
       "        (dropout2): Dropout(p=0.2, inplace=False)\n",
       "      )\n",
       "    )\n",
       "  )\n",
       "  (remap): Linear(in_features=2048, out_features=128, bias=True)\n",
       "  (scale_encoder): Embedding(7, 128)\n",
       "  (seg_encoder): Embedding(6, 128)\n",
       "  (classifier): Sequential(\n",
       "    (linear1): Linear(in_features=128, out_features=32, bias=True)\n",
       "    (linear2): Linear(in_features=32, out_features=16, bias=True)\n",
       "    (linear3): Linear(in_features=16, out_features=1, bias=True)\n",
       "  )\n",
       ")"
      ]
     },
     "execution_count": 41,
     "metadata": {},
     "output_type": "execute_result"
    }
   ],
   "source": [
    "model.classifier = cclassifier\n",
    "model.eval()"
   ]
  },
  {
   "cell_type": "code",
   "execution_count": 65,
   "metadata": {},
   "outputs": [
    {
     "name": "stdout",
     "output_type": "stream",
     "text": [
      "True\n",
      "True\n"
     ]
    }
   ],
   "source": [
    "for param in model.classifier.parameters():\n",
    "    print(param.requires_grad)"
   ]
  },
  {
   "cell_type": "code",
   "execution_count": 43,
   "metadata": {},
   "outputs": [
    {
     "name": "stdout",
     "output_type": "stream",
     "text": [
      "# of trainable parameters:  4673\n"
     ]
    }
   ],
   "source": [
    "if freeze:\n",
    "    #freeze all layers of the model\n",
    "    for param in model.parameters():\n",
    "        param.requires_grad = False\n",
    "    \n",
    "    #unfreeze the classfication layers\n",
    "    for param in model.classifier.parameters():\n",
    "        param.requires_grad = True\n",
    "print('# of trainable parameters: ', num_of_trainable_params(model))"
   ]
  },
  {
   "cell_type": "code",
   "execution_count": 44,
   "metadata": {},
   "outputs": [
    {
     "data": {
      "text/plain": [
       "(129, 264065, 2243201)"
      ]
     },
     "execution_count": 44,
     "metadata": {},
     "output_type": "execute_result"
    }
   ],
   "source": [
    "(129, 264065, 2243201) "
   ]
  },
  {
   "cell_type": "code",
   "execution_count": 45,
   "metadata": {},
   "outputs": [
    {
     "ename": "ValueError",
     "evalue": "loaded state dict contains a parameter group that doesn't match the size of optimizer's group",
     "output_type": "error",
     "traceback": [
      "\u001b[0;31m---------------------------------------------------------------------------\u001b[0m",
      "\u001b[0;31mValueError\u001b[0m                                Traceback (most recent call last)",
      "\u001b[0;32m<ipython-input-45-1c3d25291973>\u001b[0m in \u001b[0;36m<module>\u001b[0;34m\u001b[0m\n\u001b[1;32m     14\u001b[0m                                                scheduler_gamma=scheduler_gamma, lr_step=None)\n\u001b[1;32m     15\u001b[0m \u001b[0;32mif\u001b[0m \u001b[0mresume\u001b[0m \u001b[0;32mis\u001b[0m \u001b[0;32mnot\u001b[0m \u001b[0;32mNone\u001b[0m \u001b[0;32mand\u001b[0m \u001b[0mcheckpoint\u001b[0m\u001b[0;34m.\u001b[0m\u001b[0mget\u001b[0m\u001b[0;34m(\u001b[0m\u001b[0;34m'optim'\u001b[0m\u001b[0;34m,\u001b[0m \u001b[0;32mNone\u001b[0m\u001b[0;34m)\u001b[0m \u001b[0;32mis\u001b[0m \u001b[0;32mnot\u001b[0m \u001b[0;32mNone\u001b[0m\u001b[0;34m:\u001b[0m\u001b[0;34m\u001b[0m\u001b[0;34m\u001b[0m\u001b[0m\n\u001b[0;32m---> 16\u001b[0;31m     \u001b[0moptimizer\u001b[0m\u001b[0;34m.\u001b[0m\u001b[0mload_state_dict\u001b[0m\u001b[0;34m(\u001b[0m\u001b[0mcheckpoint\u001b[0m\u001b[0;34m[\u001b[0m\u001b[0;34m'optim'\u001b[0m\u001b[0;34m]\u001b[0m\u001b[0;34m)\u001b[0m\u001b[0;34m\u001b[0m\u001b[0;34m\u001b[0m\u001b[0m\n\u001b[0m\u001b[1;32m     17\u001b[0m     \u001b[0;32mdel\u001b[0m \u001b[0mcheckpoint\u001b[0m\u001b[0;34m\u001b[0m\u001b[0;34m\u001b[0m\u001b[0m\n",
      "\u001b[0;32m~/anaconda3/envs/rrt/lib/python3.7/site-packages/torch/optim/optimizer.py\u001b[0m in \u001b[0;36mload_state_dict\u001b[0;34m(self, state_dict)\u001b[0m\n\u001b[1;32m    121\u001b[0m         \u001b[0msaved_lens\u001b[0m \u001b[0;34m=\u001b[0m \u001b[0;34m(\u001b[0m\u001b[0mlen\u001b[0m\u001b[0;34m(\u001b[0m\u001b[0mg\u001b[0m\u001b[0;34m[\u001b[0m\u001b[0;34m'params'\u001b[0m\u001b[0;34m]\u001b[0m\u001b[0;34m)\u001b[0m \u001b[0;32mfor\u001b[0m \u001b[0mg\u001b[0m \u001b[0;32min\u001b[0m \u001b[0msaved_groups\u001b[0m\u001b[0;34m)\u001b[0m\u001b[0;34m\u001b[0m\u001b[0;34m\u001b[0m\u001b[0m\n\u001b[1;32m    122\u001b[0m         \u001b[0;32mif\u001b[0m \u001b[0many\u001b[0m\u001b[0;34m(\u001b[0m\u001b[0mp_len\u001b[0m \u001b[0;34m!=\u001b[0m \u001b[0ms_len\u001b[0m \u001b[0;32mfor\u001b[0m \u001b[0mp_len\u001b[0m\u001b[0;34m,\u001b[0m \u001b[0ms_len\u001b[0m \u001b[0;32min\u001b[0m \u001b[0mzip\u001b[0m\u001b[0;34m(\u001b[0m\u001b[0mparam_lens\u001b[0m\u001b[0;34m,\u001b[0m \u001b[0msaved_lens\u001b[0m\u001b[0;34m)\u001b[0m\u001b[0;34m)\u001b[0m\u001b[0;34m:\u001b[0m\u001b[0;34m\u001b[0m\u001b[0;34m\u001b[0m\u001b[0m\n\u001b[0;32m--> 123\u001b[0;31m             raise ValueError(\"loaded state dict contains a parameter group \"\n\u001b[0m\u001b[1;32m    124\u001b[0m                              \"that doesn't match the size of optimizer's group\")\n\u001b[1;32m    125\u001b[0m \u001b[0;34m\u001b[0m\u001b[0m\n",
      "\u001b[0;31mValueError\u001b[0m: loaded state dict contains a parameter group that doesn't match the size of optimizer's group"
     ]
    }
   ],
   "source": [
    "torch.manual_seed(seed+2)\n",
    "model.to(device)\n",
    "model = nn.DataParallel(model)\n",
    "parameters = []\n",
    "if no_bias_decay:\n",
    "    parameters.append({'params': [par for par in model.parameters() if par.dim() != 1]})\n",
    "    parameters.append({'params': [par for par in model.parameters() if par.dim() == 1], 'weight_decay': 0})\n",
    "else:\n",
    "    parameters.append({'params': model.parameters()})\n",
    "optimizer, scheduler = get_optimizer_scheduler(parameters=parameters, loader_length=len(loaders.train),\n",
    "                                               optim=optim, epochs=epochs, lr=lr,\n",
    "                                               momentum=momentum, nesterov=nesterov, weight_decay=weight_decay,\n",
    "                                               scheduler=scheduler, scheduler_tau=scheduler_tau, \n",
    "                                               scheduler_gamma=scheduler_gamma, lr_step=None)\n",
    "if resume is not None and checkpoint.get('optim', None) is not None:\n",
    "    optimizer.load_state_dict(checkpoint['optim'])\n",
    "    del checkpoint\n"
   ]
  },
  {
   "cell_type": "code",
   "execution_count": 46,
   "metadata": {},
   "outputs": [],
   "source": [
    "from utils.metrics import *\n",
    "def evaluate_viquae(\n",
    "        model: nn.Module,\n",
    "        cache_nn_inds: torch.Tensor,\n",
    "        query_loader: DataLoader,\n",
    "        gallery_loader: DataLoader,\n",
    "        recall: List[int]):\n",
    "    model.eval()\n",
    "    device = next(model.parameters()).device\n",
    "    to_device = lambda x: x.to(device, non_blocking=True)\n",
    "\n",
    "    query_global, query_local, query_mask, query_scales, query_positions, query_names = [], [], [], [], [], []\n",
    "    gallery_global, gallery_local, gallery_mask, gallery_scales, gallery_positions, gallery_names = [], [], [], [], [], []\n",
    "\n",
    "    with torch.no_grad():\n",
    "        for entry in tqdm(query_loader, desc='Extracting query features', leave=False, ncols=80):\n",
    "            q_global, q_local, q_mask, q_scales, q_positions, _, q_names = entry\n",
    "            query_global.append(q_global.cpu())\n",
    "            query_local.append(q_local.cpu())\n",
    "            query_mask.append(q_mask.cpu())\n",
    "            query_scales.append(q_scales.cpu())\n",
    "            query_positions.append(q_positions.cpu())\n",
    "            query_names.extend(list(q_names))\n",
    "            torch.cuda.empty_cache()\n",
    "\n",
    "        query_global    = torch.cat(query_global, 0)\n",
    "        query_local     = torch.cat(query_local, 0)\n",
    "        query_mask      = torch.cat(query_mask, 0)\n",
    "        query_scales    = torch.cat(query_scales, 0)\n",
    "        query_positions = torch.cat(query_positions, 0)\n",
    "\n",
    "        for entry in tqdm(gallery_loader, desc='Extracting gallery features', leave=False, ncols=80):\n",
    "            g_global, g_local, g_mask, g_scales, g_positions, _, g_names = entry\n",
    "            gallery_global.append(g_global.cpu())\n",
    "            gallery_local.append(g_local.cpu())\n",
    "            gallery_mask.append(g_mask.cpu())\n",
    "            gallery_scales.append(g_scales.cpu())\n",
    "            gallery_positions.append(g_positions.cpu())\n",
    "            gallery_names.extend(list(g_names))\n",
    "            torch.cuda.empty_cache()\n",
    "            \n",
    "        gallery_global    = torch.cat(gallery_global, 0)\n",
    "        gallery_local     = torch.cat(gallery_local, 0)\n",
    "        gallery_mask      = torch.cat(gallery_mask, 0)\n",
    "        gallery_scales    = torch.cat(gallery_scales, 0)\n",
    "        gallery_positions = torch.cat(gallery_positions, 0)\n",
    "\n",
    "        torch.cuda.empty_cache()\n",
    "        evaluate_function = partial(mean_average_precision_viquae_rerank, model=model, cache_nn_inds=cache_nn_inds,\n",
    "            query_global=query_global, query_local=query_local, query_mask=query_mask, query_scales=query_scales, query_positions=query_positions, \n",
    "            gallery_global=gallery_global, gallery_local=gallery_local, gallery_mask=gallery_mask, gallery_scales=gallery_scales, gallery_positions=gallery_positions, \n",
    "            ks=recall, \n",
    "            gnd=query_loader.dataset.gnd_data,\n",
    "        )\n",
    "        metrics = evaluate_function()\n",
    "    return metrics \n",
    "\n"
   ]
  },
  {
   "cell_type": "code",
   "execution_count": 48,
   "metadata": {},
   "outputs": [],
   "source": [
    "def read_entry_once(\n",
    "    query_loader: DataLoader,\n",
    "    gallery_loader: DataLoader):\n",
    "    \n",
    "    query_global, query_local, query_mask, query_scales, query_positions, query_names = [], [], [], [], [], []\n",
    "    gallery_global, gallery_local, gallery_mask, gallery_scales, gallery_positions, gallery_names = [], [], [], [], [], []\n",
    "\n",
    "    print(\"READING ENTRIES FOR THE FIRST TIME\")\n",
    "    \n",
    "    with torch.no_grad():\n",
    "        for entry in tqdm(query_loader, desc='Extracting query features', leave=False, ncols=80):\n",
    "            q_global, q_local, q_mask, q_scales, q_positions, _, q_names = entry\n",
    "            query_global.append(q_global.cpu())\n",
    "            query_local.append(q_local.cpu())\n",
    "            query_mask.append(q_mask.cpu())\n",
    "            query_scales.append(q_scales.cpu())\n",
    "            query_positions.append(q_positions.cpu())\n",
    "            query_names.extend(list(q_names))\n",
    "            torch.cuda.empty_cache()\n",
    "\n",
    "        query_global    = torch.cat(query_global, 0)\n",
    "        query_local     = torch.cat(query_local, 0)\n",
    "        query_mask      = torch.cat(query_mask, 0)\n",
    "        query_scales    = torch.cat(query_scales, 0)\n",
    "        query_positions = torch.cat(query_positions, 0)\n",
    "\n",
    "        for entry in tqdm(gallery_loader, desc='Extracting gallery features', leave=False, ncols=80):\n",
    "            g_global, g_local, g_mask, g_scales, g_positions, _, g_names = entry\n",
    "            gallery_global.append(g_global.cpu())\n",
    "            gallery_local.append(g_local.cpu())\n",
    "            gallery_mask.append(g_mask.cpu())\n",
    "            gallery_scales.append(g_scales.cpu())\n",
    "            gallery_positions.append(g_positions.cpu())\n",
    "            gallery_names.extend(list(g_names))\n",
    "            torch.cuda.empty_cache()\n",
    "\n",
    "        gallery_global    = torch.cat(gallery_global, 0)\n",
    "        gallery_local     = torch.cat(gallery_local, 0)\n",
    "        gallery_mask      = torch.cat(gallery_mask, 0)\n",
    "        gallery_scales    = torch.cat(gallery_scales, 0)\n",
    "        gallery_positions = torch.cat(gallery_positions, 0)\n",
    "    \n",
    "    query_feats   = [query_global, query_local, query_mask, query_scales, query_positions, query_names]\n",
    "    gallery_feats = [gallery_global, gallery_local, gallery_mask, gallery_scales, gallery_positions, gallery_names]\n",
    "    \n",
    "    return query_feats, gallery_feats"
   ]
  },
  {
   "cell_type": "code",
   "execution_count": 49,
   "metadata": {},
   "outputs": [],
   "source": [
    "from utils.metrics import mean_average_precision_viquae_rerank\n",
    "\n",
    "def fast_evaluate_viquae(\n",
    "    model: nn.Module,\n",
    "    cache_nn_inds: torch.Tensor,\n",
    "    query_loader: DataLoader,\n",
    "    gallery_loader: DataLoader,\n",
    "    recall: List[int],\n",
    "    query_feats, \n",
    "    gallery_feats):\n",
    "    \n",
    "    model.eval()\n",
    "    device = next(model.parameters()).device\n",
    "    to_device = lambda x: x.to(device, non_blocking=True)\n",
    "    \n",
    "    if len(query_feats) == 0:\n",
    "        query_feats, gallery_feats = read_entry_once(query_loader, gallery_loader)\n",
    "    \n",
    "    query_global, query_local, query_mask, query_scales, query_positions, query_names = query_feats\n",
    "    gallery_global, gallery_local, gallery_mask, gallery_scales, gallery_positions, gallery_names = gallery_feats\n",
    "    \n",
    "    torch.cuda.empty_cache()\n",
    "    \n",
    "    fast_evaluate_function = partial(mean_average_precision_viquae_rerank, model=model, cache_nn_inds=cache_nn_inds,\n",
    "        query_global=query_global, query_local=query_local, query_mask=query_mask, query_scales=query_scales, query_positions=query_positions, \n",
    "        gallery_global=gallery_global, gallery_local=gallery_local, gallery_mask=gallery_mask, gallery_scales=gallery_scales, gallery_positions=gallery_positions, \n",
    "        ks=recall, \n",
    "        gnd=query_loader.dataset.gnd_data,\n",
    "    )\n",
    "    metrics = fast_evaluate_function()\n",
    "    \n",
    "    return metrics, query_feats, gallery_feats"
   ]
  },
  {
   "cell_type": "code",
   "execution_count": 74,
   "metadata": {},
   "outputs": [],
   "source": [
    "query_feats, gallery_feats = [], []"
   ]
  },
  {
   "cell_type": "code",
   "execution_count": 50,
   "metadata": {},
   "outputs": [],
   "source": [
    "torch.manual_seed(seed+3)\n",
    "# setup partial function to simplify call\n",
    "\n",
    "eval_function = partial(fast_evaluate_viquae, model=model, \n",
    "    cache_nn_inds=cache_nn_inds,\n",
    "    recall=recall_ks, query_loader=loaders.query, gallery_loader=loaders.gallery,\n",
    "    query_feats=query_feats, gallery_feats=gallery_feats)"
   ]
  },
  {
   "cell_type": "code",
   "execution_count": 51,
   "metadata": {
    "scrolled": false
   },
   "outputs": [
    {
     "name": "stderr",
     "output_type": "stream",
     "text": [
      "\r",
      "Extracting query features:   0%|                          | 0/4 [00:00<?, ?it/s]"
     ]
    },
    {
     "name": "stdout",
     "output_type": "stream",
     "text": [
      "READING ENTRIES FOR THE FIRST TIME\n"
     ]
    },
    {
     "name": "stderr",
     "output_type": "stream",
     "text": [
      "100%|██████████| 100/100 [02:49<00:00,  1.70s/it]                               \n"
     ]
    },
    {
     "name": "stdout",
     "output_type": "stream",
     "text": [
      "{'map': 17.65, 'mrr': 21.72, 'precision': 13.83, 'hit_rate': 85.0, 'recall': 84.58, 'map@1': 1.17, 'mrr@1': 10.83, 'precision@1': 10.83, 'hit_rate@1': 10.83, 'recall@1': 1.17, 'map@5': 4.03, 'mrr@5': 18.46, 'precision@5': 13.33, 'hit_rate@5': 32.5, 'recall@5': 6.89, 'map@10': 7.09, 'mrr@10': 19.98, 'precision@10': 14.17, 'hit_rate@10': 44.17, 'recall@10': 16.02}\n",
      "{'hit_rate': 85.0,\n",
      " 'hit_rate@1': 10.83,\n",
      " 'hit_rate@10': 44.17,\n",
      " 'hit_rate@5': 32.5,\n",
      " 'map': 17.65,\n",
      " 'map@1': 1.17,\n",
      " 'map@10': 7.09,\n",
      " 'map@5': 4.03,\n",
      " 'mrr': 21.72,\n",
      " 'mrr@1': 10.83,\n",
      " 'mrr@10': 19.98,\n",
      " 'mrr@5': 18.46,\n",
      " 'precision': 13.83,\n",
      " 'precision@1': 10.83,\n",
      " 'precision@10': 14.17,\n",
      " 'precision@5': 13.33,\n",
      " 'recall': 84.58,\n",
      " 'recall@1': 1.17,\n",
      " 'recall@10': 16.02,\n",
      " 'recall@5': 6.89}\n"
     ]
    }
   ],
   "source": [
    "result, query_feats, gallery_feats = eval_function()\n",
    "pprint(result)\n",
    "best_val = (0, result, deepcopy(model.state_dict()))"
   ]
  },
  {
   "cell_type": "code",
   "execution_count": 52,
   "metadata": {
    "scrolled": false
   },
   "outputs": [
    {
     "data": {
      "text/plain": [
       "<torch._C.Generator at 0x7f3583607810>"
      ]
     },
     "execution_count": 52,
     "metadata": {},
     "output_type": "execute_result"
    }
   ],
   "source": [
    "torch.manual_seed(seed+4)"
   ]
  },
  {
   "cell_type": "code",
   "execution_count": 78,
   "metadata": {},
   "outputs": [
    {
     "ename": "AttributeError",
     "evalue": "'NoneType' object has no attribute 'config'",
     "output_type": "error",
     "traceback": [
      "\u001b[0;31m---------------------------------------------------------------------------\u001b[0m",
      "\u001b[0;31mAttributeError\u001b[0m                            Traceback (most recent call last)",
      "\u001b[0;32m<ipython-input-78-20fd598bbcc9>\u001b[0m in \u001b[0;36m<module>\u001b[0;34m\u001b[0m\n\u001b[0;32m----> 1\u001b[0;31m save_name = osp.join(temp_dir, '{}_{}.pt'.format(ex.current_run.config['model']['name'],\n\u001b[0m\u001b[1;32m      2\u001b[0m                                                          ex.current_run.config['dataset']['name']))\n",
      "\u001b[0;31mAttributeError\u001b[0m: 'NoneType' object has no attribute 'config'"
     ]
    }
   ],
   "source": [
    "save_name = osp.join(temp_dir, '{}_{}.pt'.format(ex.current_run.config['model']['name'],\n",
    "                                                         ex.current_run.config['dataset']['name']))"
   ]
  },
  {
   "cell_type": "code",
   "execution_count": 53,
   "metadata": {},
   "outputs": [
    {
     "data": {
      "text/plain": [
       "{'map': 17.65,\n",
       " 'mrr': 21.72,\n",
       " 'precision': 13.83,\n",
       " 'hit_rate': 85.0,\n",
       " 'recall': 84.58,\n",
       " 'map@1': 1.17,\n",
       " 'mrr@1': 10.83,\n",
       " 'precision@1': 10.83,\n",
       " 'hit_rate@1': 10.83,\n",
       " 'recall@1': 1.17,\n",
       " 'map@5': 4.03,\n",
       " 'mrr@5': 18.46,\n",
       " 'precision@5': 13.33,\n",
       " 'hit_rate@5': 32.5,\n",
       " 'recall@5': 6.89,\n",
       " 'map@10': 7.09,\n",
       " 'mrr@10': 19.98,\n",
       " 'precision@10': 14.17,\n",
       " 'hit_rate@10': 44.17,\n",
       " 'recall@10': 16.02}"
      ]
     },
     "execution_count": 53,
     "metadata": {},
     "output_type": "execute_result"
    }
   ],
   "source": [
    "result"
   ]
  },
  {
   "cell_type": "code",
   "execution_count": 54,
   "metadata": {
    "scrolled": false
   },
   "outputs": [
    {
     "name": "stderr",
     "output_type": "stream",
     "text": [
      "Training   [000]: 100%|█████████████████████████| 10/10 [00:09<00:00,  1.11it/s]\n",
      "100%|██████████| 100/100 [02:51<00:00,  1.71s/it]\n",
      "Training   [001]:   0%|                                  | 0/10 [00:00<?, ?it/s]"
     ]
    },
    {
     "name": "stdout",
     "output_type": "stream",
     "text": [
      "{'map': 18.09, 'mrr': 24.84, 'precision': 13.83, 'hit_rate': 85.0, 'recall': 84.58, 'map@1': 1.61, 'mrr@1': 15.83, 'precision@1': 15.83, 'hit_rate@1': 15.83, 'recall@1': 1.61, 'map@5': 4.61, 'mrr@5': 21.96, 'precision@5': 14.17, 'hit_rate@5': 35.0, 'recall@5': 7.61, 'map@10': 7.53, 'mrr@10': 23.1, 'precision@10': 14.17, 'hit_rate@10': 44.17, 'recall@10': 16.42}\n",
      "Validation [000]\n",
      "{'hit_rate': 85.0,\n",
      " 'hit_rate@1': 15.83,\n",
      " 'hit_rate@10': 44.17,\n",
      " 'hit_rate@5': 35.0,\n",
      " 'map': 18.09,\n",
      " 'map@1': 1.61,\n",
      " 'map@10': 7.53,\n",
      " 'map@5': 4.61,\n",
      " 'mrr': 24.84,\n",
      " 'mrr@1': 15.83,\n",
      " 'mrr@10': 23.1,\n",
      " 'mrr@5': 21.96,\n",
      " 'precision': 13.83,\n",
      " 'precision@1': 15.83,\n",
      " 'precision@10': 14.17,\n",
      " 'precision@5': 14.17,\n",
      " 'recall': 84.58,\n",
      " 'recall@1': 1.61,\n",
      " 'recall@10': 16.42,\n",
      " 'recall@5': 7.61}\n",
      "New best model in epoch 0.\n"
     ]
    },
    {
     "name": "stderr",
     "output_type": "stream",
     "text": [
      "Training   [001]: 100%|█████████████████████████| 10/10 [00:09<00:00,  1.10it/s]\n",
      "100%|██████████| 100/100 [02:51<00:00,  1.71s/it]\n",
      "Training   [002]:   0%|                                  | 0/10 [00:00<?, ?it/s]"
     ]
    },
    {
     "name": "stdout",
     "output_type": "stream",
     "text": [
      "{'map': 18.61, 'mrr': 24.23, 'precision': 13.83, 'hit_rate': 85.0, 'recall': 84.58, 'map@1': 1.53, 'mrr@1': 12.5, 'precision@1': 12.5, 'hit_rate@1': 12.5, 'recall@1': 1.53, 'map@5': 5.15, 'mrr@5': 21.22, 'precision@5': 15.5, 'hit_rate@5': 36.67, 'recall@5': 8.85, 'map@10': 8.26, 'mrr@10': 22.75, 'precision@10': 14.42, 'hit_rate@10': 49.17, 'recall@10': 19.98}\n",
      "Validation [001]\n",
      "{'hit_rate': 85.0,\n",
      " 'hit_rate@1': 12.5,\n",
      " 'hit_rate@10': 49.17,\n",
      " 'hit_rate@5': 36.67,\n",
      " 'map': 18.61,\n",
      " 'map@1': 1.53,\n",
      " 'map@10': 8.26,\n",
      " 'map@5': 5.15,\n",
      " 'mrr': 24.23,\n",
      " 'mrr@1': 12.5,\n",
      " 'mrr@10': 22.75,\n",
      " 'mrr@5': 21.22,\n",
      " 'precision': 13.83,\n",
      " 'precision@1': 12.5,\n",
      " 'precision@10': 14.42,\n",
      " 'precision@5': 15.5,\n",
      " 'recall': 84.58,\n",
      " 'recall@1': 1.53,\n",
      " 'recall@10': 19.98,\n",
      " 'recall@5': 8.85}\n",
      "New best model in epoch 1.\n"
     ]
    },
    {
     "name": "stderr",
     "output_type": "stream",
     "text": [
      "Training   [002]: 100%|█████████████████████████| 10/10 [00:09<00:00,  1.10it/s]\n",
      "100%|██████████| 100/100 [02:53<00:00,  1.73s/it]\n",
      "Training   [003]:   0%|                                  | 0/10 [00:00<?, ?it/s]"
     ]
    },
    {
     "name": "stdout",
     "output_type": "stream",
     "text": [
      "{'map': 19.08, 'mrr': 24.34, 'precision': 13.83, 'hit_rate': 85.0, 'recall': 84.58, 'map@1': 2.13, 'mrr@1': 11.67, 'precision@1': 11.67, 'hit_rate@1': 11.67, 'recall@1': 2.13, 'map@5': 5.62, 'mrr@5': 21.19, 'precision@5': 13.5, 'hit_rate@5': 35.83, 'recall@5': 9.89, 'map@10': 8.77, 'mrr@10': 22.88, 'precision@10': 13.83, 'hit_rate@10': 49.17, 'recall@10': 20.41}\n",
      "Validation [002]\n",
      "{'hit_rate': 85.0,\n",
      " 'hit_rate@1': 11.67,\n",
      " 'hit_rate@10': 49.17,\n",
      " 'hit_rate@5': 35.83,\n",
      " 'map': 19.08,\n",
      " 'map@1': 2.13,\n",
      " 'map@10': 8.77,\n",
      " 'map@5': 5.62,\n",
      " 'mrr': 24.34,\n",
      " 'mrr@1': 11.67,\n",
      " 'mrr@10': 22.88,\n",
      " 'mrr@5': 21.19,\n",
      " 'precision': 13.83,\n",
      " 'precision@1': 11.67,\n",
      " 'precision@10': 13.83,\n",
      " 'precision@5': 13.5,\n",
      " 'recall': 84.58,\n",
      " 'recall@1': 2.13,\n",
      " 'recall@10': 20.41,\n",
      " 'recall@5': 9.89}\n",
      "New best model in epoch 2.\n"
     ]
    },
    {
     "name": "stderr",
     "output_type": "stream",
     "text": [
      "Training   [003]: 100%|█████████████████████████| 10/10 [00:09<00:00,  1.03it/s]\n",
      "100%|██████████| 100/100 [02:20<00:00,  1.40s/it]\n",
      "Training   [004]:   0%|                                  | 0/10 [00:00<?, ?it/s]"
     ]
    },
    {
     "name": "stdout",
     "output_type": "stream",
     "text": [
      "{'map': 19.69, 'mrr': 27.72, 'precision': 13.83, 'hit_rate': 85.0, 'recall': 84.58, 'map@1': 2.62, 'mrr@1': 17.5, 'precision@1': 17.5, 'hit_rate@1': 17.5, 'recall@1': 2.62, 'map@5': 6.64, 'mrr@5': 24.54, 'precision@5': 14.17, 'hit_rate@5': 37.5, 'recall@5': 11.76, 'map@10': 9.8, 'mrr@10': 26.0, 'precision@10': 13.92, 'hit_rate@10': 48.33, 'recall@10': 20.82}\n",
      "Validation [003]\n",
      "{'hit_rate': 85.0,\n",
      " 'hit_rate@1': 17.5,\n",
      " 'hit_rate@10': 48.33,\n",
      " 'hit_rate@5': 37.5,\n",
      " 'map': 19.69,\n",
      " 'map@1': 2.62,\n",
      " 'map@10': 9.8,\n",
      " 'map@5': 6.64,\n",
      " 'mrr': 27.72,\n",
      " 'mrr@1': 17.5,\n",
      " 'mrr@10': 26.0,\n",
      " 'mrr@5': 24.54,\n",
      " 'precision': 13.83,\n",
      " 'precision@1': 17.5,\n",
      " 'precision@10': 13.92,\n",
      " 'precision@5': 14.17,\n",
      " 'recall': 84.58,\n",
      " 'recall@1': 2.62,\n",
      " 'recall@10': 20.82,\n",
      " 'recall@5': 11.76}\n",
      "New best model in epoch 3.\n"
     ]
    },
    {
     "name": "stderr",
     "output_type": "stream",
     "text": [
      "Training   [004]: 100%|█████████████████████████| 10/10 [00:08<00:00,  1.23it/s]\n",
      "100%|██████████| 100/100 [01:13<00:00,  1.36it/s]"
     ]
    },
    {
     "name": "stdout",
     "output_type": "stream",
     "text": [
      "{'map': 19.8, 'mrr': 27.52, 'precision': 13.83, 'hit_rate': 85.0, 'recall': 84.58, 'map@1': 3.07, 'mrr@1': 17.5, 'precision@1': 17.5, 'hit_rate@1': 17.5, 'recall@1': 3.07, 'map@5': 6.87, 'mrr@5': 23.83, 'precision@5': 13.83, 'hit_rate@5': 35.0, 'recall@5': 11.18, 'map@10': 9.67, 'mrr@10': 25.46, 'precision@10': 12.75, 'hit_rate@10': 46.67, 'recall@10': 19.2}\n",
      "Validation [004]\n",
      "{'hit_rate': 85.0,\n",
      " 'hit_rate@1': 17.5,\n",
      " 'hit_rate@10': 46.67,\n",
      " 'hit_rate@5': 35.0,\n",
      " 'map': 19.8,\n",
      " 'map@1': 3.07,\n",
      " 'map@10': 9.67,\n",
      " 'map@5': 6.87,\n",
      " 'mrr': 27.52,\n",
      " 'mrr@1': 17.5,\n",
      " 'mrr@10': 25.46,\n",
      " 'mrr@5': 23.83,\n",
      " 'precision': 13.83,\n",
      " 'precision@1': 17.5,\n",
      " 'precision@10': 12.75,\n",
      " 'precision@5': 13.83,\n",
      " 'recall': 84.58,\n",
      " 'recall@1': 3.07,\n",
      " 'recall@10': 19.2,\n",
      " 'recall@5': 11.18}\n",
      "New best model in epoch 4.\n"
     ]
    },
    {
     "name": "stderr",
     "output_type": "stream",
     "text": [
      "\n"
     ]
    }
   ],
   "source": [
    "for epoch in range(5):\n",
    "    if cudnn_flag == 'benchmark':\n",
    "        setattr(cudnn, cudnn_flag, True)\n",
    "\n",
    "    torch.cuda.empty_cache()\n",
    "    train_one_epoch(model=model, loader=loaders.train, class_loss=class_loss, optimizer=optimizer, scheduler=scheduler, max_norm=max_norm, epoch=epoch, freq=visdom_freq, ex=None)\n",
    "    \n",
    "    # validation\n",
    "    if cudnn_flag == 'benchmark':\n",
    "        setattr(cudnn, cudnn_flag, False)\n",
    "    \n",
    "    torch.cuda.empty_cache()\n",
    "    result, query_feats, gallery_feats = fast_evaluate_viquae(model=model,\n",
    "                                                              cache_nn_inds=cache_nn_inds,\n",
    "                                                              recall=recall_ks,\n",
    "                                                              query_loader=loaders.query, \n",
    "                                                              gallery_loader=loaders.gallery,\n",
    "                                                              query_feats=query_feats, \n",
    "                                                              gallery_feats=gallery_feats)\n",
    "    \n",
    "    print('Validation [{:03d}]'.format(epoch)), pprint(result)\n",
    "    #ex.log_scalar('val.map', result['map'], step=epoch + 1)\n",
    "\n",
    "    if result['map'] >= best_val[1]['map']:\n",
    "        print('New best model in epoch %d.'%epoch)\n",
    "        best_val = (epoch + 1, result, deepcopy(model.state_dict()))\n",
    "        #torch.save({'state': state_dict_to_cpu(best_val[2]), 'optim': optimizer.state_dict()}, save_name)"
   ]
  },
  {
   "cell_type": "code",
   "execution_count": null,
   "metadata": {},
   "outputs": [],
   "source": [
    "from utils.training import *\n",
    "loader=loaders.train\n",
    "class_loss=class_loss\n",
    "optimizer=optimizer\n",
    "scheduler=scheduler\n",
    "max_norm=max_norm\n",
    "epoch=epoch\n",
    "freq=visdom_freq\n",
    "ex=None"
   ]
  },
  {
   "cell_type": "code",
   "execution_count": null,
   "metadata": {},
   "outputs": [],
   "source": [
    "llm, vvm"
   ]
  },
  {
   "cell_type": "code",
   "execution_count": null,
   "metadata": {},
   "outputs": [],
   "source": [
    "model.train()\n",
    "device = next(model.parameters()).device\n",
    "to_device = lambda x: x.to(device, non_blocking=True)\n",
    "loader_length = len(loader)\n",
    "train_losses = AverageMeter(device=device, length=loader_length)\n",
    "train_accs = AverageMeter(device=device, length=loader_length)\n",
    "pbar = tqdm(loader, ncols=80, desc='Training   [{:03d}]'.format(epoch))\n",
    "for i, entry in enumerate(pbar):\n",
    "    global_feats, local_feats, local_mask, scales, positions, _, _ = entry\n",
    "    global_feats, local_feats, local_mask, scales, positions = map(to_device, (global_feats, local_feats, local_mask, scales, positions))\n",
    "\n",
    "    p_logits = model(global_feats[0::3], local_feats[0::3], local_mask[0::3], scales[0::3], positions[0::3],\n",
    "        global_feats[1::3], local_feats[1::3], local_mask[1::3], scales[1::3], positions[1::3])\n",
    "    n_logits = model(global_feats[0::3], local_feats[0::3], local_mask[0::3], scales[0::3], positions[0::3],\n",
    "        global_feats[2::3], local_feats[2::3], local_mask[2::3], scales[2::3], positions[2::3])\n",
    "\n",
    "    logits = torch.cat([p_logits, n_logits], 0)\n",
    "    bsize = logits.size(0)\n",
    "    # assert (bsize % 2 == 0)\n",
    "    labels = logits.new_ones(logits.size()).float()\n",
    "    labels[(bsize//2):] = 0\n",
    "    loss = class_loss(logits, labels).mean()\n",
    "    acc = ((torch.sigmoid(logits) > 0.5).long() == labels.long()).float().mean()\n",
    "\n",
    "    ##############################################\n",
    "    optimizer.zero_grad()\n",
    "    loss.backward()\n",
    "    if max_norm > 0:\n",
    "        torch.nn.utils.clip_grad_norm_(model.parameters(), max_norm)\n",
    "    optimizer.step()\n",
    "\n",
    "    if scheduler[-1]:\n",
    "        scheduler[0].step()\n",
    "\n",
    "    train_losses.append(loss)\n",
    "    train_accs.append(acc)\n",
    "\n",
    "\n",
    "    if not (i + 1) % freq:\n",
    "        step = epoch + i / loader_length\n",
    "        print('step/loss/accu/lr:', step, train_losses.last_avg.item(), train_accs.last_avg.item(), scheduler[0].get_last_lr()[0])\n",
    "\n",
    "\n",
    "if not scheduler[-1]:\n",
    "    scheduler[0].step()\n"
   ]
  },
  {
   "cell_type": "code",
   "execution_count": null,
   "metadata": {},
   "outputs": [],
   "source": []
  },
  {
   "cell_type": "code",
   "execution_count": null,
   "metadata": {},
   "outputs": [],
   "source": []
  },
  {
   "cell_type": "code",
   "execution_count": null,
   "metadata": {},
   "outputs": [],
   "source": [
    "gnd =  pickle_load(osp.join(train_data_dir, train_gnd_file))"
   ]
  },
  {
   "cell_type": "code",
   "execution_count": null,
   "metadata": {},
   "outputs": [],
   "source": [
    "gnd['gnd'][0].keys()"
   ]
  },
  {
   "cell_type": "code",
   "execution_count": null,
   "metadata": {},
   "outputs": [],
   "source": [
    "train_gnd_data  = None if train_gnd_file is None else pickle_load(osp.join(train_data_dir, train_gnd_file))\n",
    "train_lines     = read_file(osp.join(train_data_dir, train_txt[1]))\n",
    "train_q_lines   = read_file(osp.join(train_data_dir, train_txt[0]))\n",
    "train_samples   = [(line.split(split_char)[0], int(line.split(split_char)[1]), int(line.split(split_char)[2]), int(line.split(split_char)[3])) for line in train_lines]\n",
    "train_q_samples = [(line.split(split_char)[0], int(line.split(split_char)[1]), int(line.split(split_char)[2]), int(line.split(split_char)[3])) for line in train_q_lines]\n",
    "train_set       = FeatureDataset(train_data_dir, train_samples,   desc_name, max_sequence_len, gnd_data=train_gnd_data)\n",
    "query_train_set = FeatureDataset(train_data_dir, train_q_samples, desc_name, max_sequence_len, gnd_data=train_gnd_data)"
   ]
  },
  {
   "cell_type": "code",
   "execution_count": null,
   "metadata": {},
   "outputs": [],
   "source": [
    "train_g_lines   = read_file(osp.join(train_data_dir, 'train_gallery.txt'))\n"
   ]
  },
  {
   "cell_type": "code",
   "execution_count": null,
   "metadata": {},
   "outputs": [],
   "source": [
    "len(train_lines), len(train_q_lines), len(train_g_lines)"
   ]
  },
  {
   "cell_type": "code",
   "execution_count": null,
   "metadata": {},
   "outputs": [],
   "source": [
    "#s_name = set_name\n",
    "#if s_name != '':\n",
    "#    s_name = set_name + '_'\n",
    "#def map_nnids_labels(train_data_dir, train_gnd_file, s_categories):\n",
    "#    gnd =  pickle_load(osp.join(train_data_dir, train_gnd_file))\n",
    "#    selection_gallery = gnd['simlist']\n",
    "#    s_categories = s_categories.reshape(np.array(selection_gallery).shape)\n",
    "#    selection_ids_to_cat_dict = [{k: s_categories[i][k] for k in range(len(selection_gallery[i]))} for i in range(len(selection_gallery))]\n",
    "#    print(s_categories.shape)\n",
    "#\n",
    "#    return selection_ids_to_cat_dict\n",
    "#\n",
    "#s_path = train_data_dir+'/'+set_name+'_s_categories.txt'\n",
    "#s_categories = np.loadtxt(s_path, dtype='int64')\n",
    "#map_nnids_labels = map_nnids_labels(train_data_dir, train_gnd_file, s_categories)\n",
    "\n",
    "train_nn_inds = osp.join(train_data_dir, set_name + '_nn_inds_%s.pkl'%desc_name)\n",
    "gnd_data = train_set.gnd_data['gnd']\n",
    "train_sampler = TripletSampler(query_train_set.targets, batch_size, train_nn_inds, num_candidates, gnd_data)"
   ]
  },
  {
   "cell_type": "code",
   "execution_count": null,
   "metadata": {},
   "outputs": [],
   "source": [
    "#nn_inds_path =  osp.join(train_data_dir, 'training_' + s_name+'nn_inds_%s.pkl'%desc_name)\n",
    "#cache_nn_inds = torch.from_numpy(pickle_load(nn_inds_path)).long()\n",
    "#cache_nn_inds.shape"
   ]
  },
  {
   "cell_type": "code",
   "execution_count": null,
   "metadata": {},
   "outputs": [],
   "source": [
    "len(train_sampler.valids), np.where(train_sampler.valids > 0)[0]"
   ]
  },
  {
   "cell_type": "code",
   "execution_count": null,
   "metadata": {},
   "outputs": [],
   "source": [
    "for item in train_sampler:\n",
    "    for value in item:\n",
    "        if value >= 42678:\n",
    "            print('you screwed, man')"
   ]
  },
  {
   "cell_type": "code",
   "execution_count": null,
   "metadata": {},
   "outputs": [],
   "source": [
    "len(train_sampler)"
   ]
  },
  {
   "cell_type": "code",
   "execution_count": null,
   "metadata": {},
   "outputs": [],
   "source": [
    "95*9, len(train_sampler.valids), 9*3*36"
   ]
  },
  {
   "cell_type": "code",
   "execution_count": null,
   "metadata": {},
   "outputs": [],
   "source": [
    "len(item)"
   ]
  },
  {
   "cell_type": "code",
   "execution_count": null,
   "metadata": {},
   "outputs": [],
   "source": [
    "gnd['gnd'][10]['hard']"
   ]
  },
  {
   "cell_type": "code",
   "execution_count": null,
   "metadata": {},
   "outputs": [],
   "source": [
    "gnd['simlist'][1][6:17]"
   ]
  },
  {
   "cell_type": "code",
   "execution_count": null,
   "metadata": {},
   "outputs": [],
   "source": []
  }
 ],
 "metadata": {
  "kernelspec": {
   "display_name": "Python 3",
   "language": "python",
   "name": "python3"
  },
  "language_info": {
   "codemirror_mode": {
    "name": "ipython",
    "version": 3
   },
   "file_extension": ".py",
   "mimetype": "text/x-python",
   "name": "python",
   "nbconvert_exporter": "python",
   "pygments_lexer": "ipython3",
   "version": "3.7.6"
  }
 },
 "nbformat": 4,
 "nbformat_minor": 4
}
