{
 "cells": [
  {
   "cell_type": "markdown",
   "metadata": {},
   "source": [
    "# Imports"
   ]
  },
  {
   "cell_type": "code",
   "execution_count": 1,
   "metadata": {},
   "outputs": [],
   "source": [
    "import numpy as np\n",
    "from functools import partial"
   ]
  },
  {
   "cell_type": "code",
   "execution_count": 2,
   "metadata": {},
   "outputs": [],
   "source": [
    "from copy import deepcopy\n",
    "from functools import partial\n",
    "from pprint import pprint\n",
    "import os.path as osp"
   ]
  },
  {
   "cell_type": "code",
   "execution_count": 3,
   "metadata": {},
   "outputs": [],
   "source": [
    "import sacred\n",
    "import torch\n",
    "import torch.nn as nn\n",
    "import torch.nn.functional as F\n",
    "from tqdm import tqdm\n",
    "\n",
    "from torch.backends import cudnn"
   ]
  },
  {
   "cell_type": "code",
   "execution_count": 4,
   "metadata": {},
   "outputs": [],
   "source": [
    "from torch.utils.data import DataLoader, RandomSampler, BatchSampler\n",
    "from typing import NamedTuple, Optional, List"
   ]
  },
  {
   "cell_type": "code",
   "execution_count": 5,
   "metadata": {},
   "outputs": [],
   "source": [
    "from models.matcher import MatchERT\n",
    "from models.ingredient import model_ingredient, get_model"
   ]
  },
  {
   "cell_type": "code",
   "execution_count": 6,
   "metadata": {},
   "outputs": [],
   "source": [
    "from sacred import SETTINGS\n",
    "from sacred.utils import apply_backspaces_and_linefeeds\n",
    "from sacred import Ingredient"
   ]
  },
  {
   "cell_type": "code",
   "execution_count": 7,
   "metadata": {},
   "outputs": [
    {
     "name": "stderr",
     "output_type": "stream",
     "text": [
      "/mnt/beegfs/home/smessoud/anaconda3/envs/rrt/lib/python3.7/site-packages/ranx/qrels_run_common.py:7: UserWarning: Sorting disabled. Assumes that you provided sorted doc_ids!\n",
      "  warnings.warn(\"Sorting disabled. Assumes that you provided sorted doc_ids!\")\n"
     ]
    }
   ],
   "source": [
    "from torch.optim import Optimizer\n",
    "from torch.optim.lr_scheduler import _LRScheduler\n",
    "from torch.utils.data import DataLoader, Dataset\n",
    "from utils.metrics import *"
   ]
  },
  {
   "cell_type": "code",
   "execution_count": 8,
   "metadata": {},
   "outputs": [],
   "source": [
    "from utils import pickle_load\n",
    "from sacred import Experiment\n",
    "from utils.data.dataset_ingredient import data_ingredient, get_loaders\n",
    "from utils.data.dataset import FeatureDataset\n",
    "ex = sacred.Experiment('RRT Evaluation', ingredients=[data_ingredient, model_ingredient], interactive=True)"
   ]
  },
  {
   "cell_type": "code",
   "execution_count": 9,
   "metadata": {},
   "outputs": [],
   "source": [
    "ex = sacred.Experiment('Prepare Top-K (VIQUAE FOR RTT)', interactive=True)\n",
    "# Filter backspaces and linefeeds\n",
    "SETTINGS.CAPTURE_MODE = 'sys'\n",
    "ex.captured_out_filter = apply_backspaces_and_linefeeds"
   ]
  },
  {
   "cell_type": "code",
   "execution_count": 10,
   "metadata": {},
   "outputs": [],
   "source": [
    "feature_name = 'r50_gldv1'\n",
    "set_name = 'train'\n",
    "gnd_name = 'gnd_'+ set_name+'.pkl'"
   ]
  },
  {
   "cell_type": "code",
   "execution_count": 11,
   "metadata": {},
   "outputs": [],
   "source": [
    "cpu = False\n",
    "cudnn_flag = 'benchmark'\n",
    "temp_dir = osp.join('logs', 'temp')\n",
    "resume = '/mnt/beegfs/home/smessoud/RerankingTransformer/RRT_GLD/rrt_gld_ckpts/r50_gldv1.pt'\n",
    "seed = 0"
   ]
  },
  {
   "cell_type": "code",
   "execution_count": 33,
   "metadata": {},
   "outputs": [],
   "source": [
    "dataset_name = 'viquae_for_rrt'\n",
    "data_dir = osp.join('/mnt/beegfs/home/smessoud/RerankingTransformer/models/research/delf/delf/python/delg/data', dataset_name)"
   ]
  },
  {
   "cell_type": "code",
   "execution_count": 34,
   "metadata": {},
   "outputs": [],
   "source": [
    "train_data_dir = '/mnt/beegfs/home/smessoud/RerankingTransformer/models/research/delf/delf/python/delg/data/viquae_for_rrt'"
   ]
  },
  {
   "cell_type": "code",
   "execution_count": 35,
   "metadata": {},
   "outputs": [],
   "source": [
    "gnd = pickle_load(osp.join(train_data_dir, gnd_name))"
   ]
  },
  {
   "cell_type": "code",
   "execution_count": 36,
   "metadata": {},
   "outputs": [
    {
     "data": {
      "text/plain": [
       "42678"
      ]
     },
     "execution_count": 36,
     "metadata": {},
     "output_type": "execute_result"
    }
   ],
   "source": [
    "len(gnd['imlist'])"
   ]
  },
  {
   "cell_type": "code",
   "execution_count": 61,
   "metadata": {
    "scrolled": false
   },
   "outputs": [
    {
     "data": {
      "text/plain": [
       "{'easy': ['512px-Achille_Compagnoni_1955.jpg',\n",
       "  '512px-K2_2006b.jpg',\n",
       "  '512px-Lino_Lacedelli_1954.jpg'],\n",
       " 'hard': [],\n",
       " 'junk': ['512px-Everest_kalapatthar_crop.jpg',\n",
       "  '512px-Panoramic_view_of_Mussoorie,_Uttarakhand.jpg',\n",
       "  '512px-Dolakha_Jiri.jpg',\n",
       "  '512px-Cho_Oyu.jpg',\n",
       "  '512px-210th_Rescue_Squadron_-_1.jpg',\n",
       "  '512px-The_Malaysian_Federal_Honour_-_Panglima_Jasa_Negara_(PJN).jpg',\n",
       "  '512px-Hugh_Ruttledge_1936.jpg',\n",
       "  '512px-Lhotse.jpg',\n",
       "  '512px-Douglas_Mawson_resting.jpg',\n",
       "  '512px-Annapurna_I.jpg',\n",
       "  '512px-Chris_bundled_up_on_an_expedition.jpg',\n",
       "  '512px-Andrew_Scott_Waugh_1861.jpg',\n",
       "  '512px-Padma_Bhushan_Bachendri_Pal_(cropped).jpg',\n",
       "  '512px-15-152-Pluto-NewHorizons-HighResolution-20150714-IFV.jpg',\n",
       "  '512px-G3C_spacesuit_Gemini_3.jpg',\n",
       "  '512px-Mount_Everest_as_seen_from_Drukair2_PLW_edit.jpg',\n",
       "  '512px-George_Everest_-_Maull_&_Polyblank.jpg',\n",
       "  \"512px-Joske's_Thumb_from_near_Montfort_Boys_Town,_Fiji.jpg\",\n",
       "  '512px-Kobe_eddiebauer2560.jpg',\n",
       "  '512px-Carstensz-expeditie.jpg',\n",
       "  '512px-Nepal_-_Sagamartha_Trek_-_240_-_Tengboche_Monastery.jpg',\n",
       "  '512px-Tengboche-70-Lhotse_und_Ama_Dablam-2007-gje.jpg'],\n",
       " 'neg': ['512px-Everest_kalapatthar_crop.jpg',\n",
       "  '512px-Panoramic_view_of_Mussoorie,_Uttarakhand.jpg',\n",
       "  '512px-Dolakha_Jiri.jpg',\n",
       "  '512px-Cho_Oyu.jpg',\n",
       "  '512px-210th_Rescue_Squadron_-_1.jpg',\n",
       "  '512px-The_Malaysian_Federal_Honour_-_Panglima_Jasa_Negara_(PJN).jpg',\n",
       "  '512px-Hugh_Ruttledge_1936.jpg',\n",
       "  '512px-Lhotse.jpg',\n",
       "  '512px-Douglas_Mawson_resting.jpg',\n",
       "  '512px-Annapurna_I.jpg',\n",
       "  '512px-Chris_bundled_up_on_an_expedition.jpg',\n",
       "  '512px-Andrew_Scott_Waugh_1861.jpg',\n",
       "  '512px-Padma_Bhushan_Bachendri_Pal_(cropped).jpg',\n",
       "  '512px-15-152-Pluto-NewHorizons-HighResolution-20150714-IFV.jpg',\n",
       "  '512px-G3C_spacesuit_Gemini_3.jpg',\n",
       "  '512px-Mount_Everest_as_seen_from_Drukair2_PLW_edit.jpg',\n",
       "  '512px-George_Everest_-_Maull_&_Polyblank.jpg',\n",
       "  \"512px-Joske's_Thumb_from_near_Montfort_Boys_Town,_Fiji.jpg\",\n",
       "  '512px-Kobe_eddiebauer2560.jpg',\n",
       "  '512px-Carstensz-expeditie.jpg',\n",
       "  '512px-Nepal_-_Sagamartha_Trek_-_240_-_Tengboche_Monastery.jpg',\n",
       "  '512px-Tengboche-70-Lhotse_und_Ama_Dablam-2007-gje.jpg'],\n",
       " 'rank_dict': {\"512px-Joske's_Thumb_from_near_Montfort_Boys_Town,_Fiji.jpg\": 0,\n",
       "  '512px-Kobe_eddiebauer2560.jpg': 1,\n",
       "  '512px-Annapurna_I.jpg': 2,\n",
       "  '512px-Dolakha_Jiri.jpg': 3,\n",
       "  '512px-G3C_spacesuit_Gemini_3.jpg': 4,\n",
       "  '512px-Lino_Lacedelli_1954.jpg': 5,\n",
       "  '512px-Mount_Everest_as_seen_from_Drukair2_PLW_edit.jpg': 6,\n",
       "  '512px-George_Everest_-_Maull_&_Polyblank.jpg': 7,\n",
       "  '512px-Chris_bundled_up_on_an_expedition.jpg': 8,\n",
       "  '512px-Andrew_Scott_Waugh_1861.jpg': 9,\n",
       "  '512px-The_Malaysian_Federal_Honour_-_Panglima_Jasa_Negara_(PJN).jpg': 10,\n",
       "  '512px-Lhotse.jpg': 11,\n",
       "  '512px-210th_Rescue_Squadron_-_1.jpg': 12,\n",
       "  '512px-Tengboche-70-Lhotse_und_Ama_Dablam-2007-gje.jpg': 13,\n",
       "  '512px-Nepal_-_Sagamartha_Trek_-_240_-_Tengboche_Monastery.jpg': 14,\n",
       "  '512px-Padma_Bhushan_Bachendri_Pal_(cropped).jpg': 15,\n",
       "  '512px-Carstensz-expeditie.jpg': 16,\n",
       "  '512px-15-152-Pluto-NewHorizons-HighResolution-20150714-IFV.jpg': 17,\n",
       "  '512px-Douglas_Mawson_resting.jpg': 18,\n",
       "  '512px-Panoramic_view_of_Mussoorie,_Uttarakhand.jpg': 19,\n",
       "  '512px-Hugh_Ruttledge_1936.jpg': 20,\n",
       "  '512px-Cho_Oyu.jpg': 21,\n",
       "  '512px-Achille_Compagnoni_1955.jpg': 22,\n",
       "  '512px-Everest_kalapatthar_crop.jpg': 23,\n",
       "  '512px-K2_2006b.jpg': 24},\n",
       " 'r_easy': [22, 24, 5],\n",
       " 'r_hard': [],\n",
       " 'r_junk': [23,\n",
       "  19,\n",
       "  3,\n",
       "  21,\n",
       "  12,\n",
       "  10,\n",
       "  20,\n",
       "  11,\n",
       "  18,\n",
       "  2,\n",
       "  8,\n",
       "  9,\n",
       "  15,\n",
       "  17,\n",
       "  4,\n",
       "  6,\n",
       "  7,\n",
       "  0,\n",
       "  1,\n",
       "  16,\n",
       "  14,\n",
       "  13],\n",
       " 'r_neg': [23,\n",
       "  19,\n",
       "  3,\n",
       "  21,\n",
       "  12,\n",
       "  10,\n",
       "  20,\n",
       "  11,\n",
       "  18,\n",
       "  2,\n",
       "  8,\n",
       "  9,\n",
       "  15,\n",
       "  17,\n",
       "  4,\n",
       "  6,\n",
       "  7,\n",
       "  0,\n",
       "  1,\n",
       "  16,\n",
       "  14,\n",
       "  13],\n",
       " 'img_rank_dict': {\"512px-Joske's_Thumb_from_near_Montfort_Boys_Town,_Fiji.jpg\": 0,\n",
       "  '512px-Kobe_eddiebauer2560.jpg': 1,\n",
       "  '512px-Annapurna_I.jpg': 2,\n",
       "  '512px-Dolakha_Jiri.jpg': 3,\n",
       "  '512px-G3C_spacesuit_Gemini_3.jpg': 4,\n",
       "  '512px-Lino_Lacedelli_1954.jpg': 5,\n",
       "  '512px-Mount_Everest_as_seen_from_Drukair2_PLW_edit.jpg': 6,\n",
       "  '512px-George_Everest_-_Maull_&_Polyblank.jpg': 7,\n",
       "  '512px-Chris_bundled_up_on_an_expedition.jpg': 8,\n",
       "  '512px-Andrew_Scott_Waugh_1861.jpg': 9,\n",
       "  '512px-The_Malaysian_Federal_Honour_-_Panglima_Jasa_Negara_(PJN).jpg': 10,\n",
       "  '512px-Lhotse.jpg': 11,\n",
       "  '512px-210th_Rescue_Squadron_-_1.jpg': 12,\n",
       "  '512px-Tengboche-70-Lhotse_und_Ama_Dablam-2007-gje.jpg': 13,\n",
       "  '512px-Nepal_-_Sagamartha_Trek_-_240_-_Tengboche_Monastery.jpg': 14,\n",
       "  '512px-Padma_Bhushan_Bachendri_Pal_(cropped).jpg': 15,\n",
       "  '512px-Carstensz-expeditie.jpg': 16,\n",
       "  '512px-15-152-Pluto-NewHorizons-HighResolution-20150714-IFV.jpg': 17,\n",
       "  '512px-Douglas_Mawson_resting.jpg': 18,\n",
       "  '512px-Panoramic_view_of_Mussoorie,_Uttarakhand.jpg': 19,\n",
       "  '512px-Hugh_Ruttledge_1936.jpg': 20,\n",
       "  '512px-Cho_Oyu.jpg': 21,\n",
       "  '512px-Achille_Compagnoni_1955.jpg': 22,\n",
       "  '512px-Everest_kalapatthar_crop.jpg': 23,\n",
       "  '512px-K2_2006b.jpg': 24},\n",
       " 'rank_img_dict': {0: \"512px-Joske's_Thumb_from_near_Montfort_Boys_Town,_Fiji.jpg\",\n",
       "  1: '512px-Kobe_eddiebauer2560.jpg',\n",
       "  2: '512px-Annapurna_I.jpg',\n",
       "  3: '512px-Dolakha_Jiri.jpg',\n",
       "  4: '512px-G3C_spacesuit_Gemini_3.jpg',\n",
       "  5: '512px-Lino_Lacedelli_1954.jpg',\n",
       "  6: '512px-Mount_Everest_as_seen_from_Drukair2_PLW_edit.jpg',\n",
       "  7: '512px-George_Everest_-_Maull_&_Polyblank.jpg',\n",
       "  8: '512px-Chris_bundled_up_on_an_expedition.jpg',\n",
       "  9: '512px-Andrew_Scott_Waugh_1861.jpg',\n",
       "  10: '512px-The_Malaysian_Federal_Honour_-_Panglima_Jasa_Negara_(PJN).jpg',\n",
       "  11: '512px-Lhotse.jpg',\n",
       "  12: '512px-210th_Rescue_Squadron_-_1.jpg',\n",
       "  13: '512px-Tengboche-70-Lhotse_und_Ama_Dablam-2007-gje.jpg',\n",
       "  14: '512px-Nepal_-_Sagamartha_Trek_-_240_-_Tengboche_Monastery.jpg',\n",
       "  15: '512px-Padma_Bhushan_Bachendri_Pal_(cropped).jpg',\n",
       "  16: '512px-Carstensz-expeditie.jpg',\n",
       "  17: '512px-15-152-Pluto-NewHorizons-HighResolution-20150714-IFV.jpg',\n",
       "  18: '512px-Douglas_Mawson_resting.jpg',\n",
       "  19: '512px-Panoramic_view_of_Mussoorie,_Uttarakhand.jpg',\n",
       "  20: '512px-Hugh_Ruttledge_1936.jpg',\n",
       "  21: '512px-Cho_Oyu.jpg',\n",
       "  22: '512px-Achille_Compagnoni_1955.jpg',\n",
       "  23: '512px-Everest_kalapatthar_crop.jpg',\n",
       "  24: '512px-K2_2006b.jpg'}}"
      ]
     },
     "execution_count": 61,
     "metadata": {},
     "output_type": "execute_result"
    }
   ],
   "source": [
    "gnd['gnd'][47]"
   ]
  },
  {
   "cell_type": "code",
   "execution_count": 52,
   "metadata": {},
   "outputs": [
    {
     "name": "stdout",
     "output_type": "stream",
     "text": [
      "512px-Achille_Compagnoni_1955.jpg\n",
      "512px-K2_2006b.jpg\n",
      "512px-Lino_Lacedelli_1954.jpg\n"
     ]
    }
   ],
   "source": [
    "i = 47\n",
    "for j in gnd['gnd'][i]['r_easy']:\n",
    "    new_query = gnd['gnd'][i]['rank_img_dict'][j]\n",
    "    print(new_query)"
   ]
  },
  {
   "cell_type": "code",
   "execution_count": 59,
   "metadata": {
    "scrolled": true
   },
   "outputs": [
    {
     "name": "stdout",
     "output_type": "stream",
     "text": [
      "512px-Achille_Compagnoni_1955.jpg\n",
      "22\n"
     ]
    },
    {
     "ename": "IndexError",
     "evalue": "list index out of range",
     "output_type": "error",
     "traceback": [
      "\u001b[0;31m---------------------------------------------------------------------------\u001b[0m",
      "\u001b[0;31mIndexError\u001b[0m                                Traceback (most recent call last)",
      "\u001b[0;32m<ipython-input-59-e929cba9852e>\u001b[0m in \u001b[0;36m<module>\u001b[0;34m\u001b[0m\n\u001b[1;32m      5\u001b[0m     \u001b[0mprint\u001b[0m\u001b[0;34m(\u001b[0m\u001b[0mnew_query\u001b[0m\u001b[0;34m)\u001b[0m\u001b[0;34m\u001b[0m\u001b[0;34m\u001b[0m\u001b[0m\n\u001b[1;32m      6\u001b[0m     \u001b[0mprint\u001b[0m\u001b[0;34m(\u001b[0m\u001b[0mindex\u001b[0m\u001b[0;34m)\u001b[0m\u001b[0;34m\u001b[0m\u001b[0;34m\u001b[0m\u001b[0m\n\u001b[0;32m----> 7\u001b[0;31m     \u001b[0mgnd\u001b[0m\u001b[0;34m[\u001b[0m\u001b[0;34m'simlist'\u001b[0m\u001b[0;34m]\u001b[0m\u001b[0;34m[\u001b[0m\u001b[0mi\u001b[0m\u001b[0;34m]\u001b[0m\u001b[0;34m[\u001b[0m\u001b[0mindex\u001b[0m\u001b[0;34m]\u001b[0m\u001b[0;34m\u001b[0m\u001b[0;34m\u001b[0m\u001b[0m\n\u001b[0m",
      "\u001b[0;31mIndexError\u001b[0m: list index out of range"
     ]
    }
   ],
   "source": [
    "i = 47\n",
    "for j in gnd['gnd'][i]['r_easy']:\n",
    "    new_query = gnd['gnd'][i]['rank_img_dict'][j]\n",
    "    index = gnd['gnd'][i]['img_rank_dict'][new_query]\n",
    "    print(new_query)\n",
    "    print(index)\n",
    "    gnd['simlist'][i][index]\n"
   ]
  },
  {
   "cell_type": "code",
   "execution_count": 65,
   "metadata": {},
   "outputs": [
    {
     "data": {
      "text/plain": [
       "([22, 24, 5],\n",
       " [23,\n",
       "  19,\n",
       "  3,\n",
       "  21,\n",
       "  12,\n",
       "  10,\n",
       "  20,\n",
       "  11,\n",
       "  18,\n",
       "  2,\n",
       "  8,\n",
       "  9,\n",
       "  15,\n",
       "  17,\n",
       "  4,\n",
       "  6,\n",
       "  7,\n",
       "  0,\n",
       "  1,\n",
       "  16,\n",
       "  14,\n",
       "  13])"
      ]
     },
     "execution_count": 65,
     "metadata": {},
     "output_type": "execute_result"
    }
   ],
   "source": [
    "gnd['gnd'][i]['r_easy'], gnd['gnd'][i]['r_junk'], "
   ]
  },
  {
   "cell_type": "code",
   "execution_count": 64,
   "metadata": {},
   "outputs": [
    {
     "data": {
      "text/plain": [
       "True"
      ]
     },
     "execution_count": 64,
     "metadata": {},
     "output_type": "execute_result"
    }
   ],
   "source": [
    "not('512px-Achille_Compagnoni_1955.jpg' in gnd['simlist'][i])"
   ]
  },
  {
   "cell_type": "code",
   "execution_count": 57,
   "metadata": {},
   "outputs": [
    {
     "data": {
      "text/plain": [
       "22"
      ]
     },
     "execution_count": 57,
     "metadata": {},
     "output_type": "execute_result"
    }
   ],
   "source": [
    "len(gnd['simlist'][i])"
   ]
  },
  {
   "cell_type": "code",
   "execution_count": 54,
   "metadata": {},
   "outputs": [
    {
     "data": {
      "text/plain": [
       "[12, 8, 4, 15, 11, 23, 17]"
      ]
     },
     "execution_count": 54,
     "metadata": {},
     "output_type": "execute_result"
    }
   ],
   "source": [
    "[12, 8, 4, 15, 11, 23, 17]"
   ]
  },
  {
   "cell_type": "code",
   "execution_count": null,
   "metadata": {},
   "outputs": [],
   "source": []
  }
 ],
 "metadata": {
  "kernelspec": {
   "display_name": "Python 3",
   "language": "python",
   "name": "python3"
  },
  "language_info": {
   "codemirror_mode": {
    "name": "ipython",
    "version": 3
   },
   "file_extension": ".py",
   "mimetype": "text/x-python",
   "name": "python",
   "nbconvert_exporter": "python",
   "pygments_lexer": "ipython3",
   "version": "3.7.6"
  }
 },
 "nbformat": 4,
 "nbformat_minor": 4
}
