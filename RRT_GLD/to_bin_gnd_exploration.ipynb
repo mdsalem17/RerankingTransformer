{
 "cells": [
  {
   "cell_type": "markdown",
   "metadata": {},
   "source": [
    "# Imports"
   ]
  },
  {
   "cell_type": "code",
   "execution_count": 1,
   "metadata": {},
   "outputs": [],
   "source": [
    "import numpy as np\n",
    "from functools import partial"
   ]
  },
  {
   "cell_type": "code",
   "execution_count": 2,
   "metadata": {},
   "outputs": [],
   "source": [
    "from copy import deepcopy\n",
    "from functools import partial\n",
    "from pprint import pprint\n",
    "import os.path as osp"
   ]
  },
  {
   "cell_type": "code",
   "execution_count": 3,
   "metadata": {},
   "outputs": [],
   "source": [
    "import sacred\n",
    "import torch\n",
    "import torch.nn as nn\n",
    "import torch.nn.functional as F\n",
    "from tqdm import tqdm\n",
    "\n",
    "from torch.backends import cudnn"
   ]
  },
  {
   "cell_type": "code",
   "execution_count": 4,
   "metadata": {},
   "outputs": [],
   "source": [
    "from torch.utils.data import DataLoader, RandomSampler, BatchSampler\n",
    "from typing import NamedTuple, Optional, List"
   ]
  },
  {
   "cell_type": "code",
   "execution_count": 5,
   "metadata": {},
   "outputs": [],
   "source": [
    "from models.matcher import MatchERT\n",
    "from models.ingredient import model_ingredient, get_model"
   ]
  },
  {
   "cell_type": "code",
   "execution_count": 6,
   "metadata": {},
   "outputs": [],
   "source": [
    "from sacred import SETTINGS\n",
    "from sacred.utils import apply_backspaces_and_linefeeds\n",
    "from sacred import Ingredient"
   ]
  },
  {
   "cell_type": "code",
   "execution_count": 7,
   "metadata": {},
   "outputs": [],
   "source": [
    "from torch.optim import Optimizer\n",
    "from torch.optim.lr_scheduler import _LRScheduler\n",
    "from torch.utils.data import DataLoader, Dataset\n",
    "from utils.metrics import *"
   ]
  },
  {
   "cell_type": "code",
   "execution_count": 8,
   "metadata": {},
   "outputs": [],
   "source": [
    "from utils import pickle_load\n",
    "from sacred import Experiment\n",
    "from utils.data.dataset_ingredient import data_ingredient, get_loaders\n",
    "from utils.data.dataset import FeatureDataset\n",
    "ex = sacred.Experiment('RRT Evaluation', ingredients=[data_ingredient, model_ingredient], interactive=True)"
   ]
  },
  {
   "cell_type": "code",
   "execution_count": 9,
   "metadata": {},
   "outputs": [],
   "source": [
    "ex = sacred.Experiment('Prepare Top-K (VIQUAE FOR RTT)', interactive=True)\n",
    "# Filter backspaces and linefeeds\n",
    "SETTINGS.CAPTURE_MODE = 'sys'\n",
    "ex.captured_out_filter = apply_backspaces_and_linefeeds"
   ]
  },
  {
   "cell_type": "code",
   "execution_count": 10,
   "metadata": {},
   "outputs": [],
   "source": [
    "feature_name = 'r50_gldv1'\n",
    "set_name = 'train'\n",
    "gnd_name = 'gnd_'+ set_name+'.pkl'"
   ]
  },
  {
   "cell_type": "code",
   "execution_count": 11,
   "metadata": {},
   "outputs": [],
   "source": [
    "cpu = False\n",
    "cudnn_flag = 'benchmark'\n",
    "temp_dir = osp.join('logs', 'temp')\n",
    "resume = '/mnt/beegfs/home/smessoud/RerankingTransformer/RRT_GLD/rrt_gld_ckpts/r50_gldv1.pt'\n",
    "seed = 0"
   ]
  },
  {
   "cell_type": "code",
   "execution_count": 12,
   "metadata": {},
   "outputs": [],
   "source": [
    "dataset_name = 'viquae_for_rrt'\n",
    "data_dir = osp.join('/mnt/beegfs/home/smessoud/RerankingTransformer/models/research/delf/delf/python/delg/data', dataset_name)"
   ]
  },
  {
   "cell_type": "code",
   "execution_count": 13,
   "metadata": {},
   "outputs": [],
   "source": [
    "train_data_dir = '/mnt/beegfs/home/smessoud/RerankingTransformer/models/research/delf/delf/python/delg/data/viquae_for_rrt'"
   ]
  },
  {
   "cell_type": "code",
   "execution_count": 14,
   "metadata": {},
   "outputs": [],
   "source": [
    "gnd = pickle_load(osp.join(train_data_dir, gnd_name))"
   ]
  },
  {
   "cell_type": "code",
   "execution_count": 15,
   "metadata": {},
   "outputs": [
    {
     "data": {
      "text/plain": [
       "42678"
      ]
     },
     "execution_count": 15,
     "metadata": {},
     "output_type": "execute_result"
    }
   ],
   "source": [
    "len(gnd['imlist'])"
   ]
  },
  {
   "cell_type": "code",
   "execution_count": 16,
   "metadata": {},
   "outputs": [
    {
     "data": {
      "text/plain": [
       "(['512px-Apollo_Victoria_Theatre.jpg',\n",
       "  '512px-Margaret_Hamilton_1966.jpg',\n",
       "  '512px-Hairspray_the_Musical_2012_Aberystwyth_Arts_Centre_Summer_Season_production_poster.png',\n",
       "  '512px-Beauty_and_Beast.jpg',\n",
       "  '512px-Use_of_Wondering.jpg',\n",
       "  '512px-The_Sound_of_Music_Christopher_Plummer_and_Julie_Andrews.jpg',\n",
       "  '512px-Guys_and_Dolls_(1978).jpg',\n",
       "  '512px-LauraBellBundyApr10.jpg',\n",
       "  '512px-Chicago3_(MdB).jpg',\n",
       "  '512px-Alice_Ghostley_Cousin_Alice_Mayberry_RFD_1970.JPG',\n",
       "  '512px-Delrae_Knutson_as_Eliza_Doolittle_c1986.jpg',\n",
       "  '512px-Glinda.png',\n",
       "  '512px-Helen_Westley.jpg',\n",
       "  '512px-Alexander_Mann_-_Soubrette.jpg',\n",
       "  '512px-Mary_Poppins_Returns_Logo_Black.svg.png',\n",
       "  '512px-Miss_Alice_May_H6724_(cropped).jpg',\n",
       "  '512px-Jellia_Jamb.jpg',\n",
       "  '512px-Laurie_Beechman_1984.jpg',\n",
       "  '512px-Silvi_Vrait_1989.jpg',\n",
       "  '512px-Dorothy_Loudon.jpg',\n",
       "  '512px-JLT2017.jpg',\n",
       "  '512px-Patty_Duke_1975.JPG',\n",
       "  '512px-South_Pacific_scene.jpg',\n",
       "  '512px-Stephanie_Kurtzuba_at_the_premiere_of_Bad_Education_(48810498807).jpg',\n",
       "  '512px-Clara_Blandick.jpg',\n",
       "  '512px-Hereford_High_School_(Parkton,_Maryland).jpg',\n",
       "  '512px-Colette_Renard_(1961).jpg',\n",
       "  '512px-Shinyoungsook.jpg',\n",
       "  '512px-Stephen_Oremus_and_Stephanie_J_Block.jpg',\n",
       "  \"512px-Hurlbert_at_Joe's_Pub_in_2010..jpg\",\n",
       "  '512px-Eartha_Kitt_2007.jpg',\n",
       "  '512px-Recent_headshot_of_Marsiya_Vlad_-_2013-07-09_07-48.jpg',\n",
       "  '512px-Stuart_Damon_Lesley_Ann_Warren_Cinderella.jpg',\n",
       "  '512px-Grupo_Rouge_no_Lady_Night_com_Tatá_Werneck_03.jpg',\n",
       "  '512px-Ernani_Libretto_1859.jpg',\n",
       "  '512px-Savannah_Wise_2008_off-Broadway_Rock_of_Ages.jpg',\n",
       "  '512px-EstherSummerson.jpg',\n",
       "  '512px-MatildaNightShubertsign.JPG',\n",
       "  '512px-Becky_Gulsvig.jpg',\n",
       "  '512px-Andrea_McArdle_Reid_Shelton_Annie_1977.JPG',\n",
       "  '512px-Geritol_tonic.jpg',\n",
       "  '512px-Naples_Players_Performance_of_\"42nd_Street\"_in_Blackburn_Hall,_July_2011..jpg',\n",
       "  '512px-Jane_Porter.jpg'],\n",
       " 43)"
      ]
     },
     "execution_count": 16,
     "metadata": {},
     "output_type": "execute_result"
    }
   ],
   "source": [
    "gnd['simlist'][0], len(gnd['simlist'][0])"
   ]
  },
  {
   "cell_type": "code",
   "execution_count": 17,
   "metadata": {
    "scrolled": true
   },
   "outputs": [
    {
     "data": {
      "text/plain": [
       "1651847119.664981"
      ]
     },
     "execution_count": 17,
     "metadata": {},
     "output_type": "execute_result"
    }
   ],
   "source": [
    "import time\n",
    "time.time()"
   ]
  },
  {
   "cell_type": "code",
   "execution_count": 18,
   "metadata": {},
   "outputs": [
    {
     "data": {
      "text/plain": [
       "dict_keys(['easy', 'hard', 'junk', 'neg', 'provenance_entity', 'ir_order', 'img_rank_dict', 'rank_img_dict', 'r_easy', 'r_hard', 'r_junk', 'r_neg', 'r_ir_order', 'anchor_idx', 'g_easy', 'g_hard', 'g_junk', 'g_neg'])"
      ]
     },
     "execution_count": 18,
     "metadata": {},
     "output_type": "execute_result"
    }
   ],
   "source": [
    "gnd['gnd'][1].keys()"
   ]
  },
  {
   "cell_type": "code",
   "execution_count": 61,
   "metadata": {},
   "outputs": [],
   "source": [
    "new_selection = []\n",
    "\n",
    "for i in range(len(gnd['simlist'])):\n",
    "    array = np.array(gnd['simlist'][i])\n",
    "    random_array = np.random.choice(array, 100)\n",
    "    new_selection.append(random_array)"
   ]
  },
  {
   "cell_type": "code",
   "execution_count": 65,
   "metadata": {},
   "outputs": [],
   "source": [
    "def format_selection(selection, order=True):\n",
    "    \n",
    "    def preserve_order(array):\n",
    "        new_array = []\n",
    "        for e in array:\n",
    "            if e in new_array:\n",
    "                continue\n",
    "            else:\n",
    "                new_array.append(e)\n",
    "        return new_array\n",
    "    \n",
    "    if order:\n",
    "        return [preserve_order(sub) for sub in selection]\n",
    "    else:\n",
    "        return [list(set(sub)) for sub in selection]"
   ]
  },
  {
   "cell_type": "code",
   "execution_count": 88,
   "metadata": {},
   "outputs": [],
   "source": [
    "sizes = [len(gnd['simlist'][i]) for i in range(len(gnd['simlist']))]"
   ]
  },
  {
   "cell_type": "code",
   "execution_count": 89,
   "metadata": {},
   "outputs": [
    {
     "data": {
      "text/plain": [
       "((1190, 100),\n",
       " array([[ 0,  1,  2, ..., 97, 98, 99],\n",
       "        [ 0,  1,  2, ..., 97, 98, 99],\n",
       "        [ 0,  1,  2, ..., 97, 98, 99],\n",
       "        ...,\n",
       "        [ 0,  1,  2, ..., 97, 98, 99],\n",
       "        [ 0,  1,  2, ..., 97, 98, 99],\n",
       "        [ 0,  1,  2, ..., 97, 98, 99]]))"
      ]
     },
     "execution_count": 89,
     "metadata": {},
     "output_type": "execute_result"
    }
   ],
   "source": [
    "nn_inds, _ = np.meshgrid(np.arange(100), np.arange(len(gnd['qimlist'])))\n",
    "nn_inds.shape, nn_inds"
   ]
  },
  {
   "cell_type": "code",
   "execution_count": 112,
   "metadata": {},
   "outputs": [],
   "source": [
    "for i in range(nn_inds.shape[0]):\n",
    "    if max(gnd['gnd'][i]['r_ir_order']) >= sizes[i]:\n",
    "        print(i)"
   ]
  },
  {
   "cell_type": "code",
   "execution_count": 113,
   "metadata": {},
   "outputs": [],
   "source": [
    "counter = 0\n",
    "for i in range(nn_inds.shape[0]):\n",
    "    nn_inds[i,:sizes[i]] = gnd['gnd'][i]['r_ir_order']"
   ]
  },
  {
   "cell_type": "code",
   "execution_count": 115,
   "metadata": {},
   "outputs": [
    {
     "data": {
      "text/plain": [
       "[0,\n",
       " 1,\n",
       " 2,\n",
       " 3,\n",
       " 4,\n",
       " 5,\n",
       " 6,\n",
       " 7,\n",
       " 8,\n",
       " 9,\n",
       " 10,\n",
       " 11,\n",
       " 12,\n",
       " 13,\n",
       " 14,\n",
       " 15,\n",
       " 16,\n",
       " 17,\n",
       " 18,\n",
       " 19,\n",
       " 20,\n",
       " 21,\n",
       " 22,\n",
       " 23,\n",
       " 24,\n",
       " 25,\n",
       " 26,\n",
       " 27,\n",
       " 28,\n",
       " 29,\n",
       " 30,\n",
       " 31,\n",
       " 32,\n",
       " 33,\n",
       " 34,\n",
       " 35,\n",
       " 36,\n",
       " 37,\n",
       " 38,\n",
       " 39,\n",
       " 40,\n",
       " 41,\n",
       " 42]"
      ]
     },
     "execution_count": 115,
     "metadata": {},
     "output_type": "execute_result"
    }
   ],
   "source": [
    "gnd['gnd'][0]['r_ir_order']"
   ]
  },
  {
   "cell_type": "code",
   "execution_count": 120,
   "metadata": {},
   "outputs": [
    {
     "data": {
      "text/plain": [
       "array([ True,  True,  True,  True,  True,  True,  True,  True,  True,\n",
       "        True,  True,  True,  True,  True,  True,  True,  True,  True,\n",
       "        True,  True,  True,  True,  True,  True,  True,  True,  True,\n",
       "        True,  True,  True,  True,  True,  True,  True,  True,  True,\n",
       "        True,  True,  True,  True,  True,  True,  True,  True,  True,\n",
       "        True,  True,  True,  True,  True,  True,  True,  True,  True,\n",
       "        True,  True,  True,  True,  True,  True,  True,  True,  True,\n",
       "        True,  True,  True,  True,  True,  True,  True,  True,  True,\n",
       "        True,  True,  True,  True,  True,  True,  True,  True,  True,\n",
       "        True,  True,  True,  True,  True,  True,  True,  True,  True,\n",
       "        True,  True,  True,  True,  True,  True,  True,  True,  True,\n",
       "        True])"
      ]
     },
     "execution_count": 120,
     "metadata": {},
     "output_type": "execute_result"
    }
   ],
   "source": [
    "nn_inds[1101]==np.arange(0,100,1)"
   ]
  },
  {
   "cell_type": "code",
   "execution_count": 70,
   "metadata": {},
   "outputs": [
    {
     "data": {
      "text/plain": [
       "(0.12027907371520996, 0.09176778793334961)"
      ]
     },
     "execution_count": 70,
     "metadata": {},
     "output_type": "execute_result"
    }
   ],
   "source": [
    "start_time1 = time.time()\n",
    "\n",
    "format_selection(new_selection)\n",
    "\n",
    "end_time1 = time.time()\n",
    "\n",
    "start_time2 = time.time()\n",
    "\n",
    "format_selection(new_selection, order=False)\n",
    "\n",
    "end_time2 = time.time()\n",
    "\n",
    "end_time1 - start_time1, end_time2 - start_time2"
   ]
  },
  {
   "cell_type": "code",
   "execution_count": 53,
   "metadata": {},
   "outputs": [
    {
     "data": {
      "text/plain": [
       "25.956560373306274"
      ]
     },
     "execution_count": 53,
     "metadata": {},
     "output_type": "execute_result"
    }
   ],
   "source": [
    "start_time = time.time()\n",
    "\n",
    "for i in range(len(gnd['simlist'])):\n",
    "    for _ in range(100):\n",
    "        array = np.array(gnd['simlist'][i])\n",
    "        random_array = np.random.choice(array, 100)\n",
    "        new_array = []\n",
    "        for e in random_array:\n",
    "            if not(e in new_array):\n",
    "                new_array.append(e)\n",
    "            else: continue\n",
    "end_time = time.time()\n",
    "\n",
    "end_time - start_time"
   ]
  },
  {
   "cell_type": "code",
   "execution_count": 51,
   "metadata": {
    "scrolled": true
   },
   "outputs": [
    {
     "data": {
      "text/plain": [
       "(['512px-Lilian_Garcia_WrestleMania_Axxess_2015.jpg',\n",
       "  '512px-Bon_Jovi_at_Madison_Square_Garden_(33868597862).jpg',\n",
       "  '512px-US_Navy_070221-N-7883G-020_Singer_and_performer_Carol_Woods_sings_to_service_members_in_the_hangar_bay_aboard_USS_Kitty_Hawk_(CV_63)_prior_to_the_visit_by_Vice_President_Dick_Cheney.jpg',\n",
       "  '512px-Barlowgirllive.JPG',\n",
       "  '512px-Bellagio_outside.jpg',\n",
       "  '512px-MaryJBligeJan10.jpg',\n",
       "  '512px-August_Burns_Red.png',\n",
       "  '512px-Usher_Cannes_2016_retusche.jpg',\n",
       "  '512px-Etta_James.jpg',\n",
       "  '512px-Sheryl_Crow.jpg',\n",
       "  '512px-Queen_Latifah.jpg',\n",
       "  '512px-RobEvanTSO2012.JPG',\n",
       "  '512px-Tift_Merritt_-_Seattle.jpg',\n",
       "  '512px-Paula-Cole_2009.jpg',\n",
       "  '512px-Beyoncé_-_Sasha_Fierce_true_logo.png',\n",
       "  '512px-IhaveadreamMarines.jpg',\n",
       "  '512px-GretchenWilsonApr10.jpg',\n",
       "  '512px-Gabriela_Montero_(2007).jpg',\n",
       "  '512px-Joan_baez01.jpg',\n",
       "  '512px-Michelle_Williams,_2015_(cropped).jpg',\n",
       "  '512px-Ann_Marie_Calhoun_appearing_with_Ian_Anderson_Sao_Paolo_BRAZIL_April_2007.jpg',\n",
       "  '512px-Joseph_Lowery_2000.jpg',\n",
       "  '512px-Chelsea_Clinton_DNC_July_2016_(cropped1).jpg',\n",
       "  '512px-Aretha_Franklin_1968.jpg',\n",
       "  '512px-Blake-Lewis-AM-Awards.jpg',\n",
       "  '512px-Ava_DuVernay_2015.jpg',\n",
       "  '512px-The_Obamas_sing_with_Smokey_Robinson,_Joan_Baez_and_others,_2014.jpg',\n",
       "  '512px-Faith_Hill_by_John_Mathew_Smith.jpg',\n",
       "  '512px-Flickr_Whitney_Houston_performing_on_GMA_2009_4.jpg',\n",
       "  '512px-Barack_Obama_Inauguration_Oath.jpg',\n",
       "  '512px-Patty-Griffin1.jpg',\n",
       "  '512px-Carrie_Underwood_2,_2012.jpg',\n",
       "  '512px-Rusty_Anderson.jpg',\n",
       "  '512px-Logo_Philadelphia_Flyers.svg.png',\n",
       "  '512px-Jessica_Sanchez_cropped.JPG',\n",
       "  '512px-Shakira_&_Chris_Martin_-_Global_Citizen_Festival_Hamburg_04_(cropped).jpg',\n",
       "  '512px-The_Mrs._Carter_Show_World_Tour_London_(1).jpg',\n",
       "  '512px-The_Star-Spangled_Banner.JPG',\n",
       "  '512px-Dorothy_Fields_NYWTS_(cropped).jpg'],\n",
       " array(['512px-Flickr_Whitney_Houston_performing_on_GMA_2009_4.jpg',\n",
       "        '512px-Queen_Latifah.jpg', '512px-IhaveadreamMarines.jpg',\n",
       "        '512px-Ann_Marie_Calhoun_appearing_with_Ian_Anderson_Sao_Paolo_BRAZIL_April_2007.jpg',\n",
       "        '512px-Joan_Baez_Bob_Dylan_crop.jpg',\n",
       "        '512px-Barack_Obama_Inauguration_Oath.jpg',\n",
       "        '512px-The_Obamas_sing_with_Smokey_Robinson,_Joan_Baez_and_others,_2014.jpg',\n",
       "        '512px-Beyoncé_-_Sasha_Fierce_true_logo.png',\n",
       "        '512px-Michelle_Williams,_2015_(cropped).jpg',\n",
       "        '512px-Gabriela_Montero_(2007).jpg',\n",
       "        '512px-Joseph_Lowery_2000.jpg', '512px-Joan_baez01.jpg',\n",
       "        '512px-Jessica_Sanchez_cropped.JPG',\n",
       "        '512px-Tift_Merritt_-_Seattle.jpg',\n",
       "        '512px-Lilian_Garcia_WrestleMania_Axxess_2015.jpg',\n",
       "        '512px-Usher_Cannes_2016_retusche.jpg',\n",
       "        '512px-Ava_DuVernay_2015.jpg', '512px-Blake-Lewis-AM-Awards.jpg',\n",
       "        '512px-US_Navy_070221-N-7883G-020_Singer_and_performer_Carol_Woods_sings_to_service_members_in_the_hangar_bay_aboard_USS_Kitty_Hawk_(CV_63)_prior_to_the_visit_by_Vice_President_Dick_Cheney.jpg',\n",
       "        '512px-RobEvanTSO2012.JPG', '512px-Paula-Cole_2009.jpg',\n",
       "        '512px-August_Burns_Red.png', '512px-Barlowgirllive.JPG',\n",
       "        '512px-Bon_Jovi_at_Madison_Square_Garden_(33868597862).jpg',\n",
       "        '512px-Dorothy_Fields_NYWTS_(cropped).jpg',\n",
       "        '512px-The_Star-Spangled_Banner.JPG',\n",
       "        '512px-Faith_Hill_by_John_Mathew_Smith.jpg',\n",
       "        '512px-Mary_Millben_-_November_24_2019.jpg',\n",
       "        '512px-Sheryl_Crow.jpg', '512px-Aretha_Franklin_1968.jpg',\n",
       "        '512px-Rusty_Anderson.jpg', '512px-Bellagio_outside.jpg',\n",
       "        '512px-Carrie_Underwood_2,_2012.jpg',\n",
       "        '512px-Chelsea_Clinton_DNC_July_2016_(cropped1).jpg',\n",
       "        '512px-MaryJBligeJan10.jpg',\n",
       "        '512px-Shakira_&_Chris_Martin_-_Global_Citizen_Festival_Hamburg_04_(cropped).jpg',\n",
       "        '512px-GretchenWilsonApr10.jpg', '512px-Beyonce_Halo_2013.jpg',\n",
       "        '512px-Logo_Philadelphia_Flyers.svg.png',\n",
       "        '512px-Patty-Griffin1.jpg', '512px-Etta_James.jpg',\n",
       "        '512px-The_Mrs._Carter_Show_World_Tour_London_(1).jpg'],\n",
       "       dtype='<U191'),\n",
       " 0.2669978141784668)"
      ]
     },
     "execution_count": 51,
     "metadata": {},
     "output_type": "execute_result"
    }
   ],
   "source": [
    "new_array, array, end_time - start_time"
   ]
  },
  {
   "cell_type": "code",
   "execution_count": 17,
   "metadata": {
    "scrolled": false
   },
   "outputs": [
    {
     "data": {
      "text/plain": [
       "{'easy': ['512px-Achille_Compagnoni_1955.jpg',\n",
       "  '512px-K2_2006b.jpg',\n",
       "  '512px-Lino_Lacedelli_1954.jpg'],\n",
       " 'hard': [],\n",
       " 'junk': ['512px-15-152-Pluto-NewHorizons-HighResolution-20150714-IFV.jpg',\n",
       "  '512px-The_Malaysian_Federal_Honour_-_Panglima_Jasa_Negara_(PJN).jpg',\n",
       "  '512px-Dolakha_Jiri.jpg',\n",
       "  '512px-Kobe_eddiebauer2560.jpg',\n",
       "  '512px-Douglas_Mawson_resting.jpg',\n",
       "  '512px-Chris_bundled_up_on_an_expedition.jpg',\n",
       "  '512px-Nepal_-_Sagamartha_Trek_-_240_-_Tengboche_Monastery.jpg',\n",
       "  '512px-Cho_Oyu.jpg',\n",
       "  \"512px-Joske's_Thumb_from_near_Montfort_Boys_Town,_Fiji.jpg\",\n",
       "  '512px-Everest_kalapatthar_crop.jpg',\n",
       "  '512px-Andrew_Scott_Waugh_1861.jpg',\n",
       "  '512px-Hugh_Ruttledge_1936.jpg',\n",
       "  '512px-G3C_spacesuit_Gemini_3.jpg',\n",
       "  '512px-Carstensz-expeditie.jpg',\n",
       "  '512px-210th_Rescue_Squadron_-_1.jpg',\n",
       "  '512px-Tengboche-70-Lhotse_und_Ama_Dablam-2007-gje.jpg',\n",
       "  '512px-Padma_Bhushan_Bachendri_Pal_(cropped).jpg',\n",
       "  '512px-Lhotse.jpg',\n",
       "  '512px-Annapurna_I.jpg',\n",
       "  '512px-George_Everest_-_Maull_&_Polyblank.jpg',\n",
       "  '512px-Panoramic_view_of_Mussoorie,_Uttarakhand.jpg',\n",
       "  '512px-Mount_Everest_as_seen_from_Drukair2_PLW_edit.jpg'],\n",
       " 'neg': ['512px-15-152-Pluto-NewHorizons-HighResolution-20150714-IFV.jpg',\n",
       "  '512px-The_Malaysian_Federal_Honour_-_Panglima_Jasa_Negara_(PJN).jpg',\n",
       "  '512px-Dolakha_Jiri.jpg',\n",
       "  '512px-Kobe_eddiebauer2560.jpg',\n",
       "  '512px-Douglas_Mawson_resting.jpg',\n",
       "  '512px-Chris_bundled_up_on_an_expedition.jpg',\n",
       "  '512px-Nepal_-_Sagamartha_Trek_-_240_-_Tengboche_Monastery.jpg',\n",
       "  '512px-Cho_Oyu.jpg',\n",
       "  \"512px-Joske's_Thumb_from_near_Montfort_Boys_Town,_Fiji.jpg\",\n",
       "  '512px-Everest_kalapatthar_crop.jpg',\n",
       "  '512px-Andrew_Scott_Waugh_1861.jpg',\n",
       "  '512px-Hugh_Ruttledge_1936.jpg',\n",
       "  '512px-G3C_spacesuit_Gemini_3.jpg',\n",
       "  '512px-Carstensz-expeditie.jpg',\n",
       "  '512px-210th_Rescue_Squadron_-_1.jpg',\n",
       "  '512px-Tengboche-70-Lhotse_und_Ama_Dablam-2007-gje.jpg',\n",
       "  '512px-Padma_Bhushan_Bachendri_Pal_(cropped).jpg',\n",
       "  '512px-Lhotse.jpg',\n",
       "  '512px-Annapurna_I.jpg',\n",
       "  '512px-George_Everest_-_Maull_&_Polyblank.jpg',\n",
       "  '512px-Panoramic_view_of_Mussoorie,_Uttarakhand.jpg',\n",
       "  '512px-Mount_Everest_as_seen_from_Drukair2_PLW_edit.jpg'],\n",
       " 'provenance_entity': True,\n",
       " 'img_rank_dict': {'512px-15-152-Pluto-NewHorizons-HighResolution-20150714-IFV.jpg': 0,\n",
       "  '512px-Dolakha_Jiri.jpg': 1,\n",
       "  '512px-Kobe_eddiebauer2560.jpg': 2,\n",
       "  '512px-Douglas_Mawson_resting.jpg': 3,\n",
       "  \"512px-Joske's_Thumb_from_near_Montfort_Boys_Town,_Fiji.jpg\": 4,\n",
       "  '512px-Achille_Compagnoni_1955.jpg': 5,\n",
       "  '512px-Andrew_Scott_Waugh_1861.jpg': 6,\n",
       "  '512px-Carstensz-expeditie.jpg': 7,\n",
       "  '512px-210th_Rescue_Squadron_-_1.jpg': 8,\n",
       "  '512px-Lino_Lacedelli_1954.jpg': 9,\n",
       "  '512px-George_Everest_-_Maull_&_Polyblank.jpg': 10,\n",
       "  '512px-Panoramic_view_of_Mussoorie,_Uttarakhand.jpg': 11,\n",
       "  '512px-Mount_Everest_as_seen_from_Drukair2_PLW_edit.jpg': 12,\n",
       "  '512px-The_Malaysian_Federal_Honour_-_Panglima_Jasa_Negara_(PJN).jpg': 13,\n",
       "  '512px-Nepal_-_Sagamartha_Trek_-_240_-_Tengboche_Monastery.jpg': 14,\n",
       "  '512px-Cho_Oyu.jpg': 15,\n",
       "  '512px-Chris_bundled_up_on_an_expedition.jpg': 16,\n",
       "  '512px-K2_2006b.jpg': 17,\n",
       "  '512px-Everest_kalapatthar_crop.jpg': 18,\n",
       "  '512px-Hugh_Ruttledge_1936.jpg': 19,\n",
       "  '512px-G3C_spacesuit_Gemini_3.jpg': 20,\n",
       "  '512px-Tengboche-70-Lhotse_und_Ama_Dablam-2007-gje.jpg': 21,\n",
       "  '512px-Padma_Bhushan_Bachendri_Pal_(cropped).jpg': 22,\n",
       "  '512px-Annapurna_I.jpg': 23,\n",
       "  '512px-Lhotse.jpg': 24},\n",
       " 'rank_img_dict': {0: '512px-15-152-Pluto-NewHorizons-HighResolution-20150714-IFV.jpg',\n",
       "  1: '512px-Dolakha_Jiri.jpg',\n",
       "  2: '512px-Kobe_eddiebauer2560.jpg',\n",
       "  3: '512px-Douglas_Mawson_resting.jpg',\n",
       "  4: \"512px-Joske's_Thumb_from_near_Montfort_Boys_Town,_Fiji.jpg\",\n",
       "  5: '512px-Achille_Compagnoni_1955.jpg',\n",
       "  6: '512px-Andrew_Scott_Waugh_1861.jpg',\n",
       "  7: '512px-Carstensz-expeditie.jpg',\n",
       "  8: '512px-210th_Rescue_Squadron_-_1.jpg',\n",
       "  9: '512px-Lino_Lacedelli_1954.jpg',\n",
       "  10: '512px-George_Everest_-_Maull_&_Polyblank.jpg',\n",
       "  11: '512px-Panoramic_view_of_Mussoorie,_Uttarakhand.jpg',\n",
       "  12: '512px-Mount_Everest_as_seen_from_Drukair2_PLW_edit.jpg',\n",
       "  13: '512px-The_Malaysian_Federal_Honour_-_Panglima_Jasa_Negara_(PJN).jpg',\n",
       "  14: '512px-Nepal_-_Sagamartha_Trek_-_240_-_Tengboche_Monastery.jpg',\n",
       "  15: '512px-Cho_Oyu.jpg',\n",
       "  16: '512px-Chris_bundled_up_on_an_expedition.jpg',\n",
       "  17: '512px-K2_2006b.jpg',\n",
       "  18: '512px-Everest_kalapatthar_crop.jpg',\n",
       "  19: '512px-Hugh_Ruttledge_1936.jpg',\n",
       "  20: '512px-G3C_spacesuit_Gemini_3.jpg',\n",
       "  21: '512px-Tengboche-70-Lhotse_und_Ama_Dablam-2007-gje.jpg',\n",
       "  22: '512px-Padma_Bhushan_Bachendri_Pal_(cropped).jpg',\n",
       "  23: '512px-Annapurna_I.jpg',\n",
       "  24: '512px-Lhotse.jpg'},\n",
       " 'r_easy': [5, 17, 9],\n",
       " 'r_hard': [],\n",
       " 'r_junk': [0,\n",
       "  13,\n",
       "  1,\n",
       "  2,\n",
       "  3,\n",
       "  16,\n",
       "  14,\n",
       "  15,\n",
       "  4,\n",
       "  18,\n",
       "  6,\n",
       "  19,\n",
       "  20,\n",
       "  7,\n",
       "  8,\n",
       "  21,\n",
       "  22,\n",
       "  24,\n",
       "  23,\n",
       "  10,\n",
       "  11,\n",
       "  12],\n",
       " 'r_neg': [0,\n",
       "  13,\n",
       "  1,\n",
       "  2,\n",
       "  3,\n",
       "  16,\n",
       "  14,\n",
       "  15,\n",
       "  4,\n",
       "  18,\n",
       "  6,\n",
       "  19,\n",
       "  20,\n",
       "  7,\n",
       "  8,\n",
       "  21,\n",
       "  22,\n",
       "  24,\n",
       "  23,\n",
       "  10,\n",
       "  11,\n",
       "  12],\n",
       " 'anchor_idx': 25089,\n",
       " 'g_easy': [17071, 30661, 34603],\n",
       " 'g_hard': [],\n",
       " 'g_junk': [12054,\n",
       "  5392,\n",
       "  26338,\n",
       "  22515,\n",
       "  2855,\n",
       "  224,\n",
       "  37242,\n",
       "  13499,\n",
       "  12444,\n",
       "  39003,\n",
       "  1646,\n",
       "  4795,\n",
       "  18701,\n",
       "  23530,\n",
       "  12450,\n",
       "  11917,\n",
       "  115,\n",
       "  25577,\n",
       "  7026,\n",
       "  26609,\n",
       "  6830,\n",
       "  12275],\n",
       " 'g_neg': [12054,\n",
       "  5392,\n",
       "  26338,\n",
       "  22515,\n",
       "  2855,\n",
       "  224,\n",
       "  37242,\n",
       "  13499,\n",
       "  12444,\n",
       "  39003,\n",
       "  1646,\n",
       "  4795,\n",
       "  18701,\n",
       "  23530,\n",
       "  12450,\n",
       "  11917,\n",
       "  115,\n",
       "  25577,\n",
       "  7026,\n",
       "  26609,\n",
       "  6830,\n",
       "  12275]}"
      ]
     },
     "execution_count": 17,
     "metadata": {},
     "output_type": "execute_result"
    }
   ],
   "source": [
    "gnd['gnd'][47]"
   ]
  },
  {
   "cell_type": "code",
   "execution_count": 18,
   "metadata": {},
   "outputs": [
    {
     "name": "stdout",
     "output_type": "stream",
     "text": [
      "512px-Achille_Compagnoni_1955.jpg\n",
      "512px-K2_2006b.jpg\n",
      "512px-Lino_Lacedelli_1954.jpg\n"
     ]
    }
   ],
   "source": [
    "i = 47\n",
    "for j in gnd['gnd'][i]['r_easy']:\n",
    "    new_query = gnd['gnd'][i]['rank_img_dict'][j]\n",
    "    print(new_query)"
   ]
  },
  {
   "cell_type": "code",
   "execution_count": 19,
   "metadata": {
    "scrolled": true
   },
   "outputs": [
    {
     "name": "stdout",
     "output_type": "stream",
     "text": [
      "512px-Achille_Compagnoni_1955.jpg\n",
      "5\n",
      "512px-K2_2006b.jpg\n",
      "17\n",
      "512px-Lino_Lacedelli_1954.jpg\n",
      "9\n"
     ]
    }
   ],
   "source": [
    "i = 47\n",
    "for j in gnd['gnd'][i]['r_easy']:\n",
    "    new_query = gnd['gnd'][i]['rank_img_dict'][j]\n",
    "    index = gnd['gnd'][i]['img_rank_dict'][new_query]\n",
    "    print(new_query)\n",
    "    print(index)\n",
    "    gnd['simlist'][i][index]\n"
   ]
  },
  {
   "cell_type": "code",
   "execution_count": 20,
   "metadata": {},
   "outputs": [
    {
     "data": {
      "text/plain": [
       "([5, 17, 9],\n",
       " [0,\n",
       "  13,\n",
       "  1,\n",
       "  2,\n",
       "  3,\n",
       "  16,\n",
       "  14,\n",
       "  15,\n",
       "  4,\n",
       "  18,\n",
       "  6,\n",
       "  19,\n",
       "  20,\n",
       "  7,\n",
       "  8,\n",
       "  21,\n",
       "  22,\n",
       "  24,\n",
       "  23,\n",
       "  10,\n",
       "  11,\n",
       "  12])"
      ]
     },
     "execution_count": 20,
     "metadata": {},
     "output_type": "execute_result"
    }
   ],
   "source": [
    "gnd['gnd'][i]['r_easy'], gnd['gnd'][i]['r_junk'], "
   ]
  },
  {
   "cell_type": "code",
   "execution_count": 21,
   "metadata": {},
   "outputs": [
    {
     "data": {
      "text/plain": [
       "True"
      ]
     },
     "execution_count": 21,
     "metadata": {},
     "output_type": "execute_result"
    }
   ],
   "source": [
    "not('512px-Achille_Compagnoni_1955.jpg' in gnd['simlist'][i])"
   ]
  },
  {
   "cell_type": "code",
   "execution_count": 22,
   "metadata": {},
   "outputs": [
    {
     "data": {
      "text/plain": [
       "22"
      ]
     },
     "execution_count": 22,
     "metadata": {},
     "output_type": "execute_result"
    }
   ],
   "source": [
    "len(gnd['simlist'][i])"
   ]
  },
  {
   "cell_type": "code",
   "execution_count": 23,
   "metadata": {
    "scrolled": true
   },
   "outputs": [
    {
     "data": {
      "text/plain": [
       "[12, 8, 4, 15, 11, 23, 17]"
      ]
     },
     "execution_count": 23,
     "metadata": {},
     "output_type": "execute_result"
    }
   ],
   "source": [
    "[12, 8, 4, 15, 11, 23, 17]"
   ]
  },
  {
   "cell_type": "code",
   "execution_count": 24,
   "metadata": {},
   "outputs": [
    {
     "data": {
      "text/plain": [
       "[0, 1]"
      ]
     },
     "execution_count": 24,
     "metadata": {},
     "output_type": "execute_result"
    }
   ],
   "source": [
    "gnd['gnd'][1151]['r_easy']"
   ]
  },
  {
   "cell_type": "code",
   "execution_count": 25,
   "metadata": {},
   "outputs": [
    {
     "name": "stdout",
     "output_type": "stream",
     "text": [
      "1151\n"
     ]
    }
   ],
   "source": [
    "for i in range(len(gnd['gnd'])):\n",
    "    if len(gnd['gnd'][i]['r_junk']) == 0:\n",
    "        print(i)"
   ]
  }
 ],
 "metadata": {
  "kernelspec": {
   "display_name": "Python 3",
   "language": "python",
   "name": "python3"
  },
  "language_info": {
   "codemirror_mode": {
    "name": "ipython",
    "version": 3
   },
   "file_extension": ".py",
   "mimetype": "text/x-python",
   "name": "python",
   "nbconvert_exporter": "python",
   "pygments_lexer": "ipython3",
   "version": "3.7.6"
  }
 },
 "nbformat": 4,
 "nbformat_minor": 4
}
