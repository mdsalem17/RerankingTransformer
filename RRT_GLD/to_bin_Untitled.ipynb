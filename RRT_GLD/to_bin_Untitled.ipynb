{
 "cells": [
  {
   "cell_type": "code",
   "execution_count": 1,
   "metadata": {},
   "outputs": [],
   "source": [
    "import pandas as pd"
   ]
  },
  {
   "cell_type": "code",
   "execution_count": 2,
   "metadata": {},
   "outputs": [],
   "source": [
    "out = {'map': 5.98, 'map@1': 1.51, 'map@5': 2.62, 'map@10': 3.29, 'mrr': 8.35, 'mrr@1': 5.92, 'mrr@5': 7.82, 'mrr@10': 8.2, 'precision': 1.68, 'precision@1': 5.92, 'precision@5': 3.97, 'precision@10': 3.75}"
   ]
  },
  {
   "cell_type": "code",
   "execution_count": 3,
   "metadata": {},
   "outputs": [
    {
     "name": "stdout",
     "output_type": "stream",
     "text": [
      "\\begin{tabular}{rrrrrrrrrrrr}\n",
      "\\toprule\n",
      " map &  map@1 &  map@5 &  map@10 &  mrr &  mrr@1 &  mrr@5 &  mrr@10 &  precision &  precision@1 &  precision@5 &  precision@10 \\\\\n",
      "\\midrule\n",
      "5.98 &   1.51 &   2.62 &    3.29 & 8.35 &   5.92 &   7.82 &     8.2 &       1.68 &         5.92 &         3.97 &          3.75 \\\\\n",
      "\\bottomrule\n",
      "\\end{tabular}\n",
      "\n"
     ]
    }
   ],
   "source": [
    "print(pd.DataFrame.from_dict([out]).to_latex(index=False))"
   ]
  },
  {
   "cell_type": "code",
   "execution_count": null,
   "metadata": {},
   "outputs": [],
   "source": []
  },
  {
   "cell_type": "code",
   "execution_count": null,
   "metadata": {},
   "outputs": [],
   "source": []
  }
 ],
 "metadata": {
  "kernelspec": {
   "display_name": "Python 3",
   "language": "python",
   "name": "python3"
  },
  "language_info": {
   "codemirror_mode": {
    "name": "ipython",
    "version": 3
   },
   "file_extension": ".py",
   "mimetype": "text/x-python",
   "name": "python",
   "nbconvert_exporter": "python",
   "pygments_lexer": "ipython3",
   "version": "3.7.6"
  }
 },
 "nbformat": 4,
 "nbformat_minor": 4
}
