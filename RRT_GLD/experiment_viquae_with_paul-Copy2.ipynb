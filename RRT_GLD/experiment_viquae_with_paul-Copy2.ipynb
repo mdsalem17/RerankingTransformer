{
 "cells": [
  {
   "cell_type": "markdown",
   "metadata": {},
   "source": [
    "## Imports"
   ]
  },
  {
   "cell_type": "code",
   "execution_count": 1,
   "metadata": {},
   "outputs": [],
   "source": [
    "import numpy as np\n",
    "import os, math\n",
    "import os.path as osp\n",
    "from copy import deepcopy\n",
    "from functools import partial\n",
    "from pprint import pprint\n",
    "import pickle, json, random"
   ]
  },
  {
   "cell_type": "code",
   "execution_count": 2,
   "metadata": {},
   "outputs": [],
   "source": [
    "import sacred\n",
    "import torch\n",
    "import torch.nn as nn\n",
    "import torch.nn.functional as F\n",
    "from sacred import SETTINGS\n",
    "from sacred.utils import apply_backspaces_and_linefeeds\n",
    "from torch.backends import cudnn\n",
    "from torch.optim import SGD, Adam, AdamW, lr_scheduler\n",
    "from tqdm import tqdm\n",
    "\n",
    "from torch.backends import cudnn\n",
    "# from visdom_logger import VisdomLogger"
   ]
  },
  {
   "cell_type": "code",
   "execution_count": 3,
   "metadata": {},
   "outputs": [],
   "source": [
    "from torch.utils.data import DataLoader, RandomSampler, BatchSampler\n",
    "from typing import NamedTuple, Optional, List"
   ]
  },
  {
   "cell_type": "code",
   "execution_count": 4,
   "metadata": {},
   "outputs": [],
   "source": [
    "from models.matcher import MatchERT, PosMatchERT\n",
    "from models.ingredient import model_ingredient, get_model"
   ]
  },
  {
   "cell_type": "code",
   "execution_count": 5,
   "metadata": {},
   "outputs": [],
   "source": [
    "from models.ingredient import model_ingredient, get_model\n",
    "from utils import state_dict_to_cpu, num_of_trainable_params\n",
    "from utils import pickle_load, pickle_save\n",
    "#from utils.data.utils import TripletSampler\n",
    "from utils import BinaryCrossEntropyWithLogits\n",
    "from utils.data.dataset_ingredient import data_ingredient, get_loaders\n",
    "from utils.training import train_one_epoch, evaluate_viquae\n",
    "from utils.metrics import AverageMeter"
   ]
  },
  {
   "cell_type": "code",
   "execution_count": 6,
   "metadata": {},
   "outputs": [],
   "source": [
    "from utils import pickle_load\n",
    "from sacred import Experiment\n",
    "from utils.data.dataset_ingredient import data_ingredient, get_loaders\n",
    "from utils.data.dataset import FeatureDataset"
   ]
  },
  {
   "cell_type": "code",
   "execution_count": 7,
   "metadata": {},
   "outputs": [],
   "source": [
    "from functools import partial\n",
    "from typing import List\n",
    "\n",
    "import torch\n",
    "import torch.nn as nn\n",
    "import torch.nn.functional as F\n",
    "from tqdm import tqdm\n",
    "\n",
    "from sacred import Experiment\n",
    "from torch.optim import Optimizer\n",
    "from torch.optim.lr_scheduler import _LRScheduler\n",
    "from torch.utils.data import DataLoader, Dataset"
   ]
  },
  {
   "cell_type": "code",
   "execution_count": 8,
   "metadata": {},
   "outputs": [],
   "source": [
    "from torch.utils.tensorboard import SummaryWriter\n",
    "writer = SummaryWriter()"
   ]
  },
  {
   "cell_type": "code",
   "execution_count": 9,
   "metadata": {},
   "outputs": [],
   "source": [
    "ex = sacred.Experiment('RRT Training', ingredients=[data_ingredient, model_ingredient], interactive=True)\n",
    "# Filter backspaces and linefeeds\n",
    "SETTINGS.CAPTURE_MODE = 'sys'\n",
    "ex.captured_out_filter = apply_backspaces_and_linefeeds"
   ]
  },
  {
   "cell_type": "markdown",
   "metadata": {},
   "source": [
    "## Data Utils Functions"
   ]
  },
  {
   "cell_type": "code",
   "execution_count": 10,
   "metadata": {},
   "outputs": [],
   "source": [
    "def read_file(filename):\n",
    "    with open(filename) as f:\n",
    "        lines = f.read().splitlines()\n",
    "    return lines"
   ]
  },
  {
   "cell_type": "code",
   "execution_count": 11,
   "metadata": {},
   "outputs": [],
   "source": [
    "def get_sets(desc_name, \n",
    "        train_data_dir, test_data_dir, train_txt, \n",
    "        test_txt, train_gnd_file,  test_gnd_file,\n",
    "        max_sequence_len, split_char, prefixed):\n",
    "    ####################################################################################################################################\n",
    "    train_gnd_file = prefixed+'_'+train_gnd_file if prefixed is not None and train_gnd_file is not None else train_gnd_file\n",
    "    test_gnd_file  = prefixed+'_'+test_gnd_file  if prefixed is not None and test_gnd_file  is not None else test_gnd_file\n",
    "    \n",
    "    if len(train_txt) == 2:\n",
    "        \n",
    "        train_gnd_data  = None if train_gnd_file is None else pickle_load(osp.join(train_data_dir, train_gnd_file))\n",
    "        train_lines_txt = train_txt[1] if prefixed is None else prefixed+'_'+train_txt[1]\n",
    "        train_lines     = read_file(osp.join(train_data_dir, train_lines_txt))\n",
    "        train_q_lines_txt = train_txt[0] if prefixed is None else prefixed+'_'+train_txt[0]\n",
    "        train_q_lines   = read_file(osp.join(train_data_dir, train_q_lines_txt))\n",
    "        train_samples   = [(line.split(split_char)[0], int(line.split(split_char)[1]), int(line.split(split_char)[2]), int(line.split(split_char)[3])) for line in train_lines]\n",
    "        train_q_samples = [(line.split(split_char)[0], int(line.split(split_char)[1]), int(line.split(split_char)[2]), int(line.split(split_char)[3])) for line in train_q_lines]\n",
    "        train_set       = FeatureDataset(train_data_dir, train_samples,   desc_name, max_sequence_len, gnd_data=train_gnd_data)\n",
    "        query_train_set = FeatureDataset(train_data_dir, train_q_samples, desc_name, max_sequence_len, gnd_data=train_gnd_data)\n",
    "    else:\n",
    "        train_gnd_data  = None if train_gnd_file is None else pickle_load(osp.join(train_data_dir, train_gnd_file))\n",
    "        train_lines_txt = train_txt if prefixed is None else prefixed+'_'+train_txt\n",
    "        train_lines     = read_file(osp.join(train_data_dir, train_lines_txt))\n",
    "        train_samples   = [(line.split(split_char)[0], int(line.split(split_char)[1]), int(line.split(split_char)[2]), int(line.split(split_char)[3])) for line in train_lines]\n",
    "        train_set       = FeatureDataset(train_data_dir, train_samples, desc_name, max_sequence_len, gnd_data=train_gnd_data)\n",
    "        query_train_set = FeatureDataset(train_data_dir, train_samples, desc_name, max_sequence_len, gnd_data=train_gnd_data)\n",
    "        ####################################################################################################################################\n",
    "    test_gnd_data   = None if test_gnd_file is None else pickle_load(osp.join(test_data_dir, test_gnd_file))\n",
    "    query_lines_txt = test_txt[0] if prefixed is None else prefixed+'_'+test_txt[0]\n",
    "    query_lines     = read_file(osp.join(test_data_dir, query_lines_txt))\n",
    "    gallery_lines_txt = test_txt[1] if prefixed is None else prefixed+'_'+test_txt[1]\n",
    "    gallery_lines   = read_file(osp.join(test_data_dir, gallery_lines_txt))\n",
    "    query_samples   = [(line.split(split_char)[0], int(line.split(split_char)[1]), int(line.split(split_char)[2]), int(line.split(split_char)[3])) for line in query_lines]\n",
    "    gallery_samples = [(line.split(split_char)[0], int(line.split(split_char)[1]), int(line.split(split_char)[2]), int(line.split(split_char)[3])) for line in gallery_lines]\n",
    "    gallery_set     = FeatureDataset(test_data_dir, gallery_samples, desc_name, max_sequence_len)\n",
    "    query_set       = FeatureDataset(test_data_dir, query_samples,   desc_name, max_sequence_len, gnd_data=test_gnd_data)\n",
    "        \n",
    "    return (train_set, query_train_set), (query_set, gallery_set)\n"
   ]
  },
  {
   "cell_type": "code",
   "execution_count": 12,
   "metadata": {},
   "outputs": [],
   "source": [
    "def get_loaders(desc_name, train_data_dir, \n",
    "    batch_size, test_batch_size, \n",
    "    num_workers, pin_memory, \n",
    "    sampler, recalls, set_name, \n",
    "    eval_set_name, train_gnd_file,\n",
    "    prefixed, num_candidates=100):\n",
    "\n",
    "    (train_set, query_train_set), (query_set, gallery_set) = get_sets(desc_name, \n",
    "        train_data_dir=train_data_dir,\n",
    "        test_data_dir=train_data_dir,\n",
    "        train_txt=set_name+'_query.txt',\n",
    "        test_txt=(set_name+'_query.txt', set_name+'_selection.txt'),\n",
    "        test_gnd_file=test_gnd_file, \n",
    "        train_gnd_file=train_gnd_file,\n",
    "        split_char=split_char,\n",
    "        prefixed=prefixed,\n",
    "        max_sequence_len=500)\n",
    "\n",
    "    if sampler == 'random':\n",
    "        train_sampler = BatchSampler(RandomSampler(train_set), batch_size=batch_size, drop_last=False)\n",
    "    elif sampler == 'triplet':\n",
    "        nn_inds_path = set_name+'_nn_inds_%s.pkl'%desc_name if prefixed is None else prefixed+'_'+set_name + '_nn_inds_%s.pkl'%desc_name\n",
    "        train_nn_inds = osp.join(train_data_dir, nn_inds_path)\n",
    "        gnd_data = train_set.gnd_data['gnd']\n",
    "        train_sampler = TripletSampler(query_train_set.targets, batch_size, train_nn_inds, num_candidates, gnd_data)\n",
    "    else:\n",
    "        raise ValueError('Invalid choice of sampler ({}).'.format(sampler))\n",
    "    train_loader = DataLoader(train_set, batch_sampler=train_sampler, num_workers=num_workers, pin_memory=pin_memory)\n",
    "    query_train_loader = DataLoader(query_train_set, batch_size=test_batch_size, num_workers=num_workers, pin_memory=pin_memory)\n",
    "        \n",
    "    query_loader   = DataLoader(query_set, batch_size=test_batch_size, num_workers=num_workers, pin_memory=pin_memory)\n",
    "    gallery_loader = DataLoader(gallery_set, batch_size=test_batch_size, num_workers=num_workers, pin_memory=pin_memory)\n",
    "\n",
    "    return MetricLoaders(train=train_loader, query_train=query_train_loader, query=query_loader, gallery=gallery_loader, num_classes=len(train_set.categories),set_name=set_name,eval_set_name=eval_set_name,prefixed=prefixed), recalls\n"
   ]
  },
  {
   "cell_type": "code",
   "execution_count": 13,
   "metadata": {},
   "outputs": [],
   "source": [
    "class MetricLoaders(NamedTuple):\n",
    "    train: DataLoader\n",
    "    num_classes: int\n",
    "    query: DataLoader\n",
    "    query_train: DataLoader\n",
    "    prefixed: str = None\n",
    "    set_name: str = ''\n",
    "    eval_set_name: str = ''\n",
    "    gallery: Optional[DataLoader] = None"
   ]
  },
  {
   "cell_type": "markdown",
   "metadata": {},
   "source": [
    "## Training Parameters"
   ]
  },
  {
   "cell_type": "code",
   "execution_count": 14,
   "metadata": {},
   "outputs": [],
   "source": [
    "epochs = 5\n",
    "lr = 0.0001\n",
    "momentum = 0.\n",
    "nesterov = False\n",
    "weight_decay = 5e-4\n",
    "optim = 'adamw'\n",
    "scheduler = 'multistep'\n",
    "max_norm = 0.0\n",
    "seed = 0\n",
    "\n",
    "visdom_port = None\n",
    "visdom_freq = 100\n",
    "cpu = False  # Force training on CPU\n",
    "cudnn_flag = 'benchmark'\n",
    "temp_file = 'temp'\n",
    "\n",
    "no_bias_decay = False\n",
    "loss = 'bce'\n",
    "scheduler_tau = [16, 18]\n",
    "scheduler_gamma = 0.1\n",
    "\n",
    "temp_dir = osp.join('outputs', 'temp')\n",
    "\n",
    "resume = None\n",
    "resume = '/mnt/beegfs/home/smessoud/RerankingTransformer/RRT_GLD/rrt_gld_ckpts/r50_gldv2.pt'\n",
    "classifier = False\n",
    "transformer = False\n",
    "last_layers = False"
   ]
  },
  {
   "cell_type": "code",
   "execution_count": 15,
   "metadata": {
    "scrolled": true
   },
   "outputs": [
    {
     "data": {
      "text/plain": [
       "(5,\n",
       " False,\n",
       " 'benchmark',\n",
       " None,\n",
       " 100,\n",
       " 'outputs/temp',\n",
       " 0,\n",
       " False,\n",
       " 0.0,\n",
       " '/mnt/beegfs/home/smessoud/RerankingTransformer/RRT_GLD/rrt_gld_ckpts/r50_gldv2.pt')"
      ]
     },
     "execution_count": 15,
     "metadata": {},
     "output_type": "execute_result"
    }
   ],
   "source": [
    "epochs, cpu, cudnn_flag, visdom_port, visdom_freq, temp_dir, seed, no_bias_decay, max_norm, resume"
   ]
  },
  {
   "cell_type": "markdown",
   "metadata": {},
   "source": [
    "## Various Training Utility Functions"
   ]
  },
  {
   "cell_type": "code",
   "execution_count": 16,
   "metadata": {},
   "outputs": [],
   "source": [
    "def get_optimizer_scheduler(parameters, optim, loader_length, epochs, lr, momentum, nesterov, weight_decay, scheduler, scheduler_tau, scheduler_gamma, lr_step=None):\n",
    "    if optim == 'sgd':\n",
    "        optimizer = SGD(parameters, lr=lr, momentum=momentum, weight_decay=weight_decay, nesterov=True if nesterov and momentum else False)\n",
    "    elif optim == 'adam':\n",
    "        optimizer = Adam(parameters, lr=lr, weight_decay=weight_decay) \n",
    "    else:\n",
    "        optimizer = AdamW(parameters, lr=lr, weight_decay=weight_decay)\n",
    "    \n",
    "    if epochs == 0:\n",
    "        scheduler = None\n",
    "        update_per_iteration = None\n",
    "    elif scheduler == 'cos':\n",
    "        # scheduler = lr_scheduler.CosineAnnealingLR(optimizer, T_max=epochs * loader_length, eta_min=0.000005)\n",
    "        scheduler = lr_scheduler.CosineAnnealingLR(optimizer, T_max=epochs, eta_min=0.000001)\n",
    "        update_per_iteration = False\n",
    "    elif scheduler == 'warmcos':\n",
    "        # warm_cosine = lambda i: min((i + 1) / 3, (1 + math.cos(math.pi * i / (epochs * loader_length))) / 2)\n",
    "        warm_cosine = lambda i: min((i + 1) / 3, (1 + math.cos(math.pi * i / epochs)) / 2)\n",
    "        scheduler = lr_scheduler.LambdaLR(optimizer, lr_lambda=warm_cosine)\n",
    "        update_per_iteration = False\n",
    "    elif scheduler == 'multistep':\n",
    "        scheduler = lr_scheduler.MultiStepLR(optimizer, milestones=scheduler_tau, gamma=scheduler_gamma)\n",
    "        update_per_iteration = False\n",
    "    elif scheduler == 'warmstep':\n",
    "        warm_step = lambda i: min((i + 1) / 100, 1) * 0.1 ** (i // (lr_step * loader_length))\n",
    "        scheduler = lr_scheduler.LambdaLR(optimizer, lr_lambda=warm_step)\n",
    "        update_per_iteration = True\n",
    "    else:\n",
    "        scheduler = lr_scheduler.StepLR(optimizer, epochs * loader_length)\n",
    "        update_per_iteration = True\n",
    " \n",
    "    return optimizer, (scheduler, update_per_iteration)\n"
   ]
  },
  {
   "cell_type": "code",
   "execution_count": 17,
   "metadata": {},
   "outputs": [],
   "source": [
    "def get_loss(loss):\n",
    "    if loss == 'bce':\n",
    "        return BinaryCrossEntropyWithLogits()\n",
    "    else:\n",
    "        raise Exception('Unsupported loss {}'.format(loss))"
   ]
  },
  {
   "cell_type": "code",
   "execution_count": 18,
   "metadata": {},
   "outputs": [],
   "source": [
    "class TripletSampler():\n",
    "    def __init__(self, labels, batch_size, nn_inds_path, num_candidates, gnd_data, min_pos=1):\n",
    "        self.batch_size     = batch_size\n",
    "        self.num_candidates = num_candidates\n",
    "        self.cache_nn_inds  = pickle_load(nn_inds_path)\n",
    "        self.labels = labels\n",
    "        self.gnd_data = gnd_data\n",
    "        print('nn_inds_path: ', nn_inds_path)\n",
    "        print('labels len: ', len(labels))\n",
    "        assert (len(self.cache_nn_inds) == len(labels))\n",
    "        #############################################################################\n",
    "        ## Collect valid tuples\n",
    "        valids = np.zeros_like(labels)\n",
    "        for i in range(len(self.cache_nn_inds)):\n",
    "            positives = self.gnd_data[i]['r_easy']\n",
    "            negatives = self.gnd_data[i]['r_junk']\n",
    "            if len(positives) < min_pos or len(negatives) < min_pos:\n",
    "                continue\n",
    "            valids[i] = 1\n",
    "        self.valids = np.where(valids > 0)[0]\n",
    "        self.num_samples = len(self.valids)\n",
    "\n",
    "    def __iter__(self):\n",
    "        batch = []\n",
    "        cands = torch.randperm(self.num_samples).tolist()\n",
    "        for i in range(len(cands)):\n",
    "            query_idx = self.valids[cands[i]]\n",
    "            anchor_idx = self.gnd_data[query_idx]['anchor_idx']\n",
    "            \n",
    "            positive_inds = self.gnd_data[query_idx]['g_easy']\n",
    "            negative_inds = self.gnd_data[query_idx]['g_junk']\n",
    "            assert(len(positive_inds) > 0)\n",
    "            assert(len(negative_inds) > 0)\n",
    "\n",
    "            random.shuffle(positive_inds)\n",
    "            random.shuffle(negative_inds)\n",
    "\n",
    "            batch.append(anchor_idx)\n",
    "            batch.append(positive_inds[0]) \n",
    "            batch.append(negative_inds[0])\n",
    "\n",
    "            if len(batch) >= self.batch_size:\n",
    "                yield batch\n",
    "                batch = []\n",
    "                \n",
    "        if len(batch) > 0:\n",
    "            yield batch\n",
    "\n",
    "    def __len__(self):\n",
    "        return (self.num_samples * 3 + self.batch_size - 1) // self.batch_size\n"
   ]
  },
  {
   "cell_type": "code",
   "execution_count": 19,
   "metadata": {},
   "outputs": [],
   "source": [
    "def get_model(num_global_features, num_local_features, seq_len, dim_K, dim_feedforward, nhead, num_encoder_layers, dropout, activation, normalize_before, use_pos):\n",
    "    \n",
    "    if use_pos:\n",
    "        return PosMatchERT(d_global=num_global_features, d_model=num_local_features, seq_len=seq_len, d_K=dim_K, nhead=nhead, num_encoder_layers=num_encoder_layers, \n",
    "            dim_feedforward=dim_feedforward, dropout=dropout, activation=activation, normalize_before=normalize_before)\n",
    "    \n",
    "    else:\n",
    "        return MatchERT(d_global=num_global_features, d_model=num_local_features, seq_len=seq_len, d_K=dim_K, nhead=nhead, num_encoder_layers=num_encoder_layers, \n",
    "            dim_feedforward=dim_feedforward, dropout=dropout, activation=activation, normalize_before=normalize_before)"
   ]
  },
  {
   "cell_type": "code",
   "execution_count": 20,
   "metadata": {},
   "outputs": [],
   "source": [
    "device = torch.device('cuda:0' if torch.cuda.is_available() and not cpu else 'cpu')\n",
    "# callback = VisdomLogger(port=visdom_port) if visdom_port else None\n",
    "if cudnn_flag == 'deterministic':\n",
    "    setattr(cudnn, cudnn_flag, True)"
   ]
  },
  {
   "cell_type": "markdown",
   "metadata": {},
   "source": [
    "## Config Parameters"
   ]
  },
  {
   "cell_type": "code",
   "execution_count": 21,
   "metadata": {},
   "outputs": [],
   "source": [
    "name = 'tuto_viquae_tuto_r50_gldv2'\n",
    "set_name = 'tuto'\n",
    "train_txt = ('tuto_query.txt', 'tuto_gallery.txt')\n",
    "test_txt = ('tuto_query.txt', 'tuto_selection.txt')\n",
    "train_data_dir = 'data/viquae_for_rrt'\n",
    "test_data_dir  = 'data/viquae_for_rrt'\n",
    "test_gnd_file = 'gnd_tuto.pkl'\n",
    "train_gnd_file = 'gnd_'+set_name+'.pkl'\n",
    "#train_gnd_file = 'gnd_'+set_name+'.pkl'\n",
    "desc_name = 'r50_gldv2'\n",
    "sampler = 'triplet'\n",
    "split_char  = ';;'\n",
    "prefixed = None"
   ]
  },
  {
   "cell_type": "code",
   "execution_count": 22,
   "metadata": {},
   "outputs": [
    {
     "data": {
      "text/plain": [
       "\"name = 'train_viquae_dev_r50_gldv2'\\nset_name = 'train'\\neval_set_name = 'dev'\\ntrain_txt = ('train_query.txt', 'train_gallery.txt')\\ntest_txt = ('dev_query.txt', 'dev_selection.txt')\\ntrain_data_dir = 'data/viquae_for_rrt'\\ntest_data_dir  = 'data/viquae_for_rrt'\\ntrain_gnd_file = 'gnd_train.pkl'\\ntest_gnd_file = 'gnd_dev.pkl'\\ndesc_name = 'r50_gldv2'\\nsampler = 'triplet'\\nsplit_char  = ';;'\\nprefixed = 'non_humans'\""
      ]
     },
     "execution_count": 22,
     "metadata": {},
     "output_type": "execute_result"
    }
   ],
   "source": [
    "\"\"\"name = 'train_viquae_dev_r50_gldv2'\n",
    "set_name = 'train'\n",
    "eval_set_name = 'dev'\n",
    "train_txt = ('train_query.txt', 'train_gallery.txt')\n",
    "test_txt = ('dev_query.txt', 'dev_selection.txt')\n",
    "train_data_dir = 'data/viquae_for_rrt'\n",
    "test_data_dir  = 'data/viquae_for_rrt'\n",
    "train_gnd_file = 'gnd_train.pkl'\n",
    "test_gnd_file = 'gnd_dev.pkl'\n",
    "desc_name = 'r50_gldv2'\n",
    "sampler = 'triplet'\n",
    "split_char  = ';;'\n",
    "prefixed = 'non_humans'\"\"\""
   ]
  },
  {
   "cell_type": "code",
   "execution_count": 23,
   "metadata": {},
   "outputs": [],
   "source": [
    "batch_size      = 36\n",
    "test_batch_size = 36\n",
    "max_sequence_len = 500\n",
    "num_workers = 8  # number of workers used ot load the data\n",
    "pin_memory  = True  # use the pin_memory option of DataLoader \n",
    "num_candidates = 100\n",
    "recalls = [1, 5, 10]"
   ]
  },
  {
   "cell_type": "code",
   "execution_count": 24,
   "metadata": {},
   "outputs": [],
   "source": [
    "name = 'rrt'\n",
    "num_global_features = 2048  \n",
    "num_local_features = 128  \n",
    "seq_len = 1004\n",
    "dim_K = 256\n",
    "dim_feedforward = 1024\n",
    "nhead = 4\n",
    "num_encoder_layers = 6\n",
    "dropout = 0.2\n",
    "activation = \"relu\"\n",
    "normalize_before = False\n",
    "use_pos = False"
   ]
  },
  {
   "cell_type": "code",
   "execution_count": 25,
   "metadata": {},
   "outputs": [],
   "source": [
    "train_data_dir = '/mnt/beegfs/home/smessoud/RerankingTransformer/models/research/delf/delf/python/delg/data/viquae_for_rrt'"
   ]
  },
  {
   "cell_type": "code",
   "execution_count": 26,
   "metadata": {},
   "outputs": [],
   "source": [
    "torch.manual_seed(seed)\n",
    "loaders, recall_ks = get_loaders(desc_name=desc_name,\n",
    "    train_data_dir=train_data_dir, \n",
    "    batch_size=36, test_batch_size=36, \n",
    "    num_workers=8, pin_memory=True, \n",
    "    sampler='random', recalls=[1, 5, 10], \n",
    "    set_name=set_name, eval_set_name=None,\n",
    "    train_gnd_file=None, prefixed=prefixed, num_candidates=100)"
   ]
  },
  {
   "cell_type": "code",
   "execution_count": 27,
   "metadata": {},
   "outputs": [],
   "source": [
    "nn_inds_path = loaders.set_name + '_nn_inds_%s.pkl'%loaders.query.dataset.desc_name\n",
    "nn_inds_path = nn_inds_path if loaders.prefixed is None else loaders.prefixed+'_'+nn_inds_path\n",
    "nn_inds_path = osp.join(loaders.query.dataset.data_dir, nn_inds_path)\n",
    "cache_nn_inds = torch.from_numpy(pickle_load(nn_inds_path)).long()"
   ]
  },
  {
   "cell_type": "code",
   "execution_count": 28,
   "metadata": {},
   "outputs": [],
   "source": [
    "## Load Model\n",
    "torch.manual_seed(seed+1)\n",
    "\n",
    "model = get_model(num_global_features,\n",
    "                  num_local_features,\n",
    "                  seq_len,dim_K,\n",
    "                  dim_feedforward,\n",
    "                  nhead,\n",
    "                  num_encoder_layers,\n",
    "                  dropout,\n",
    "                  activation,\n",
    "                  normalize_before,\n",
    "                  use_pos)"
   ]
  },
  {
   "cell_type": "code",
   "execution_count": 29,
   "metadata": {},
   "outputs": [
    {
     "name": "stdout",
     "output_type": "stream",
     "text": [
      "# of trainable parameters:  2243201\n"
     ]
    }
   ],
   "source": [
    "if resume is not None:\n",
    "    checkpoint = torch.load(resume, map_location=torch.device('cpu'))\n",
    "    model.load_state_dict(checkpoint['state'], strict=True)\n",
    "print('# of trainable parameters: ', num_of_trainable_params(model))\n",
    "class_loss = get_loss(loss)"
   ]
  },
  {
   "cell_type": "code",
   "execution_count": 30,
   "metadata": {},
   "outputs": [],
   "source": [
    "torch.manual_seed(seed+2)\n",
    "model.to(device)\n",
    "model = nn.DataParallel(model)\n",
    "parameters = []\n",
    "if no_bias_decay:\n",
    "    parameters.append({'params': [par for par in model.parameters() if par.dim() != 1]})\n",
    "    parameters.append({'params': [par for par in model.parameters() if par.dim() == 1], 'weight_decay': 0})\n",
    "else:\n",
    "    parameters.append({'params': model.parameters()})\n",
    "optimizer, scheduler = get_optimizer_scheduler(parameters=parameters, loader_length=len(loaders.train),\n",
    "                                               optim=optim, epochs=epochs, lr=lr,\n",
    "                                               momentum=momentum, nesterov=nesterov, weight_decay=weight_decay,\n",
    "                                               scheduler=scheduler, scheduler_tau=scheduler_tau, \n",
    "                                               scheduler_gamma=scheduler_gamma, lr_step=None)\n",
    "if resume is not None and checkpoint.get('optim', None) is not None:\n",
    "    optimizer.load_state_dict(checkpoint['optim'])\n",
    "    del checkpoint\n"
   ]
  },
  {
   "cell_type": "markdown",
   "metadata": {},
   "source": [
    "## Evaluation Utility Functions"
   ]
  },
  {
   "cell_type": "code",
   "execution_count": 31,
   "metadata": {},
   "outputs": [],
   "source": [
    "def read_entry_once(\n",
    "    query_loader: DataLoader,\n",
    "    gallery_loader: DataLoader):\n",
    "    \n",
    "    query_global, query_local, query_mask, query_scales, query_positions, query_names = [], [], [], [], [], []\n",
    "    gallery_global, gallery_local, gallery_mask, gallery_scales, gallery_positions, gallery_names = [], [], [], [], [], []\n",
    "\n",
    "    print(\"READING ENTRIES FOR THE FIRST TIME\")\n",
    "    \n",
    "    with torch.no_grad():\n",
    "        for entry in tqdm(query_loader, desc='Extracting query features', leave=False, ncols=80):\n",
    "            q_global, q_local, q_mask, q_scales, q_positions, _, q_names = entry\n",
    "            query_global.append(q_global.cpu())\n",
    "            query_local.append(q_local.cpu())\n",
    "            query_mask.append(q_mask.cpu())\n",
    "            query_scales.append(q_scales.cpu())\n",
    "            query_positions.append(q_positions.cpu())\n",
    "            query_names.extend(list(q_names))\n",
    "            torch.cuda.empty_cache()\n",
    "\n",
    "        query_global    = torch.cat(query_global, 0)\n",
    "        query_local     = torch.cat(query_local, 0)\n",
    "        query_mask      = torch.cat(query_mask, 0)\n",
    "        query_scales    = torch.cat(query_scales, 0)\n",
    "        query_positions = torch.cat(query_positions, 0)\n",
    "\n",
    "        for entry in tqdm(gallery_loader, desc='Extracting gallery features', leave=False, ncols=80):\n",
    "            g_global, g_local, g_mask, g_scales, g_positions, _, g_names = entry\n",
    "            gallery_global.append(g_global.cpu())\n",
    "            gallery_local.append(g_local.cpu())\n",
    "            gallery_mask.append(g_mask.cpu())\n",
    "            gallery_scales.append(g_scales.cpu())\n",
    "            gallery_positions.append(g_positions.cpu())\n",
    "            gallery_names.extend(list(g_names))\n",
    "            torch.cuda.empty_cache()\n",
    "\n",
    "        gallery_global    = torch.cat(gallery_global, 0)\n",
    "        gallery_local     = torch.cat(gallery_local, 0)\n",
    "        gallery_mask      = torch.cat(gallery_mask, 0)\n",
    "        gallery_scales    = torch.cat(gallery_scales, 0)\n",
    "        gallery_positions = torch.cat(gallery_positions, 0)\n",
    "    \n",
    "    query_feats   = [query_global, query_local, query_mask, query_scales, query_positions, query_names]\n",
    "    gallery_feats = [gallery_global, gallery_local, gallery_mask, gallery_scales, gallery_positions, gallery_names]\n",
    "    \n",
    "    return query_feats, gallery_feats"
   ]
  },
  {
   "cell_type": "code",
   "execution_count": 32,
   "metadata": {},
   "outputs": [],
   "source": [
    "from utils.metrics import mean_average_precision_viquae_rerank\n",
    "\n",
    "def fast_evaluate_viquae(\n",
    "    model: nn.Module,\n",
    "    cache_nn_inds: torch.Tensor,\n",
    "    query_loader: DataLoader,\n",
    "    gallery_loader: DataLoader,\n",
    "    recall: List[int],\n",
    "    query_feats, \n",
    "    gallery_feats):\n",
    "    \n",
    "    model.eval()\n",
    "    device = next(model.parameters()).device\n",
    "    to_device = lambda x: x.to(device, non_blocking=True)\n",
    "    \n",
    "    if len(query_feats) == 0:\n",
    "        query_feats, gallery_feats = read_entry_once(query_loader, gallery_loader)\n",
    "    \n",
    "    query_global, query_local, query_mask, query_scales, query_positions, query_names = query_feats\n",
    "    gallery_global, gallery_local, gallery_mask, gallery_scales, gallery_positions, gallery_names = gallery_feats\n",
    "    \n",
    "    torch.cuda.empty_cache()\n",
    "    \n",
    "    fast_evaluate_function = partial(mean_average_precision_viquae_rerank, model=model, cache_nn_inds=cache_nn_inds,\n",
    "        query_global=query_global, query_local=query_local, query_mask=query_mask, query_scales=query_scales, query_positions=query_positions, \n",
    "        gallery_global=gallery_global, gallery_local=gallery_local, gallery_mask=gallery_mask, gallery_scales=gallery_scales, gallery_positions=gallery_positions, \n",
    "        ks=recall, \n",
    "        gnd=query_loader.dataset.gnd_data,\n",
    "    )\n",
    "    metrics = fast_evaluate_function()\n",
    "    \n",
    "    return metrics, query_feats, gallery_feats"
   ]
  },
  {
   "cell_type": "code",
   "execution_count": 33,
   "metadata": {},
   "outputs": [],
   "source": [
    "query_feats, gallery_feats = [], []"
   ]
  },
  {
   "cell_type": "code",
   "execution_count": 34,
   "metadata": {},
   "outputs": [],
   "source": [
    "torch.manual_seed(seed+3)\n",
    "# setup partial function to simplify call\n",
    "\n",
    "eval_function = partial(fast_evaluate_viquae, model=model, \n",
    "    cache_nn_inds=cache_nn_inds,\n",
    "    recall=recall_ks, query_loader=loaders.query, gallery_loader=loaders.gallery,\n",
    "    query_feats=query_feats, gallery_feats=gallery_feats)"
   ]
  },
  {
   "cell_type": "code",
   "execution_count": 35,
   "metadata": {},
   "outputs": [
    {
     "name": "stderr",
     "output_type": "stream",
     "text": [
      "\r",
      "Extracting query features:   0%|                          | 0/4 [00:00<?, ?it/s]"
     ]
    },
    {
     "name": "stdout",
     "output_type": "stream",
     "text": [
      "READING ENTRIES FOR THE FIRST TIME\n"
     ]
    },
    {
     "name": "stderr",
     "output_type": "stream",
     "text": [
      "100%|██████████| 120/120 [01:10<00:00,  1.69it/s]                               \n"
     ]
    },
    {
     "name": "stdout",
     "output_type": "stream",
     "text": [
      "{'map': 31.63, 'mrr': 44.02, 'precision': 13.83, 'hit_rate': 85.0, 'recall': 84.58, 'map@1': 11.82, 'mrr@1': 33.33, 'precision@1': 33.33, 'hit_rate@1': 33.33, 'recall@1': 11.82, 'map@5': 18.28, 'mrr@5': 41.64, 'precision@5': 19.83, 'hit_rate@5': 55.0, 'recall@5': 22.65, 'map@10': 21.45, 'mrr@10': 43.08, 'precision@10': 16.67, 'hit_rate@10': 65.0, 'recall@10': 31.73}\n",
      "{'hit_rate': 85.0,\n",
      " 'hit_rate@1': 33.33,\n",
      " 'hit_rate@10': 65.0,\n",
      " 'hit_rate@5': 55.0,\n",
      " 'map': 31.63,\n",
      " 'map@1': 11.82,\n",
      " 'map@10': 21.45,\n",
      " 'map@5': 18.28,\n",
      " 'mrr': 44.02,\n",
      " 'mrr@1': 33.33,\n",
      " 'mrr@10': 43.08,\n",
      " 'mrr@5': 41.64,\n",
      " 'precision': 13.83,\n",
      " 'precision@1': 33.33,\n",
      " 'precision@10': 16.67,\n",
      " 'precision@5': 19.83,\n",
      " 'recall': 84.58,\n",
      " 'recall@1': 11.82,\n",
      " 'recall@10': 31.73,\n",
      " 'recall@5': 22.65}\n"
     ]
    }
   ],
   "source": [
    "result, query_feats, gallery_feats = eval_function()\n",
    "pprint(result)\n",
    "best_val = (0, result, deepcopy(model.state_dict()))"
   ]
  },
  {
   "cell_type": "code",
   "execution_count": 36,
   "metadata": {},
   "outputs": [
    {
     "data": {
      "text/plain": [
       "<torch._C.Generator at 0x7f2a3233e7b0>"
      ]
     },
     "execution_count": 36,
     "metadata": {},
     "output_type": "execute_result"
    }
   ],
   "source": [
    "torch.manual_seed(seed+4)"
   ]
  },
  {
   "cell_type": "code",
   "execution_count": 37,
   "metadata": {},
   "outputs": [],
   "source": [
    "save_name = osp.join(temp_dir, 'rrt_tuto_viquae_dev_r50_gldv2.pt')"
   ]
  },
  {
   "cell_type": "code",
   "execution_count": 38,
   "metadata": {},
   "outputs": [
    {
     "data": {
      "text/plain": [
       "{'map': 31.63,\n",
       " 'mrr': 44.02,\n",
       " 'precision': 13.83,\n",
       " 'hit_rate': 85.0,\n",
       " 'recall': 84.58,\n",
       " 'map@1': 11.82,\n",
       " 'mrr@1': 33.33,\n",
       " 'precision@1': 33.33,\n",
       " 'hit_rate@1': 33.33,\n",
       " 'recall@1': 11.82,\n",
       " 'map@5': 18.28,\n",
       " 'mrr@5': 41.64,\n",
       " 'precision@5': 19.83,\n",
       " 'hit_rate@5': 55.0,\n",
       " 'recall@5': 22.65,\n",
       " 'map@10': 21.45,\n",
       " 'mrr@10': 43.08,\n",
       " 'precision@10': 16.67,\n",
       " 'hit_rate@10': 65.0,\n",
       " 'recall@10': 31.73}"
      ]
     },
     "execution_count": 38,
     "metadata": {},
     "output_type": "execute_result"
    }
   ],
   "source": [
    "result"
   ]
  },
  {
   "cell_type": "markdown",
   "metadata": {},
   "source": [
    "# Training"
   ]
  },
  {
   "cell_type": "code",
   "execution_count": 39,
   "metadata": {},
   "outputs": [],
   "source": [
    "def train_one_epoch(\n",
    "        model: nn.Module,\n",
    "        loader: DataLoader,\n",
    "        class_loss: nn.Module,\n",
    "        optimizer: Optimizer,\n",
    "        # the second entry indicates if the scheduler should step per iteration or epoch\n",
    "        scheduler: (_LRScheduler, bool), \n",
    "        max_norm: float,\n",
    "        epoch: int,\n",
    "        writer: SummaryWriter,\n",
    "        # callback: VisdomLogger,\n",
    "        freq: int,\n",
    "        ex: Experiment = None) -> None:\n",
    "    model.train()\n",
    "    device = next(model.parameters()).device\n",
    "    to_device = lambda x: x.to(device, non_blocking=True)\n",
    "    loader_length = len(loader)\n",
    "    train_losses = AverageMeter(device=device, length=loader_length)\n",
    "    train_accs = AverageMeter(device=device, length=loader_length)\n",
    "    pbar = tqdm(loader, ncols=80, desc='Training   [{:03d}]'.format(epoch))\n",
    "    for i, entry in enumerate(pbar):\n",
    "        global_feats, local_feats, local_mask, scales, positions, _, _ = entry\n",
    "        global_feats, local_feats, local_mask, scales, positions = map(to_device, (global_feats, local_feats, local_mask, scales, positions))\n",
    "        \n",
    "        p_logits = model(global_feats[0::3], local_feats[0::3], local_mask[0::3], scales[0::3], positions[0::3],\n",
    "            global_feats[1::3], local_feats[1::3], local_mask[1::3], scales[1::3], positions[1::3])\n",
    "        n_logits = model(global_feats[0::3], local_feats[0::3], local_mask[0::3], scales[0::3], positions[0::3],\n",
    "            global_feats[2::3], local_feats[2::3], local_mask[2::3], scales[2::3], positions[2::3])\n",
    "\n",
    "        logits = torch.cat([p_logits, n_logits], 0)\n",
    "        bsize = logits.size(0)\n",
    "        # assert (bsize % 2 == 0)\n",
    "        labels = logits.new_ones(logits.size()).float()\n",
    "        labels[(bsize//2):] = 0\n",
    "        loss = class_loss(logits, labels).mean()\n",
    "        acc = ((torch.sigmoid(logits) > 0.5).long() == labels.long()).float().mean()\n",
    "\n",
    "        ##############################################\n",
    "        optimizer.zero_grad()\n",
    "        loss.backward()\n",
    "        if max_norm > 0:\n",
    "            torch.nn.utils.clip_grad_norm_(model.parameters(), max_norm)\n",
    "        optimizer.step()\n",
    "\n",
    "     #   if scheduler[-1]:\n",
    "      #      scheduler[0].step()\n",
    "\n",
    "        train_losses.append(loss)\n",
    "        train_accs.append(acc)\n",
    "\n",
    "\n",
    "        step = epoch + i / loader_length\n",
    "        #print('step/loss/accu/lr:', step, train_losses.last_avg.item(), train_accs.last_avg.item(), scheduler[0].get_last_lr()[0])\n",
    "        writer.add_scalar('loss/step', train_losses.last_avg.item(),  step)\n",
    "        writer.add_scalar('accu/step', train_accs.last_avg.item(),    step)\n",
    "        writer.add_scalar('lr/step',   scheduler[0].get_last_lr()[0], step)\n",
    "\n",
    "  #  if not scheduler[-1]:\n",
    "   #     scheduler[0].step()\n",
    "\n",
    "    if ex is not None:\n",
    "        for i, (loss, acc) in enumerate(zip(train_losses.values_list, train_accs.values_list)):\n",
    "            step = epoch + i / loader_length\n",
    "            ex.log_scalar('train.loss', loss, step=step)\n",
    "            ex.log_scalar('train.acc',  acc, step=step)\n",
    "    \n",
    "    print('STATISTICS FOR EPOCH ', epoch)\n",
    "    step = epoch + i / loader_length\n",
    "    print('step/loss/accu/lr:', step, train_losses.last_avg.item(), train_accs.last_avg.item(), scheduler[0].get_last_lr()[0])\n",
    "    writer.add_scalar('loss/epoch', train_losses.last_avg.item(),  epoch)\n",
    "    writer.add_scalar('accu/epoch', train_accs.last_avg.item(),    epoch)\n",
    "    writer.add_scalar('lr/epoch',   scheduler[0].get_last_lr()[0], epoch)\n",
    "\n"
   ]
  },
  {
   "cell_type": "code",
   "execution_count": 40,
   "metadata": {},
   "outputs": [],
   "source": [
    "## Load Model\n",
    "torch.manual_seed(seed+1)\n",
    "\n",
    "model = get_model(num_global_features,\n",
    "                  num_local_features,\n",
    "                  seq_len,dim_K,\n",
    "                  dim_feedforward,\n",
    "                  nhead,\n",
    "                  num_encoder_layers,\n",
    "                  dropout,\n",
    "                  activation,\n",
    "                  normalize_before,\n",
    "                  use_pos)"
   ]
  },
  {
   "cell_type": "code",
   "execution_count": 41,
   "metadata": {},
   "outputs": [],
   "source": [
    "## Freeze Parametes\n",
    "classifier = True\n",
    "transformer = False\n",
    "last_layers = False\n",
    "if classifier:\n",
    "    #freeze all layers of the model\n",
    "    for param in model.parameters():\n",
    "        param.requires_grad = False\n",
    "\n",
    "    #unfreeze the classfication layers\n",
    "    for param in model.classifier.parameters():\n",
    "        param.requires_grad = True\n",
    "\n",
    "if transformer:\n",
    "    #freeze all layers of the model\n",
    "    for param in model.parameters():\n",
    "        param.requires_grad = True\n",
    "\n",
    "    for param in model.classifier.parameters():\n",
    "        param.requires_grad = False\n",
    "    for param in model.seg_encoder.parameters():\n",
    "        param.requires_grad = False\n",
    "    for param in model.scale_encoder.parameters():\n",
    "        param.requires_grad = False\n",
    "    for param in model.remap.parameters():\n",
    "        param.requires_grad = False\n",
    "\n",
    "if last_layers:\n",
    "    #freeze all layers of the model\n",
    "    for param in model.parameters():\n",
    "        param.requires_grad = False\n",
    "\n",
    "    for param in model.classifier.parameters():\n",
    "        param.requires_grad = True\n",
    "    for param in model.seg_encoder.parameters():\n",
    "        param.requires_grad = True\n",
    "    for param in model.scale_encoder.parameters():\n",
    "        param.requires_grad = True\n",
    "    for param in model.remap.parameters():\n",
    "        param.requires_grad = True"
   ]
  },
  {
   "cell_type": "code",
   "execution_count": 42,
   "metadata": {},
   "outputs": [
    {
     "name": "stdout",
     "output_type": "stream",
     "text": [
      "# of trainable parameters:  129\n"
     ]
    }
   ],
   "source": [
    "if resume is not None:\n",
    "    checkpoint = torch.load(resume, map_location=torch.device('cpu'))\n",
    "    model.load_state_dict(checkpoint['state'], strict=True)\n",
    "print('# of trainable parameters: ', num_of_trainable_params(model))\n",
    "class_loss = get_loss(loss)"
   ]
  },
  {
   "cell_type": "code",
   "execution_count": 43,
   "metadata": {},
   "outputs": [],
   "source": [
    "lr = 1e-5\n",
    "torch.manual_seed(seed+2)\n",
    "model.to(device)\n",
    "model = nn.DataParallel(model)\n",
    "parameters = []\n",
    "if no_bias_decay:\n",
    "    parameters.append({'params': [par for par in model.parameters() if par.dim() != 1]})\n",
    "    parameters.append({'params': [par for par in model.parameters() if par.dim() == 1], 'weight_decay': 0})\n",
    "else:\n",
    "    parameters.append({'params': model.parameters()})\n",
    "optimizer, scheduler = get_optimizer_scheduler(parameters=parameters, loader_length=len(loaders.train),\n",
    "                                               optim=optim, epochs=epochs, lr=lr,\n",
    "                                               momentum=momentum, nesterov=nesterov, weight_decay=weight_decay,\n",
    "                                               scheduler=scheduler, scheduler_tau=scheduler_tau, \n",
    "                                               scheduler_gamma=scheduler_gamma, lr_step=None)\n",
    "if resume is not None and checkpoint.get('optim', None) is not None:\n",
    "    optimizer.load_state_dict(checkpoint['optim'])\n",
    "    del checkpoint\n"
   ]
  },
  {
   "cell_type": "code",
   "execution_count": 44,
   "metadata": {
    "scrolled": false
   },
   "outputs": [
    {
     "name": "stderr",
     "output_type": "stream",
     "text": [
      "Training   [000]: 100%|███████████████████████████| 4/4 [00:03<00:00,  1.22it/s]\n",
      "Training   [001]:   0%|                                   | 0/4 [00:00<?, ?it/s]"
     ]
    },
    {
     "name": "stdout",
     "output_type": "stream",
     "text": [
      "STATISTICS FOR EPOCH  0\n",
      "step/loss/accu/lr: 0.75 1.4129979610443115 0.5 1e-05\n"
     ]
    },
    {
     "name": "stderr",
     "output_type": "stream",
     "text": [
      "Training   [001]: 100%|███████████████████████████| 4/4 [00:03<00:00,  1.25it/s]\n",
      "Training   [002]:   0%|                                   | 0/4 [00:00<?, ?it/s]"
     ]
    },
    {
     "name": "stdout",
     "output_type": "stream",
     "text": [
      "STATISTICS FOR EPOCH  1\n",
      "step/loss/accu/lr: 1.75 1.7685681581497192 0.5 1e-05\n"
     ]
    },
    {
     "name": "stderr",
     "output_type": "stream",
     "text": [
      "Training   [002]: 100%|███████████████████████████| 4/4 [00:03<00:00,  1.28it/s]\n",
      "Training   [003]:   0%|                                   | 0/4 [00:00<?, ?it/s]"
     ]
    },
    {
     "name": "stdout",
     "output_type": "stream",
     "text": [
      "STATISTICS FOR EPOCH  2\n",
      "step/loss/accu/lr: 2.75 1.7797722816467285 0.25 1e-05\n"
     ]
    },
    {
     "name": "stderr",
     "output_type": "stream",
     "text": [
      "Training   [003]: 100%|███████████████████████████| 4/4 [00:03<00:00,  1.30it/s]\n",
      "Training   [004]:   0%|                                   | 0/4 [00:00<?, ?it/s]"
     ]
    },
    {
     "name": "stdout",
     "output_type": "stream",
     "text": [
      "STATISTICS FOR EPOCH  3\n",
      "step/loss/accu/lr: 3.75 1.3701810836791992 0.5 1e-05\n"
     ]
    },
    {
     "name": "stderr",
     "output_type": "stream",
     "text": [
      "Training   [004]: 100%|███████████████████████████| 4/4 [00:03<00:00,  1.30it/s]\n",
      "Training   [005]:   0%|                                   | 0/4 [00:00<?, ?it/s]"
     ]
    },
    {
     "name": "stdout",
     "output_type": "stream",
     "text": [
      "STATISTICS FOR EPOCH  4\n",
      "step/loss/accu/lr: 4.75 2.0456020832061768 0.375 1e-05\n"
     ]
    },
    {
     "name": "stderr",
     "output_type": "stream",
     "text": [
      "Training   [005]: 100%|███████████████████████████| 4/4 [00:03<00:00,  1.30it/s]\n",
      "Training   [006]:   0%|                                   | 0/4 [00:00<?, ?it/s]"
     ]
    },
    {
     "name": "stdout",
     "output_type": "stream",
     "text": [
      "STATISTICS FOR EPOCH  5\n",
      "step/loss/accu/lr: 5.75 1.5675894021987915 0.5 1e-05\n"
     ]
    },
    {
     "name": "stderr",
     "output_type": "stream",
     "text": [
      "Training   [006]: 100%|███████████████████████████| 4/4 [00:03<00:00,  1.31it/s]\n",
      "Training   [007]:   0%|                                   | 0/4 [00:00<?, ?it/s]"
     ]
    },
    {
     "name": "stdout",
     "output_type": "stream",
     "text": [
      "STATISTICS FOR EPOCH  6\n",
      "step/loss/accu/lr: 6.75 2.235835552215576 0.375 1e-05\n"
     ]
    },
    {
     "name": "stderr",
     "output_type": "stream",
     "text": [
      "Training   [007]: 100%|███████████████████████████| 4/4 [00:03<00:00,  1.28it/s]\n",
      "Training   [008]:   0%|                                   | 0/4 [00:00<?, ?it/s]"
     ]
    },
    {
     "name": "stdout",
     "output_type": "stream",
     "text": [
      "STATISTICS FOR EPOCH  7\n",
      "step/loss/accu/lr: 7.75 1.590696930885315 0.5 1e-05\n"
     ]
    },
    {
     "name": "stderr",
     "output_type": "stream",
     "text": [
      "Training   [008]: 100%|███████████████████████████| 4/4 [00:03<00:00,  1.28it/s]\n",
      "Training   [009]:   0%|                                   | 0/4 [00:00<?, ?it/s]"
     ]
    },
    {
     "name": "stdout",
     "output_type": "stream",
     "text": [
      "STATISTICS FOR EPOCH  8\n",
      "step/loss/accu/lr: 8.75 1.3840776681900024 0.5 1e-05\n"
     ]
    },
    {
     "name": "stderr",
     "output_type": "stream",
     "text": [
      "Training   [009]: 100%|███████████████████████████| 4/4 [00:03<00:00,  1.30it/s]\n",
      "Training   [010]:   0%|                                   | 0/4 [00:00<?, ?it/s]"
     ]
    },
    {
     "name": "stdout",
     "output_type": "stream",
     "text": [
      "STATISTICS FOR EPOCH  9\n",
      "step/loss/accu/lr: 9.75 1.6505142450332642 0.5 1e-05\n"
     ]
    },
    {
     "name": "stderr",
     "output_type": "stream",
     "text": [
      "Training   [010]: 100%|███████████████████████████| 4/4 [00:03<00:00,  1.30it/s]\n",
      "Training   [011]:   0%|                                   | 0/4 [00:00<?, ?it/s]"
     ]
    },
    {
     "name": "stdout",
     "output_type": "stream",
     "text": [
      "STATISTICS FOR EPOCH  10\n",
      "step/loss/accu/lr: 10.75 1.478796124458313 0.5 1e-05\n"
     ]
    },
    {
     "name": "stderr",
     "output_type": "stream",
     "text": [
      "Training   [011]: 100%|███████████████████████████| 4/4 [00:03<00:00,  1.30it/s]\n",
      "Training   [012]:   0%|                                   | 0/4 [00:00<?, ?it/s]"
     ]
    },
    {
     "name": "stdout",
     "output_type": "stream",
     "text": [
      "STATISTICS FOR EPOCH  11\n",
      "step/loss/accu/lr: 11.75 1.1411818265914917 0.625 1e-05\n"
     ]
    },
    {
     "name": "stderr",
     "output_type": "stream",
     "text": [
      "Training   [012]: 100%|███████████████████████████| 4/4 [00:03<00:00,  1.30it/s]\n",
      "Training   [013]:   0%|                                   | 0/4 [00:00<?, ?it/s]"
     ]
    },
    {
     "name": "stdout",
     "output_type": "stream",
     "text": [
      "STATISTICS FOR EPOCH  12\n",
      "step/loss/accu/lr: 12.75 1.730727195739746 0.375 1e-05\n"
     ]
    },
    {
     "name": "stderr",
     "output_type": "stream",
     "text": [
      "Training   [013]: 100%|███████████████████████████| 4/4 [00:03<00:00,  1.30it/s]\n",
      "Training   [014]:   0%|                                   | 0/4 [00:00<?, ?it/s]"
     ]
    },
    {
     "name": "stdout",
     "output_type": "stream",
     "text": [
      "STATISTICS FOR EPOCH  13\n",
      "step/loss/accu/lr: 13.75 1.0416494607925415 0.5 1e-05\n"
     ]
    },
    {
     "name": "stderr",
     "output_type": "stream",
     "text": [
      "Training   [014]: 100%|███████████████████████████| 4/4 [00:03<00:00,  1.31it/s]\n",
      "Training   [015]:   0%|                                   | 0/4 [00:00<?, ?it/s]"
     ]
    },
    {
     "name": "stdout",
     "output_type": "stream",
     "text": [
      "STATISTICS FOR EPOCH  14\n",
      "step/loss/accu/lr: 14.75 1.305408000946045 0.375 1e-05\n"
     ]
    },
    {
     "name": "stderr",
     "output_type": "stream",
     "text": [
      "Training   [015]: 100%|███████████████████████████| 4/4 [00:02<00:00,  1.33it/s]\n",
      "Training   [016]:   0%|                                   | 0/4 [00:00<?, ?it/s]"
     ]
    },
    {
     "name": "stdout",
     "output_type": "stream",
     "text": [
      "STATISTICS FOR EPOCH  15\n",
      "step/loss/accu/lr: 15.75 1.7636219263076782 0.5 1e-05\n"
     ]
    },
    {
     "name": "stderr",
     "output_type": "stream",
     "text": [
      "Training   [016]: 100%|███████████████████████████| 4/4 [00:03<00:00,  1.33it/s]\n",
      "Training   [017]:   0%|                                   | 0/4 [00:00<?, ?it/s]"
     ]
    },
    {
     "name": "stdout",
     "output_type": "stream",
     "text": [
      "STATISTICS FOR EPOCH  16\n",
      "step/loss/accu/lr: 16.75 1.7495216131210327 0.375 1e-05\n"
     ]
    },
    {
     "name": "stderr",
     "output_type": "stream",
     "text": [
      "Training   [017]: 100%|███████████████████████████| 4/4 [00:02<00:00,  1.37it/s]\n",
      "Training   [018]:   0%|                                   | 0/4 [00:00<?, ?it/s]"
     ]
    },
    {
     "name": "stdout",
     "output_type": "stream",
     "text": [
      "STATISTICS FOR EPOCH  17\n",
      "step/loss/accu/lr: 17.75 1.376538634300232 0.375 1e-05\n"
     ]
    },
    {
     "name": "stderr",
     "output_type": "stream",
     "text": [
      "Training   [018]: 100%|███████████████████████████| 4/4 [00:02<00:00,  1.34it/s]\n",
      "Training   [019]:   0%|                                   | 0/4 [00:00<?, ?it/s]"
     ]
    },
    {
     "name": "stdout",
     "output_type": "stream",
     "text": [
      "STATISTICS FOR EPOCH  18\n",
      "step/loss/accu/lr: 18.75 2.204496383666992 0.5 1e-05\n"
     ]
    },
    {
     "name": "stderr",
     "output_type": "stream",
     "text": [
      "Training   [019]: 100%|███████████████████████████| 4/4 [00:02<00:00,  1.34it/s]\n",
      "Training   [020]:   0%|                                   | 0/4 [00:00<?, ?it/s]"
     ]
    },
    {
     "name": "stdout",
     "output_type": "stream",
     "text": [
      "STATISTICS FOR EPOCH  19\n",
      "step/loss/accu/lr: 19.75 2.106886863708496 0.5 1e-05\n"
     ]
    },
    {
     "name": "stderr",
     "output_type": "stream",
     "text": [
      "Training   [020]: 100%|███████████████████████████| 4/4 [00:03<00:00,  1.24it/s]\n",
      "Training   [021]:   0%|                                   | 0/4 [00:00<?, ?it/s]"
     ]
    },
    {
     "name": "stdout",
     "output_type": "stream",
     "text": [
      "STATISTICS FOR EPOCH  20\n",
      "step/loss/accu/lr: 20.75 1.5797163248062134 0.5 1e-05\n"
     ]
    },
    {
     "name": "stderr",
     "output_type": "stream",
     "text": [
      "Training   [021]: 100%|███████████████████████████| 4/4 [00:03<00:00,  1.24it/s]\n",
      "Training   [022]:   0%|                                   | 0/4 [00:00<?, ?it/s]"
     ]
    },
    {
     "name": "stdout",
     "output_type": "stream",
     "text": [
      "STATISTICS FOR EPOCH  21\n",
      "step/loss/accu/lr: 21.75 1.9491665363311768 0.5 1e-05\n"
     ]
    },
    {
     "name": "stderr",
     "output_type": "stream",
     "text": [
      "Training   [022]: 100%|███████████████████████████| 4/4 [00:03<00:00,  1.26it/s]\n",
      "Training   [023]:   0%|                                   | 0/4 [00:00<?, ?it/s]"
     ]
    },
    {
     "name": "stdout",
     "output_type": "stream",
     "text": [
      "STATISTICS FOR EPOCH  22\n",
      "step/loss/accu/lr: 22.75 2.2681539058685303 0.5 1e-05\n"
     ]
    },
    {
     "name": "stderr",
     "output_type": "stream",
     "text": [
      "Training   [023]: 100%|███████████████████████████| 4/4 [00:03<00:00,  1.26it/s]\n",
      "Training   [024]:   0%|                                   | 0/4 [00:00<?, ?it/s]"
     ]
    },
    {
     "name": "stdout",
     "output_type": "stream",
     "text": [
      "STATISTICS FOR EPOCH  23\n",
      "step/loss/accu/lr: 23.75 1.381752371788025 0.5 1e-05\n"
     ]
    },
    {
     "name": "stderr",
     "output_type": "stream",
     "text": [
      "Training   [024]: 100%|███████████████████████████| 4/4 [00:03<00:00,  1.24it/s]\n",
      "Training   [025]:   0%|                                   | 0/4 [00:00<?, ?it/s]"
     ]
    },
    {
     "name": "stdout",
     "output_type": "stream",
     "text": [
      "STATISTICS FOR EPOCH  24\n",
      "step/loss/accu/lr: 24.75 1.8672758340835571 0.5 1e-05\n"
     ]
    },
    {
     "name": "stderr",
     "output_type": "stream",
     "text": [
      "Training   [025]: 100%|███████████████████████████| 4/4 [00:03<00:00,  1.24it/s]\n",
      "Training   [026]:   0%|                                   | 0/4 [00:00<?, ?it/s]"
     ]
    },
    {
     "name": "stdout",
     "output_type": "stream",
     "text": [
      "STATISTICS FOR EPOCH  25\n",
      "step/loss/accu/lr: 25.75 1.559918999671936 0.5 1e-05\n"
     ]
    },
    {
     "name": "stderr",
     "output_type": "stream",
     "text": [
      "Training   [026]: 100%|███████████████████████████| 4/4 [00:03<00:00,  1.25it/s]\n",
      "Training   [027]:   0%|                                   | 0/4 [00:00<?, ?it/s]"
     ]
    },
    {
     "name": "stdout",
     "output_type": "stream",
     "text": [
      "STATISTICS FOR EPOCH  26\n",
      "step/loss/accu/lr: 26.75 1.7174113988876343 0.5 1e-05\n"
     ]
    },
    {
     "name": "stderr",
     "output_type": "stream",
     "text": [
      "Training   [027]: 100%|███████████████████████████| 4/4 [00:03<00:00,  1.25it/s]\n",
      "Training   [028]:   0%|                                   | 0/4 [00:00<?, ?it/s]"
     ]
    },
    {
     "name": "stdout",
     "output_type": "stream",
     "text": [
      "STATISTICS FOR EPOCH  27\n",
      "step/loss/accu/lr: 27.75 1.5867927074432373 0.5 1e-05\n"
     ]
    },
    {
     "name": "stderr",
     "output_type": "stream",
     "text": [
      "Training   [028]: 100%|███████████████████████████| 4/4 [00:03<00:00,  1.25it/s]\n",
      "Training   [029]:   0%|                                   | 0/4 [00:00<?, ?it/s]"
     ]
    },
    {
     "name": "stdout",
     "output_type": "stream",
     "text": [
      "STATISTICS FOR EPOCH  28\n",
      "step/loss/accu/lr: 28.75 1.5350925922393799 0.5 1e-05\n"
     ]
    },
    {
     "name": "stderr",
     "output_type": "stream",
     "text": [
      "Training   [029]: 100%|███████████████████████████| 4/4 [00:03<00:00,  1.21it/s]\n",
      "Training   [030]:   0%|                                   | 0/4 [00:00<?, ?it/s]"
     ]
    },
    {
     "name": "stdout",
     "output_type": "stream",
     "text": [
      "STATISTICS FOR EPOCH  29\n",
      "step/loss/accu/lr: 29.75 1.5982438325881958 0.5 1e-05\n"
     ]
    },
    {
     "name": "stderr",
     "output_type": "stream",
     "text": [
      "Training   [030]: 100%|███████████████████████████| 4/4 [00:03<00:00,  1.26it/s]\n",
      "Training   [031]:   0%|                                   | 0/4 [00:00<?, ?it/s]"
     ]
    },
    {
     "name": "stdout",
     "output_type": "stream",
     "text": [
      "STATISTICS FOR EPOCH  30\n",
      "step/loss/accu/lr: 30.75 1.3537569046020508 0.5 1e-05\n"
     ]
    },
    {
     "name": "stderr",
     "output_type": "stream",
     "text": [
      "Training   [031]: 100%|███████████████████████████| 4/4 [00:03<00:00,  1.24it/s]\n",
      "Training   [032]:   0%|                                   | 0/4 [00:00<?, ?it/s]"
     ]
    },
    {
     "name": "stdout",
     "output_type": "stream",
     "text": [
      "STATISTICS FOR EPOCH  31\n",
      "step/loss/accu/lr: 31.75 1.840099811553955 0.5 1e-05\n"
     ]
    },
    {
     "name": "stderr",
     "output_type": "stream",
     "text": [
      "Training   [032]: 100%|███████████████████████████| 4/4 [00:03<00:00,  1.23it/s]\n",
      "Training   [033]:   0%|                                   | 0/4 [00:00<?, ?it/s]"
     ]
    },
    {
     "name": "stdout",
     "output_type": "stream",
     "text": [
      "STATISTICS FOR EPOCH  32\n",
      "step/loss/accu/lr: 32.75 2.0399014949798584 0.5 1e-05\n"
     ]
    },
    {
     "name": "stderr",
     "output_type": "stream",
     "text": [
      "Training   [033]: 100%|███████████████████████████| 4/4 [00:03<00:00,  1.23it/s]\n",
      "Training   [034]:   0%|                                   | 0/4 [00:00<?, ?it/s]"
     ]
    },
    {
     "name": "stdout",
     "output_type": "stream",
     "text": [
      "STATISTICS FOR EPOCH  33\n",
      "step/loss/accu/lr: 33.75 1.6396899223327637 0.5 1e-05\n"
     ]
    },
    {
     "name": "stderr",
     "output_type": "stream",
     "text": [
      "Training   [034]: 100%|███████████████████████████| 4/4 [00:03<00:00,  1.20it/s]\n",
      "Training   [035]:   0%|                                   | 0/4 [00:00<?, ?it/s]"
     ]
    },
    {
     "name": "stdout",
     "output_type": "stream",
     "text": [
      "STATISTICS FOR EPOCH  34\n",
      "step/loss/accu/lr: 34.75 1.8040926456451416 0.5 1e-05\n"
     ]
    },
    {
     "name": "stderr",
     "output_type": "stream",
     "text": [
      "Training   [035]: 100%|███████████████████████████| 4/4 [00:03<00:00,  1.19it/s]\n",
      "Training   [036]:   0%|                                   | 0/4 [00:00<?, ?it/s]"
     ]
    },
    {
     "name": "stdout",
     "output_type": "stream",
     "text": [
      "STATISTICS FOR EPOCH  35\n",
      "step/loss/accu/lr: 35.75 1.1819708347320557 0.5 1e-05\n"
     ]
    },
    {
     "name": "stderr",
     "output_type": "stream",
     "text": [
      "Training   [036]: 100%|███████████████████████████| 4/4 [00:03<00:00,  1.17it/s]\n",
      "Training   [037]:   0%|                                   | 0/4 [00:00<?, ?it/s]"
     ]
    },
    {
     "name": "stdout",
     "output_type": "stream",
     "text": [
      "STATISTICS FOR EPOCH  36\n",
      "step/loss/accu/lr: 36.75 2.093005895614624 0.5 1e-05\n"
     ]
    },
    {
     "name": "stderr",
     "output_type": "stream",
     "text": [
      "Training   [037]: 100%|███████████████████████████| 4/4 [00:03<00:00,  1.19it/s]\n",
      "Training   [038]:   0%|                                   | 0/4 [00:00<?, ?it/s]"
     ]
    },
    {
     "name": "stdout",
     "output_type": "stream",
     "text": [
      "STATISTICS FOR EPOCH  37\n",
      "step/loss/accu/lr: 37.75 1.5034518241882324 0.625 1e-05\n"
     ]
    },
    {
     "name": "stderr",
     "output_type": "stream",
     "text": [
      "Training   [038]: 100%|███████████████████████████| 4/4 [00:03<00:00,  1.16it/s]\n",
      "Training   [039]:   0%|                                   | 0/4 [00:00<?, ?it/s]"
     ]
    },
    {
     "name": "stdout",
     "output_type": "stream",
     "text": [
      "STATISTICS FOR EPOCH  38\n",
      "step/loss/accu/lr: 38.75 2.1192541122436523 0.375 1e-05\n"
     ]
    },
    {
     "name": "stderr",
     "output_type": "stream",
     "text": [
      "Training   [039]: 100%|███████████████████████████| 4/4 [00:03<00:00,  1.17it/s]\n",
      "Training   [040]:   0%|                                   | 0/4 [00:00<?, ?it/s]"
     ]
    },
    {
     "name": "stdout",
     "output_type": "stream",
     "text": [
      "STATISTICS FOR EPOCH  39\n",
      "step/loss/accu/lr: 39.75 1.5069847106933594 0.5 1e-05\n"
     ]
    },
    {
     "name": "stderr",
     "output_type": "stream",
     "text": [
      "Training   [040]: 100%|███████████████████████████| 4/4 [00:03<00:00,  1.19it/s]\n",
      "Training   [041]:   0%|                                   | 0/4 [00:00<?, ?it/s]"
     ]
    },
    {
     "name": "stdout",
     "output_type": "stream",
     "text": [
      "STATISTICS FOR EPOCH  40\n",
      "step/loss/accu/lr: 40.75 1.394745111465454 0.625 1e-05\n"
     ]
    },
    {
     "name": "stderr",
     "output_type": "stream",
     "text": [
      "Training   [041]: 100%|███████████████████████████| 4/4 [00:03<00:00,  1.20it/s]\n",
      "Training   [042]:   0%|                                   | 0/4 [00:00<?, ?it/s]"
     ]
    },
    {
     "name": "stdout",
     "output_type": "stream",
     "text": [
      "STATISTICS FOR EPOCH  41\n",
      "step/loss/accu/lr: 41.75 1.1559669971466064 0.5 1e-05\n"
     ]
    },
    {
     "name": "stderr",
     "output_type": "stream",
     "text": [
      "Training   [042]: 100%|███████████████████████████| 4/4 [00:03<00:00,  1.20it/s]\n",
      "Training   [043]:   0%|                                   | 0/4 [00:00<?, ?it/s]"
     ]
    },
    {
     "name": "stdout",
     "output_type": "stream",
     "text": [
      "STATISTICS FOR EPOCH  42\n",
      "step/loss/accu/lr: 42.75 1.2515095472335815 0.5 1e-05\n"
     ]
    },
    {
     "name": "stderr",
     "output_type": "stream",
     "text": [
      "Training   [043]: 100%|███████████████████████████| 4/4 [00:03<00:00,  1.19it/s]\n",
      "Training   [044]:   0%|                                   | 0/4 [00:00<?, ?it/s]"
     ]
    },
    {
     "name": "stdout",
     "output_type": "stream",
     "text": [
      "STATISTICS FOR EPOCH  43\n",
      "step/loss/accu/lr: 43.75 1.618707537651062 0.5 1e-05\n"
     ]
    },
    {
     "name": "stderr",
     "output_type": "stream",
     "text": [
      "Training   [044]: 100%|███████████████████████████| 4/4 [00:03<00:00,  1.22it/s]\n",
      "Training   [045]:   0%|                                   | 0/4 [00:00<?, ?it/s]"
     ]
    },
    {
     "name": "stdout",
     "output_type": "stream",
     "text": [
      "STATISTICS FOR EPOCH  44\n",
      "step/loss/accu/lr: 44.75 1.5571410655975342 0.5 1e-05\n"
     ]
    },
    {
     "name": "stderr",
     "output_type": "stream",
     "text": [
      "Training   [045]: 100%|███████████████████████████| 4/4 [00:03<00:00,  1.23it/s]\n",
      "Training   [046]:   0%|                                   | 0/4 [00:00<?, ?it/s]"
     ]
    },
    {
     "name": "stdout",
     "output_type": "stream",
     "text": [
      "STATISTICS FOR EPOCH  45\n",
      "step/loss/accu/lr: 45.75 1.6685070991516113 0.625 1e-05\n"
     ]
    },
    {
     "name": "stderr",
     "output_type": "stream",
     "text": [
      "Training   [046]: 100%|███████████████████████████| 4/4 [00:03<00:00,  1.23it/s]\n",
      "Training   [047]:   0%|                                   | 0/4 [00:00<?, ?it/s]"
     ]
    },
    {
     "name": "stdout",
     "output_type": "stream",
     "text": [
      "STATISTICS FOR EPOCH  46\n",
      "step/loss/accu/lr: 46.75 1.1036115884780884 0.625 1e-05\n"
     ]
    },
    {
     "name": "stderr",
     "output_type": "stream",
     "text": [
      "Training   [047]: 100%|███████████████████████████| 4/4 [00:03<00:00,  1.23it/s]\n",
      "Training   [048]:   0%|                                   | 0/4 [00:00<?, ?it/s]"
     ]
    },
    {
     "name": "stdout",
     "output_type": "stream",
     "text": [
      "STATISTICS FOR EPOCH  47\n",
      "step/loss/accu/lr: 47.75 1.5654927492141724 0.625 1e-05\n"
     ]
    },
    {
     "name": "stderr",
     "output_type": "stream",
     "text": [
      "Training   [048]: 100%|███████████████████████████| 4/4 [00:03<00:00,  1.19it/s]\n",
      "Training   [049]:   0%|                                   | 0/4 [00:00<?, ?it/s]"
     ]
    },
    {
     "name": "stdout",
     "output_type": "stream",
     "text": [
      "STATISTICS FOR EPOCH  48\n",
      "step/loss/accu/lr: 48.75 1.798774003982544 0.5 1e-05\n"
     ]
    },
    {
     "name": "stderr",
     "output_type": "stream",
     "text": [
      "Training   [049]: 100%|███████████████████████████| 4/4 [00:03<00:00,  1.20it/s]\n",
      "Training   [050]:   0%|                                   | 0/4 [00:00<?, ?it/s]"
     ]
    },
    {
     "name": "stdout",
     "output_type": "stream",
     "text": [
      "STATISTICS FOR EPOCH  49\n",
      "step/loss/accu/lr: 49.75 2.200493574142456 0.5 1e-05\n"
     ]
    },
    {
     "name": "stderr",
     "output_type": "stream",
     "text": [
      "Training   [050]: 100%|███████████████████████████| 4/4 [00:03<00:00,  1.17it/s]\n",
      "Training   [051]:   0%|                                   | 0/4 [00:00<?, ?it/s]"
     ]
    },
    {
     "name": "stdout",
     "output_type": "stream",
     "text": [
      "STATISTICS FOR EPOCH  50\n",
      "step/loss/accu/lr: 50.75 1.633660078048706 0.5 1e-05\n"
     ]
    },
    {
     "name": "stderr",
     "output_type": "stream",
     "text": [
      "Training   [051]: 100%|███████████████████████████| 4/4 [00:03<00:00,  1.16it/s]\n",
      "Training   [052]:   0%|                                   | 0/4 [00:00<?, ?it/s]"
     ]
    },
    {
     "name": "stdout",
     "output_type": "stream",
     "text": [
      "STATISTICS FOR EPOCH  51\n",
      "step/loss/accu/lr: 51.75 1.9689242839813232 0.5 1e-05\n"
     ]
    },
    {
     "name": "stderr",
     "output_type": "stream",
     "text": [
      "Training   [052]: 100%|███████████████████████████| 4/4 [00:03<00:00,  1.17it/s]\n",
      "Training   [053]:   0%|                                   | 0/4 [00:00<?, ?it/s]"
     ]
    },
    {
     "name": "stdout",
     "output_type": "stream",
     "text": [
      "STATISTICS FOR EPOCH  52\n",
      "step/loss/accu/lr: 52.75 1.8886561393737793 0.375 1e-05\n"
     ]
    },
    {
     "name": "stderr",
     "output_type": "stream",
     "text": [
      "Training   [053]: 100%|███████████████████████████| 4/4 [00:03<00:00,  1.18it/s]\n",
      "Training   [054]:   0%|                                   | 0/4 [00:00<?, ?it/s]"
     ]
    },
    {
     "name": "stdout",
     "output_type": "stream",
     "text": [
      "STATISTICS FOR EPOCH  53\n",
      "step/loss/accu/lr: 53.75 1.8920396566390991 0.5 1e-05\n"
     ]
    },
    {
     "name": "stderr",
     "output_type": "stream",
     "text": [
      "Training   [054]: 100%|███████████████████████████| 4/4 [00:03<00:00,  1.20it/s]\n",
      "Training   [055]:   0%|                                   | 0/4 [00:00<?, ?it/s]"
     ]
    },
    {
     "name": "stdout",
     "output_type": "stream",
     "text": [
      "STATISTICS FOR EPOCH  54\n",
      "step/loss/accu/lr: 54.75 0.7581785321235657 0.625 1e-05\n"
     ]
    },
    {
     "name": "stderr",
     "output_type": "stream",
     "text": [
      "Training   [055]: 100%|███████████████████████████| 4/4 [00:03<00:00,  1.18it/s]\n",
      "Training   [056]:   0%|                                   | 0/4 [00:00<?, ?it/s]"
     ]
    },
    {
     "name": "stdout",
     "output_type": "stream",
     "text": [
      "STATISTICS FOR EPOCH  55\n",
      "step/loss/accu/lr: 55.75 1.3808820247650146 0.5 1e-05\n"
     ]
    },
    {
     "name": "stderr",
     "output_type": "stream",
     "text": [
      "Training   [056]: 100%|███████████████████████████| 4/4 [00:03<00:00,  1.18it/s]\n",
      "Training   [057]:   0%|                                   | 0/4 [00:00<?, ?it/s]"
     ]
    },
    {
     "name": "stdout",
     "output_type": "stream",
     "text": [
      "STATISTICS FOR EPOCH  56\n",
      "step/loss/accu/lr: 56.75 1.7437971830368042 0.5 1e-05\n"
     ]
    },
    {
     "name": "stderr",
     "output_type": "stream",
     "text": [
      "Training   [057]: 100%|███████████████████████████| 4/4 [00:03<00:00,  1.20it/s]\n",
      "Training   [058]:   0%|                                   | 0/4 [00:00<?, ?it/s]"
     ]
    },
    {
     "name": "stdout",
     "output_type": "stream",
     "text": [
      "STATISTICS FOR EPOCH  57\n",
      "step/loss/accu/lr: 57.75 1.9972741603851318 0.5 1e-05\n"
     ]
    },
    {
     "name": "stderr",
     "output_type": "stream",
     "text": [
      "Training   [058]: 100%|███████████████████████████| 4/4 [00:03<00:00,  1.18it/s]\n",
      "Training   [059]:   0%|                                   | 0/4 [00:00<?, ?it/s]"
     ]
    },
    {
     "name": "stdout",
     "output_type": "stream",
     "text": [
      "STATISTICS FOR EPOCH  58\n",
      "step/loss/accu/lr: 58.75 2.4812536239624023 0.5 1e-05\n"
     ]
    },
    {
     "name": "stderr",
     "output_type": "stream",
     "text": [
      "Training   [059]: 100%|███████████████████████████| 4/4 [00:03<00:00,  1.18it/s]\n",
      "Training   [060]:   0%|                                   | 0/4 [00:00<?, ?it/s]"
     ]
    },
    {
     "name": "stdout",
     "output_type": "stream",
     "text": [
      "STATISTICS FOR EPOCH  59\n",
      "step/loss/accu/lr: 59.75 1.6831293106079102 0.5 1e-05\n"
     ]
    },
    {
     "name": "stderr",
     "output_type": "stream",
     "text": [
      "Training   [060]: 100%|███████████████████████████| 4/4 [00:03<00:00,  1.18it/s]\n",
      "Training   [061]:   0%|                                   | 0/4 [00:00<?, ?it/s]"
     ]
    },
    {
     "name": "stdout",
     "output_type": "stream",
     "text": [
      "STATISTICS FOR EPOCH  60\n",
      "step/loss/accu/lr: 60.75 1.477622151374817 0.5 1e-05\n"
     ]
    },
    {
     "name": "stderr",
     "output_type": "stream",
     "text": [
      "Training   [061]: 100%|███████████████████████████| 4/4 [00:03<00:00,  1.17it/s]\n",
      "Training   [062]:   0%|                                   | 0/4 [00:00<?, ?it/s]"
     ]
    },
    {
     "name": "stdout",
     "output_type": "stream",
     "text": [
      "STATISTICS FOR EPOCH  61\n",
      "step/loss/accu/lr: 61.75 1.7015560865402222 0.375 1e-05\n"
     ]
    },
    {
     "name": "stderr",
     "output_type": "stream",
     "text": [
      "Training   [062]: 100%|███████████████████████████| 4/4 [00:03<00:00,  1.19it/s]\n",
      "Training   [063]:   0%|                                   | 0/4 [00:00<?, ?it/s]"
     ]
    },
    {
     "name": "stdout",
     "output_type": "stream",
     "text": [
      "STATISTICS FOR EPOCH  62\n",
      "step/loss/accu/lr: 62.75 1.5912936925888062 0.5 1e-05\n"
     ]
    },
    {
     "name": "stderr",
     "output_type": "stream",
     "text": [
      "Training   [063]: 100%|███████████████████████████| 4/4 [00:03<00:00,  1.22it/s]\n",
      "Training   [064]:   0%|                                   | 0/4 [00:00<?, ?it/s]"
     ]
    },
    {
     "name": "stdout",
     "output_type": "stream",
     "text": [
      "STATISTICS FOR EPOCH  63\n",
      "step/loss/accu/lr: 63.75 1.5952359437942505 0.5 1e-05\n"
     ]
    },
    {
     "name": "stderr",
     "output_type": "stream",
     "text": [
      "Training   [064]: 100%|███████████████████████████| 4/4 [00:03<00:00,  1.21it/s]\n",
      "Training   [065]:   0%|                                   | 0/4 [00:00<?, ?it/s]"
     ]
    },
    {
     "name": "stdout",
     "output_type": "stream",
     "text": [
      "STATISTICS FOR EPOCH  64\n",
      "step/loss/accu/lr: 64.75 1.6904842853546143 0.5 1e-05\n"
     ]
    },
    {
     "name": "stderr",
     "output_type": "stream",
     "text": [
      "Training   [065]: 100%|███████████████████████████| 4/4 [00:03<00:00,  1.17it/s]\n",
      "Training   [066]:   0%|                                   | 0/4 [00:00<?, ?it/s]"
     ]
    },
    {
     "name": "stdout",
     "output_type": "stream",
     "text": [
      "STATISTICS FOR EPOCH  65\n",
      "step/loss/accu/lr: 65.75 2.0611977577209473 0.5 1e-05\n"
     ]
    },
    {
     "name": "stderr",
     "output_type": "stream",
     "text": [
      "Training   [066]: 100%|███████████████████████████| 4/4 [00:03<00:00,  1.18it/s]\n",
      "Training   [067]:   0%|                                   | 0/4 [00:00<?, ?it/s]"
     ]
    },
    {
     "name": "stdout",
     "output_type": "stream",
     "text": [
      "STATISTICS FOR EPOCH  66\n",
      "step/loss/accu/lr: 66.75 1.1504114866256714 0.375 1e-05\n"
     ]
    },
    {
     "name": "stderr",
     "output_type": "stream",
     "text": [
      "Training   [067]: 100%|███████████████████████████| 4/4 [00:03<00:00,  1.18it/s]\n",
      "Training   [068]:   0%|                                   | 0/4 [00:00<?, ?it/s]"
     ]
    },
    {
     "name": "stdout",
     "output_type": "stream",
     "text": [
      "STATISTICS FOR EPOCH  67\n",
      "step/loss/accu/lr: 67.75 1.951812744140625 0.5 1e-05\n"
     ]
    },
    {
     "name": "stderr",
     "output_type": "stream",
     "text": [
      "Training   [068]: 100%|███████████████████████████| 4/4 [00:03<00:00,  1.19it/s]\n",
      "Training   [069]:   0%|                                   | 0/4 [00:00<?, ?it/s]"
     ]
    },
    {
     "name": "stdout",
     "output_type": "stream",
     "text": [
      "STATISTICS FOR EPOCH  68\n",
      "step/loss/accu/lr: 68.75 1.5855324268341064 0.5 1e-05\n"
     ]
    },
    {
     "name": "stderr",
     "output_type": "stream",
     "text": [
      "Training   [069]: 100%|███████████████████████████| 4/4 [00:03<00:00,  1.17it/s]\n",
      "Training   [070]:   0%|                                   | 0/4 [00:00<?, ?it/s]"
     ]
    },
    {
     "name": "stdout",
     "output_type": "stream",
     "text": [
      "STATISTICS FOR EPOCH  69\n",
      "step/loss/accu/lr: 69.75 1.1521116495132446 0.625 1e-05\n"
     ]
    },
    {
     "name": "stderr",
     "output_type": "stream",
     "text": [
      "Training   [070]: 100%|███████████████████████████| 4/4 [00:03<00:00,  1.19it/s]\n",
      "Training   [071]:   0%|                                   | 0/4 [00:00<?, ?it/s]"
     ]
    },
    {
     "name": "stdout",
     "output_type": "stream",
     "text": [
      "STATISTICS FOR EPOCH  70\n",
      "step/loss/accu/lr: 70.75 1.7117257118225098 0.5 1e-05\n"
     ]
    },
    {
     "name": "stderr",
     "output_type": "stream",
     "text": [
      "Training   [071]: 100%|███████████████████████████| 4/4 [00:03<00:00,  1.20it/s]\n",
      "Training   [072]:   0%|                                   | 0/4 [00:00<?, ?it/s]"
     ]
    },
    {
     "name": "stdout",
     "output_type": "stream",
     "text": [
      "STATISTICS FOR EPOCH  71\n",
      "step/loss/accu/lr: 71.75 2.008824348449707 0.5 1e-05\n"
     ]
    },
    {
     "name": "stderr",
     "output_type": "stream",
     "text": [
      "Training   [072]: 100%|███████████████████████████| 4/4 [00:03<00:00,  1.17it/s]\n",
      "Training   [073]:   0%|                                   | 0/4 [00:00<?, ?it/s]"
     ]
    },
    {
     "name": "stdout",
     "output_type": "stream",
     "text": [
      "STATISTICS FOR EPOCH  72\n",
      "step/loss/accu/lr: 72.75 1.7191901206970215 0.5 1e-05\n"
     ]
    },
    {
     "name": "stderr",
     "output_type": "stream",
     "text": [
      "Training   [073]: 100%|███████████████████████████| 4/4 [00:03<00:00,  1.18it/s]\n",
      "Training   [074]:   0%|                                   | 0/4 [00:00<?, ?it/s]"
     ]
    },
    {
     "name": "stdout",
     "output_type": "stream",
     "text": [
      "STATISTICS FOR EPOCH  73\n",
      "step/loss/accu/lr: 73.75 1.525870680809021 0.5 1e-05\n"
     ]
    },
    {
     "name": "stderr",
     "output_type": "stream",
     "text": [
      "Training   [074]: 100%|███████████████████████████| 4/4 [00:03<00:00,  1.19it/s]\n",
      "Training   [075]:   0%|                                   | 0/4 [00:00<?, ?it/s]"
     ]
    },
    {
     "name": "stdout",
     "output_type": "stream",
     "text": [
      "STATISTICS FOR EPOCH  74\n",
      "step/loss/accu/lr: 74.75 1.5400168895721436 0.5 1e-05\n"
     ]
    },
    {
     "name": "stderr",
     "output_type": "stream",
     "text": [
      "Training   [075]: 100%|███████████████████████████| 4/4 [00:03<00:00,  1.20it/s]\n",
      "Training   [076]:   0%|                                   | 0/4 [00:00<?, ?it/s]"
     ]
    },
    {
     "name": "stdout",
     "output_type": "stream",
     "text": [
      "STATISTICS FOR EPOCH  75\n",
      "step/loss/accu/lr: 75.75 1.7443530559539795 0.5 1e-05\n"
     ]
    },
    {
     "name": "stderr",
     "output_type": "stream",
     "text": [
      "Training   [076]: 100%|███████████████████████████| 4/4 [00:03<00:00,  1.18it/s]\n",
      "Training   [077]:   0%|                                   | 0/4 [00:00<?, ?it/s]"
     ]
    },
    {
     "name": "stdout",
     "output_type": "stream",
     "text": [
      "STATISTICS FOR EPOCH  76\n",
      "step/loss/accu/lr: 76.75 1.4831876754760742 0.5 1e-05\n"
     ]
    },
    {
     "name": "stderr",
     "output_type": "stream",
     "text": [
      "Training   [077]: 100%|███████████████████████████| 4/4 [00:03<00:00,  1.22it/s]\n",
      "Training   [078]:   0%|                                   | 0/4 [00:00<?, ?it/s]"
     ]
    },
    {
     "name": "stdout",
     "output_type": "stream",
     "text": [
      "STATISTICS FOR EPOCH  77\n",
      "step/loss/accu/lr: 77.75 2.176713228225708 0.5 1e-05\n"
     ]
    },
    {
     "name": "stderr",
     "output_type": "stream",
     "text": [
      "Training   [078]: 100%|███████████████████████████| 4/4 [00:03<00:00,  1.19it/s]\n",
      "Training   [079]:   0%|                                   | 0/4 [00:00<?, ?it/s]"
     ]
    },
    {
     "name": "stdout",
     "output_type": "stream",
     "text": [
      "STATISTICS FOR EPOCH  78\n",
      "step/loss/accu/lr: 78.75 0.9426901936531067 0.625 1e-05\n"
     ]
    },
    {
     "name": "stderr",
     "output_type": "stream",
     "text": [
      "Training   [079]: 100%|███████████████████████████| 4/4 [00:03<00:00,  1.20it/s]\n",
      "Training   [080]:   0%|                                   | 0/4 [00:00<?, ?it/s]"
     ]
    },
    {
     "name": "stdout",
     "output_type": "stream",
     "text": [
      "STATISTICS FOR EPOCH  79\n",
      "step/loss/accu/lr: 79.75 1.5571092367172241 0.625 1e-05\n"
     ]
    },
    {
     "name": "stderr",
     "output_type": "stream",
     "text": [
      "Training   [080]: 100%|███████████████████████████| 4/4 [00:03<00:00,  1.20it/s]\n",
      "Training   [081]:   0%|                                   | 0/4 [00:00<?, ?it/s]"
     ]
    },
    {
     "name": "stdout",
     "output_type": "stream",
     "text": [
      "STATISTICS FOR EPOCH  80\n",
      "step/loss/accu/lr: 80.75 1.4256422519683838 0.5 1e-05\n"
     ]
    },
    {
     "name": "stderr",
     "output_type": "stream",
     "text": [
      "Training   [081]: 100%|███████████████████████████| 4/4 [00:03<00:00,  1.19it/s]\n",
      "Training   [082]:   0%|                                   | 0/4 [00:00<?, ?it/s]"
     ]
    },
    {
     "name": "stdout",
     "output_type": "stream",
     "text": [
      "STATISTICS FOR EPOCH  81\n",
      "step/loss/accu/lr: 81.75 1.710400938987732 0.5 1e-05\n"
     ]
    },
    {
     "name": "stderr",
     "output_type": "stream",
     "text": [
      "Training   [082]: 100%|███████████████████████████| 4/4 [00:03<00:00,  1.20it/s]\n",
      "Training   [083]:   0%|                                   | 0/4 [00:00<?, ?it/s]"
     ]
    },
    {
     "name": "stdout",
     "output_type": "stream",
     "text": [
      "STATISTICS FOR EPOCH  82\n",
      "step/loss/accu/lr: 82.75 1.8645471334457397 0.5 1e-05\n"
     ]
    },
    {
     "name": "stderr",
     "output_type": "stream",
     "text": [
      "Training   [083]: 100%|███████████████████████████| 4/4 [00:03<00:00,  1.19it/s]\n",
      "Training   [084]:   0%|                                   | 0/4 [00:00<?, ?it/s]"
     ]
    },
    {
     "name": "stdout",
     "output_type": "stream",
     "text": [
      "STATISTICS FOR EPOCH  83\n",
      "step/loss/accu/lr: 83.75 1.793057918548584 0.375 1e-05\n"
     ]
    },
    {
     "name": "stderr",
     "output_type": "stream",
     "text": [
      "Training   [084]: 100%|███████████████████████████| 4/4 [00:03<00:00,  1.14it/s]\n",
      "Training   [085]:   0%|                                   | 0/4 [00:00<?, ?it/s]"
     ]
    },
    {
     "name": "stdout",
     "output_type": "stream",
     "text": [
      "STATISTICS FOR EPOCH  84\n",
      "step/loss/accu/lr: 84.75 1.0786770582199097 0.625 1e-05\n"
     ]
    },
    {
     "name": "stderr",
     "output_type": "stream",
     "text": [
      "Training   [085]: 100%|███████████████████████████| 4/4 [00:03<00:00,  1.20it/s]\n",
      "Training   [086]:   0%|                                   | 0/4 [00:00<?, ?it/s]"
     ]
    },
    {
     "name": "stdout",
     "output_type": "stream",
     "text": [
      "STATISTICS FOR EPOCH  85\n",
      "step/loss/accu/lr: 85.75 0.7383826971054077 0.625 1e-05\n"
     ]
    },
    {
     "name": "stderr",
     "output_type": "stream",
     "text": [
      "Training   [086]: 100%|███████████████████████████| 4/4 [00:03<00:00,  1.17it/s]\n",
      "Training   [087]:   0%|                                   | 0/4 [00:00<?, ?it/s]"
     ]
    },
    {
     "name": "stdout",
     "output_type": "stream",
     "text": [
      "STATISTICS FOR EPOCH  86\n",
      "step/loss/accu/lr: 86.75 1.4886016845703125 0.5 1e-05\n"
     ]
    },
    {
     "name": "stderr",
     "output_type": "stream",
     "text": [
      "Training   [087]: 100%|███████████████████████████| 4/4 [00:03<00:00,  1.18it/s]\n",
      "Training   [088]:   0%|                                   | 0/4 [00:00<?, ?it/s]"
     ]
    },
    {
     "name": "stdout",
     "output_type": "stream",
     "text": [
      "STATISTICS FOR EPOCH  87\n",
      "step/loss/accu/lr: 87.75 1.4718048572540283 0.5 1e-05\n"
     ]
    },
    {
     "name": "stderr",
     "output_type": "stream",
     "text": [
      "Training   [088]: 100%|███████████████████████████| 4/4 [00:03<00:00,  1.19it/s]\n",
      "Training   [089]:   0%|                                   | 0/4 [00:00<?, ?it/s]"
     ]
    },
    {
     "name": "stdout",
     "output_type": "stream",
     "text": [
      "STATISTICS FOR EPOCH  88\n",
      "step/loss/accu/lr: 88.75 1.8909491300582886 0.5 1e-05\n"
     ]
    },
    {
     "name": "stderr",
     "output_type": "stream",
     "text": [
      "Training   [089]: 100%|███████████████████████████| 4/4 [00:03<00:00,  1.22it/s]\n",
      "Training   [090]:   0%|                                   | 0/4 [00:00<?, ?it/s]"
     ]
    },
    {
     "name": "stdout",
     "output_type": "stream",
     "text": [
      "STATISTICS FOR EPOCH  89\n",
      "step/loss/accu/lr: 89.75 1.8816468715667725 0.375 1e-05\n"
     ]
    },
    {
     "name": "stderr",
     "output_type": "stream",
     "text": [
      "Training   [090]: 100%|███████████████████████████| 4/4 [00:03<00:00,  1.21it/s]\n",
      "Training   [091]:   0%|                                   | 0/4 [00:00<?, ?it/s]"
     ]
    },
    {
     "name": "stdout",
     "output_type": "stream",
     "text": [
      "STATISTICS FOR EPOCH  90\n",
      "step/loss/accu/lr: 90.75 1.59388267993927 0.5 1e-05\n"
     ]
    },
    {
     "name": "stderr",
     "output_type": "stream",
     "text": [
      "Training   [091]: 100%|███████████████████████████| 4/4 [00:03<00:00,  1.17it/s]\n",
      "Training   [092]:   0%|                                   | 0/4 [00:00<?, ?it/s]"
     ]
    },
    {
     "name": "stdout",
     "output_type": "stream",
     "text": [
      "STATISTICS FOR EPOCH  91\n",
      "step/loss/accu/lr: 91.75 1.138729453086853 0.625 1e-05\n"
     ]
    },
    {
     "name": "stderr",
     "output_type": "stream",
     "text": [
      "Training   [092]: 100%|███████████████████████████| 4/4 [00:03<00:00,  1.16it/s]\n",
      "Training   [093]:   0%|                                   | 0/4 [00:00<?, ?it/s]"
     ]
    },
    {
     "name": "stdout",
     "output_type": "stream",
     "text": [
      "STATISTICS FOR EPOCH  92\n",
      "step/loss/accu/lr: 92.75 1.719069004058838 0.375 1e-05\n"
     ]
    },
    {
     "name": "stderr",
     "output_type": "stream",
     "text": [
      "Training   [093]: 100%|███████████████████████████| 4/4 [00:03<00:00,  1.17it/s]\n",
      "Training   [094]:   0%|                                   | 0/4 [00:00<?, ?it/s]"
     ]
    },
    {
     "name": "stdout",
     "output_type": "stream",
     "text": [
      "STATISTICS FOR EPOCH  93\n",
      "step/loss/accu/lr: 93.75 1.2763922214508057 0.5 1e-05\n"
     ]
    },
    {
     "name": "stderr",
     "output_type": "stream",
     "text": [
      "Training   [094]: 100%|███████████████████████████| 4/4 [00:03<00:00,  1.19it/s]\n",
      "Training   [095]:   0%|                                   | 0/4 [00:00<?, ?it/s]"
     ]
    },
    {
     "name": "stdout",
     "output_type": "stream",
     "text": [
      "STATISTICS FOR EPOCH  94\n",
      "step/loss/accu/lr: 94.75 1.7250500917434692 0.5 1e-05\n"
     ]
    },
    {
     "name": "stderr",
     "output_type": "stream",
     "text": [
      "Training   [095]: 100%|███████████████████████████| 4/4 [00:03<00:00,  1.20it/s]\n",
      "Training   [096]:   0%|                                   | 0/4 [00:00<?, ?it/s]"
     ]
    },
    {
     "name": "stdout",
     "output_type": "stream",
     "text": [
      "STATISTICS FOR EPOCH  95\n",
      "step/loss/accu/lr: 95.75 2.120769739151001 0.375 1e-05\n"
     ]
    },
    {
     "name": "stderr",
     "output_type": "stream",
     "text": [
      "Training   [096]: 100%|███████████████████████████| 4/4 [00:03<00:00,  1.21it/s]\n",
      "Training   [097]:   0%|                                   | 0/4 [00:00<?, ?it/s]"
     ]
    },
    {
     "name": "stdout",
     "output_type": "stream",
     "text": [
      "STATISTICS FOR EPOCH  96\n",
      "step/loss/accu/lr: 96.75 1.4778703451156616 0.5 1e-05\n"
     ]
    },
    {
     "name": "stderr",
     "output_type": "stream",
     "text": [
      "Training   [097]: 100%|███████████████████████████| 4/4 [00:03<00:00,  1.21it/s]\n",
      "Training   [098]:   0%|                                   | 0/4 [00:00<?, ?it/s]"
     ]
    },
    {
     "name": "stdout",
     "output_type": "stream",
     "text": [
      "STATISTICS FOR EPOCH  97\n",
      "step/loss/accu/lr: 97.75 1.8834065198898315 0.5 1e-05\n"
     ]
    },
    {
     "name": "stderr",
     "output_type": "stream",
     "text": [
      "Training   [098]: 100%|███████████████████████████| 4/4 [00:03<00:00,  1.22it/s]\n",
      "Training   [099]:   0%|                                   | 0/4 [00:00<?, ?it/s]"
     ]
    },
    {
     "name": "stdout",
     "output_type": "stream",
     "text": [
      "STATISTICS FOR EPOCH  98\n",
      "step/loss/accu/lr: 98.75 0.7780265808105469 0.625 1e-05\n"
     ]
    },
    {
     "name": "stderr",
     "output_type": "stream",
     "text": [
      "Training   [099]: 100%|███████████████████████████| 4/4 [00:03<00:00,  1.24it/s]"
     ]
    },
    {
     "name": "stdout",
     "output_type": "stream",
     "text": [
      "STATISTICS FOR EPOCH  99\n",
      "step/loss/accu/lr: 99.75 1.532120704650879 0.5 1e-05\n"
     ]
    },
    {
     "name": "stderr",
     "output_type": "stream",
     "text": [
      "\n"
     ]
    }
   ],
   "source": [
    "writer = SummaryWriter()\n",
    "for epoch in range(100):\n",
    "    if cudnn_flag == 'benchmark':\n",
    "        setattr(cudnn, cudnn_flag, True)\n",
    "\n",
    "    torch.cuda.empty_cache()\n",
    "    train_one_epoch(model=model, loader=loaders.train, class_loss=class_loss, writer=writer, optimizer=optimizer, scheduler=scheduler, max_norm=max_norm, epoch=epoch, freq=visdom_freq, ex=None)\n",
    "    \n",
    "    # validation\n",
    "    if cudnn_flag == 'benchmark':\n",
    "        setattr(cudnn, cudnn_flag, False)\n",
    "    \n",
    "    torch.cuda.empty_cache()\n",
    "    \"\"\"result, query_feats, gallery_feats = fast_evaluate_viquae(model=model,\n",
    "                                                              cache_nn_inds=cache_nn_inds,\n",
    "                                                              recall=recall_ks,\n",
    "                                                              query_loader=loaders.query, \n",
    "                                                              gallery_loader=loaders.gallery,\n",
    "                                                              query_feats=query_feats, \n",
    "                                                              gallery_feats=gallery_feats)\n",
    "    \n",
    "    print('Validation [{:03d}]'.format(epoch)), pprint(result)\n",
    "    #ex.log_scalar('val.map', result['map'], step=epoch + 1)\n",
    "\n",
    "    if result['map'] >= best_val[1]['map']:\n",
    "        print('New best model in epoch %d.'%epoch)\n",
    "        best_val = (epoch + 1, result, deepcopy(model.state_dict()))\n",
    "        #torch.save({'state': state_dict_to_cpu(best_val[2]), 'optim': optimizer.state_dict()}, save_name)\n",
    "    \"\"\"\n",
    "\n",
    "writer.flush()\n",
    "writer.close()"
   ]
  },
  {
   "cell_type": "code",
   "execution_count": null,
   "metadata": {},
   "outputs": [],
   "source": []
  },
  {
   "cell_type": "code",
   "execution_count": null,
   "metadata": {},
   "outputs": [],
   "source": []
  },
  {
   "cell_type": "code",
   "execution_count": null,
   "metadata": {},
   "outputs": [],
   "source": []
  },
  {
   "cell_type": "markdown",
   "metadata": {},
   "source": [
    "## Test Triplet Sampler"
   ]
  },
  {
   "cell_type": "code",
   "execution_count": 45,
   "metadata": {},
   "outputs": [
    {
     "ename": "TypeError",
     "evalue": "unsupported operand type(s) for +: 'NoneType' and 'str'",
     "output_type": "error",
     "traceback": [
      "\u001b[0;31m---------------------------------------------------------------------------\u001b[0m",
      "\u001b[0;31mTypeError\u001b[0m                                 Traceback (most recent call last)",
      "\u001b[0;32m<ipython-input-45-37a701577781>\u001b[0m in \u001b[0;36m<module>\u001b[0;34m\u001b[0m\n\u001b[0;32m----> 1\u001b[0;31m \u001b[0mgnd\u001b[0m \u001b[0;34m=\u001b[0m  \u001b[0mpickle_load\u001b[0m\u001b[0;34m(\u001b[0m\u001b[0mosp\u001b[0m\u001b[0;34m.\u001b[0m\u001b[0mjoin\u001b[0m\u001b[0;34m(\u001b[0m\u001b[0mtrain_data_dir\u001b[0m\u001b[0;34m,\u001b[0m \u001b[0mprefixed\u001b[0m\u001b[0;34m+\u001b[0m\u001b[0;34m'_'\u001b[0m\u001b[0;34m+\u001b[0m\u001b[0mtrain_gnd_file\u001b[0m\u001b[0;34m)\u001b[0m\u001b[0;34m)\u001b[0m\u001b[0;34m\u001b[0m\u001b[0;34m\u001b[0m\u001b[0m\n\u001b[0m",
      "\u001b[0;31mTypeError\u001b[0m: unsupported operand type(s) for +: 'NoneType' and 'str'"
     ]
    }
   ],
   "source": [
    "gnd =  pickle_load(osp.join(train_data_dir, prefixed+'_'+train_gnd_file))"
   ]
  },
  {
   "cell_type": "code",
   "execution_count": null,
   "metadata": {},
   "outputs": [],
   "source": [
    "gnd['gnd'][0].keys()"
   ]
  },
  {
   "cell_type": "code",
   "execution_count": null,
   "metadata": {},
   "outputs": [],
   "source": [
    "i = 3\n",
    "len(gnd['gnd'][i]['junk']), len(gnd['gnd'][i]['easy']), len(gnd['gnd'][i]['g_junk']), len(gnd['gnd'][i]['g_easy'])"
   ]
  },
  {
   "cell_type": "code",
   "execution_count": null,
   "metadata": {},
   "outputs": [],
   "source": [
    "positives = self.gnd_data[i]['r_easy']\n",
    "negatives = self.gnd_data[i]['r_junk']\n",
    "positive_inds = self.gnd_data[query_idx]['g_easy']\n",
    "negative_inds = self.gnd_data[query_idx]['g_junk']"
   ]
  },
  {
   "cell_type": "code",
   "execution_count": null,
   "metadata": {},
   "outputs": [],
   "source": []
  },
  {
   "cell_type": "code",
   "execution_count": null,
   "metadata": {},
   "outputs": [],
   "source": [
    "train_gnd_data  = None if train_gnd_file is None else pickle_load(osp.join(train_data_dir, train_gnd_file))\n",
    "train_lines_txt = train_txt[1] if prefixed is None else prefixed+'_'+train_txt[1]\n",
    "train_lines     = read_file(osp.join(train_data_dir, train_lines_txt))\n",
    "train_q_lines_txt = train_txt[0] if prefixed is None else prefixed+'_'+train_txt[0]\n",
    "train_q_lines   = read_file(osp.join(train_data_dir, train_q_lines_txt))\n",
    "train_samples   = [(line.split(split_char)[0], int(line.split(split_char)[1]), int(line.split(split_char)[2]), int(line.split(split_char)[3])) for line in train_lines]\n",
    "train_q_samples = [(line.split(split_char)[0], int(line.split(split_char)[1]), int(line.split(split_char)[2]), int(line.split(split_char)[3])) for line in train_q_lines]\n",
    "train_set       = FeatureDataset(train_data_dir, train_samples,   desc_name, max_sequence_len, gnd_data=train_gnd_data)\n",
    "query_train_set = FeatureDataset(train_data_dir, train_q_samples, desc_name, max_sequence_len, gnd_data=train_gnd_data)\n"
   ]
  },
  {
   "cell_type": "code",
   "execution_count": null,
   "metadata": {},
   "outputs": [],
   "source": [
    "train_g_lines   = read_file(osp.join(train_data_dir, prefixed+'_'+'train_gallery.txt'))"
   ]
  },
  {
   "cell_type": "code",
   "execution_count": null,
   "metadata": {},
   "outputs": [],
   "source": [
    "len(train_lines), len(train_q_lines), len(train_g_lines)"
   ]
  },
  {
   "cell_type": "code",
   "execution_count": null,
   "metadata": {},
   "outputs": [],
   "source": [
    "train_nn_inds = osp.join(train_data_dir, prefixed+'_'+set_name + '_nn_inds_%s.pkl'%desc_name)\n",
    "gnd_data = train_set.gnd_data['gnd']\n",
    "train_sampler = TripletSampler(query_train_set.targets, batch_size, train_nn_inds, num_candidates, gnd_data)"
   ]
  },
  {
   "cell_type": "code",
   "execution_count": null,
   "metadata": {},
   "outputs": [],
   "source": [
    "for item in train_sampler:\n",
    "    print(item)"
   ]
  },
  {
   "cell_type": "code",
   "execution_count": null,
   "metadata": {},
   "outputs": [],
   "source": []
  },
  {
   "cell_type": "code",
   "execution_count": null,
   "metadata": {},
   "outputs": [],
   "source": []
  }
 ],
 "metadata": {
  "kernelspec": {
   "display_name": "Python 3",
   "language": "python",
   "name": "python3"
  },
  "language_info": {
   "codemirror_mode": {
    "name": "ipython",
    "version": 3
   },
   "file_extension": ".py",
   "mimetype": "text/x-python",
   "name": "python",
   "nbconvert_exporter": "python",
   "pygments_lexer": "ipython3",
   "version": "3.7.6"
  }
 },
 "nbformat": 4,
 "nbformat_minor": 4
}
