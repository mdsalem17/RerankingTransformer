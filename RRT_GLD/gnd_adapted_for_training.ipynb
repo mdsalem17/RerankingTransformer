{
 "cells": [
  {
   "cell_type": "markdown",
   "metadata": {},
   "source": [
    "# Imports"
   ]
  },
  {
   "cell_type": "code",
   "execution_count": 12,
   "metadata": {},
   "outputs": [],
   "source": [
    "import numpy as np\n",
    "from functools import partial"
   ]
  },
  {
   "cell_type": "code",
   "execution_count": 13,
   "metadata": {},
   "outputs": [],
   "source": [
    "from copy import deepcopy\n",
    "from functools import partial\n",
    "from pprint import pprint\n",
    "import os.path as osp"
   ]
  },
  {
   "cell_type": "code",
   "execution_count": 14,
   "metadata": {},
   "outputs": [],
   "source": [
    "import sacred\n",
    "import torch\n",
    "import torch.nn as nn\n",
    "import torch.nn.functional as F\n",
    "from tqdm import tqdm\n",
    "\n",
    "from torch.backends import cudnn"
   ]
  },
  {
   "cell_type": "code",
   "execution_count": 15,
   "metadata": {},
   "outputs": [],
   "source": [
    "from torch.utils.data import DataLoader, RandomSampler, BatchSampler\n",
    "from typing import NamedTuple, Optional, List"
   ]
  },
  {
   "cell_type": "code",
   "execution_count": 16,
   "metadata": {},
   "outputs": [],
   "source": [
    "from models.matcher import MatchERT\n",
    "from models.ingredient import model_ingredient, get_model"
   ]
  },
  {
   "cell_type": "code",
   "execution_count": 17,
   "metadata": {},
   "outputs": [],
   "source": [
    "from sacred import SETTINGS\n",
    "from sacred.utils import apply_backspaces_and_linefeeds\n",
    "from sacred import Ingredient"
   ]
  },
  {
   "cell_type": "code",
   "execution_count": 18,
   "metadata": {},
   "outputs": [],
   "source": [
    "from torch.optim import Optimizer\n",
    "from torch.optim.lr_scheduler import _LRScheduler\n",
    "from torch.utils.data import DataLoader, Dataset\n",
    "from utils.metrics import *"
   ]
  },
  {
   "cell_type": "code",
   "execution_count": 86,
   "metadata": {},
   "outputs": [],
   "source": [
    "from utils import pickle_load, pickle_save\n",
    "from sacred import Experiment\n",
    "from utils.data.dataset_ingredient import data_ingredient, get_loaders\n",
    "from utils.data.dataset import FeatureDataset\n",
    "ex = sacred.Experiment('RRT Evaluation', ingredients=[data_ingredient, model_ingredient], interactive=True)"
   ]
  },
  {
   "cell_type": "code",
   "execution_count": 20,
   "metadata": {},
   "outputs": [],
   "source": [
    "ex = sacred.Experiment('Prepare Top-K (VIQUAE FOR RTT)', interactive=True)\n",
    "# Filter backspaces and linefeeds\n",
    "SETTINGS.CAPTURE_MODE = 'sys'\n",
    "ex.captured_out_filter = apply_backspaces_and_linefeeds"
   ]
  },
  {
   "cell_type": "code",
   "execution_count": 21,
   "metadata": {},
   "outputs": [],
   "source": [
    "feature_name = 'r50_gldv2'\n",
    "set_name = 'train'\n",
    "gnd_name = 'gnd_'+ set_name+'.pkl'"
   ]
  },
  {
   "cell_type": "code",
   "execution_count": 22,
   "metadata": {},
   "outputs": [],
   "source": [
    "cpu = False\n",
    "cudnn_flag = 'benchmark'\n",
    "temp_dir = osp.join('logs', 'temp')\n",
    "resume = '/mnt/beegfs/home/smessoud/RerankingTransformer/RRT_GLD/rrt_gld_ckpts/r50_gldv1.pt'\n",
    "seed = 0"
   ]
  },
  {
   "cell_type": "code",
   "execution_count": 23,
   "metadata": {},
   "outputs": [],
   "source": [
    "dataset_name = 'viquae_for_rrt'\n",
    "data_dir = osp.join('/mnt/beegfs/home/smessoud/RerankingTransformer/models/research/delf/delf/python/delg/data', dataset_name)"
   ]
  },
  {
   "cell_type": "code",
   "execution_count": 24,
   "metadata": {},
   "outputs": [],
   "source": [
    "train_data_dir = '/mnt/beegfs/home/smessoud/RerankingTransformer/models/research/delf/delf/python/delg/data/viquae_for_rrt'"
   ]
  },
  {
   "cell_type": "code",
   "execution_count": 25,
   "metadata": {},
   "outputs": [],
   "source": [
    "gnd = pickle_load(osp.join(train_data_dir, gnd_name))"
   ]
  },
  {
   "cell_type": "code",
   "execution_count": 26,
   "metadata": {},
   "outputs": [
    {
     "data": {
      "text/plain": [
       "42678"
      ]
     },
     "execution_count": 26,
     "metadata": {},
     "output_type": "execute_result"
    }
   ],
   "source": [
    "len(gnd['imlist'])"
   ]
  },
  {
   "cell_type": "code",
   "execution_count": 27,
   "metadata": {},
   "outputs": [
    {
     "data": {
      "text/plain": [
       "(['512px-Apollo_Victoria_Theatre.jpg',\n",
       "  '512px-Margaret_Hamilton_1966.jpg',\n",
       "  '512px-Hairspray_the_Musical_2012_Aberystwyth_Arts_Centre_Summer_Season_production_poster.png',\n",
       "  '512px-Beauty_and_Beast.jpg',\n",
       "  '512px-Use_of_Wondering.jpg',\n",
       "  '512px-The_Sound_of_Music_Christopher_Plummer_and_Julie_Andrews.jpg',\n",
       "  '512px-Guys_and_Dolls_(1978).jpg',\n",
       "  '512px-LauraBellBundyApr10.jpg',\n",
       "  '512px-Chicago3_(MdB).jpg',\n",
       "  '512px-Alice_Ghostley_Cousin_Alice_Mayberry_RFD_1970.JPG',\n",
       "  '512px-Delrae_Knutson_as_Eliza_Doolittle_c1986.jpg',\n",
       "  '512px-Glinda.png',\n",
       "  '512px-Helen_Westley.jpg',\n",
       "  '512px-Alexander_Mann_-_Soubrette.jpg',\n",
       "  '512px-Mary_Poppins_Returns_Logo_Black.svg.png',\n",
       "  '512px-Miss_Alice_May_H6724_(cropped).jpg',\n",
       "  '512px-Jellia_Jamb.jpg',\n",
       "  '512px-Laurie_Beechman_1984.jpg',\n",
       "  '512px-Silvi_Vrait_1989.jpg',\n",
       "  '512px-Dorothy_Loudon.jpg',\n",
       "  '512px-JLT2017.jpg',\n",
       "  '512px-Patty_Duke_1975.JPG',\n",
       "  '512px-South_Pacific_scene.jpg',\n",
       "  '512px-Stephanie_Kurtzuba_at_the_premiere_of_Bad_Education_(48810498807).jpg',\n",
       "  '512px-Clara_Blandick.jpg',\n",
       "  '512px-Hereford_High_School_(Parkton,_Maryland).jpg',\n",
       "  '512px-Colette_Renard_(1961).jpg',\n",
       "  '512px-Shinyoungsook.jpg',\n",
       "  '512px-Stephen_Oremus_and_Stephanie_J_Block.jpg',\n",
       "  \"512px-Hurlbert_at_Joe's_Pub_in_2010..jpg\",\n",
       "  '512px-Eartha_Kitt_2007.jpg',\n",
       "  '512px-Recent_headshot_of_Marsiya_Vlad_-_2013-07-09_07-48.jpg',\n",
       "  '512px-Stuart_Damon_Lesley_Ann_Warren_Cinderella.jpg',\n",
       "  '512px-Grupo_Rouge_no_Lady_Night_com_Tatá_Werneck_03.jpg',\n",
       "  '512px-Ernani_Libretto_1859.jpg',\n",
       "  '512px-Savannah_Wise_2008_off-Broadway_Rock_of_Ages.jpg',\n",
       "  '512px-EstherSummerson.jpg',\n",
       "  '512px-MatildaNightShubertsign.JPG',\n",
       "  '512px-Becky_Gulsvig.jpg',\n",
       "  '512px-Andrea_McArdle_Reid_Shelton_Annie_1977.JPG',\n",
       "  '512px-Geritol_tonic.jpg',\n",
       "  '512px-Naples_Players_Performance_of_\"42nd_Street\"_in_Blackburn_Hall,_July_2011..jpg',\n",
       "  '512px-Jane_Porter.jpg'],\n",
       " 43)"
      ]
     },
     "execution_count": 27,
     "metadata": {},
     "output_type": "execute_result"
    }
   ],
   "source": [
    "gnd['simlist'][0], len(gnd['simlist'][0])"
   ]
  },
  {
   "cell_type": "code",
   "execution_count": 28,
   "metadata": {},
   "outputs": [
    {
     "data": {
      "text/plain": [
       "dict_keys(['easy', 'hard', 'junk', 'neg', 'provenance_entity', 'ir_order', 'img_rank_dict', 'rank_img_dict', 'r_easy', 'r_hard', 'r_junk', 'r_neg', 'r_ir_order', 'anchor_idx', 'g_easy', 'g_hard', 'g_junk', 'g_neg'])"
      ]
     },
     "execution_count": 28,
     "metadata": {},
     "output_type": "execute_result"
    }
   ],
   "source": [
    "gnd['gnd'][1].keys()"
   ]
  },
  {
   "cell_type": "code",
   "execution_count": 29,
   "metadata": {},
   "outputs": [],
   "source": [
    "def format_selection(selection, order=True):\n",
    "    \n",
    "    def preserve_order(array):\n",
    "        new_array = []\n",
    "        for e in array:\n",
    "            if e in new_array:\n",
    "                continue\n",
    "            else:\n",
    "                new_array.append(e)\n",
    "        return new_array\n",
    "    \n",
    "    if order:\n",
    "        return [preserve_order(sub) for sub in selection]\n",
    "    else:\n",
    "        return [list(set(sub)) for sub in selection]"
   ]
  },
  {
   "cell_type": "code",
   "execution_count": 30,
   "metadata": {},
   "outputs": [],
   "source": [
    "sizes = [len(gnd['simlist'][i]) for i in range(len(gnd['simlist']))]"
   ]
  },
  {
   "cell_type": "code",
   "execution_count": 31,
   "metadata": {},
   "outputs": [
    {
     "data": {
      "text/plain": [
       "((1190, 100),\n",
       " array([[ 0,  1,  2, ..., 97, 98, 99],\n",
       "        [ 0,  1,  2, ..., 97, 98, 99],\n",
       "        [ 0,  1,  2, ..., 97, 98, 99],\n",
       "        ...,\n",
       "        [ 0,  1,  2, ..., 97, 98, 99],\n",
       "        [ 0,  1,  2, ..., 97, 98, 99],\n",
       "        [ 0,  1,  2, ..., 97, 98, 99]]))"
      ]
     },
     "execution_count": 31,
     "metadata": {},
     "output_type": "execute_result"
    }
   ],
   "source": [
    "nn_inds, _ = np.meshgrid(np.arange(100), np.arange(len(gnd['qimlist'])))\n",
    "nn_inds.shape, nn_inds"
   ]
  },
  {
   "cell_type": "code",
   "execution_count": 32,
   "metadata": {},
   "outputs": [
    {
     "data": {
      "text/plain": [
       "(dict_keys(['qimlist', 'imlist', 'simlist', 'is_human', 'gnd']),\n",
       " dict_keys(['easy', 'hard', 'junk', 'neg', 'provenance_entity', 'ir_order', 'img_rank_dict', 'rank_img_dict', 'r_easy', 'r_hard', 'r_junk', 'r_neg', 'r_ir_order', 'anchor_idx', 'g_easy', 'g_hard', 'g_junk', 'g_neg']))"
      ]
     },
     "execution_count": 32,
     "metadata": {},
     "output_type": "execute_result"
    }
   ],
   "source": [
    "gnd.keys(), gnd['gnd'][1].keys()"
   ]
  },
  {
   "cell_type": "code",
   "execution_count": 33,
   "metadata": {},
   "outputs": [],
   "source": [
    "for i in range(len(gnd['gnd'])):\n",
    "    if len(gnd['gnd'][i]['r_easy']) != len(gnd['gnd'][i]['g_easy']):\n",
    "        print(i)"
   ]
  },
  {
   "cell_type": "code",
   "execution_count": 34,
   "metadata": {},
   "outputs": [
    {
     "data": {
      "text/plain": [
       "[55, 9, 11, 60]"
      ]
     },
     "execution_count": 34,
     "metadata": {},
     "output_type": "execute_result"
    }
   ],
   "source": [
    "[x+1 if x >= 45 else x+5 for x in [54,4,6,59]]"
   ]
  },
  {
   "cell_type": "code",
   "execution_count": 35,
   "metadata": {},
   "outputs": [],
   "source": [
    "def find_and_replace(array, old_value, new_value):\n",
    "    return [element if element != old_value else new_value for element in array]"
   ]
  },
  {
   "cell_type": "code",
   "execution_count": 36,
   "metadata": {},
   "outputs": [
    {
     "data": {
      "text/plain": [
       "[54, 4, 6, 59]"
      ]
     },
     "execution_count": 36,
     "metadata": {},
     "output_type": "execute_result"
    }
   ],
   "source": [
    "find_and_replace([54,4,6,59], 69, 12)"
   ]
  },
  {
   "cell_type": "code",
   "execution_count": 81,
   "metadata": {},
   "outputs": [],
   "source": [
    "def format_gnd_for_training(old_gnd, subset=False):\n",
    "    \n",
    "    gnd = []\n",
    "    \n",
    "    query_names       = []\n",
    "    selection_names   = []\n",
    "    gallery_names     = old_gnd['imlist']\n",
    "    is_human          = []\n",
    "    \n",
    "    for i in range(len(old_gnd['qimlist'])):\n",
    "        current_query_name = old_gnd['qimlist'][i]\n",
    "        query_names.append(current_query_name)\n",
    "        \n",
    "        current_selection_names = old_gnd['simlist'][i]\n",
    "        selection_names.append(current_selection_names)\n",
    "        \n",
    "        if not subset:\n",
    "            is_human.append(old_gnd['is_human'][i])\n",
    "        \n",
    "        question_gnd = {}\n",
    "        question_gnd['easy'] = old_gnd['gnd'][i]['easy']\n",
    "        question_gnd['hard'] = old_gnd['gnd'][i]['hard']\n",
    "        question_gnd['junk'] = old_gnd['gnd'][i]['junk']\n",
    "        question_gnd['neg']  = old_gnd['gnd'][i]['neg']\n",
    "\n",
    "        question_gnd['g_easy'] = old_gnd['gnd'][i]['g_easy']\n",
    "        question_gnd['g_hard'] = old_gnd['gnd'][i]['g_hard']\n",
    "        question_gnd['g_junk'] = old_gnd['gnd'][i]['g_junk']\n",
    "        question_gnd['g_neg']  = old_gnd['gnd'][i]['g_neg']\n",
    "\n",
    "        question_gnd['anchor_idx']  = old_gnd['gnd'][i]['anchor_idx']\n",
    "\n",
    "        gnd.append(question_gnd)\n",
    "        \n",
    "        for j in range(len(old_gnd['gnd'][i]['easy'])):\n",
    "            current_positive_image = old_gnd['gnd'][i]['easy'][j]\n",
    "            if current_positive_image ==  current_query_name:\n",
    "                continue\n",
    "            \n",
    "            query_names.append(current_positive_image)\n",
    "            selection_names.append(find_and_replace(current_selection_names,\n",
    "                                                    current_positive_image,\n",
    "                                                    current_query_name))\n",
    "            \n",
    "            if not subset:\n",
    "                is_human.append(old_gnd['is_human'][i])\n",
    "            \n",
    "            positive_gnd = {}\n",
    "            positive_gnd['easy'] = find_and_replace(old_gnd['gnd'][i]['easy'],\n",
    "                                                    current_positive_image, \n",
    "                                                    current_query_name)\n",
    "            positive_gnd['hard'] = old_gnd['gnd'][i]['hard']\n",
    "            positive_gnd['junk'] = old_gnd['gnd'][i]['junk']\n",
    "            positive_gnd['neg']  = old_gnd['gnd'][i]['neg']\n",
    "            \n",
    "            positive_anchor_idx  = gallery_names.index(current_positive_image)\n",
    "\n",
    "            positive_gnd['g_easy'] = find_and_replace(old_gnd['gnd'][i]['g_easy'],\n",
    "                                                      positive_anchor_idx,\n",
    "                                                      old_gnd['gnd'][i]['anchor_idx'])\n",
    "            \n",
    "            positive_gnd['g_hard'] = old_gnd['gnd'][i]['g_hard']\n",
    "            positive_gnd['g_junk'] = old_gnd['gnd'][i]['g_junk']\n",
    "            positive_gnd['g_neg']  = old_gnd['gnd'][i]['g_neg']\n",
    "\n",
    "            positive_gnd['anchor_idx']  = positive_anchor_idx\n",
    "            \n",
    "            gnd.append(positive_gnd)\n",
    "    \n",
    "    new_gnd = {}\n",
    "    new_gnd['qimlist'] = query_names\n",
    "    new_gnd['simlist'] = selection_names\n",
    "    new_gnd['imlist']  = gallery_names\n",
    "    new_gnd['gnd']     = gnd\n",
    "\n",
    "    return new_gnd"
   ]
  },
  {
   "cell_type": "code",
   "execution_count": 82,
   "metadata": {},
   "outputs": [],
   "source": [
    "train_gnd = format_gnd_for_training(gnd)"
   ]
  },
  {
   "cell_type": "code",
   "execution_count": 83,
   "metadata": {},
   "outputs": [
    {
     "data": {
      "text/plain": [
       "(dict_keys(['qimlist', 'simlist', 'imlist', 'gnd']),\n",
       " dict_keys(['easy', 'hard', 'junk', 'neg', 'g_easy', 'g_hard', 'g_junk', 'g_neg', 'anchor_idx']),\n",
       " 9002,\n",
       " 9002,\n",
       " 9002)"
      ]
     },
     "execution_count": 83,
     "metadata": {},
     "output_type": "execute_result"
    }
   ],
   "source": [
    "train_gnd.keys(), train_gnd['gnd'][1].keys(), len(train_gnd['gnd']), len(train_gnd['qimlist']), len(train_gnd['simlist'])"
   ]
  },
  {
   "cell_type": "code",
   "execution_count": 101,
   "metadata": {},
   "outputs": [],
   "source": [
    "train_gnd            = pickle_load(osp.join(train_data_dir, 'gnd_train.pkl'))\n",
    "humans_train_gnd     = pickle_load(osp.join(train_data_dir, 'humans_gnd_train.pkl'))\n",
    "non_humans_train_gnd = pickle_load(osp.join(train_data_dir, 'non_humans_gnd_train.pkl'))"
   ]
  },
  {
   "cell_type": "code",
   "execution_count": 102,
   "metadata": {},
   "outputs": [],
   "source": [
    "new_train_gnd            = format_gnd_for_training(train_gnd)\n",
    "new_humans_train_gnd     = format_gnd_for_training(humans_train_gnd, subset=True)\n",
    "new_non_humans_train_gnd = format_gnd_for_training(non_humans_train_gnd, subset=True)"
   ]
  },
  {
   "cell_type": "code",
   "execution_count": 103,
   "metadata": {},
   "outputs": [],
   "source": [
    "gnd_file = \"/mnt/beegfs/home/smessoud/RerankingTransformer/models/research/delf/delf/python/delg/data/viquae_for_rrt/training_gnd/gnd_train.pkl\"\n",
    "pickle_save(gnd_file, new_train_gnd)"
   ]
  },
  {
   "cell_type": "code",
   "execution_count": 104,
   "metadata": {},
   "outputs": [],
   "source": [
    "gnd_file = \"/mnt/beegfs/home/smessoud/RerankingTransformer/models/research/delf/delf/python/delg/data/viquae_for_rrt/training_gnd/humans_gnd_train.pkl\"\n",
    "pickle_save(gnd_file, new_humans_train_gnd)"
   ]
  },
  {
   "cell_type": "code",
   "execution_count": 105,
   "metadata": {},
   "outputs": [],
   "source": [
    "gnd_file = \"/mnt/beegfs/home/smessoud/RerankingTransformer/models/research/delf/delf/python/delg/data/viquae_for_rrt/training_gnd/non_humans_gnd_train.pkl\"\n",
    "pickle_save(gnd_file, new_non_humans_train_gnd)"
   ]
  },
  {
   "cell_type": "code",
   "execution_count": null,
   "metadata": {},
   "outputs": [],
   "source": []
  },
  {
   "cell_type": "code",
   "execution_count": null,
   "metadata": {},
   "outputs": [],
   "source": []
  }
 ],
 "metadata": {
  "kernelspec": {
   "display_name": "Python 3",
   "language": "python",
   "name": "python3"
  },
  "language_info": {
   "codemirror_mode": {
    "name": "ipython",
    "version": 3
   },
   "file_extension": ".py",
   "mimetype": "text/x-python",
   "name": "python",
   "nbconvert_exporter": "python",
   "pygments_lexer": "ipython3",
   "version": "3.7.6"
  }
 },
 "nbformat": 4,
 "nbformat_minor": 4
}
