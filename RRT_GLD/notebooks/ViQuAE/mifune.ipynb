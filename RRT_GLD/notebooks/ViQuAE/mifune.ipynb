{
 "cells": [
  {
   "cell_type": "code",
   "execution_count": 1,
   "metadata": {},
   "outputs": [],
   "source": [
    "import json\n",
    "import os\n",
    "import numpy as np"
   ]
  },
  {
   "cell_type": "code",
   "execution_count": 2,
   "metadata": {},
   "outputs": [],
   "source": [
    "entire_dataset_imgs = np.loadtxt('data/entire_dataset_imgs.txt', dtype='str')"
   ]
  },
  {
   "cell_type": "code",
   "execution_count": 3,
   "metadata": {},
   "outputs": [
    {
     "name": "stdout",
     "output_type": "stream",
     "text": [
      "all_img_ids.json  entire_dataset_imgs.txt  viquae_dataset   viquae_wikipedia\r\n",
      "Commons\t\t  local_Commons\t\t   viquae_images\r\n",
      "du.txt\t\t  ms1mv3_arcface_r50_fp16  viquae_passages\r\n"
     ]
    }
   ],
   "source": [
    "!ls data/"
   ]
  },
  {
   "cell_type": "code",
   "execution_count": 7,
   "metadata": {},
   "outputs": [],
   "source": [
    "import shutil\n",
    "src_path = 'data/Commons'\n",
    "dest_path = 'data/local_Commons'\n",
    "\n",
    "for img in entire_dataset_imgs:\n",
    "    # construct the src path and file name\n",
    "    src_file = os.path.join(src_path, img)\n",
    "\n",
    "    # construct the dest path and file name\n",
    "    dest_file = os.path.join(dest_path, img)\n",
    "\n",
    "    # test if the dest file exists, if false, do the copy, or else abort the copy operation.\n",
    "    if not os.path.exists(dest_file):\n",
    "        shutil.copyfile(src_file, dest_file)\n",
    "        #print(\"copy from %s to %s ok\" % (src_file, dest_file))\n",
    "    else:\n",
    "        #print(\"already exist %s, copy aborted\"%dest_file)\n",
    "        pass"
   ]
  },
  {
   "cell_type": "code",
   "execution_count": null,
   "metadata": {},
   "outputs": [],
   "source": []
  }
 ],
 "metadata": {
  "kernelspec": {
   "display_name": "Python 3",
   "language": "python",
   "name": "python3"
  },
  "language_info": {
   "codemirror_mode": {
    "name": "ipython",
    "version": 3
   },
   "file_extension": ".py",
   "mimetype": "text/x-python",
   "name": "python",
   "nbconvert_exporter": "python",
   "pygments_lexer": "ipython3",
   "version": "3.7.6"
  }
 },
 "nbformat": 4,
 "nbformat_minor": 4
}
