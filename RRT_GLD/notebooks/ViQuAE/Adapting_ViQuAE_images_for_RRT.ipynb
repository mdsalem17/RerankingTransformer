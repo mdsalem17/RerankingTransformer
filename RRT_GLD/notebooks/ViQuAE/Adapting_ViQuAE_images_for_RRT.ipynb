{
 "cells": [
  {
   "cell_type": "markdown",
   "metadata": {
    "id": "NbDUyuTbFBrG"
   },
   "source": [
    "# Adapting ViQuAE images for RRT\n",
    "## Imports"
   ]
  },
  {
   "cell_type": "code",
   "execution_count": 1,
   "metadata": {
    "id": "sF9ZuWbVB_4H"
   },
   "outputs": [],
   "source": [
    "import json\n",
    "import numpy as np\n",
    "from datasets import load_from_disk, set_caching_enabled\n",
    "set_caching_enabled(False)"
   ]
  },
  {
   "cell_type": "markdown",
   "metadata": {
    "id": "_viymwRpFEwQ"
   },
   "source": [
    "## Loading Data"
   ]
  },
  {
   "cell_type": "code",
   "execution_count": 2,
   "metadata": {
    "id": "y73YtxvkCDqc"
   },
   "outputs": [],
   "source": [
    "dataset = load_from_disk(\"data/viquae_dataset\")"
   ]
  },
  {
   "cell_type": "code",
   "execution_count": 3,
   "metadata": {
    "id": "yWOHH-hxCMSa"
   },
   "outputs": [],
   "source": [
    "kb = load_from_disk('data/viquae_passages/')"
   ]
  },
  {
   "cell_type": "code",
   "execution_count": 4,
   "metadata": {
    "id": "_kPxIOAYCOkN"
   },
   "outputs": [],
   "source": [
    "wiki = load_from_disk('data/viquae_wikipedia')"
   ]
  },
  {
   "cell_type": "code",
   "execution_count": 5,
   "metadata": {
    "id": "TeqINFEBFKjq"
   },
   "outputs": [],
   "source": [
    "train_set, dev_set, test_set = dataset['train'], dataset['validation'], dataset['test']"
   ]
  },
  {
   "cell_type": "code",
   "execution_count": 6,
   "metadata": {
    "id": "y8fgKct9CU0Z"
   },
   "outputs": [],
   "source": [
    "humans_with_faces, humans_without_faces, non_humans = wiki['humans_with_faces'], wiki['humans_without_faces'], wiki['non_humans']"
   ]
  },
  {
   "cell_type": "markdown",
   "metadata": {
    "id": "uAY5kcAmFgmW"
   },
   "source": [
    "## Passage to Article Mapping"
   ]
  },
  {
   "cell_type": "code",
   "execution_count": 7,
   "metadata": {
    "id": "k0JW--djCiQU"
   },
   "outputs": [],
   "source": [
    "f = open('data/viquae_wikipedia/non_humans/article2passage.json')\n",
    "n_h_article2passage = json.load(f)\n",
    "f.close()                                                              "
   ]
  },
  {
   "cell_type": "code",
   "execution_count": 8,
   "metadata": {
    "id": "3TVd0OCqDQAA"
   },
   "outputs": [
    {
     "data": {
      "text/plain": [
       "7175529"
      ]
     },
     "execution_count": 8,
     "metadata": {},
     "output_type": "execute_result"
    }
   ],
   "source": [
    "n_h_passage2article = {}\n",
    "for k, v in n_h_article2passage.items(): \n",
    "    for x in v: \n",
    "        n_h_passage2article[x] = k \n",
    "\n",
    "len_n_h = len(n_h_passage2article)\n",
    "len_n_h"
   ]
  },
  {
   "cell_type": "code",
   "execution_count": 9,
   "metadata": {
    "id": "9rglNXcoCzl6"
   },
   "outputs": [],
   "source": [
    "f = open('data/viquae_wikipedia/humans_without_faces/article2passage.json')\n",
    "h_wo_f_article2passage = json.load(f)                                  \n",
    "f.close()"
   ]
  },
  {
   "cell_type": "code",
   "execution_count": 10,
   "metadata": {
    "id": "uEKj6Q5iDch9"
   },
   "outputs": [
    {
     "data": {
      "text/plain": [
       "298698"
      ]
     },
     "execution_count": 10,
     "metadata": {},
     "output_type": "execute_result"
    }
   ],
   "source": [
    "h_wo_f_passage2article = {} \n",
    "for k, v in h_wo_f_article2passage.items(): \n",
    "    for x in v: \n",
    "        h_wo_f_passage2article[x] = k \n",
    "\n",
    "len_h_wo_f = len(h_wo_f_passage2article)\n",
    "len_h_wo_f"
   ]
  },
  {
   "cell_type": "code",
   "execution_count": 11,
   "metadata": {
    "id": "Gewr5BhdC6-L"
   },
   "outputs": [],
   "source": [
    "f = open('data/viquae_wikipedia/humans_with_faces/article2passage.json')                                                                      \n",
    "h_w_f_article2passage = json.load(f)                                   \n",
    "f.close()                  "
   ]
  },
  {
   "cell_type": "code",
   "execution_count": 12,
   "metadata": {
    "id": "m3at6nL6DcEY"
   },
   "outputs": [
    {
     "data": {
      "text/plain": [
       "4411741"
      ]
     },
     "execution_count": 12,
     "metadata": {},
     "output_type": "execute_result"
    }
   ],
   "source": [
    "h_w_f_passage2article = {} \n",
    "for k, v in h_w_f_article2passage.items(): \n",
    "    for x in v: \n",
    "        h_w_f_passage2article[x] = k\n",
    "\n",
    "len_h_w_f = len(h_w_f_passage2article)\n",
    "len_h_w_f"
   ]
  },
  {
   "cell_type": "code",
   "execution_count": null,
   "metadata": {},
   "outputs": [],
   "source": []
  },
  {
   "cell_type": "code",
   "execution_count": 13,
   "metadata": {
    "id": "qVMS7i12ELcO"
   },
   "outputs": [
    {
     "data": {
      "text/plain": [
       "True"
      ]
     },
     "execution_count": 13,
     "metadata": {},
     "output_type": "execute_result"
    }
   ],
   "source": [
    "len_n_h + len_h_w_f + len_h_wo_f == 11885968"
   ]
  },
  {
   "cell_type": "code",
   "execution_count": 14,
   "metadata": {},
   "outputs": [
    {
     "data": {
      "text/plain": [
       "11885968"
      ]
     },
     "execution_count": 14,
     "metadata": {},
     "output_type": "execute_result"
    }
   ],
   "source": [
    "passage2article = {**h_w_f_passage2article, **h_wo_f_passage2article, **n_h_passage2article}\n",
    "len(passage2article)"
   ]
  },
  {
   "cell_type": "code",
   "execution_count": 15,
   "metadata": {},
   "outputs": [],
   "source": [
    "with open(\"data/viquae_wikipedia/passage2article.json\", \"w\") as outfile:\n",
    "    json.dump(passage2article, outfile)"
   ]
  },
  {
   "cell_type": "markdown",
   "metadata": {
    "id": "AYDSCsSUoa0W"
   },
   "source": [
    "## Some Exploration"
   ]
  },
  {
   "cell_type": "code",
   "execution_count": 16,
   "metadata": {},
   "outputs": [
    {
     "data": {
      "text/plain": [
       "DatasetDict({\n",
       "    train: Dataset({\n",
       "        features: ['BM25_indices', 'BM25_scores', 'arcface_indices', 'arcface_scores', 'clip-RN50', 'document_arcface_indices', 'document_arcface_scores', 'document_provenance_indices', 'document_resnet_indices', 'document_resnet_scores', 'document_search_indices', 'document_search_scores', 'face', 'face_box', 'face_embedding', 'face_landmarks', 'face_prob', 'id', 'image', 'image_embedding', 'image_hash', 'input', 'keep_clip-RN50', 'keep_face_embedding', 'keep_image_embedding', 'kilt_id', 'meta', 'original_answer_provenance_indices', 'original_question', 'output', 'provenance_indices', 'resnet_indices', 'resnet_scores', 'search_indices', 'search_irrelevant_indices', 'search_provenance_indices', 'search_scores', 'semi-oracle_irrelevant_indices', 'semi-oracle_provenance_indices', 'url', 'wikidata_id'],\n",
       "        num_rows: 1190\n",
       "    })\n",
       "    validation: Dataset({\n",
       "        features: ['BM25_indices', 'BM25_scores', 'arcface_indices', 'arcface_scores', 'clip-RN50', 'clip-RN50_indices', 'clip-RN50_scores', 'document_arcface_indices', 'document_arcface_scores', 'document_provenance_indices', 'document_resnet_indices', 'document_resnet_scores', 'document_search_indices', 'document_search_scores', 'face', 'face_box', 'face_embedding', 'face_landmarks', 'face_prob', 'id', 'image', 'image_embedding', 'image_hash', 'input', 'keep_clip-RN50', 'keep_face_embedding', 'keep_image_embedding', 'kilt_id', 'meta', 'original_answer_provenance_indices', 'original_question', 'output', 'provenance_indices', 'resnet_indices', 'resnet_scores', 'search_indices', 'search_irrelevant_indices', 'search_provenance_indices', 'search_scores', 'semi-oracle_irrelevant_indices', 'semi-oracle_provenance_indices', 'url', 'wikidata_id'],\n",
       "        num_rows: 1250\n",
       "    })\n",
       "    test: Dataset({\n",
       "        features: ['BM25_indices', 'BM25_scores', 'arcface_indices', 'arcface_scores', 'clip-RN50', 'clip-RN50_indices', 'clip-RN50_scores', 'document_BM25_indices', 'document_BM25_scores', 'document_arcface_indices', 'document_arcface_scores', 'document_provenance_indices', 'document_resnet_indices', 'document_resnet_scores', 'document_search_indices', 'document_search_scores', 'face', 'face_box', 'face_embedding', 'face_landmarks', 'face_prob', 'id', 'image', 'image_embedding', 'image_hash', 'input', 'keep_clip-RN50', 'keep_face_embedding', 'keep_image_embedding', 'kilt_id', 'meta', 'original_answer_provenance_indices', 'original_question', 'output', 'provenance_indices', 'resnet_indices', 'resnet_scores', 'search_indices', 'search_irrelevant_indices', 'search_provenance_indices', 'search_scores', 'semi-oracle_irrelevant_indices', 'semi-oracle_provenance_indices', 'url', 'wikidata_id'],\n",
       "        num_rows: 1257\n",
       "    })\n",
       "})"
      ]
     },
     "execution_count": 16,
     "metadata": {},
     "output_type": "execute_result"
    }
   ],
   "source": [
    "dataset"
   ]
  },
  {
   "cell_type": "code",
   "execution_count": 17,
   "metadata": {
    "scrolled": false
   },
   "outputs": [
    {
     "data": {
      "text/plain": [
       "Dataset({\n",
       "    features: ['BM25_indices', 'BM25_scores', 'arcface_indices', 'arcface_scores', 'clip-RN50', 'document_arcface_indices', 'document_arcface_scores', 'document_provenance_indices', 'document_resnet_indices', 'document_resnet_scores', 'document_search_indices', 'document_search_scores', 'face', 'face_box', 'face_embedding', 'face_landmarks', 'face_prob', 'id', 'image', 'image_embedding', 'image_hash', 'input', 'keep_clip-RN50', 'keep_face_embedding', 'keep_image_embedding', 'kilt_id', 'meta', 'original_answer_provenance_indices', 'original_question', 'output', 'provenance_indices', 'resnet_indices', 'resnet_scores', 'search_indices', 'search_irrelevant_indices', 'search_provenance_indices', 'search_scores', 'semi-oracle_irrelevant_indices', 'semi-oracle_provenance_indices', 'url', 'wikidata_id'],\n",
       "    num_rows: 1190\n",
       "})"
      ]
     },
     "execution_count": 17,
     "metadata": {},
     "output_type": "execute_result"
    }
   ],
   "source": [
    "train_set"
   ]
  },
  {
   "cell_type": "code",
   "execution_count": 18,
   "metadata": {
    "scrolled": true
   },
   "outputs": [
    {
     "data": {
      "text/plain": [
       "Dataset({\n",
       "    features: ['BM25_indices', 'BM25_scores', 'arcface_indices', 'arcface_scores', 'clip-RN50', 'clip-RN50_indices', 'clip-RN50_scores', 'document_arcface_indices', 'document_arcface_scores', 'document_provenance_indices', 'document_resnet_indices', 'document_resnet_scores', 'document_search_indices', 'document_search_scores', 'face', 'face_box', 'face_embedding', 'face_landmarks', 'face_prob', 'id', 'image', 'image_embedding', 'image_hash', 'input', 'keep_clip-RN50', 'keep_face_embedding', 'keep_image_embedding', 'kilt_id', 'meta', 'original_answer_provenance_indices', 'original_question', 'output', 'provenance_indices', 'resnet_indices', 'resnet_scores', 'search_indices', 'search_irrelevant_indices', 'search_provenance_indices', 'search_scores', 'semi-oracle_irrelevant_indices', 'semi-oracle_provenance_indices', 'url', 'wikidata_id'],\n",
       "    num_rows: 1250\n",
       "})"
      ]
     },
     "execution_count": 18,
     "metadata": {},
     "output_type": "execute_result"
    }
   ],
   "source": [
    "dev_set"
   ]
  },
  {
   "cell_type": "code",
   "execution_count": 19,
   "metadata": {
    "scrolled": false
   },
   "outputs": [
    {
     "data": {
      "text/plain": [
       "Dataset({\n",
       "    features: ['BM25_indices', 'BM25_scores', 'arcface_indices', 'arcface_scores', 'clip-RN50', 'clip-RN50_indices', 'clip-RN50_scores', 'document_BM25_indices', 'document_BM25_scores', 'document_arcface_indices', 'document_arcface_scores', 'document_provenance_indices', 'document_resnet_indices', 'document_resnet_scores', 'document_search_indices', 'document_search_scores', 'face', 'face_box', 'face_embedding', 'face_landmarks', 'face_prob', 'id', 'image', 'image_embedding', 'image_hash', 'input', 'keep_clip-RN50', 'keep_face_embedding', 'keep_image_embedding', 'kilt_id', 'meta', 'original_answer_provenance_indices', 'original_question', 'output', 'provenance_indices', 'resnet_indices', 'resnet_scores', 'search_indices', 'search_irrelevant_indices', 'search_provenance_indices', 'search_scores', 'semi-oracle_irrelevant_indices', 'semi-oracle_provenance_indices', 'url', 'wikidata_id'],\n",
       "    num_rows: 1257\n",
       "})"
      ]
     },
     "execution_count": 19,
     "metadata": {},
     "output_type": "execute_result"
    }
   ],
   "source": [
    "test_set"
   ]
  },
  {
   "cell_type": "code",
   "execution_count": 20,
   "metadata": {
    "scrolled": false
   },
   "outputs": [
    {
     "data": {
      "text/plain": [
       "DatasetDict({\n",
       "    non_humans: Dataset({\n",
       "        features: ['anchors', 'categories', 'clip-RN50', 'document', 'history', 'image', 'image_embedding', 'image_hash', 'kilt_id', 'passage_index', 'text', 'url', 'wikidata_info', 'wikipedia_id', 'wikipedia_title'],\n",
       "        num_rows: 953379\n",
       "    })\n",
       "    humans_with_faces: Dataset({\n",
       "        features: ['anchors', 'categories', 'clip-RN50', 'document', 'face_box', 'face_embedding', 'face_landmarks', 'face_prob', 'history', 'image', 'image_embedding', 'image_hash', 'keep_face_embedding', 'kilt_id', 'passage_index', 'text', 'url', 'wikidata_info', 'wikipedia_id', 'wikipedia_title'],\n",
       "        num_rows: 506237\n",
       "    })\n",
       "    humans_without_faces: Dataset({\n",
       "        features: ['anchors', 'categories', 'clip-RN50', 'document', 'face_embedding', 'history', 'image', 'image_embedding', 'image_hash', 'kilt_id', 'passage_index', 'text', 'url', 'wikidata_info', 'wikipedia_id', 'wikipedia_title'],\n",
       "        num_rows: 35736\n",
       "    })\n",
       "})"
      ]
     },
     "execution_count": 20,
     "metadata": {},
     "output_type": "execute_result"
    }
   ],
   "source": [
    "wiki"
   ]
  },
  {
   "cell_type": "code",
   "execution_count": 21,
   "metadata": {},
   "outputs": [
    {
     "data": {
      "text/plain": [
       "(0, 100)"
      ]
     },
     "execution_count": 21,
     "metadata": {},
     "output_type": "execute_result"
    }
   ],
   "source": [
    "item = train_set[0]\n",
    "#print(item['provenance_indices'] in )\n",
    "len(item['original_answer_provenance_indices']), len(item['provenance_indices']), len(item['search_provenance_indices']), len(item['search_irrelevant_indices'])\n",
    "len(item['search_provenance_indices']), len(item['search_irrelevant_indices'])"
   ]
  },
  {
   "cell_type": "code",
   "execution_count": null,
   "metadata": {},
   "outputs": [],
   "source": []
  },
  {
   "cell_type": "code",
   "execution_count": 22,
   "metadata": {
    "scrolled": false
   },
   "outputs": [
    {
     "data": {
      "text/plain": [
       "11885968"
      ]
     },
     "execution_count": 22,
     "metadata": {},
     "output_type": "execute_result"
    }
   ],
   "source": [
    "h_w_f_passage_split  = dict(zip(h_w_f_passage2article.keys(),  ['humans_with_faces'] * len_h_w_f))\n",
    "h_wo_f_passage_split = dict(zip(h_wo_f_passage2article.keys(), ['humans_without_faces'] * len_h_wo_f))\n",
    "n_h_passage_split    = dict(zip(n_h_passage2article.keys(),    ['non_humans'] * len_n_h))\n",
    "\n",
    "passage_wiki_split = {**h_w_f_passage_split, **h_wo_f_passage_split, **n_h_passage_split}\n",
    "len(passage_wiki_split)"
   ]
  },
  {
   "cell_type": "code",
   "execution_count": 23,
   "metadata": {},
   "outputs": [],
   "source": [
    "with open(\"data/viquae_wikipedia/passage_wiki_split.json\", \"w\") as outfile:\n",
    "    json.dump(passage_wiki_split, outfile)"
   ]
  },
  {
   "cell_type": "code",
   "execution_count": null,
   "metadata": {},
   "outputs": [],
   "source": []
  },
  {
   "cell_type": "code",
   "execution_count": 24,
   "metadata": {},
   "outputs": [
    {
     "data": {
      "text/plain": [
       "(22, 78, 22, 78)"
      ]
     },
     "execution_count": 24,
     "metadata": {},
     "output_type": "execute_result"
    }
   ],
   "source": [
    "item = train_set[2]\n",
    "len(item['search_provenance_indices']), len(item['search_irrelevant_indices']), len(list(set(item['search_provenance_indices']))), len(list(set(item['search_irrelevant_indices'])))"
   ]
  },
  {
   "cell_type": "code",
   "execution_count": 25,
   "metadata": {},
   "outputs": [],
   "source": [
    "def get_gallery_imgs_for_rrt(data_set,\n",
    "                             wikipedia,\n",
    "                             passage2article,\n",
    "                             passage_wiki_split):\n",
    "    \n",
    "    question_imgs, positive_imgs, negative_imgs = [], [], []\n",
    "    \n",
    "    # for every question, get the list of the top 100 search results\n",
    "    for item in data_set:\n",
    "        # item_relevant_passages = list(set(item['search_indices']) - set(item['search_irrelevant_indices']))\n",
    "\n",
    "        # append the question image\n",
    "        question_imgs.append(item['image'])\n",
    "        \n",
    "        def loop_over_passages(passages):\n",
    "            \n",
    "            img_list = []\n",
    "            \n",
    "            for passage in passages: \n",
    "                # for every passage, get the list its corresponding wikipedia article id and split\n",
    "                wiki_index = int(passage2article[passage])\n",
    "                \n",
    "                wiki_split = passage_wiki_split[passage]\n",
    "                \n",
    "                wiki_item = wikipedia[wiki_split][wiki_index]\n",
    "\n",
    "                img_list.append(wiki_item['image'])\n",
    "                \n",
    "            return img_list\n",
    "        \n",
    "        \n",
    "        # append the images of passages containing the answer\n",
    "        positive_imgs.extend(loop_over_passages(item['search_provenance_indices']))\n",
    "        \n",
    "        # append the images of irrelevant passages\n",
    "        negative_imgs.extend(loop_over_passages(item['search_irrelevant_indices']))\n",
    "        \n",
    "    return question_imgs, positive_imgs, negative_imgs\n",
    "     "
   ]
  },
  {
   "cell_type": "code",
   "execution_count": 26,
   "metadata": {},
   "outputs": [],
   "source": [
    "train_question_imgs, train_positive_imgs, train_negative_imgs = get_gallery_imgs_for_rrt(train_set, \n",
    "                                                                       wiki, \n",
    "                                                                       passage2article, \n",
    "                                                                       passage_wiki_split)"
   ]
  },
  {
   "cell_type": "code",
   "execution_count": 27,
   "metadata": {},
   "outputs": [],
   "source": [
    "dev_question_imgs, dev_positive_imgs, dev_negative_imgs = get_gallery_imgs_for_rrt(dev_set, \n",
    "                                                                       wiki, \n",
    "                                                                       passage2article, \n",
    "                                                                       passage_wiki_split)"
   ]
  },
  {
   "cell_type": "code",
   "execution_count": 28,
   "metadata": {},
   "outputs": [],
   "source": [
    "test_question_imgs, test_positive_imgs, test_negative_imgs = get_gallery_imgs_for_rrt(test_set, \n",
    "                                                                       wiki, \n",
    "                                                                       passage2article, \n",
    "                                                                       passage_wiki_split)"
   ]
  },
  {
   "cell_type": "code",
   "execution_count": 29,
   "metadata": {},
   "outputs": [
    {
     "data": {
      "text/plain": [
       "(3697, 46866, 333623, 369700, 380489)"
      ]
     },
     "execution_count": 29,
     "metadata": {},
     "output_type": "execute_result"
    }
   ],
   "source": [
    "question_imgs = train_question_imgs + dev_question_imgs + test_question_imgs\n",
    "positive_imgs = train_positive_imgs + dev_positive_imgs + test_positive_imgs\n",
    "negative_imgs = train_negative_imgs + dev_negative_imgs + test_negative_imgs\n",
    "len(question_imgs), len(positive_imgs), len(negative_imgs), 369700, (len(positive_imgs) + len(negative_imgs))"
   ]
  },
  {
   "cell_type": "code",
   "execution_count": 30,
   "metadata": {},
   "outputs": [
    {
     "data": {
      "text/plain": [
       "(1105, 1108, 1105)"
      ]
     },
     "execution_count": 30,
     "metadata": {},
     "output_type": "execute_result"
    }
   ],
   "source": [
    "len(list(set(train_question_imgs))), len(list(set(dev_question_imgs))), len(list(set(test_question_imgs)))"
   ]
  },
  {
   "cell_type": "code",
   "execution_count": 31,
   "metadata": {},
   "outputs": [
    {
     "data": {
      "text/plain": [
       "(7034, 6114, 6644)"
      ]
     },
     "execution_count": 31,
     "metadata": {},
     "output_type": "execute_result"
    }
   ],
   "source": [
    "len(list(set(train_positive_imgs))), len(list(set(dev_positive_imgs))), len(list(set(test_positive_imgs)))"
   ]
  },
  {
   "cell_type": "code",
   "execution_count": 32,
   "metadata": {},
   "outputs": [
    {
     "data": {
      "text/plain": [
       "(37613, 39935, 40529)"
      ]
     },
     "execution_count": 32,
     "metadata": {},
     "output_type": "execute_result"
    }
   ],
   "source": [
    "len(list(set(train_negative_imgs))), len(list(set(dev_negative_imgs))), len(list(set(test_negative_imgs)))"
   ]
  },
  {
   "cell_type": "code",
   "execution_count": 33,
   "metadata": {},
   "outputs": [
    {
     "data": {
      "text/plain": [
       "(3318, 17155, 89554)"
      ]
     },
     "execution_count": 33,
     "metadata": {},
     "output_type": "execute_result"
    }
   ],
   "source": [
    "len(list(set(question_imgs))), len(list(set(positive_imgs))), len(list(set(negative_imgs)))"
   ]
  },
  {
   "cell_type": "code",
   "execution_count": 34,
   "metadata": {},
   "outputs": [
    {
     "data": {
      "text/plain": [
       "99954"
      ]
     },
     "execution_count": 34,
     "metadata": {},
     "output_type": "execute_result"
    }
   ],
   "source": [
    "entire_dataset_imgs = list(set(list(set(question_imgs)) + list(set(positive_imgs)) + list(set(negative_imgs))))\n",
    "len(entire_dataset_imgs)"
   ]
  },
  {
   "cell_type": "code",
   "execution_count": 35,
   "metadata": {},
   "outputs": [],
   "source": [
    "np.savetxt('data/entire_dataset_imgs.txt', entire_dataset_imgs, fmt=\"%s\")"
   ]
  },
  {
   "cell_type": "markdown",
   "metadata": {},
   "source": [
    "## GroundTruth Generation"
   ]
  },
  {
   "cell_type": "code",
   "execution_count": 36,
   "metadata": {},
   "outputs": [],
   "source": [
    "import numpy as np\n",
    "import os.path as osp\n",
    "import pickle, json, random\n",
    "\n",
    "import torch"
   ]
  },
  {
   "cell_type": "code",
   "execution_count": 37,
   "metadata": {},
   "outputs": [],
   "source": [
    "def pickle_load(path):\n",
    "    with open(path, 'rb') as fid:\n",
    "        data_ = pickle.load(fid)\n",
    "    return data_"
   ]
  },
  {
   "cell_type": "code",
   "execution_count": 38,
   "metadata": {},
   "outputs": [],
   "source": [
    "def pickle_save(path, data):\n",
    "    with open(path, 'wb') as fid:\n",
    "        pickle.dump(data, fid)"
   ]
  },
  {
   "cell_type": "code",
   "execution_count": 39,
   "metadata": {},
   "outputs": [],
   "source": [
    "oxford_gnd_file = \"/mnt/beegfs/home/smessoud/RerankingTransformer/models/research/delf/delf/python/delg/data/oxford5k/gnd_roxford5k.pkl\""
   ]
  },
  {
   "cell_type": "code",
   "execution_count": 40,
   "metadata": {},
   "outputs": [],
   "source": [
    "oxford_gnd = pickle_load(oxford_gnd_file)"
   ]
  },
  {
   "cell_type": "code",
   "execution_count": 41,
   "metadata": {},
   "outputs": [
    {
     "data": {
      "text/plain": [
       "dict_keys(['gnd', 'imlist', 'qimlist'])"
      ]
     },
     "execution_count": 41,
     "metadata": {},
     "output_type": "execute_result"
    }
   ],
   "source": [
    "oxford_gnd.keys()"
   ]
  },
  {
   "cell_type": "code",
   "execution_count": 42,
   "metadata": {},
   "outputs": [
    {
     "data": {
      "text/plain": [
       "(dict_keys(['bbx', 'easy', 'hard', 'junk']), 3)"
      ]
     },
     "execution_count": 42,
     "metadata": {},
     "output_type": "execute_result"
    }
   ],
   "source": [
    "oxford_gnd['gnd'][0].keys(), len(oxford_gnd.keys())"
   ]
  },
  {
   "cell_type": "code",
   "execution_count": 43,
   "metadata": {},
   "outputs": [
    {
     "data": {
      "text/plain": [
       "103"
      ]
     },
     "execution_count": 43,
     "metadata": {},
     "output_type": "execute_result"
    }
   ],
   "source": [
    "(len(oxford_gnd['gnd'][0]['easy']), len(oxford_gnd['gnd'][0]['hard']), len(oxford_gnd['gnd'][0]['junk']))\n",
    "np.sum((len(oxford_gnd['gnd'][0]['easy']), len(oxford_gnd['gnd'][0]['hard'])))"
   ]
  },
  {
   "cell_type": "code",
   "execution_count": 44,
   "metadata": {},
   "outputs": [],
   "source": [
    "def prepare_gnd_selection_images_for_rrt(data_set,\n",
    "                                         wikipedia,\n",
    "                                         passage2article,\n",
    "                                         passage_wiki_split):\n",
    "    \n",
    "    selection_imgs  = []\n",
    "    \n",
    "    # for every question, get the list images corresponding to the top 100 search results\n",
    "    for item in data_set:\n",
    "        \n",
    "        img_list = []\n",
    "        \n",
    "        for passage in item['search_indices']: \n",
    "            wiki_index = int(passage2article[passage])\n",
    "            wiki_split = passage_wiki_split[passage]\n",
    "            wiki_item = wikipedia[wiki_split][wiki_index]\n",
    "\n",
    "            img_list.append(wiki_item['image'])\n",
    "                \n",
    "        selection_imgs.append(img_list)\n",
    "    \n",
    "    return selection_imgs\n",
    "     "
   ]
  },
  {
   "cell_type": "code",
   "execution_count": 45,
   "metadata": {},
   "outputs": [],
   "source": [
    "train_selection_imgs = prepare_gnd_selection_images_for_rrt(train_set, \n",
    "                                                            wiki, \n",
    "                                                            passage2article, \n",
    "                                                            passage_wiki_split)"
   ]
  },
  {
   "cell_type": "code",
   "execution_count": 46,
   "metadata": {},
   "outputs": [
    {
     "data": {
      "text/plain": [
       "(1190, 100)"
      ]
     },
     "execution_count": 46,
     "metadata": {},
     "output_type": "execute_result"
    }
   ],
   "source": [
    "np.array(train_selection_imgs).shape"
   ]
  },
  {
   "cell_type": "code",
   "execution_count": 47,
   "metadata": {},
   "outputs": [
    {
     "data": {
      "text/plain": [
       "(3318, 17155, 89554)"
      ]
     },
     "execution_count": 47,
     "metadata": {},
     "output_type": "execute_result"
    }
   ],
   "source": [
    "len(list(set(question_imgs))), len(list(set(positive_imgs))), len(list(set(negative_imgs)))"
   ]
  },
  {
   "cell_type": "code",
   "execution_count": 48,
   "metadata": {},
   "outputs": [],
   "source": [
    "train_gnd = {}\n",
    "train_gnd['qimlist'] = train_question_imgs\n",
    "train_gnd['imlist']  = train_question_imgs + train_positive_imgs + train_negative_imgs\n",
    "train_gnd['simlist'] = train_selection_imgs"
   ]
  },
  {
   "cell_type": "code",
   "execution_count": 49,
   "metadata": {},
   "outputs": [],
   "source": [
    "train_gnd['imlist']  = list(set(train_gnd['imlist']))\n",
    "#train_gnd['qimlist'] = list(set(train_gnd['qimlist']))"
   ]
  },
  {
   "cell_type": "code",
   "execution_count": 50,
   "metadata": {},
   "outputs": [],
   "source": [
    "dev_gnd = {}\n",
    "dev_gnd['qimlist'] = dev_question_imgs\n",
    "dev_gnd['imlist']  = dev_question_imgs + dev_positive_imgs + dev_negative_imgs\n",
    "dev_gnd['simlist'] = prepare_gnd_selection_images_for_rrt(dev_set, \n",
    "                                                          wiki, \n",
    "                                                          passage2article, \n",
    "                                                          passage_wiki_split)"
   ]
  },
  {
   "cell_type": "code",
   "execution_count": 51,
   "metadata": {},
   "outputs": [],
   "source": [
    "dev_gnd['imlist']  = list(set(dev_gnd['imlist']))\n",
    "#dev_gnd['qimlist'] = list(set(dev_gnd['qimlist']))"
   ]
  },
  {
   "cell_type": "code",
   "execution_count": 52,
   "metadata": {},
   "outputs": [],
   "source": [
    "test_gnd = {}\n",
    "test_gnd['qimlist'] = test_question_imgs\n",
    "test_gnd['imlist']  = test_question_imgs + test_positive_imgs + test_negative_imgs\n",
    "test_gnd['simlist'] = prepare_gnd_selection_images_for_rrt(test_set, \n",
    "                                                           wiki, \n",
    "                                                           passage2article, \n",
    "                                                           passage_wiki_split)"
   ]
  },
  {
   "cell_type": "code",
   "execution_count": 53,
   "metadata": {},
   "outputs": [],
   "source": [
    "test_gnd['imlist']  = list(set(test_gnd['imlist']))\n",
    "#test_gnd['qimlist'] = list(set(test_gnd['qimlist']))"
   ]
  },
  {
   "cell_type": "code",
   "execution_count": 54,
   "metadata": {},
   "outputs": [
    {
     "data": {
      "text/plain": [
       "(1250, 1250, 44325)"
      ]
     },
     "execution_count": 54,
     "metadata": {},
     "output_type": "execute_result"
    }
   ],
   "source": [
    "len(dev_gnd['simlist']), len(dev_gnd['qimlist']), len(dev_gnd['imlist']),"
   ]
  },
  {
   "cell_type": "code",
   "execution_count": 55,
   "metadata": {},
   "outputs": [],
   "source": [
    "#viquae_gnd_file = \"/mnt/beegfs/home/smessoud/RerankingTransformer/models/research/delf/delf/python/delg/data/viquae_images/gnd_dev_viquae.pkl\""
   ]
  },
  {
   "cell_type": "code",
   "execution_count": 56,
   "metadata": {},
   "outputs": [],
   "source": [
    "#viquae_gnd = pickle_load(viquae_gnd_file)"
   ]
  },
  {
   "cell_type": "code",
   "execution_count": 57,
   "metadata": {},
   "outputs": [],
   "source": [
    "#viquae_gnd['gnd'][0].keys()"
   ]
  },
  {
   "cell_type": "code",
   "execution_count": 115,
   "metadata": {},
   "outputs": [
    {
     "name": "stdout",
     "output_type": "stream",
     "text": [
      "[2622393, 8814396, 8646819, 1562495, 1562496, 1281262, 4696984, 8646838, 1280203, 8209050, 1281255, 3803785, 11138918, 5668626, 5873302, 6606045, 6606046, 6606047, 1314171, 462157, 4697063, 3586842, 462106, 4523355, 341683, 4697011, 8646833, 1922175, 11347466, 7660524, 8073939, 11279406, 11279407, 11279408, 11279409, 11279410, 11279411, 11279412, 11279413, 11279414, 11279415, 11279416, 11279417, 11279418, 11279419, 11279420, 11279421, 11279422, 11279423, 11279424, 11279425, 11279426, 11279427, 11279428, 11279429, 11279430, 11279431, 11279432, 11279433, 11279434, 11279435, 7824223, 3290460, 5873294, 3698059, 4697068, 10992510, 4148951, 3803752, 4696998, 3665117, 3665119, 3665120, 3665121, 3665118, 8646820, 6971366, 11282428, 10795668, 2698285, 4788496, 5115289, 10269213, 3233235, 8814398, 4788576, 462088, 7614546, 7614547, 7614548, 7614549, 7614550, 1922146, 462090, 11138920, 1238729, 4223041, 9576926, 5873295, 1922171, 5867811, 5867827]\n"
     ]
    }
   ],
   "source": [
    "item = train_set[7]\n",
    "\n",
    "print(item['search_indices'] + item['search_provenance_indices'])"
   ]
  },
  {
   "cell_type": "code",
   "execution_count": 116,
   "metadata": {},
   "outputs": [
    {
     "name": "stdout",
     "output_type": "stream",
     "text": [
      "[5867811, 5867827]\n"
     ]
    }
   ],
   "source": [
    "print(item['search_provenance_indices'])"
   ]
  },
  {
   "cell_type": "code",
   "execution_count": 155,
   "metadata": {},
   "outputs": [],
   "source": [
    "def prepare_gnd_for_rrt(data_set,\n",
    "                        wikipedia,\n",
    "                        passage2article,\n",
    "                        passage_wiki_split):\n",
    "    \n",
    "    # ranks = []\n",
    "    data_gnd = []\n",
    "    \n",
    "    # for every question, get the list of the top 100 search results\n",
    "    for item in data_set:\n",
    "        if set(item['search_provenance_indices']) <= set(item['search_indices']):\n",
    "            all_indices = sorted(item['search_indices'])\n",
    "        else: all_indices = sorted(item['search_indices']) + item['search_provenance_indices']\n",
    "        \n",
    "        rank_dict = {all_indices [k]: k for k in range(len(all_indices))}\n",
    "        #print(rank_dict)\n",
    "        \n",
    "        def loop_over_passages(passages):\n",
    "            \n",
    "            img_ranks = []\n",
    "            \n",
    "            for passage in passages:\n",
    "                img_ranks.append(rank_dict[passage])\n",
    "                \n",
    "            return img_ranks\n",
    "        \n",
    "        question_gnd = {}\n",
    "        question_gnd['easy'] = []\n",
    "        question_gnd['hard'] = loop_over_passages(item['search_provenance_indices'])\n",
    "        question_gnd['junk'] = loop_over_passages(item['search_irrelevant_indices'])\n",
    "        \n",
    "        data_gnd.append(question_gnd)\n",
    "        \n",
    "    return data_gnd\n",
    "         "
   ]
  },
  {
   "cell_type": "code",
   "execution_count": 156,
   "metadata": {
    "scrolled": false
   },
   "outputs": [],
   "source": [
    "train_gnd['gnd'] = prepare_gnd_for_rrt(train_set,\n",
    "                                       wiki,\n",
    "                                       passage2article,\n",
    "                                       passage_wiki_split)"
   ]
  },
  {
   "cell_type": "code",
   "execution_count": 157,
   "metadata": {},
   "outputs": [],
   "source": [
    "dev_gnd['gnd'] = prepare_gnd_for_rrt(dev_set,\n",
    "                                     wiki,\n",
    "                                     passage2article,\n",
    "                                     passage_wiki_split)"
   ]
  },
  {
   "cell_type": "code",
   "execution_count": 158,
   "metadata": {},
   "outputs": [],
   "source": [
    "test_gnd['gnd'] = prepare_gnd_for_rrt(test_set,\n",
    "                                      wiki,\n",
    "                                      passage2article,\n",
    "                                      passage_wiki_split)"
   ]
  },
  {
   "cell_type": "code",
   "execution_count": 159,
   "metadata": {},
   "outputs": [],
   "source": [
    "train_gnd_file = \"/mnt/beegfs/home/smessoud/RerankingTransformer/models/research/delf/delf/python/delg/data/viquae_for_rrt/gnd_train.pkl\"\n",
    "pickle_save(train_gnd_file, train_gnd)"
   ]
  },
  {
   "cell_type": "code",
   "execution_count": 160,
   "metadata": {},
   "outputs": [],
   "source": [
    "dev_gnd_file = \"/mnt/beegfs/home/smessoud/RerankingTransformer/models/research/delf/delf/python/delg/data/viquae_for_rrt/gnd_dev.pkl\"\n",
    "pickle_save(dev_gnd_file, dev_gnd)"
   ]
  },
  {
   "cell_type": "code",
   "execution_count": 161,
   "metadata": {},
   "outputs": [],
   "source": [
    "test_gnd_file = \"/mnt/beegfs/home/smessoud/RerankingTransformer/models/research/delf/delf/python/delg/data/viquae_for_rrt/gnd_test.pkl\"\n",
    "pickle_save(test_gnd_file, test_gnd)"
   ]
  },
  {
   "cell_type": "code",
   "execution_count": 162,
   "metadata": {},
   "outputs": [
    {
     "data": {
      "text/plain": [
       "[44, 16, 36]"
      ]
     },
     "execution_count": 162,
     "metadata": {},
     "output_type": "execute_result"
    }
   ],
   "source": [
    "test_gnd['gnd'][0]['hard']"
   ]
  },
  {
   "cell_type": "code",
   "execution_count": null,
   "metadata": {},
   "outputs": [],
   "source": []
  },
  {
   "cell_type": "code",
   "execution_count": null,
   "metadata": {},
   "outputs": [],
   "source": []
  },
  {
   "cell_type": "code",
   "execution_count": null,
   "metadata": {},
   "outputs": [],
   "source": []
  },
  {
   "cell_type": "code",
   "execution_count": 68,
   "metadata": {},
   "outputs": [
    {
     "data": {
      "text/plain": [
       "'00123'"
      ]
     },
     "execution_count": 68,
     "metadata": {},
     "output_type": "execute_result"
    }
   ],
   "source": [
    "number_str = str(123)\n",
    "zero_filled_number = number_str.zfill(5)\n",
    "zero_filled_number"
   ]
  }
 ],
 "metadata": {
  "colab": {
   "name": "RRT_ViQuAE_data_preparation.ipynb",
   "provenance": []
  },
  "kernelspec": {
   "display_name": "Python 3",
   "language": "python",
   "name": "python3"
  },
  "language_info": {
   "codemirror_mode": {
    "name": "ipython",
    "version": 3
   },
   "file_extension": ".py",
   "mimetype": "text/x-python",
   "name": "python",
   "nbconvert_exporter": "python",
   "pygments_lexer": "ipython3",
   "version": "3.7.6"
  }
 },
 "nbformat": 4,
 "nbformat_minor": 1
}
