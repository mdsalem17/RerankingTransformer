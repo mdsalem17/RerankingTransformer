{
 "cells": [
  {
   "cell_type": "code",
   "execution_count": 1,
   "metadata": {},
   "outputs": [],
   "source": [
    "import numpy as np\n",
    "import os.path as osp\n",
    "import pickle, json, random"
   ]
  },
  {
   "cell_type": "code",
   "execution_count": 2,
   "metadata": {},
   "outputs": [],
   "source": [
    "import os, math\n",
    "import os.path as osp\n",
    "from copy import deepcopy\n",
    "from functools import partial\n",
    "from pprint import pprint"
   ]
  },
  {
   "cell_type": "code",
   "execution_count": 3,
   "metadata": {},
   "outputs": [],
   "source": [
    "import sacred\n",
    "import torch\n",
    "import torch.nn as nn\n",
    "import torch.nn.functional as F\n",
    "from sacred import SETTINGS\n",
    "from sacred.utils import apply_backspaces_and_linefeeds\n",
    "from torch.backends import cudnn\n",
    "from torch.optim import SGD, Adam, AdamW, lr_scheduler\n",
    "from tqdm import tqdm\n",
    "\n",
    "from torch.backends import cudnn\n",
    "# from visdom_logger import VisdomLogger"
   ]
  },
  {
   "cell_type": "code",
   "execution_count": 4,
   "metadata": {},
   "outputs": [],
   "source": [
    "from torch.utils.data import DataLoader, RandomSampler, BatchSampler\n",
    "from typing import NamedTuple, Optional, List"
   ]
  },
  {
   "cell_type": "code",
   "execution_count": 5,
   "metadata": {},
   "outputs": [],
   "source": [
    "from models.matcher import MatchERT, PosMatchERT\n",
    "from models.ingredient import model_ingredient, get_model"
   ]
  },
  {
   "cell_type": "code",
   "execution_count": 6,
   "metadata": {},
   "outputs": [],
   "source": [
    "from models.ingredient import model_ingredient, get_model\n",
    "from utils import state_dict_to_cpu, num_of_trainable_params\n",
    "from utils import pickle_load, pickle_save\n",
    "#from utils.data.utils import TripletSampler\n",
    "from utils import BinaryCrossEntropyWithLogits\n",
    "from utils.data.dataset_ingredient import data_ingredient, get_loaders\n",
    "from utils.training import train_one_epoch, evaluate_viquae"
   ]
  },
  {
   "cell_type": "code",
   "execution_count": 7,
   "metadata": {},
   "outputs": [],
   "source": [
    "from utils import pickle_load\n",
    "from sacred import Experiment\n",
    "from utils.data.dataset_ingredient import data_ingredient, get_loaders\n",
    "from utils.data.dataset import FeatureDataset"
   ]
  },
  {
   "cell_type": "code",
   "execution_count": 8,
   "metadata": {},
   "outputs": [],
   "source": [
    "ex = sacred.Experiment('RRT Training', ingredients=[data_ingredient, model_ingredient], interactive=True)\n",
    "# Filter backspaces and linefeeds\n",
    "SETTINGS.CAPTURE_MODE = 'sys'\n",
    "ex.captured_out_filter = apply_backspaces_and_linefeeds"
   ]
  },
  {
   "cell_type": "code",
   "execution_count": 9,
   "metadata": {},
   "outputs": [],
   "source": [
    "epochs = 5\n",
    "lr = 0.0001\n",
    "momentum = 0.\n",
    "nesterov = False\n",
    "weight_decay = 5e-4\n",
    "optim = 'adamw'\n",
    "scheduler = 'multistep'\n",
    "max_norm = 0.0\n",
    "seed = 0\n",
    "\n",
    "visdom_port = None\n",
    "visdom_freq = 100\n",
    "cpu = False  # Force training on CPU\n",
    "cudnn_flag = 'benchmark'\n",
    "temp_dir = osp.join('outputs', 'temp')\n",
    "\n",
    "no_bias_decay = False\n",
    "loss = 'bce'\n",
    "scheduler_tau = [16, 18]\n",
    "scheduler_gamma = 0.1\n",
    "\n",
    "resume = '/mnt/beegfs/home/smessoud/RerankingTransformer/RRT_GLD/rrt_gld_ckpts/r50_gldv2.pt'\n",
    "freeze = True\n",
    "#resume = None"
   ]
  },
  {
   "cell_type": "code",
   "execution_count": 10,
   "metadata": {},
   "outputs": [
    {
     "data": {
      "text/plain": [
       "(5,\n",
       " False,\n",
       " 'benchmark',\n",
       " None,\n",
       " 100,\n",
       " 'outputs/temp',\n",
       " 0,\n",
       " False,\n",
       " 0.0,\n",
       " '/mnt/beegfs/home/smessoud/RerankingTransformer/RRT_GLD/rrt_gld_ckpts/r50_gldv2.pt')"
      ]
     },
     "execution_count": 10,
     "metadata": {},
     "output_type": "execute_result"
    }
   ],
   "source": [
    "epochs, cpu, cudnn_flag, visdom_port, visdom_freq, temp_dir, seed, no_bias_decay, max_norm, resume"
   ]
  },
  {
   "cell_type": "code",
   "execution_count": 11,
   "metadata": {},
   "outputs": [],
   "source": [
    "def get_optimizer_scheduler(parameters, optim, loader_length, epochs, lr, momentum, nesterov, weight_decay, scheduler, scheduler_tau, scheduler_gamma, lr_step=None):\n",
    "    if optim == 'sgd':\n",
    "        optimizer = SGD(parameters, lr=lr, momentum=momentum, weight_decay=weight_decay, nesterov=True if nesterov and momentum else False)\n",
    "    elif optim == 'adam':\n",
    "        optimizer = Adam(parameters, lr=lr, weight_decay=weight_decay) \n",
    "    else:\n",
    "        optimizer = AdamW(parameters, lr=lr, weight_decay=weight_decay)\n",
    "    \n",
    "    if epochs == 0:\n",
    "        scheduler = None\n",
    "        update_per_iteration = None\n",
    "    elif scheduler == 'cos':\n",
    "        # scheduler = lr_scheduler.CosineAnnealingLR(optimizer, T_max=epochs * loader_length, eta_min=0.000005)\n",
    "        scheduler = lr_scheduler.CosineAnnealingLR(optimizer, T_max=epochs, eta_min=0.000001)\n",
    "        update_per_iteration = False\n",
    "    elif scheduler == 'warmcos':\n",
    "        # warm_cosine = lambda i: min((i + 1) / 3, (1 + math.cos(math.pi * i / (epochs * loader_length))) / 2)\n",
    "        warm_cosine = lambda i: min((i + 1) / 3, (1 + math.cos(math.pi * i / epochs)) / 2)\n",
    "        scheduler = lr_scheduler.LambdaLR(optimizer, lr_lambda=warm_cosine)\n",
    "        update_per_iteration = False\n",
    "    elif scheduler == 'multistep':\n",
    "        scheduler = lr_scheduler.MultiStepLR(optimizer, milestones=scheduler_tau, gamma=scheduler_gamma)\n",
    "        update_per_iteration = False\n",
    "    elif scheduler == 'warmstep':\n",
    "        warm_step = lambda i: min((i + 1) / 100, 1) * 0.1 ** (i // (lr_step * loader_length))\n",
    "        scheduler = lr_scheduler.LambdaLR(optimizer, lr_lambda=warm_step)\n",
    "        update_per_iteration = True\n",
    "    else:\n",
    "        scheduler = lr_scheduler.StepLR(optimizer, epochs * loader_length)\n",
    "        update_per_iteration = True\n",
    "\n",
    "    return optimizer, (scheduler, update_per_iteration)\n",
    "\n"
   ]
  },
  {
   "cell_type": "code",
   "execution_count": 12,
   "metadata": {},
   "outputs": [],
   "source": [
    "def get_loss(loss):\n",
    "    if loss == 'bce':\n",
    "        return BinaryCrossEntropyWithLogits()\n",
    "    else:\n",
    "        raise Exception('Unsupported loss {}'.format(loss))"
   ]
  },
  {
   "cell_type": "code",
   "execution_count": 13,
   "metadata": {},
   "outputs": [],
   "source": [
    "device = torch.device('cuda:0' if torch.cuda.is_available() and not cpu else 'cpu')\n",
    "# callback = VisdomLogger(port=visdom_port) if visdom_port else None\n",
    "if cudnn_flag == 'deterministic':\n",
    "    setattr(cudnn, cudnn_flag, True)"
   ]
  },
  {
   "cell_type": "code",
   "execution_count": 14,
   "metadata": {},
   "outputs": [],
   "source": [
    "def read_file(filename):\n",
    "    with open(filename) as f:\n",
    "        lines = f.read().splitlines()\n",
    "    return lines"
   ]
  },
  {
   "cell_type": "code",
   "execution_count": 15,
   "metadata": {},
   "outputs": [],
   "source": [
    "name = 'tuto_viquae_tuto_r50_gldv2'\n",
    "set_name = 'tuto'\n",
    "train_txt = ('tuto_query.txt', 'tuto_gallery.txt')\n",
    "test_txt = ('tuto_query.txt', 'tuto_selection.txt')\n",
    "train_data_dir = 'data/viquae_for_rrt'\n",
    "test_data_dir  = 'data/viquae_for_rrt'\n",
    "test_gnd_file = 'gnd_tuto.pkl'\n",
    "train_gnd_file = 'gnd_'+set_name+'.pkl'\n",
    "#train_gnd_file = 'gnd_'+set_name+'.pkl'\n",
    "desc_name = 'r50_gldv2'\n",
    "sampler = 'triplet'\n",
    "split_char  = ';;'\n",
    "prefixed = 'non_humans'"
   ]
  },
  {
   "cell_type": "code",
   "execution_count": 16,
   "metadata": {},
   "outputs": [
    {
     "data": {
      "text/plain": [
       "\"name = 'train_viquae_dev_r50_gldv2'\\nset_name = 'train'\\ntrain_txt = (set_name+'_query.txt', set_name+'_gallery.txt')\\ntest_txt = ('dev_query.txt', 'dev_selection.txt')\\ntrain_data_dir = 'data/viquae_for_rrt'\\ntest_data_dir  = 'data/viquae_for_rrt'\\ntrain_gnd_file = 'gnd_train.pkl'\\ntest_gnd_file = 'gnd_dev.pkl'\\ndesc_name = 'r50_gldv2'\\nsampler = 'triplet'\\nsplit_char  = ';;'\""
      ]
     },
     "execution_count": 16,
     "metadata": {},
     "output_type": "execute_result"
    }
   ],
   "source": [
    "\"\"\"name = 'train_viquae_dev_r50_gldv2'\n",
    "set_name = 'train'\n",
    "train_txt = (set_name+'_query.txt', set_name+'_gallery.txt')\n",
    "test_txt = ('dev_query.txt', 'dev_selection.txt')\n",
    "train_data_dir = 'data/viquae_for_rrt'\n",
    "test_data_dir  = 'data/viquae_for_rrt'\n",
    "train_gnd_file = 'gnd_train.pkl'\n",
    "test_gnd_file = 'gnd_dev.pkl'\n",
    "desc_name = 'r50_gldv2'\n",
    "sampler = 'triplet'\n",
    "split_char  = ';;'\"\"\""
   ]
  },
  {
   "cell_type": "code",
   "execution_count": 17,
   "metadata": {},
   "outputs": [
    {
     "data": {
      "text/plain": [
       "2"
      ]
     },
     "execution_count": 17,
     "metadata": {},
     "output_type": "execute_result"
    }
   ],
   "source": [
    "len(train_txt)"
   ]
  },
  {
   "cell_type": "code",
   "execution_count": 18,
   "metadata": {},
   "outputs": [],
   "source": [
    "def get_sets(desc_name, \n",
    "        train_data_dir, test_data_dir, train_txt, \n",
    "        test_txt, train_gnd_file,  test_gnd_file,\n",
    "        max_sequence_len, split_char, prefixed):\n",
    "    ####################################################################################################################################\n",
    "    train_gnd_file = prefixed+'_'+train_gnd_file if prefixed is not None and train_gnd_file is not None else train_gnd_file\n",
    "    test_gnd_file  = prefixed+'_'+test_gnd_file  if prefixed is not None and test_gnd_file  is not None else test_gnd_file\n",
    "    \n",
    "    if len(train_txt) == 2:\n",
    "        \n",
    "        train_gnd_data  = None if train_gnd_file is None else pickle_load(osp.join(train_data_dir, train_gnd_file))\n",
    "        train_lines_txt = train_txt[1] if prefixed is None else prefixed+'_'+train_txt[1]\n",
    "        train_lines     = read_file(osp.join(train_data_dir, train_lines_txt))\n",
    "        train_q_lines_txt = train_txt[0] if prefixed is None else prefixed+'_'+train_txt[0]\n",
    "        train_q_lines   = read_file(osp.join(train_data_dir, train_q_lines_txt))\n",
    "        train_samples   = [(line.split(split_char)[0], int(line.split(split_char)[1]), int(line.split(split_char)[2]), int(line.split(split_char)[3])) for line in train_lines]\n",
    "        train_q_samples = [(line.split(split_char)[0], int(line.split(split_char)[1]), int(line.split(split_char)[2]), int(line.split(split_char)[3])) for line in train_q_lines]\n",
    "        train_set       = FeatureDataset(train_data_dir, train_samples,   desc_name, max_sequence_len, gnd_data=train_gnd_data)\n",
    "        query_train_set = FeatureDataset(train_data_dir, train_q_samples, desc_name, max_sequence_len, gnd_data=train_gnd_data)\n",
    "    else:\n",
    "        train_gnd_data  = None if train_gnd_file is None else pickle_load(osp.join(train_data_dir, train_gnd_file))\n",
    "        train_lines_txt = train_txt if prefixed is None else prefixed+'_'+train_txt\n",
    "        train_lines     = read_file(osp.join(train_data_dir, train_lines_txt))\n",
    "        train_samples   = [(line.split(split_char)[0], int(line.split(split_char)[1]), int(line.split(split_char)[2]), int(line.split(split_char)[3])) for line in train_lines]\n",
    "        train_set       = FeatureDataset(train_data_dir, train_samples, desc_name, max_sequence_len, gnd_data=train_gnd_data)\n",
    "        query_train_set = FeatureDataset(train_data_dir, train_samples, desc_name, max_sequence_len, gnd_data=train_gnd_data)\n",
    "        ####################################################################################################################################\n",
    "    test_gnd_data   = None if test_gnd_file is None else pickle_load(osp.join(test_data_dir, test_gnd_file))\n",
    "    query_lines_txt = test_txt[0] if prefixed is None else prefixed+'_'+test_txt[0]\n",
    "    query_lines     = read_file(osp.join(test_data_dir, query_lines_txt))\n",
    "    gallery_lines_txt = test_txt[1] if prefixed is None else prefixed+'_'+test_txt[1]\n",
    "    gallery_lines   = read_file(osp.join(test_data_dir, gallery_lines_txt))\n",
    "    query_samples   = [(line.split(split_char)[0], int(line.split(split_char)[1]), int(line.split(split_char)[2]), int(line.split(split_char)[3])) for line in query_lines]\n",
    "    gallery_samples = [(line.split(split_char)[0], int(line.split(split_char)[1]), int(line.split(split_char)[2]), int(line.split(split_char)[3])) for line in gallery_lines]\n",
    "    gallery_set     = FeatureDataset(test_data_dir, gallery_samples, desc_name, max_sequence_len)\n",
    "    query_set       = FeatureDataset(test_data_dir, query_samples,   desc_name, max_sequence_len, gnd_data=test_gnd_data)\n",
    "        \n",
    "    return (train_set, query_train_set), (query_set, gallery_set)\n"
   ]
  },
  {
   "cell_type": "code",
   "execution_count": 19,
   "metadata": {},
   "outputs": [],
   "source": [
    "def get_loaders(desc_name, train_data_dir, \n",
    "    batch_size, test_batch_size, \n",
    "    num_workers, pin_memory, \n",
    "    sampler, recalls, set_name, \n",
    "    eval_set_name, train_gnd_file,\n",
    "    prefixed, num_candidates=100):\n",
    "\n",
    "    (train_set, query_train_set), (query_set, gallery_set) = get_sets(desc_name, \n",
    "        train_data_dir=train_data_dir,\n",
    "        test_data_dir=train_data_dir,\n",
    "        train_txt=set_name+'_query.txt',\n",
    "        test_txt=(set_name+'_query.txt', set_name+'_selection.txt'),\n",
    "        test_gnd_file=test_gnd_file, \n",
    "        train_gnd_file=train_gnd_file,\n",
    "        split_char=split_char,\n",
    "        prefixed=prefixed,\n",
    "        max_sequence_len=500)\n",
    "\n",
    "    if sampler == 'random':\n",
    "        train_sampler = BatchSampler(RandomSampler(train_set), batch_size=batch_size, drop_last=False)\n",
    "    elif sampler == 'triplet':\n",
    "        nn_inds_path = set_name+'_nn_inds_%s.pkl'%desc_name if prefixed is None else prefixed+'_'+set_name + '_nn_inds_%s.pkl'%desc_name\n",
    "        train_nn_inds = osp.join(train_data_dir, nn_inds_path)\n",
    "        gnd_data = train_set.gnd_data['gnd']\n",
    "        train_sampler = TripletSampler(query_train_set.targets, batch_size, train_nn_inds, num_candidates, gnd_data)\n",
    "    else:\n",
    "        raise ValueError('Invalid choice of sampler ({}).'.format(sampler))\n",
    "    train_loader = DataLoader(train_set, batch_sampler=train_sampler, num_workers=num_workers, pin_memory=pin_memory)\n",
    "    query_train_loader = DataLoader(query_train_set, batch_size=test_batch_size, num_workers=num_workers, pin_memory=pin_memory)\n",
    "        \n",
    "    query_loader   = DataLoader(query_set, batch_size=test_batch_size, num_workers=num_workers, pin_memory=pin_memory)\n",
    "    gallery_loader = DataLoader(gallery_set, batch_size=test_batch_size, num_workers=num_workers, pin_memory=pin_memory)\n",
    "\n",
    "    return MetricLoaders(train=train_loader, query_train=query_train_loader, query=query_loader, gallery=gallery_loader, num_classes=len(train_set.categories),set_name=set_name,eval_set_name=eval_set_name,prefixed=prefixed), recalls\n"
   ]
  },
  {
   "cell_type": "code",
   "execution_count": 20,
   "metadata": {},
   "outputs": [],
   "source": [
    "train_data_dir = '/mnt/beegfs/home/smessoud/RerankingTransformer/models/research/delf/delf/python/delg/data/viquae_for_rrt'"
   ]
  },
  {
   "cell_type": "code",
   "execution_count": 21,
   "metadata": {},
   "outputs": [],
   "source": [
    "class MetricLoaders(NamedTuple):\n",
    "    train: DataLoader\n",
    "    num_classes: int\n",
    "    query: DataLoader\n",
    "    query_train: DataLoader\n",
    "    prefixed: str = None\n",
    "    set_name: str = ''\n",
    "    eval_set_name: str = ''\n",
    "    gallery: Optional[DataLoader] = None"
   ]
  },
  {
   "cell_type": "code",
   "execution_count": 22,
   "metadata": {},
   "outputs": [],
   "source": [
    "batch_size      = 36\n",
    "test_batch_size = 36\n",
    "max_sequence_len = 500\n",
    "num_workers = 8  # number of workers used ot load the data\n",
    "pin_memory  = True  # use the pin_memory option of DataLoader \n",
    "num_candidates = 100\n",
    "recalls = [1, 5, 10]"
   ]
  },
  {
   "cell_type": "code",
   "execution_count": 23,
   "metadata": {},
   "outputs": [],
   "source": [
    "class TripletSampler():\n",
    "    def __init__(self, labels, batch_size, nn_inds_path, num_candidates, gnd_data, min_pos=1):\n",
    "        self.batch_size     = batch_size\n",
    "        self.num_candidates = num_candidates\n",
    "        self.cache_nn_inds  = pickle_load(nn_inds_path)\n",
    "        self.labels = labels\n",
    "        self.gnd_data = gnd_data\n",
    "        print('nn_inds_path: ', nn_inds_path)\n",
    "        print('labels len: ', len(labels))\n",
    "        assert (len(self.cache_nn_inds) == len(labels))\n",
    "        #############################################################################\n",
    "        ## Collect valid tuples\n",
    "        valids = np.zeros_like(labels)\n",
    "        for i in range(len(self.cache_nn_inds)):\n",
    "            positives = self.gnd_data[i]['r_easy']\n",
    "            negatives = self.gnd_data[i]['r_junk']\n",
    "            if len(positives) < min_pos or len(negatives) < min_pos:\n",
    "                continue\n",
    "            valids[i] = 1\n",
    "        self.valids = np.where(valids > 0)[0]\n",
    "        self.num_samples = len(self.valids)\n",
    "\n",
    "    def __iter__(self):\n",
    "        batch = []\n",
    "        cands = torch.randperm(self.num_samples).tolist()\n",
    "        for i in range(len(cands)):\n",
    "            query_idx = self.valids[cands[i]]\n",
    "            anchor_idx = self.gnd_data[query_idx]['anchor_idx']\n",
    "            \n",
    "            positive_inds = self.gnd_data[query_idx]['g_easy']\n",
    "            negative_inds = self.gnd_data[query_idx]['g_junk']\n",
    "            assert(len(positive_inds) > 0)\n",
    "            assert(len(negative_inds) > 0)\n",
    "\n",
    "            random.shuffle(positive_inds)\n",
    "            random.shuffle(negative_inds)\n",
    "\n",
    "            batch.append(anchor_idx)\n",
    "            batch.append(positive_inds[0]) \n",
    "            batch.append(negative_inds[0])\n",
    "\n",
    "            if len(batch) >= self.batch_size:\n",
    "                yield batch\n",
    "                batch = []\n",
    "                \n",
    "        if len(batch) > 0:\n",
    "            yield batch\n",
    "\n",
    "    def __len__(self):\n",
    "        return (self.num_samples * 3 + self.batch_size - 1) // self.batch_size\n"
   ]
  },
  {
   "cell_type": "code",
   "execution_count": 27,
   "metadata": {},
   "outputs": [],
   "source": [
    "torch.manual_seed(seed)\n",
    "loaders, recall_ks = get_loaders(desc_name=desc_name,\n",
    "    train_data_dir=train_data_dir, \n",
    "    batch_size=36, test_batch_size=36, \n",
    "    num_workers=8, pin_memory=True, \n",
    "    sampler='random', recalls=[1, 5, 10], \n",
    "    set_name=set_name, eval_set_name=None,\n",
    "    train_gnd_file=None, prefixed=prefixed, num_candidates=100)"
   ]
  },
  {
   "cell_type": "code",
   "execution_count": 28,
   "metadata": {},
   "outputs": [],
   "source": [
    "nn_inds_path = loaders.set_name + '_nn_inds_%s.pkl'%loaders.query.dataset.desc_name\n",
    "nn_inds_path = nn_inds_path if loaders.prefixed is None else loaders.prefixed+'_'+nn_inds_path\n",
    "nn_inds_path = osp.join(loaders.query.dataset.data_dir, nn_inds_path)\n",
    "cache_nn_inds = torch.from_numpy(pickle_load(nn_inds_path)).long()"
   ]
  },
  {
   "cell_type": "code",
   "execution_count": 48,
   "metadata": {},
   "outputs": [],
   "source": [
    "def get_model(num_global_features, num_local_features, seq_len, dim_K, dim_feedforward, nhead, num_encoder_layers, dropout, activation, normalize_before, use_pos):\n",
    "    \n",
    "    if use_pos:\n",
    "        return PosMatchERT(d_global=num_global_features, d_model=num_local_features, seq_len=seq_len, d_K=dim_K, nhead=nhead, num_encoder_layers=num_encoder_layers, \n",
    "            dim_feedforward=dim_feedforward, dropout=dropout, activation=activation, normalize_before=normalize_before)\n",
    "    \n",
    "    else:\n",
    "        return MatchERT(d_global=num_global_features, d_model=num_local_features, seq_len=seq_len, d_K=dim_K, nhead=nhead, num_encoder_layers=num_encoder_layers, \n",
    "            dim_feedforward=dim_feedforward, dropout=dropout, activation=activation, normalize_before=normalize_before)"
   ]
  },
  {
   "cell_type": "code",
   "execution_count": 49,
   "metadata": {},
   "outputs": [],
   "source": [
    "name = 'rrt'\n",
    "num_global_features = 2048  \n",
    "num_local_features = 128  \n",
    "seq_len = 1004\n",
    "dim_K = 256\n",
    "dim_feedforward = 1024\n",
    "nhead = 4\n",
    "num_encoder_layers = 6\n",
    "dropout = 0.2\n",
    "activation = \"relu\"\n",
    "normalize_before = False\n",
    "use_pos = False"
   ]
  },
  {
   "cell_type": "code",
   "execution_count": 50,
   "metadata": {},
   "outputs": [
    {
     "data": {
      "text/plain": [
       "'\\nname = \\'vrrt\\'\\nseq_len = 1004\\ndim_K = 256\\ndim_feedforward = 1024\\nnhead = 8\\nnum_encoder_layers = 8\\ndropout = 0.4 \\nactivation = \"relu\"\\nnormalize_before = False\\nuse_pos = True\\n'"
      ]
     },
     "execution_count": 50,
     "metadata": {},
     "output_type": "execute_result"
    }
   ],
   "source": [
    "\"\"\"\n",
    "name = 'vrrt'\n",
    "seq_len = 1004\n",
    "dim_K = 256\n",
    "dim_feedforward = 1024\n",
    "nhead = 8\n",
    "num_encoder_layers = 8\n",
    "dropout = 0.4 \n",
    "activation = \"relu\"\n",
    "normalize_before = False\n",
    "use_pos = True\n",
    "\"\"\""
   ]
  },
  {
   "cell_type": "code",
   "execution_count": 51,
   "metadata": {},
   "outputs": [],
   "source": [
    "torch.manual_seed(seed+1)\n",
    "model = get_model(num_global_features,num_local_features,seq_len,dim_K,dim_feedforward,nhead,num_encoder_layers,dropout,activation,normalize_before,use_pos)"
   ]
  },
  {
   "cell_type": "code",
   "execution_count": 52,
   "metadata": {
    "scrolled": false
   },
   "outputs": [
    {
     "data": {
      "text/plain": [
       "MatchERT(\n",
       "  (encoder): TransformerEncoder(\n",
       "    (layers): ModuleList(\n",
       "      (0): TransformerEncoderLayer(\n",
       "        (self_attn): MultiheadAttention(\n",
       "          (out_proj): _LinearWithBias(in_features=128, out_features=128, bias=True)\n",
       "        )\n",
       "        (linear1): Linear(in_features=128, out_features=1024, bias=True)\n",
       "        (dropout): Dropout(p=0.2, inplace=False)\n",
       "        (linear2): Linear(in_features=1024, out_features=128, bias=True)\n",
       "        (norm1): LayerNorm((128,), eps=1e-05, elementwise_affine=True)\n",
       "        (norm2): LayerNorm((128,), eps=1e-05, elementwise_affine=True)\n",
       "        (dropout1): Dropout(p=0.2, inplace=False)\n",
       "        (dropout2): Dropout(p=0.2, inplace=False)\n",
       "      )\n",
       "      (1): TransformerEncoderLayer(\n",
       "        (self_attn): MultiheadAttention(\n",
       "          (out_proj): _LinearWithBias(in_features=128, out_features=128, bias=True)\n",
       "        )\n",
       "        (linear1): Linear(in_features=128, out_features=1024, bias=True)\n",
       "        (dropout): Dropout(p=0.2, inplace=False)\n",
       "        (linear2): Linear(in_features=1024, out_features=128, bias=True)\n",
       "        (norm1): LayerNorm((128,), eps=1e-05, elementwise_affine=True)\n",
       "        (norm2): LayerNorm((128,), eps=1e-05, elementwise_affine=True)\n",
       "        (dropout1): Dropout(p=0.2, inplace=False)\n",
       "        (dropout2): Dropout(p=0.2, inplace=False)\n",
       "      )\n",
       "      (2): TransformerEncoderLayer(\n",
       "        (self_attn): MultiheadAttention(\n",
       "          (out_proj): _LinearWithBias(in_features=128, out_features=128, bias=True)\n",
       "        )\n",
       "        (linear1): Linear(in_features=128, out_features=1024, bias=True)\n",
       "        (dropout): Dropout(p=0.2, inplace=False)\n",
       "        (linear2): Linear(in_features=1024, out_features=128, bias=True)\n",
       "        (norm1): LayerNorm((128,), eps=1e-05, elementwise_affine=True)\n",
       "        (norm2): LayerNorm((128,), eps=1e-05, elementwise_affine=True)\n",
       "        (dropout1): Dropout(p=0.2, inplace=False)\n",
       "        (dropout2): Dropout(p=0.2, inplace=False)\n",
       "      )\n",
       "      (3): TransformerEncoderLayer(\n",
       "        (self_attn): MultiheadAttention(\n",
       "          (out_proj): _LinearWithBias(in_features=128, out_features=128, bias=True)\n",
       "        )\n",
       "        (linear1): Linear(in_features=128, out_features=1024, bias=True)\n",
       "        (dropout): Dropout(p=0.2, inplace=False)\n",
       "        (linear2): Linear(in_features=1024, out_features=128, bias=True)\n",
       "        (norm1): LayerNorm((128,), eps=1e-05, elementwise_affine=True)\n",
       "        (norm2): LayerNorm((128,), eps=1e-05, elementwise_affine=True)\n",
       "        (dropout1): Dropout(p=0.2, inplace=False)\n",
       "        (dropout2): Dropout(p=0.2, inplace=False)\n",
       "      )\n",
       "      (4): TransformerEncoderLayer(\n",
       "        (self_attn): MultiheadAttention(\n",
       "          (out_proj): _LinearWithBias(in_features=128, out_features=128, bias=True)\n",
       "        )\n",
       "        (linear1): Linear(in_features=128, out_features=1024, bias=True)\n",
       "        (dropout): Dropout(p=0.2, inplace=False)\n",
       "        (linear2): Linear(in_features=1024, out_features=128, bias=True)\n",
       "        (norm1): LayerNorm((128,), eps=1e-05, elementwise_affine=True)\n",
       "        (norm2): LayerNorm((128,), eps=1e-05, elementwise_affine=True)\n",
       "        (dropout1): Dropout(p=0.2, inplace=False)\n",
       "        (dropout2): Dropout(p=0.2, inplace=False)\n",
       "      )\n",
       "      (5): TransformerEncoderLayer(\n",
       "        (self_attn): MultiheadAttention(\n",
       "          (out_proj): _LinearWithBias(in_features=128, out_features=128, bias=True)\n",
       "        )\n",
       "        (linear1): Linear(in_features=128, out_features=1024, bias=True)\n",
       "        (dropout): Dropout(p=0.2, inplace=False)\n",
       "        (linear2): Linear(in_features=1024, out_features=128, bias=True)\n",
       "        (norm1): LayerNorm((128,), eps=1e-05, elementwise_affine=True)\n",
       "        (norm2): LayerNorm((128,), eps=1e-05, elementwise_affine=True)\n",
       "        (dropout1): Dropout(p=0.2, inplace=False)\n",
       "        (dropout2): Dropout(p=0.2, inplace=False)\n",
       "      )\n",
       "    )\n",
       "  )\n",
       "  (remap): Linear(in_features=2048, out_features=128, bias=True)\n",
       "  (scale_encoder): Embedding(7, 128)\n",
       "  (seg_encoder): Embedding(6, 128)\n",
       "  (classifier): Linear(in_features=128, out_features=1, bias=True)\n",
       ")"
      ]
     },
     "execution_count": 52,
     "metadata": {},
     "output_type": "execute_result"
    }
   ],
   "source": [
    "model.eval()"
   ]
  },
  {
   "cell_type": "code",
   "execution_count": null,
   "metadata": {},
   "outputs": [],
   "source": []
  },
  {
   "cell_type": "code",
   "execution_count": 53,
   "metadata": {},
   "outputs": [
    {
     "name": "stdout",
     "output_type": "stream",
     "text": [
      "True\n",
      "True\n"
     ]
    }
   ],
   "source": [
    "for param in model.classifier.parameters():\n",
    "    print(param.requires_grad)"
   ]
  },
  {
   "cell_type": "code",
   "execution_count": 54,
   "metadata": {},
   "outputs": [],
   "source": [
    "if freeze:\n",
    "    #freeze all layers of the model\n",
    "    for param in model.parameters():\n",
    "        param.requires_grad = False\n",
    "    \n",
    "    #unfreeze the classfication layers\n",
    "    for param in model.classifier.parameters():\n",
    "        param.requires_grad = True\n",
    "    #for param in model.seg_encoder.parameters():\n",
    "    #    param.requires_grad = True\n",
    "    #for param in model.scale_encoder.parameters():\n",
    "    #    param.requires_grad = True\n",
    "    #for param in model.remap.parameters():\n",
    "    #    param.requires_grad = True"
   ]
  },
  {
   "cell_type": "code",
   "execution_count": 55,
   "metadata": {},
   "outputs": [
    {
     "name": "stdout",
     "output_type": "stream",
     "text": [
      "# of trainable parameters:  129\n"
     ]
    }
   ],
   "source": [
    "if resume is not None:\n",
    "    checkpoint = torch.load(resume, map_location=torch.device('cpu'))\n",
    "    model.load_state_dict(checkpoint['state'], strict=True)\n",
    "print('# of trainable parameters: ', num_of_trainable_params(model))\n",
    "class_loss = get_loss(loss)\n",
    "#nn_inds_path = osp.join(loaders.query.dataset.data_dir, loaders.set_name + '_nn_inds_%s.pkl'%loaders.query.dataset.desc_name)\n",
    "#cache_nn_inds = torch.from_numpy(pickle_load(nn_inds_path)).long()\n",
    "\n",
    "    nn_inds_path = loaders.set_name + '_nn_inds_%s.pkl'%loaders.query.dataset.desc_name\n",
    "    nn_inds_path = nn_inds_path if loaders.prefixed is None else loaders.prefixed+'_'+nn_inds_path\n",
    "    nn_inds_path = osp.join(loaders.query.dataset.data_dir, nn_inds_path)\n",
    "    cache_nn_inds = torch.from_numpy(pickle_load(nn_inds_path)).long()"
   ]
  },
  {
   "cell_type": "code",
   "execution_count": 56,
   "metadata": {},
   "outputs": [
    {
     "data": {
      "text/plain": [
       "(129, 264065, 2243201)"
      ]
     },
     "execution_count": 56,
     "metadata": {},
     "output_type": "execute_result"
    }
   ],
   "source": [
    "(129, 264065, 2243201) "
   ]
  },
  {
   "cell_type": "code",
   "execution_count": 57,
   "metadata": {},
   "outputs": [],
   "source": [
    "torch.manual_seed(seed+2)\n",
    "model.to(device)\n",
    "model = nn.DataParallel(model)\n",
    "parameters = []\n",
    "if no_bias_decay:\n",
    "    parameters.append({'params': [par for par in model.parameters() if par.dim() != 1]})\n",
    "    parameters.append({'params': [par for par in model.parameters() if par.dim() == 1], 'weight_decay': 0})\n",
    "else:\n",
    "    parameters.append({'params': model.parameters()})\n",
    "optimizer, scheduler = get_optimizer_scheduler(parameters=parameters, loader_length=len(loaders.train),\n",
    "                                               optim=optim, epochs=epochs, lr=lr,\n",
    "                                               momentum=momentum, nesterov=nesterov, weight_decay=weight_decay,\n",
    "                                               scheduler=scheduler, scheduler_tau=scheduler_tau, \n",
    "                                               scheduler_gamma=scheduler_gamma, lr_step=None)\n",
    "if resume is not None and checkpoint.get('optim', None) is not None:\n",
    "    optimizer.load_state_dict(checkpoint['optim'])\n",
    "    del checkpoint\n"
   ]
  },
  {
   "cell_type": "code",
   "execution_count": 58,
   "metadata": {},
   "outputs": [],
   "source": [
    "from utils.metrics import *\n",
    "def evaluate_viquae(\n",
    "        model: nn.Module,\n",
    "        cache_nn_inds: torch.Tensor,\n",
    "        query_loader: DataLoader,\n",
    "        gallery_loader: DataLoader,\n",
    "        recall: List[int]):\n",
    "    model.eval()\n",
    "    device = next(model.parameters()).device\n",
    "    to_device = lambda x: x.to(device, non_blocking=True)\n",
    "\n",
    "    query_global, query_local, query_mask, query_scales, query_positions, query_names = [], [], [], [], [], []\n",
    "    gallery_global, gallery_local, gallery_mask, gallery_scales, gallery_positions, gallery_names = [], [], [], [], [], []\n",
    "\n",
    "    with torch.no_grad():\n",
    "        for entry in tqdm(query_loader, desc='Extracting query features', leave=False, ncols=80):\n",
    "            q_global, q_local, q_mask, q_scales, q_positions, _, q_names = entry\n",
    "            query_global.append(q_global.cpu())\n",
    "            query_local.append(q_local.cpu())\n",
    "            query_mask.append(q_mask.cpu())\n",
    "            query_scales.append(q_scales.cpu())\n",
    "            query_positions.append(q_positions.cpu())\n",
    "            query_names.extend(list(q_names))\n",
    "            torch.cuda.empty_cache()\n",
    "\n",
    "        query_global    = torch.cat(query_global, 0)\n",
    "        query_local     = torch.cat(query_local, 0)\n",
    "        query_mask      = torch.cat(query_mask, 0)\n",
    "        query_scales    = torch.cat(query_scales, 0)\n",
    "        query_positions = torch.cat(query_positions, 0)\n",
    "\n",
    "        for entry in tqdm(gallery_loader, desc='Extracting gallery features', leave=False, ncols=80):\n",
    "            g_global, g_local, g_mask, g_scales, g_positions, _, g_names = entry\n",
    "            gallery_global.append(g_global.cpu())\n",
    "            gallery_local.append(g_local.cpu())\n",
    "            gallery_mask.append(g_mask.cpu())\n",
    "            gallery_scales.append(g_scales.cpu())\n",
    "            gallery_positions.append(g_positions.cpu())\n",
    "            gallery_names.extend(list(g_names))\n",
    "            torch.cuda.empty_cache()\n",
    "            \n",
    "        gallery_global    = torch.cat(gallery_global, 0)\n",
    "        gallery_local     = torch.cat(gallery_local, 0)\n",
    "        gallery_mask      = torch.cat(gallery_mask, 0)\n",
    "        gallery_scales    = torch.cat(gallery_scales, 0)\n",
    "        gallery_positions = torch.cat(gallery_positions, 0)\n",
    "\n",
    "        torch.cuda.empty_cache()\n",
    "        evaluate_function = partial(mean_average_precision_viquae_rerank, model=model, cache_nn_inds=cache_nn_inds,\n",
    "            query_global=query_global, query_local=query_local, query_mask=query_mask, query_scales=query_scales, query_positions=query_positions, \n",
    "            gallery_global=gallery_global, gallery_local=gallery_local, gallery_mask=gallery_mask, gallery_scales=gallery_scales, gallery_positions=gallery_positions, \n",
    "            ks=recall, \n",
    "            gnd=query_loader.dataset.gnd_data,\n",
    "        )\n",
    "        metrics = evaluate_function()\n",
    "    return metrics \n",
    "\n"
   ]
  },
  {
   "cell_type": "code",
   "execution_count": 59,
   "metadata": {},
   "outputs": [],
   "source": [
    "def read_entry_once(\n",
    "    query_loader: DataLoader,\n",
    "    gallery_loader: DataLoader):\n",
    "    \n",
    "    query_global, query_local, query_mask, query_scales, query_positions, query_names = [], [], [], [], [], []\n",
    "    gallery_global, gallery_local, gallery_mask, gallery_scales, gallery_positions, gallery_names = [], [], [], [], [], []\n",
    "\n",
    "    print(\"READING ENTRIES FOR THE FIRST TIME\")\n",
    "    \n",
    "    with torch.no_grad():\n",
    "        for entry in tqdm(query_loader, desc='Extracting query features', leave=False, ncols=80):\n",
    "            q_global, q_local, q_mask, q_scales, q_positions, _, q_names = entry\n",
    "            query_global.append(q_global.cpu())\n",
    "            query_local.append(q_local.cpu())\n",
    "            query_mask.append(q_mask.cpu())\n",
    "            query_scales.append(q_scales.cpu())\n",
    "            query_positions.append(q_positions.cpu())\n",
    "            query_names.extend(list(q_names))\n",
    "            torch.cuda.empty_cache()\n",
    "\n",
    "        query_global    = torch.cat(query_global, 0)\n",
    "        query_local     = torch.cat(query_local, 0)\n",
    "        query_mask      = torch.cat(query_mask, 0)\n",
    "        query_scales    = torch.cat(query_scales, 0)\n",
    "        query_positions = torch.cat(query_positions, 0)\n",
    "\n",
    "        for entry in tqdm(gallery_loader, desc='Extracting gallery features', leave=False, ncols=80):\n",
    "            g_global, g_local, g_mask, g_scales, g_positions, _, g_names = entry\n",
    "            gallery_global.append(g_global.cpu())\n",
    "            gallery_local.append(g_local.cpu())\n",
    "            gallery_mask.append(g_mask.cpu())\n",
    "            gallery_scales.append(g_scales.cpu())\n",
    "            gallery_positions.append(g_positions.cpu())\n",
    "            gallery_names.extend(list(g_names))\n",
    "            torch.cuda.empty_cache()\n",
    "\n",
    "        gallery_global    = torch.cat(gallery_global, 0)\n",
    "        gallery_local     = torch.cat(gallery_local, 0)\n",
    "        gallery_mask      = torch.cat(gallery_mask, 0)\n",
    "        gallery_scales    = torch.cat(gallery_scales, 0)\n",
    "        gallery_positions = torch.cat(gallery_positions, 0)\n",
    "    \n",
    "    query_feats   = [query_global, query_local, query_mask, query_scales, query_positions, query_names]\n",
    "    gallery_feats = [gallery_global, gallery_local, gallery_mask, gallery_scales, gallery_positions, gallery_names]\n",
    "    \n",
    "    return query_feats, gallery_feats"
   ]
  },
  {
   "cell_type": "code",
   "execution_count": 60,
   "metadata": {},
   "outputs": [],
   "source": [
    "from utils.metrics import mean_average_precision_viquae_rerank\n",
    "\n",
    "def fast_evaluate_viquae(\n",
    "    model: nn.Module,\n",
    "    cache_nn_inds: torch.Tensor,\n",
    "    query_loader: DataLoader,\n",
    "    gallery_loader: DataLoader,\n",
    "    recall: List[int],\n",
    "    query_feats, \n",
    "    gallery_feats):\n",
    "    \n",
    "    model.eval()\n",
    "    device = next(model.parameters()).device\n",
    "    to_device = lambda x: x.to(device, non_blocking=True)\n",
    "    \n",
    "    if len(query_feats) == 0:\n",
    "        query_feats, gallery_feats = read_entry_once(query_loader, gallery_loader)\n",
    "    \n",
    "    query_global, query_local, query_mask, query_scales, query_positions, query_names = query_feats\n",
    "    gallery_global, gallery_local, gallery_mask, gallery_scales, gallery_positions, gallery_names = gallery_feats\n",
    "    \n",
    "    torch.cuda.empty_cache()\n",
    "    \n",
    "    fast_evaluate_function = partial(mean_average_precision_viquae_rerank, model=model, cache_nn_inds=cache_nn_inds,\n",
    "        query_global=query_global, query_local=query_local, query_mask=query_mask, query_scales=query_scales, query_positions=query_positions, \n",
    "        gallery_global=gallery_global, gallery_local=gallery_local, gallery_mask=gallery_mask, gallery_scales=gallery_scales, gallery_positions=gallery_positions, \n",
    "        ks=recall, \n",
    "        gnd=query_loader.dataset.gnd_data,\n",
    "    )\n",
    "    metrics = fast_evaluate_function()\n",
    "    \n",
    "    return metrics, query_feats, gallery_feats"
   ]
  },
  {
   "cell_type": "code",
   "execution_count": 61,
   "metadata": {},
   "outputs": [],
   "source": [
    "query_feats, gallery_feats = [], []"
   ]
  },
  {
   "cell_type": "code",
   "execution_count": 62,
   "metadata": {},
   "outputs": [],
   "source": [
    "torch.manual_seed(seed+3)\n",
    "# setup partial function to simplify call\n",
    "\n",
    "eval_function = partial(fast_evaluate_viquae, model=model, \n",
    "    cache_nn_inds=cache_nn_inds,\n",
    "    recall=recall_ks, query_loader=loaders.query, gallery_loader=loaders.gallery,\n",
    "    query_feats=query_feats, gallery_feats=gallery_feats)"
   ]
  },
  {
   "cell_type": "code",
   "execution_count": 63,
   "metadata": {
    "scrolled": false
   },
   "outputs": [
    {
     "name": "stderr",
     "output_type": "stream",
     "text": [
      "\r",
      "Extracting query features:   0%|                          | 0/2 [00:00<?, ?it/s]"
     ]
    },
    {
     "name": "stdout",
     "output_type": "stream",
     "text": [
      "READING ENTRIES FOR THE FIRST TIME\n"
     ]
    },
    {
     "name": "stderr",
     "output_type": "stream",
     "text": [
      "100%|██████████| 100/100 [01:00<00:00,  1.66it/s]                               \n"
     ]
    },
    {
     "name": "stdout",
     "output_type": "stream",
     "text": [
      "{'map': 29.87, 'mrr': 39.06, 'precision': 11.82, 'hit_rate': 85.96, 'recall': 85.09, 'map@1': 11.9, 'mrr@1': 28.07, 'precision@1': 28.07, 'hit_rate@1': 28.07, 'recall@1': 11.9, 'map@5': 17.57, 'mrr@5': 36.08, 'precision@5': 17.54, 'hit_rate@5': 49.12, 'recall@5': 21.97, 'map@10': 19.82, 'mrr@10': 37.97, 'precision@10': 14.56, 'hit_rate@10': 61.4, 'recall@10': 28.76}\n",
      "{'hit_rate': 85.96,\n",
      " 'hit_rate@1': 28.07,\n",
      " 'hit_rate@10': 61.4,\n",
      " 'hit_rate@5': 49.12,\n",
      " 'map': 29.87,\n",
      " 'map@1': 11.9,\n",
      " 'map@10': 19.82,\n",
      " 'map@5': 17.57,\n",
      " 'mrr': 39.06,\n",
      " 'mrr@1': 28.07,\n",
      " 'mrr@10': 37.97,\n",
      " 'mrr@5': 36.08,\n",
      " 'precision': 11.82,\n",
      " 'precision@1': 28.07,\n",
      " 'precision@10': 14.56,\n",
      " 'precision@5': 17.54,\n",
      " 'recall': 85.09,\n",
      " 'recall@1': 11.9,\n",
      " 'recall@10': 28.76,\n",
      " 'recall@5': 21.97}\n"
     ]
    }
   ],
   "source": [
    "result, query_feats, gallery_feats = eval_function()\n",
    "pprint(result)\n",
    "best_val = (0, result, deepcopy(model.state_dict()))"
   ]
  },
  {
   "cell_type": "code",
   "execution_count": 64,
   "metadata": {
    "scrolled": false
   },
   "outputs": [
    {
     "data": {
      "text/plain": [
       "<torch._C.Generator at 0x7f9e5c24d7f0>"
      ]
     },
     "execution_count": 64,
     "metadata": {},
     "output_type": "execute_result"
    }
   ],
   "source": [
    "torch.manual_seed(seed+4)"
   ]
  },
  {
   "cell_type": "code",
   "execution_count": 65,
   "metadata": {},
   "outputs": [],
   "source": [
    "#save_name = osp.join(temp_dir, '{}_{}.pt'.format(ex.current_run.config['model']['name'],\n",
    "#                                                         ex.current_run.config['dataset']['name']))\n",
    "\n",
    "save_name = 'temp_outputs/tf_models/rrt_tuto_viquae_dev_r50_gldv2.pt'"
   ]
  },
  {
   "cell_type": "code",
   "execution_count": 66,
   "metadata": {},
   "outputs": [
    {
     "data": {
      "text/plain": [
       "{'map': 29.87,\n",
       " 'mrr': 39.06,\n",
       " 'precision': 11.82,\n",
       " 'hit_rate': 85.96,\n",
       " 'recall': 85.09,\n",
       " 'map@1': 11.9,\n",
       " 'mrr@1': 28.07,\n",
       " 'precision@1': 28.07,\n",
       " 'hit_rate@1': 28.07,\n",
       " 'recall@1': 11.9,\n",
       " 'map@5': 17.57,\n",
       " 'mrr@5': 36.08,\n",
       " 'precision@5': 17.54,\n",
       " 'hit_rate@5': 49.12,\n",
       " 'recall@5': 21.97,\n",
       " 'map@10': 19.82,\n",
       " 'mrr@10': 37.97,\n",
       " 'precision@10': 14.56,\n",
       " 'hit_rate@10': 61.4,\n",
       " 'recall@10': 28.76}"
      ]
     },
     "execution_count": 66,
     "metadata": {},
     "output_type": "execute_result"
    }
   ],
   "source": [
    "result"
   ]
  },
  {
   "cell_type": "code",
   "execution_count": null,
   "metadata": {},
   "outputs": [],
   "source": []
  },
  {
   "cell_type": "code",
   "execution_count": null,
   "metadata": {},
   "outputs": [],
   "source": []
  },
  {
   "cell_type": "code",
   "execution_count": 67,
   "metadata": {
    "scrolled": false
   },
   "outputs": [
    {
     "name": "stderr",
     "output_type": "stream",
     "text": [
      "Training   [000]: 100%|███████████████████████████| 2/2 [00:02<00:00,  1.03s/it]\n",
      "100%|██████████| 100/100 [00:34<00:00,  2.88it/s]\n",
      "Training   [001]:   0%|                                   | 0/2 [00:00<?, ?it/s]"
     ]
    },
    {
     "name": "stdout",
     "output_type": "stream",
     "text": [
      "{'map': 29.87, 'mrr': 39.06, 'precision': 11.82, 'hit_rate': 85.96, 'recall': 85.09, 'map@1': 11.9, 'mrr@1': 28.07, 'precision@1': 28.07, 'hit_rate@1': 28.07, 'recall@1': 11.9, 'map@5': 17.57, 'mrr@5': 36.08, 'precision@5': 17.54, 'hit_rate@5': 49.12, 'recall@5': 21.97, 'map@10': 19.82, 'mrr@10': 37.97, 'precision@10': 14.56, 'hit_rate@10': 61.4, 'recall@10': 28.76}\n",
      "Validation [000]\n",
      "{'hit_rate': 85.96,\n",
      " 'hit_rate@1': 28.07,\n",
      " 'hit_rate@10': 61.4,\n",
      " 'hit_rate@5': 49.12,\n",
      " 'map': 29.87,\n",
      " 'map@1': 11.9,\n",
      " 'map@10': 19.82,\n",
      " 'map@5': 17.57,\n",
      " 'mrr': 39.06,\n",
      " 'mrr@1': 28.07,\n",
      " 'mrr@10': 37.97,\n",
      " 'mrr@5': 36.08,\n",
      " 'precision': 11.82,\n",
      " 'precision@1': 28.07,\n",
      " 'precision@10': 14.56,\n",
      " 'precision@5': 17.54,\n",
      " 'recall': 85.09,\n",
      " 'recall@1': 11.9,\n",
      " 'recall@10': 28.76,\n",
      " 'recall@5': 21.97}\n",
      "New best model in epoch 0.\n"
     ]
    },
    {
     "name": "stderr",
     "output_type": "stream",
     "text": [
      "Training   [001]: 100%|███████████████████████████| 2/2 [00:01<00:00,  1.25it/s]\n",
      "100%|██████████| 100/100 [00:35<00:00,  2.84it/s]\n",
      "Training   [002]:   0%|                                   | 0/2 [00:00<?, ?it/s]"
     ]
    },
    {
     "name": "stdout",
     "output_type": "stream",
     "text": [
      "{'map': 29.87, 'mrr': 39.06, 'precision': 11.82, 'hit_rate': 85.96, 'recall': 85.09, 'map@1': 11.9, 'mrr@1': 28.07, 'precision@1': 28.07, 'hit_rate@1': 28.07, 'recall@1': 11.9, 'map@5': 17.57, 'mrr@5': 36.08, 'precision@5': 17.54, 'hit_rate@5': 49.12, 'recall@5': 21.97, 'map@10': 19.82, 'mrr@10': 37.97, 'precision@10': 14.56, 'hit_rate@10': 61.4, 'recall@10': 28.76}\n",
      "Validation [001]\n",
      "{'hit_rate': 85.96,\n",
      " 'hit_rate@1': 28.07,\n",
      " 'hit_rate@10': 61.4,\n",
      " 'hit_rate@5': 49.12,\n",
      " 'map': 29.87,\n",
      " 'map@1': 11.9,\n",
      " 'map@10': 19.82,\n",
      " 'map@5': 17.57,\n",
      " 'mrr': 39.06,\n",
      " 'mrr@1': 28.07,\n",
      " 'mrr@10': 37.97,\n",
      " 'mrr@5': 36.08,\n",
      " 'precision': 11.82,\n",
      " 'precision@1': 28.07,\n",
      " 'precision@10': 14.56,\n",
      " 'precision@5': 17.54,\n",
      " 'recall': 85.09,\n",
      " 'recall@1': 11.9,\n",
      " 'recall@10': 28.76,\n",
      " 'recall@5': 21.97}\n",
      "New best model in epoch 1.\n"
     ]
    },
    {
     "name": "stderr",
     "output_type": "stream",
     "text": [
      "Training   [002]: 100%|███████████████████████████| 2/2 [00:01<00:00,  1.25it/s]\n",
      "100%|██████████| 100/100 [00:35<00:00,  2.85it/s]\n",
      "Training   [003]:   0%|                                   | 0/2 [00:00<?, ?it/s]"
     ]
    },
    {
     "name": "stdout",
     "output_type": "stream",
     "text": [
      "{'map': 29.87, 'mrr': 39.06, 'precision': 11.82, 'hit_rate': 85.96, 'recall': 85.09, 'map@1': 11.9, 'mrr@1': 28.07, 'precision@1': 28.07, 'hit_rate@1': 28.07, 'recall@1': 11.9, 'map@5': 17.57, 'mrr@5': 36.08, 'precision@5': 17.54, 'hit_rate@5': 49.12, 'recall@5': 21.97, 'map@10': 19.82, 'mrr@10': 37.97, 'precision@10': 14.56, 'hit_rate@10': 61.4, 'recall@10': 28.76}\n",
      "Validation [002]\n",
      "{'hit_rate': 85.96,\n",
      " 'hit_rate@1': 28.07,\n",
      " 'hit_rate@10': 61.4,\n",
      " 'hit_rate@5': 49.12,\n",
      " 'map': 29.87,\n",
      " 'map@1': 11.9,\n",
      " 'map@10': 19.82,\n",
      " 'map@5': 17.57,\n",
      " 'mrr': 39.06,\n",
      " 'mrr@1': 28.07,\n",
      " 'mrr@10': 37.97,\n",
      " 'mrr@5': 36.08,\n",
      " 'precision': 11.82,\n",
      " 'precision@1': 28.07,\n",
      " 'precision@10': 14.56,\n",
      " 'precision@5': 17.54,\n",
      " 'recall': 85.09,\n",
      " 'recall@1': 11.9,\n",
      " 'recall@10': 28.76,\n",
      " 'recall@5': 21.97}\n",
      "New best model in epoch 2.\n"
     ]
    },
    {
     "name": "stderr",
     "output_type": "stream",
     "text": [
      "Training   [003]: 100%|███████████████████████████| 2/2 [00:01<00:00,  1.24it/s]\n",
      "100%|██████████| 100/100 [00:34<00:00,  2.86it/s]\n",
      "Training   [004]:   0%|                                   | 0/2 [00:00<?, ?it/s]"
     ]
    },
    {
     "name": "stdout",
     "output_type": "stream",
     "text": [
      "{'map': 29.87, 'mrr': 39.06, 'precision': 11.82, 'hit_rate': 85.96, 'recall': 85.09, 'map@1': 11.9, 'mrr@1': 28.07, 'precision@1': 28.07, 'hit_rate@1': 28.07, 'recall@1': 11.9, 'map@5': 17.57, 'mrr@5': 36.08, 'precision@5': 17.54, 'hit_rate@5': 49.12, 'recall@5': 21.97, 'map@10': 19.82, 'mrr@10': 37.97, 'precision@10': 14.56, 'hit_rate@10': 61.4, 'recall@10': 28.76}\n",
      "Validation [003]\n",
      "{'hit_rate': 85.96,\n",
      " 'hit_rate@1': 28.07,\n",
      " 'hit_rate@10': 61.4,\n",
      " 'hit_rate@5': 49.12,\n",
      " 'map': 29.87,\n",
      " 'map@1': 11.9,\n",
      " 'map@10': 19.82,\n",
      " 'map@5': 17.57,\n",
      " 'mrr': 39.06,\n",
      " 'mrr@1': 28.07,\n",
      " 'mrr@10': 37.97,\n",
      " 'mrr@5': 36.08,\n",
      " 'precision': 11.82,\n",
      " 'precision@1': 28.07,\n",
      " 'precision@10': 14.56,\n",
      " 'precision@5': 17.54,\n",
      " 'recall': 85.09,\n",
      " 'recall@1': 11.9,\n",
      " 'recall@10': 28.76,\n",
      " 'recall@5': 21.97}\n",
      "New best model in epoch 3.\n"
     ]
    },
    {
     "name": "stderr",
     "output_type": "stream",
     "text": [
      "Training   [004]: 100%|███████████████████████████| 2/2 [00:01<00:00,  1.24it/s]\n",
      "100%|██████████| 100/100 [00:34<00:00,  2.87it/s]\n",
      "Training   [005]:   0%|                                   | 0/2 [00:00<?, ?it/s]"
     ]
    },
    {
     "name": "stdout",
     "output_type": "stream",
     "text": [
      "{'map': 29.87, 'mrr': 39.06, 'precision': 11.82, 'hit_rate': 85.96, 'recall': 85.09, 'map@1': 11.9, 'mrr@1': 28.07, 'precision@1': 28.07, 'hit_rate@1': 28.07, 'recall@1': 11.9, 'map@5': 17.57, 'mrr@5': 36.08, 'precision@5': 17.54, 'hit_rate@5': 49.12, 'recall@5': 21.97, 'map@10': 19.82, 'mrr@10': 37.97, 'precision@10': 14.56, 'hit_rate@10': 61.4, 'recall@10': 28.76}\n",
      "Validation [004]\n",
      "{'hit_rate': 85.96,\n",
      " 'hit_rate@1': 28.07,\n",
      " 'hit_rate@10': 61.4,\n",
      " 'hit_rate@5': 49.12,\n",
      " 'map': 29.87,\n",
      " 'map@1': 11.9,\n",
      " 'map@10': 19.82,\n",
      " 'map@5': 17.57,\n",
      " 'mrr': 39.06,\n",
      " 'mrr@1': 28.07,\n",
      " 'mrr@10': 37.97,\n",
      " 'mrr@5': 36.08,\n",
      " 'precision': 11.82,\n",
      " 'precision@1': 28.07,\n",
      " 'precision@10': 14.56,\n",
      " 'precision@5': 17.54,\n",
      " 'recall': 85.09,\n",
      " 'recall@1': 11.9,\n",
      " 'recall@10': 28.76,\n",
      " 'recall@5': 21.97}\n",
      "New best model in epoch 4.\n"
     ]
    },
    {
     "name": "stderr",
     "output_type": "stream",
     "text": [
      "Training   [005]: 100%|███████████████████████████| 2/2 [00:01<00:00,  1.24it/s]\n",
      "100%|██████████| 100/100 [00:34<00:00,  2.87it/s]\n",
      "Training   [006]:   0%|                                   | 0/2 [00:00<?, ?it/s]"
     ]
    },
    {
     "name": "stdout",
     "output_type": "stream",
     "text": [
      "{'map': 29.87, 'mrr': 39.06, 'precision': 11.82, 'hit_rate': 85.96, 'recall': 85.09, 'map@1': 11.9, 'mrr@1': 28.07, 'precision@1': 28.07, 'hit_rate@1': 28.07, 'recall@1': 11.9, 'map@5': 17.57, 'mrr@5': 36.08, 'precision@5': 17.54, 'hit_rate@5': 49.12, 'recall@5': 21.97, 'map@10': 19.82, 'mrr@10': 37.97, 'precision@10': 14.56, 'hit_rate@10': 61.4, 'recall@10': 28.76}\n",
      "Validation [005]\n",
      "{'hit_rate': 85.96,\n",
      " 'hit_rate@1': 28.07,\n",
      " 'hit_rate@10': 61.4,\n",
      " 'hit_rate@5': 49.12,\n",
      " 'map': 29.87,\n",
      " 'map@1': 11.9,\n",
      " 'map@10': 19.82,\n",
      " 'map@5': 17.57,\n",
      " 'mrr': 39.06,\n",
      " 'mrr@1': 28.07,\n",
      " 'mrr@10': 37.97,\n",
      " 'mrr@5': 36.08,\n",
      " 'precision': 11.82,\n",
      " 'precision@1': 28.07,\n",
      " 'precision@10': 14.56,\n",
      " 'precision@5': 17.54,\n",
      " 'recall': 85.09,\n",
      " 'recall@1': 11.9,\n",
      " 'recall@10': 28.76,\n",
      " 'recall@5': 21.97}\n",
      "New best model in epoch 5.\n"
     ]
    },
    {
     "name": "stderr",
     "output_type": "stream",
     "text": [
      "Training   [006]: 100%|███████████████████████████| 2/2 [00:01<00:00,  1.20it/s]\n",
      "100%|██████████| 100/100 [00:35<00:00,  2.83it/s]\n",
      "Training   [007]:   0%|                                   | 0/2 [00:00<?, ?it/s]"
     ]
    },
    {
     "name": "stdout",
     "output_type": "stream",
     "text": [
      "{'map': 29.87, 'mrr': 39.06, 'precision': 11.82, 'hit_rate': 85.96, 'recall': 85.09, 'map@1': 11.9, 'mrr@1': 28.07, 'precision@1': 28.07, 'hit_rate@1': 28.07, 'recall@1': 11.9, 'map@5': 17.57, 'mrr@5': 36.08, 'precision@5': 17.54, 'hit_rate@5': 49.12, 'recall@5': 21.97, 'map@10': 19.82, 'mrr@10': 37.97, 'precision@10': 14.56, 'hit_rate@10': 61.4, 'recall@10': 28.76}\n",
      "Validation [006]\n",
      "{'hit_rate': 85.96,\n",
      " 'hit_rate@1': 28.07,\n",
      " 'hit_rate@10': 61.4,\n",
      " 'hit_rate@5': 49.12,\n",
      " 'map': 29.87,\n",
      " 'map@1': 11.9,\n",
      " 'map@10': 19.82,\n",
      " 'map@5': 17.57,\n",
      " 'mrr': 39.06,\n",
      " 'mrr@1': 28.07,\n",
      " 'mrr@10': 37.97,\n",
      " 'mrr@5': 36.08,\n",
      " 'precision': 11.82,\n",
      " 'precision@1': 28.07,\n",
      " 'precision@10': 14.56,\n",
      " 'precision@5': 17.54,\n",
      " 'recall': 85.09,\n",
      " 'recall@1': 11.9,\n",
      " 'recall@10': 28.76,\n",
      " 'recall@5': 21.97}\n",
      "New best model in epoch 6.\n"
     ]
    },
    {
     "name": "stderr",
     "output_type": "stream",
     "text": [
      "Training   [007]: 100%|███████████████████████████| 2/2 [00:01<00:00,  1.23it/s]\n",
      "100%|██████████| 100/100 [00:34<00:00,  2.86it/s]\n",
      "Training   [008]:   0%|                                   | 0/2 [00:00<?, ?it/s]"
     ]
    },
    {
     "name": "stdout",
     "output_type": "stream",
     "text": [
      "{'map': 29.87, 'mrr': 39.06, 'precision': 11.82, 'hit_rate': 85.96, 'recall': 85.09, 'map@1': 11.9, 'mrr@1': 28.07, 'precision@1': 28.07, 'hit_rate@1': 28.07, 'recall@1': 11.9, 'map@5': 17.57, 'mrr@5': 36.08, 'precision@5': 17.54, 'hit_rate@5': 49.12, 'recall@5': 21.97, 'map@10': 19.82, 'mrr@10': 37.97, 'precision@10': 14.56, 'hit_rate@10': 61.4, 'recall@10': 28.76}\n",
      "Validation [007]\n",
      "{'hit_rate': 85.96,\n",
      " 'hit_rate@1': 28.07,\n",
      " 'hit_rate@10': 61.4,\n",
      " 'hit_rate@5': 49.12,\n",
      " 'map': 29.87,\n",
      " 'map@1': 11.9,\n",
      " 'map@10': 19.82,\n",
      " 'map@5': 17.57,\n",
      " 'mrr': 39.06,\n",
      " 'mrr@1': 28.07,\n",
      " 'mrr@10': 37.97,\n",
      " 'mrr@5': 36.08,\n",
      " 'precision': 11.82,\n",
      " 'precision@1': 28.07,\n",
      " 'precision@10': 14.56,\n",
      " 'precision@5': 17.54,\n",
      " 'recall': 85.09,\n",
      " 'recall@1': 11.9,\n",
      " 'recall@10': 28.76,\n",
      " 'recall@5': 21.97}\n",
      "New best model in epoch 7.\n"
     ]
    },
    {
     "name": "stderr",
     "output_type": "stream",
     "text": [
      "Training   [008]: 100%|███████████████████████████| 2/2 [00:01<00:00,  1.24it/s]\n",
      "100%|██████████| 100/100 [00:34<00:00,  2.88it/s]\n",
      "Training   [009]:   0%|                                   | 0/2 [00:00<?, ?it/s]"
     ]
    },
    {
     "name": "stdout",
     "output_type": "stream",
     "text": [
      "{'map': 29.87, 'mrr': 39.06, 'precision': 11.82, 'hit_rate': 85.96, 'recall': 85.09, 'map@1': 11.9, 'mrr@1': 28.07, 'precision@1': 28.07, 'hit_rate@1': 28.07, 'recall@1': 11.9, 'map@5': 17.57, 'mrr@5': 36.08, 'precision@5': 17.54, 'hit_rate@5': 49.12, 'recall@5': 21.97, 'map@10': 19.82, 'mrr@10': 37.97, 'precision@10': 14.56, 'hit_rate@10': 61.4, 'recall@10': 28.76}\n",
      "Validation [008]\n",
      "{'hit_rate': 85.96,\n",
      " 'hit_rate@1': 28.07,\n",
      " 'hit_rate@10': 61.4,\n",
      " 'hit_rate@5': 49.12,\n",
      " 'map': 29.87,\n",
      " 'map@1': 11.9,\n",
      " 'map@10': 19.82,\n",
      " 'map@5': 17.57,\n",
      " 'mrr': 39.06,\n",
      " 'mrr@1': 28.07,\n",
      " 'mrr@10': 37.97,\n",
      " 'mrr@5': 36.08,\n",
      " 'precision': 11.82,\n",
      " 'precision@1': 28.07,\n",
      " 'precision@10': 14.56,\n",
      " 'precision@5': 17.54,\n",
      " 'recall': 85.09,\n",
      " 'recall@1': 11.9,\n",
      " 'recall@10': 28.76,\n",
      " 'recall@5': 21.97}\n",
      "New best model in epoch 8.\n"
     ]
    },
    {
     "name": "stderr",
     "output_type": "stream",
     "text": [
      "Training   [009]: 100%|███████████████████████████| 2/2 [00:01<00:00,  1.24it/s]\n",
      "100%|██████████| 100/100 [00:35<00:00,  2.85it/s]"
     ]
    },
    {
     "name": "stdout",
     "output_type": "stream",
     "text": [
      "{'map': 29.87, 'mrr': 39.06, 'precision': 11.82, 'hit_rate': 85.96, 'recall': 85.09, 'map@1': 11.9, 'mrr@1': 28.07, 'precision@1': 28.07, 'hit_rate@1': 28.07, 'recall@1': 11.9, 'map@5': 17.57, 'mrr@5': 36.08, 'precision@5': 17.54, 'hit_rate@5': 49.12, 'recall@5': 21.97, 'map@10': 19.82, 'mrr@10': 37.97, 'precision@10': 14.56, 'hit_rate@10': 61.4, 'recall@10': 28.76}\n",
      "Validation [009]\n",
      "{'hit_rate': 85.96,\n",
      " 'hit_rate@1': 28.07,\n",
      " 'hit_rate@10': 61.4,\n",
      " 'hit_rate@5': 49.12,\n",
      " 'map': 29.87,\n",
      " 'map@1': 11.9,\n",
      " 'map@10': 19.82,\n",
      " 'map@5': 17.57,\n",
      " 'mrr': 39.06,\n",
      " 'mrr@1': 28.07,\n",
      " 'mrr@10': 37.97,\n",
      " 'mrr@5': 36.08,\n",
      " 'precision': 11.82,\n",
      " 'precision@1': 28.07,\n",
      " 'precision@10': 14.56,\n",
      " 'precision@5': 17.54,\n",
      " 'recall': 85.09,\n",
      " 'recall@1': 11.9,\n",
      " 'recall@10': 28.76,\n",
      " 'recall@5': 21.97}\n",
      "New best model in epoch 9.\n"
     ]
    },
    {
     "name": "stderr",
     "output_type": "stream",
     "text": [
      "\n"
     ]
    }
   ],
   "source": [
    "\"\"\"\n",
    "torch.manual_seed(seed+1)\n",
    "model = get_model(num_global_features,\n",
    "                  num_local_features,\n",
    "                  seq_len,dim_K,\n",
    "                  dim_feedforward,\n",
    "                  nhead,\n",
    "                  num_encoder_layers,\n",
    "                  dropout,\n",
    "                  activation,\n",
    "                  normalize_before,\n",
    "                  use_pos)\n",
    "\n",
    "#freeze all layers of the model\n",
    "for param in model.parameters():\n",
    "    param.requires_grad = True\n",
    "\n",
    "#unfreeze the classfication layers\n",
    "for param in model.classifier.parameters():\n",
    "    param.requires_grad = False\n",
    "for param in model.seg_encoder.parameters():\n",
    "    param.requires_grad = False\n",
    "for param in model.scale_encoder.parameters():\n",
    "    param.requires_grad = False\n",
    "for param in model.remap.parameters():\n",
    "    param.requires_grad = False\n",
    "\n",
    "if resume is not None:\n",
    "    checkpoint = torch.load(resume, map_location=torch.device('cpu'))\n",
    "    model.load_state_dict(checkpoint['state'], strict=True)\n",
    "print('# of trainable parameters: ', num_of_trainable_params(model))\n",
    "class_loss = get_loss(loss)\n",
    "nn_inds_path = osp.join(loaders.query.dataset.data_dir, loaders.set_name + '_nn_inds_%s.pkl'%loaders.query.dataset.desc_name)\n",
    "cache_nn_inds = torch.from_numpy(pickle_load(nn_inds_path)).long()\n",
    "\n",
    "torch.manual_seed(seed+2)\n",
    "model.to(device)\n",
    "model = nn.DataParallel(model)\n",
    "parameters = []\n",
    "if no_bias_decay:\n",
    "    parameters.append({'params': [par for par in model.parameters() if par.dim() != 1]})\n",
    "    parameters.append({'params': [par for par in model.parameters() if par.dim() == 1], 'weight_decay': 0})\n",
    "else:\n",
    "    parameters.append({'params': model.parameters()})\n",
    "optimizer, scheduler = get_optimizer_scheduler(parameters=parameters, loader_length=len(loaders.train),\n",
    "                                               optim=optim, epochs=epochs, lr=lr,\n",
    "                                               momentum=momentum, nesterov=nesterov, weight_decay=weight_decay,\n",
    "                                               scheduler=scheduler, scheduler_tau=scheduler_tau, \n",
    "                                               scheduler_gamma=scheduler_gamma, lr_step=None)\n",
    "if resume is not None and checkpoint.get('optim', None) is not None:\n",
    "    optimizer.load_state_dict(checkpoint['optim'])\n",
    "    del checkpoint\n",
    "\"\"\"\n",
    "for epoch in range(10):\n",
    "    if cudnn_flag == 'benchmark':\n",
    "        setattr(cudnn, cudnn_flag, True)\n",
    "\n",
    "    torch.cuda.empty_cache()\n",
    "    train_one_epoch(model=model, loader=loaders.train, class_loss=class_loss, optimizer=optimizer, scheduler=scheduler, max_norm=max_norm, epoch=epoch, freq=visdom_freq, ex=None)\n",
    "    \n",
    "    # validation\n",
    "    if cudnn_flag == 'benchmark':\n",
    "        setattr(cudnn, cudnn_flag, False)\n",
    "    \n",
    "    torch.cuda.empty_cache()\n",
    "    result, query_feats, gallery_feats = fast_evaluate_viquae(model=model,\n",
    "                                                              cache_nn_inds=cache_nn_inds,\n",
    "                                                              recall=recall_ks,\n",
    "                                                              query_loader=loaders.query, \n",
    "                                                              gallery_loader=loaders.gallery,\n",
    "                                                              query_feats=query_feats, \n",
    "                                                              gallery_feats=gallery_feats)\n",
    "    \n",
    "    print('Validation [{:03d}]'.format(epoch)), pprint(result)\n",
    "    #ex.log_scalar('val.map', result['map'], step=epoch + 1)\n",
    "\n",
    "    if result['map'] >= best_val[1]['map']:\n",
    "        print('New best model in epoch %d.'%epoch)\n",
    "        best_val = (epoch + 1, result, deepcopy(model.state_dict()))\n",
    "        #torch.save({'state': state_dict_to_cpu(best_val[2]), 'optim': optimizer.state_dict()}, save_name)"
   ]
  },
  {
   "cell_type": "code",
   "execution_count": null,
   "metadata": {},
   "outputs": [],
   "source": []
  },
  {
   "cell_type": "code",
   "execution_count": null,
   "metadata": {},
   "outputs": [],
   "source": []
  },
  {
   "cell_type": "code",
   "execution_count": 107,
   "metadata": {
    "scrolled": false
   },
   "outputs": [
    {
     "name": "stderr",
     "output_type": "stream",
     "text": [
      "Training   [000]: 100%|█████████████████████████| 10/10 [00:20<00:00,  2.04s/it]\n",
      "100%|██████████| 100/100 [03:33<00:00,  2.13s/it]\n",
      "Training   [001]:   0%|                                  | 0/10 [00:00<?, ?it/s]"
     ]
    },
    {
     "name": "stdout",
     "output_type": "stream",
     "text": [
      "{'map': 26.89, 'mrr': 33.76, 'precision': 13.83, 'hit_rate': 85.0, 'recall': 84.58, 'map@1': 8.22, 'mrr@1': 21.67, 'precision@1': 21.67, 'hit_rate@1': 21.67, 'recall@1': 8.22, 'map@5': 13.95, 'mrr@5': 30.92, 'precision@5': 15.33, 'hit_rate@5': 45.83, 'recall@5': 20.55, 'map@10': 16.92, 'mrr@10': 32.32, 'precision@10': 13.83, 'hit_rate@10': 55.83, 'recall@10': 28.24}\n",
      "Validation [000]\n",
      "{'hit_rate': 85.0,\n",
      " 'hit_rate@1': 21.67,\n",
      " 'hit_rate@10': 55.83,\n",
      " 'hit_rate@5': 45.83,\n",
      " 'map': 26.89,\n",
      " 'map@1': 8.22,\n",
      " 'map@10': 16.92,\n",
      " 'map@5': 13.95,\n",
      " 'mrr': 33.76,\n",
      " 'mrr@1': 21.67,\n",
      " 'mrr@10': 32.32,\n",
      " 'mrr@5': 30.92,\n",
      " 'precision': 13.83,\n",
      " 'precision@1': 21.67,\n",
      " 'precision@10': 13.83,\n",
      " 'precision@5': 15.33,\n",
      " 'recall': 84.58,\n",
      " 'recall@1': 8.22,\n",
      " 'recall@10': 28.24,\n",
      " 'recall@5': 20.55}\n",
      "New best model in epoch 0.\n"
     ]
    },
    {
     "name": "stderr",
     "output_type": "stream",
     "text": [
      "Training   [001]: 100%|█████████████████████████| 10/10 [00:09<00:00,  1.05it/s]\n",
      "100%|██████████| 100/100 [02:44<00:00,  1.65s/it]\n",
      "Training   [002]:   0%|                                  | 0/10 [00:00<?, ?it/s]"
     ]
    },
    {
     "name": "stdout",
     "output_type": "stream",
     "text": [
      "{'map': 26.93, 'mrr': 33.4, 'precision': 13.83, 'hit_rate': 85.0, 'recall': 84.58, 'map@1': 8.17, 'mrr@1': 20.83, 'precision@1': 20.83, 'hit_rate@1': 20.83, 'recall@1': 8.17, 'map@5': 14.0, 'mrr@5': 30.57, 'precision@5': 15.33, 'hit_rate@5': 45.83, 'recall@5': 20.55, 'map@10': 17.01, 'mrr@10': 31.89, 'precision@10': 13.83, 'hit_rate@10': 55.0, 'recall@10': 28.13}\n",
      "Validation [001]\n",
      "{'hit_rate': 85.0,\n",
      " 'hit_rate@1': 20.83,\n",
      " 'hit_rate@10': 55.0,\n",
      " 'hit_rate@5': 45.83,\n",
      " 'map': 26.93,\n",
      " 'map@1': 8.17,\n",
      " 'map@10': 17.01,\n",
      " 'map@5': 14.0,\n",
      " 'mrr': 33.4,\n",
      " 'mrr@1': 20.83,\n",
      " 'mrr@10': 31.89,\n",
      " 'mrr@5': 30.57,\n",
      " 'precision': 13.83,\n",
      " 'precision@1': 20.83,\n",
      " 'precision@10': 13.83,\n",
      " 'precision@5': 15.33,\n",
      " 'recall': 84.58,\n",
      " 'recall@1': 8.17,\n",
      " 'recall@10': 28.13,\n",
      " 'recall@5': 20.55}\n",
      "New best model in epoch 1.\n"
     ]
    },
    {
     "name": "stderr",
     "output_type": "stream",
     "text": [
      "Training   [002]: 100%|█████████████████████████| 10/10 [00:09<00:00,  1.03it/s]\n",
      "100%|██████████| 100/100 [02:49<00:00,  1.70s/it]\n",
      "Training   [003]:   0%|                                  | 0/10 [00:00<?, ?it/s]"
     ]
    },
    {
     "name": "stdout",
     "output_type": "stream",
     "text": [
      "{'map': 26.96, 'mrr': 33.82, 'precision': 13.83, 'hit_rate': 85.0, 'recall': 84.58, 'map@1': 8.22, 'mrr@1': 21.67, 'precision@1': 21.67, 'hit_rate@1': 21.67, 'recall@1': 8.22, 'map@5': 14.02, 'mrr@5': 30.99, 'precision@5': 15.33, 'hit_rate@5': 45.83, 'recall@5': 20.55, 'map@10': 17.04, 'mrr@10': 32.3, 'precision@10': 13.83, 'hit_rate@10': 55.0, 'recall@10': 28.13}\n",
      "Validation [002]\n",
      "{'hit_rate': 85.0,\n",
      " 'hit_rate@1': 21.67,\n",
      " 'hit_rate@10': 55.0,\n",
      " 'hit_rate@5': 45.83,\n",
      " 'map': 26.96,\n",
      " 'map@1': 8.22,\n",
      " 'map@10': 17.04,\n",
      " 'map@5': 14.02,\n",
      " 'mrr': 33.82,\n",
      " 'mrr@1': 21.67,\n",
      " 'mrr@10': 32.3,\n",
      " 'mrr@5': 30.99,\n",
      " 'precision': 13.83,\n",
      " 'precision@1': 21.67,\n",
      " 'precision@10': 13.83,\n",
      " 'precision@5': 15.33,\n",
      " 'recall': 84.58,\n",
      " 'recall@1': 8.22,\n",
      " 'recall@10': 28.13,\n",
      " 'recall@5': 20.55}\n",
      "New best model in epoch 2.\n"
     ]
    },
    {
     "name": "stderr",
     "output_type": "stream",
     "text": [
      "Training   [003]: 100%|█████████████████████████| 10/10 [00:09<00:00,  1.03it/s]\n",
      "100%|██████████| 100/100 [02:49<00:00,  1.70s/it]\n",
      "Training   [004]:   0%|                                  | 0/10 [00:00<?, ?it/s]"
     ]
    },
    {
     "name": "stdout",
     "output_type": "stream",
     "text": [
      "{'map': 26.96, 'mrr': 33.82, 'precision': 13.83, 'hit_rate': 85.0, 'recall': 84.58, 'map@1': 8.22, 'mrr@1': 21.67, 'precision@1': 21.67, 'hit_rate@1': 21.67, 'recall@1': 8.22, 'map@5': 14.02, 'mrr@5': 30.99, 'precision@5': 15.33, 'hit_rate@5': 45.83, 'recall@5': 20.55, 'map@10': 17.04, 'mrr@10': 32.3, 'precision@10': 13.83, 'hit_rate@10': 55.0, 'recall@10': 28.13}\n",
      "Validation [003]\n",
      "{'hit_rate': 85.0,\n",
      " 'hit_rate@1': 21.67,\n",
      " 'hit_rate@10': 55.0,\n",
      " 'hit_rate@5': 45.83,\n",
      " 'map': 26.96,\n",
      " 'map@1': 8.22,\n",
      " 'map@10': 17.04,\n",
      " 'map@5': 14.02,\n",
      " 'mrr': 33.82,\n",
      " 'mrr@1': 21.67,\n",
      " 'mrr@10': 32.3,\n",
      " 'mrr@5': 30.99,\n",
      " 'precision': 13.83,\n",
      " 'precision@1': 21.67,\n",
      " 'precision@10': 13.83,\n",
      " 'precision@5': 15.33,\n",
      " 'recall': 84.58,\n",
      " 'recall@1': 8.22,\n",
      " 'recall@10': 28.13,\n",
      " 'recall@5': 20.55}\n",
      "New best model in epoch 3.\n"
     ]
    },
    {
     "name": "stderr",
     "output_type": "stream",
     "text": [
      "Training   [004]: 100%|█████████████████████████| 10/10 [00:09<00:00,  1.03it/s]\n",
      "100%|██████████| 100/100 [02:54<00:00,  1.75s/it]\n"
     ]
    },
    {
     "name": "stdout",
     "output_type": "stream",
     "text": [
      "{'map': 26.96, 'mrr': 33.82, 'precision': 13.83, 'hit_rate': 85.0, 'recall': 84.58, 'map@1': 8.22, 'mrr@1': 21.67, 'precision@1': 21.67, 'hit_rate@1': 21.67, 'recall@1': 8.22, 'map@5': 14.02, 'mrr@5': 30.99, 'precision@5': 15.33, 'hit_rate@5': 45.83, 'recall@5': 20.55, 'map@10': 17.04, 'mrr@10': 32.3, 'precision@10': 13.83, 'hit_rate@10': 55.0, 'recall@10': 28.13}\n",
      "Validation [004]\n",
      "{'hit_rate': 85.0,\n",
      " 'hit_rate@1': 21.67,\n",
      " 'hit_rate@10': 55.0,\n",
      " 'hit_rate@5': 45.83,\n",
      " 'map': 26.96,\n",
      " 'map@1': 8.22,\n",
      " 'map@10': 17.04,\n",
      " 'map@5': 14.02,\n",
      " 'mrr': 33.82,\n",
      " 'mrr@1': 21.67,\n",
      " 'mrr@10': 32.3,\n",
      " 'mrr@5': 30.99,\n",
      " 'precision': 13.83,\n",
      " 'precision@1': 21.67,\n",
      " 'precision@10': 13.83,\n",
      " 'precision@5': 15.33,\n",
      " 'recall': 84.58,\n",
      " 'recall@1': 8.22,\n",
      " 'recall@10': 28.13,\n",
      " 'recall@5': 20.55}\n",
      "New best model in epoch 4.\n"
     ]
    }
   ],
   "source": [
    "for epoch in range(5):\n",
    "    if cudnn_flag == 'benchmark':\n",
    "        setattr(cudnn, cudnn_flag, True)\n",
    "\n",
    "    torch.cuda.empty_cache()\n",
    "    train_one_epoch(model=model, loader=loaders.train, class_loss=class_loss, optimizer=optimizer, scheduler=scheduler, max_norm=max_norm, epoch=epoch, freq=visdom_freq, ex=None)\n",
    "    \n",
    "    # validation\n",
    "    if cudnn_flag == 'benchmark':\n",
    "        setattr(cudnn, cudnn_flag, False)\n",
    "    \n",
    "    torch.cuda.empty_cache()\n",
    "    result, query_feats, gallery_feats = fast_evaluate_viquae(model=model,\n",
    "                                                              cache_nn_inds=cache_nn_inds,\n",
    "                                                              recall=recall_ks,\n",
    "                                                              query_loader=loaders.query, \n",
    "                                                              gallery_loader=loaders.gallery,\n",
    "                                                              query_feats=query_feats, \n",
    "                                                              gallery_feats=gallery_feats)\n",
    "    \n",
    "    print('Validation [{:03d}]'.format(epoch)), pprint(result)\n",
    "    #ex.log_scalar('val.map', result['map'], step=epoch + 1)\n",
    "\n",
    "    if result['map'] >= best_val[1]['map']:\n",
    "        print('New best model in epoch %d.'%epoch)\n",
    "        best_val = (epoch + 1, result, deepcopy(model.state_dict()))\n",
    "        #torch.save({'state': state_dict_to_cpu(best_val[2]), 'optim': optimizer.state_dict()}, save_name)"
   ]
  },
  {
   "cell_type": "code",
   "execution_count": null,
   "metadata": {},
   "outputs": [],
   "source": [
    "from utils.training import *\n",
    "loader=loaders.train\n",
    "class_loss=class_loss\n",
    "optimizer=optimizer\n",
    "scheduler=scheduler\n",
    "max_norm=max_norm\n",
    "epoch=epoch\n",
    "freq=visdom_freq\n",
    "ex=None"
   ]
  },
  {
   "cell_type": "code",
   "execution_count": null,
   "metadata": {},
   "outputs": [],
   "source": [
    "llm, vvm"
   ]
  },
  {
   "cell_type": "code",
   "execution_count": null,
   "metadata": {},
   "outputs": [],
   "source": [
    "model.train()\n",
    "device = next(model.parameters()).device\n",
    "to_device = lambda x: x.to(device, non_blocking=True)\n",
    "loader_length = len(loader)\n",
    "train_losses = AverageMeter(device=device, length=loader_length)\n",
    "train_accs = AverageMeter(device=device, length=loader_length)\n",
    "pbar = tqdm(loader, ncols=80, desc='Training   [{:03d}]'.format(epoch))\n",
    "for i, entry in enumerate(pbar):\n",
    "    global_feats, local_feats, local_mask, scales, positions, _, _ = entry\n",
    "    global_feats, local_feats, local_mask, scales, positions = map(to_device, (global_feats, local_feats, local_mask, scales, positions))\n",
    "\n",
    "    p_logits = model(global_feats[0::3], local_feats[0::3], local_mask[0::3], scales[0::3], positions[0::3],\n",
    "        global_feats[1::3], local_feats[1::3], local_mask[1::3], scales[1::3], positions[1::3])\n",
    "    n_logits = model(global_feats[0::3], local_feats[0::3], local_mask[0::3], scales[0::3], positions[0::3],\n",
    "        global_feats[2::3], local_feats[2::3], local_mask[2::3], scales[2::3], positions[2::3])\n",
    "\n",
    "    logits = torch.cat([p_logits, n_logits], 0)\n",
    "    bsize = logits.size(0)\n",
    "    # assert (bsize % 2 == 0)\n",
    "    labels = logits.new_ones(logits.size()).float()\n",
    "    labels[(bsize//2):] = 0\n",
    "    loss = class_loss(logits, labels).mean()\n",
    "    acc = ((torch.sigmoid(logits) > 0.5).long() == labels.long()).float().mean()\n",
    "\n",
    "    ##############################################\n",
    "    optimizer.zero_grad()\n",
    "    loss.backward()\n",
    "    if max_norm > 0:\n",
    "        torch.nn.utils.clip_grad_norm_(model.parameters(), max_norm)\n",
    "    optimizer.step()\n",
    "\n",
    "    if scheduler[-1]:\n",
    "        scheduler[0].step()\n",
    "\n",
    "    train_losses.append(loss)\n",
    "    train_accs.append(acc)\n",
    "\n",
    "\n",
    "    if not (i + 1) % freq:\n",
    "        step = epoch + i / loader_length\n",
    "        print('step/loss/accu/lr:', step, train_losses.last_avg.item(), train_accs.last_avg.item(), scheduler[0].get_last_lr()[0])\n",
    "\n",
    "\n",
    "if not scheduler[-1]:\n",
    "    scheduler[0].step()\n"
   ]
  },
  {
   "cell_type": "code",
   "execution_count": null,
   "metadata": {},
   "outputs": [],
   "source": []
  },
  {
   "cell_type": "code",
   "execution_count": null,
   "metadata": {},
   "outputs": [],
   "source": []
  },
  {
   "cell_type": "code",
   "execution_count": 74,
   "metadata": {},
   "outputs": [
    {
     "data": {
      "text/plain": [
       "'non_humans_gnd_tuto.pkl'"
      ]
     },
     "execution_count": 74,
     "metadata": {},
     "output_type": "execute_result"
    }
   ],
   "source": []
  },
  {
   "cell_type": "code",
   "execution_count": 75,
   "metadata": {},
   "outputs": [],
   "source": [
    "gnd =  pickle_load(osp.join(train_data_dir, prefixed+'_'+train_gnd_file))"
   ]
  },
  {
   "cell_type": "code",
   "execution_count": 76,
   "metadata": {
    "scrolled": true
   },
   "outputs": [
    {
     "data": {
      "text/plain": [
       "dict_keys(['easy', 'hard', 'junk', 'neg', 'r_easy', 'r_hard', 'r_junk', 'r_neg', 'g_easy', 'g_hard', 'g_junk', 'g_neg', 'provenance_entity', 'ir_order', 'r_ir_order', 'rank_img_dict', 'img_rank_dict', 'anchor_idx', 'is_human'])"
      ]
     },
     "execution_count": 76,
     "metadata": {},
     "output_type": "execute_result"
    }
   ],
   "source": [
    "gnd['gnd'][0].keys()"
   ]
  },
  {
   "cell_type": "code",
   "execution_count": 80,
   "metadata": {},
   "outputs": [],
   "source": [
    "train_gnd_data  = None if train_gnd_file is None else pickle_load(osp.join(train_data_dir, train_gnd_file))\n",
    "train_lines_txt = train_txt[1] if prefixed is None else prefixed+'_'+train_txt[1]\n",
    "train_lines     = read_file(osp.join(train_data_dir, train_lines_txt))\n",
    "train_q_lines_txt = train_txt[0] if prefixed is None else prefixed+'_'+train_txt[0]\n",
    "train_q_lines   = read_file(osp.join(train_data_dir, train_q_lines_txt))\n",
    "train_samples   = [(line.split(split_char)[0], int(line.split(split_char)[1]), int(line.split(split_char)[2]), int(line.split(split_char)[3])) for line in train_lines]\n",
    "train_q_samples = [(line.split(split_char)[0], int(line.split(split_char)[1]), int(line.split(split_char)[2]), int(line.split(split_char)[3])) for line in train_q_lines]\n",
    "train_set       = FeatureDataset(train_data_dir, train_samples,   desc_name, max_sequence_len, gnd_data=train_gnd_data)\n",
    "query_train_set = FeatureDataset(train_data_dir, train_q_samples, desc_name, max_sequence_len, gnd_data=train_gnd_data)\n"
   ]
  },
  {
   "cell_type": "code",
   "execution_count": 81,
   "metadata": {},
   "outputs": [],
   "source": [
    "train_g_lines   = read_file(osp.join(train_data_dir, prefixed+'_'+'train_gallery.txt'))\n"
   ]
  },
  {
   "cell_type": "code",
   "execution_count": 82,
   "metadata": {},
   "outputs": [
    {
     "data": {
      "text/plain": [
       "(5564, 57, 42678)"
      ]
     },
     "execution_count": 82,
     "metadata": {},
     "output_type": "execute_result"
    }
   ],
   "source": [
    "len(train_lines), len(train_q_lines), len(train_g_lines)"
   ]
  },
  {
   "cell_type": "code",
   "execution_count": 84,
   "metadata": {},
   "outputs": [
    {
     "name": "stdout",
     "output_type": "stream",
     "text": [
      "nn_inds_path:  /mnt/beegfs/home/smessoud/RerankingTransformer/models/research/delf/delf/python/delg/data/viquae_for_rrt/non_humans_tuto_nn_inds_r50_gldv2.pkl\n",
      "labels len:  57\n"
     ]
    }
   ],
   "source": [
    "#s_name = set_name\n",
    "#if s_name != '':\n",
    "#    s_name = set_name + '_'\n",
    "#def map_nnids_labels(train_data_dir, train_gnd_file, s_categories):\n",
    "#    gnd =  pickle_load(osp.join(train_data_dir, train_gnd_file))\n",
    "#    selection_gallery = gnd['simlist']\n",
    "#    s_categories = s_categories.reshape(np.array(selection_gallery).shape)\n",
    "#    selection_ids_to_cat_dict = [{k: s_categories[i][k] for k in range(len(selection_gallery[i]))} for i in range(len(selection_gallery))]\n",
    "#    print(s_categories.shape)\n",
    "#\n",
    "#    return selection_ids_to_cat_dict\n",
    "#\n",
    "#s_path = train_data_dir+'/'+set_name+'_s_categories.txt'\n",
    "#s_categories = np.loadtxt(s_path, dtype='int64')\n",
    "#map_nnids_labels = map_nnids_labels(train_data_dir, train_gnd_file, s_categories)\n",
    "\n",
    "train_nn_inds = osp.join(train_data_dir, prefixed+'_'+set_name + '_nn_inds_%s.pkl'%desc_name)\n",
    "gnd_data = train_set.gnd_data['gnd']\n",
    "train_sampler = TripletSampler(query_train_set.targets, batch_size, train_nn_inds, num_candidates, gnd_data)"
   ]
  },
  {
   "cell_type": "code",
   "execution_count": 85,
   "metadata": {},
   "outputs": [],
   "source": [
    "#nn_inds_path =  osp.join(train_data_dir, 'training_' + s_name+'nn_inds_%s.pkl'%desc_name)\n",
    "#cache_nn_inds = torch.from_numpy(pickle_load(nn_inds_path)).long()\n",
    "#cache_nn_inds.shape"
   ]
  },
  {
   "cell_type": "code",
   "execution_count": 86,
   "metadata": {},
   "outputs": [
    {
     "data": {
      "text/plain": [
       "(54,\n",
       " array([ 0,  1,  2,  3,  4,  5,  6,  7,  8,  9, 10, 11, 12, 13, 14, 15, 16,\n",
       "        17, 18, 19, 20, 21, 22, 23, 24, 25, 26, 27, 28, 29, 30, 31, 32, 33,\n",
       "        34, 35, 36, 37, 38, 39, 40, 41, 42, 43, 44, 45, 46, 47, 48, 49, 50,\n",
       "        51, 52, 53]))"
      ]
     },
     "execution_count": 86,
     "metadata": {},
     "output_type": "execute_result"
    }
   ],
   "source": [
    "len(train_sampler.valids), np.where(train_sampler.valids > 0)[0]"
   ]
  },
  {
   "cell_type": "code",
   "execution_count": 101,
   "metadata": {},
   "outputs": [
    {
     "name": "stdout",
     "output_type": "stream",
     "text": [
      "[2947, 3456, 2364, 3423, 3395, 3734, 3010, 5470, 4762, 3315, 203, 2708, 62, 4961, 3009, 4685, 1468, 3674, 3423, 1600, 3127, 2295, 4781, 2728, 4026, 5127, 3488, 592, 395, 5476, 629, 4676, 4433, 5396, 3849, 3224]\n",
      "[5509, 1796, 1125, 2884, 1726, 1752, 4609, 2504, 1920, 1551, 2311, 945, 3016, 1296, 2892, 4752, 1739, 1520, 3329, 1159, 1613, 4274, 3019, 5116, 861, 2984, 3400, 3850, 1412, 3924, 4023, 2046, 2590, 876, 2315, 1390]\n",
      "[4754, 2921, 1929, 592, 4259, 1027, 2765, 2796, 5073, 4253, 2170, 2944, 3918, 2675, 708, 838, 3761, 189, 1720, 4395, 4581, 929, 5312, 4955, 605, 88, 4555, 438, 4711, 4483, 3342, 2343, 3978, 11, 2465, 2966]\n",
      "[2493, 1402, 1773, 543, 5348, 3370, 1533, 2078, 1914, 961, 755, 661, 1551, 5277, 1447, 2238, 1131, 5175, 690, 1091, 2646, 4696, 1496, 1163, 275, 1448, 3771, 2238, 4797, 263, 2236, 2876, 2031, 690, 3072, 1500]\n",
      "[302, 1638, 5118, 1205, 4411, 4897, 4696, 3081, 2413, 4992, 450, 4470, 4091, 2848, 1233, 2326, 1546, 242]\n"
     ]
    }
   ],
   "source": [
    "for item in train_sampler:\n",
    "    print(item)"
   ]
  },
  {
   "cell_type": "code",
   "execution_count": 102,
   "metadata": {},
   "outputs": [
    {
     "data": {
      "text/plain": [
       "5"
      ]
     },
     "execution_count": 102,
     "metadata": {},
     "output_type": "execute_result"
    }
   ],
   "source": [
    "len(train_sampler)"
   ]
  },
  {
   "cell_type": "code",
   "execution_count": 103,
   "metadata": {},
   "outputs": [
    {
     "data": {
      "text/plain": [
       "(855, 54, 972)"
      ]
     },
     "execution_count": 103,
     "metadata": {},
     "output_type": "execute_result"
    }
   ],
   "source": [
    "95*9, len(train_sampler.valids), 9*3*36"
   ]
  },
  {
   "cell_type": "code",
   "execution_count": 104,
   "metadata": {},
   "outputs": [
    {
     "data": {
      "text/plain": [
       "([302,\n",
       "  1638,\n",
       "  5118,\n",
       "  1205,\n",
       "  4411,\n",
       "  4897,\n",
       "  4696,\n",
       "  3081,\n",
       "  2413,\n",
       "  4992,\n",
       "  450,\n",
       "  4470,\n",
       "  4091,\n",
       "  2848,\n",
       "  1233,\n",
       "  2326,\n",
       "  1546,\n",
       "  242],\n",
       " 18)"
      ]
     },
     "execution_count": 104,
     "metadata": {},
     "output_type": "execute_result"
    }
   ],
   "source": [
    "item, len(item)"
   ]
  },
  {
   "cell_type": "code",
   "execution_count": null,
   "metadata": {},
   "outputs": [],
   "source": [
    "gnd['gnd'][10]['hard']"
   ]
  },
  {
   "cell_type": "code",
   "execution_count": null,
   "metadata": {},
   "outputs": [],
   "source": [
    "gnd['simlist'][1][6:17]"
   ]
  },
  {
   "cell_type": "code",
   "execution_count": null,
   "metadata": {},
   "outputs": [],
   "source": []
  }
 ],
 "metadata": {
  "kernelspec": {
   "display_name": "Python 3",
   "language": "python",
   "name": "python3"
  },
  "language_info": {
   "codemirror_mode": {
    "name": "ipython",
    "version": 3
   },
   "file_extension": ".py",
   "mimetype": "text/x-python",
   "name": "python",
   "nbconvert_exporter": "python",
   "pygments_lexer": "ipython3",
   "version": "3.7.6"
  }
 },
 "nbformat": 4,
 "nbformat_minor": 4
}
